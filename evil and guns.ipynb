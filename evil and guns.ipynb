{
 "cells": [
  {
   "cell_type": "markdown",
   "metadata": {},
   "source": [
    "# Second Assignment \n",
    "\n",
    "---\n",
    "\n",
    "> Nikolaos Antonopoulos <br />\n",
    "> Department of Management Science and Technology <br />\n",
    "> Athens University of Economics and Business <br />\n",
    "> antonopoulosn@hotmail.com"
   ]
  },
  {
   "cell_type": "markdown",
   "metadata": {},
   "source": [
    "## Getting ready\n",
    "* Firstly, we have to import some packages that will be needed. "
   ]
  },
  {
   "cell_type": "code",
   "execution_count": 217,
   "metadata": {},
   "outputs": [],
   "source": [
    "import pandas as pd\n",
    "import numpy as np\n",
    "from sklearn.decomposition import PCA\n",
    "import matplotlib.pyplot as plt\n",
    "import sklearn as sk\n",
    "from sklearn.preprocessing import StandardScaler,LabelEncoder\n",
    "import miceforest as mf\n",
    "from statsmodels.formula.api import logit\n",
    "from factor_analyzer import FactorAnalyzer\n",
    "from factor_analyzer.factor_analyzer import calculate_bartlett_sphericity,calculate_kmo\n",
    "from sklearn.model_selection import train_test_split\n",
    "from sklearn import preprocessing\n",
    "from sklearn.tree import DecisionTreeClassifier\n",
    "from scipy.stats import sem\n",
    "from sklearn import tree,metrics\n",
    "from sklearn.model_selection import GridSearchCV,cross_val_score, KFold,StratifiedKFold\n",
    "from sklearn.ensemble import BaggingClassifier,RandomForestClassifier\n",
    "from xgboost import XGBClassifier\n",
    "import lightgbm as lgb\n",
    "import statsmodels.formula.api as smf\n",
    "from sklearn.metrics import accuracy_score\n",
    "from scipy import stats\n",
    "pd.options.mode.chained_assignment = None"
   ]
  },
  {
   "cell_type": "markdown",
   "metadata": {},
   "source": [
    "## Obtaining the Data\n"
   ]
  },
  {
   "cell_type": "markdown",
   "metadata": {},
   "source": [
    "We download our data from [this link](https://www.thearda.com/Archive/Files/Downloads/BRS2014_DL2.asp)"
   ]
  },
  {
   "cell_type": "code",
   "execution_count": 218,
   "metadata": {},
   "outputs": [],
   "source": [
    "data = pd.read_csv('data.csv')"
   ]
  },
  {
   "cell_type": "markdown",
   "metadata": {},
   "source": [
    "Each question with each possible answers can be found in the [Codebook](https://www.thearda.com/Archive/Files/Codebooks/BRS2014_CB.asp)"
   ]
  },
  {
   "cell_type": "markdown",
   "metadata": {},
   "source": [
    "* We maintain only the columns that will be needed"
   ]
  },
  {
   "cell_type": "code",
   "execution_count": 219,
   "metadata": {},
   "outputs": [],
   "source": [
    "data_for_imputation = pd.DataFrame() \n",
    "needed_columns = ['Q23A','Q73C','Q73E','Q73F',\n",
    "'Q73G','Q73H','Q23G','Q73B','Q17','Q31','Q88C','Q93_NONE','Q88A','AGE','Q77','Q90',\n",
    "'Q88B','Q73A','RELTRAD','Q88D','Q73D','Q88E','Q88F','Q89','Q4','Q95','I_MARITAL',\n",
    "'Q93','Q80','Q51A','Q23C','STATE']\n",
    "data=data[needed_columns]"
   ]
  },
  {
   "cell_type": "code",
   "execution_count": 220,
   "metadata": {},
   "outputs": [
    {
     "data": {
      "text/html": [
       "<div>\n",
       "<style scoped>\n",
       "    .dataframe tbody tr th:only-of-type {\n",
       "        vertical-align: middle;\n",
       "    }\n",
       "\n",
       "    .dataframe tbody tr th {\n",
       "        vertical-align: top;\n",
       "    }\n",
       "\n",
       "    .dataframe thead th {\n",
       "        text-align: right;\n",
       "    }\n",
       "</style>\n",
       "<table border=\"1\" class=\"dataframe\">\n",
       "  <thead>\n",
       "    <tr style=\"text-align: right;\">\n",
       "      <th></th>\n",
       "      <th>Q23A</th>\n",
       "      <th>Q73C</th>\n",
       "      <th>Q73E</th>\n",
       "      <th>Q73F</th>\n",
       "      <th>Q73G</th>\n",
       "      <th>Q73H</th>\n",
       "      <th>Q23G</th>\n",
       "      <th>Q73B</th>\n",
       "      <th>Q17</th>\n",
       "      <th>Q31</th>\n",
       "      <th>...</th>\n",
       "      <th>Q88F</th>\n",
       "      <th>Q89</th>\n",
       "      <th>Q4</th>\n",
       "      <th>Q95</th>\n",
       "      <th>I_MARITAL</th>\n",
       "      <th>Q93</th>\n",
       "      <th>Q80</th>\n",
       "      <th>Q51A</th>\n",
       "      <th>Q23C</th>\n",
       "      <th>STATE</th>\n",
       "    </tr>\n",
       "  </thead>\n",
       "  <tbody>\n",
       "    <tr>\n",
       "      <th>0</th>\n",
       "      <td>4.0</td>\n",
       "      <td>1.0</td>\n",
       "      <td>2.0</td>\n",
       "      <td>1.0</td>\n",
       "      <td>2.0</td>\n",
       "      <td>1.0</td>\n",
       "      <td>4.0</td>\n",
       "      <td>1.0</td>\n",
       "      <td>1.0</td>\n",
       "      <td>1.0</td>\n",
       "      <td>...</td>\n",
       "      <td>NaN</td>\n",
       "      <td>1.0</td>\n",
       "      <td>8.0</td>\n",
       "      <td>2.0</td>\n",
       "      <td>3.0</td>\n",
       "      <td>NaN</td>\n",
       "      <td>4.0</td>\n",
       "      <td>5.0</td>\n",
       "      <td>4.0</td>\n",
       "      <td>TX</td>\n",
       "    </tr>\n",
       "    <tr>\n",
       "      <th>1</th>\n",
       "      <td>4.0</td>\n",
       "      <td>NaN</td>\n",
       "      <td>NaN</td>\n",
       "      <td>NaN</td>\n",
       "      <td>NaN</td>\n",
       "      <td>NaN</td>\n",
       "      <td>4.0</td>\n",
       "      <td>NaN</td>\n",
       "      <td>1.0</td>\n",
       "      <td>4.0</td>\n",
       "      <td>...</td>\n",
       "      <td>NaN</td>\n",
       "      <td>NaN</td>\n",
       "      <td>1.0</td>\n",
       "      <td>1.0</td>\n",
       "      <td>3.0</td>\n",
       "      <td>2.0</td>\n",
       "      <td>1.0</td>\n",
       "      <td>5.0</td>\n",
       "      <td>4.0</td>\n",
       "      <td>TX</td>\n",
       "    </tr>\n",
       "    <tr>\n",
       "      <th>2</th>\n",
       "      <td>3.0</td>\n",
       "      <td>1.0</td>\n",
       "      <td>1.0</td>\n",
       "      <td>2.0</td>\n",
       "      <td>2.0</td>\n",
       "      <td>2.0</td>\n",
       "      <td>2.0</td>\n",
       "      <td>1.0</td>\n",
       "      <td>2.0</td>\n",
       "      <td>6.0</td>\n",
       "      <td>...</td>\n",
       "      <td>2.0</td>\n",
       "      <td>1.0</td>\n",
       "      <td>7.0</td>\n",
       "      <td>3.0</td>\n",
       "      <td>1.0</td>\n",
       "      <td>NaN</td>\n",
       "      <td>3.0</td>\n",
       "      <td>1.0</td>\n",
       "      <td>2.0</td>\n",
       "      <td>ND</td>\n",
       "    </tr>\n",
       "    <tr>\n",
       "      <th>3</th>\n",
       "      <td>4.0</td>\n",
       "      <td>1.0</td>\n",
       "      <td>1.0</td>\n",
       "      <td>2.0</td>\n",
       "      <td>1.0</td>\n",
       "      <td>2.0</td>\n",
       "      <td>4.0</td>\n",
       "      <td>1.0</td>\n",
       "      <td>2.0</td>\n",
       "      <td>2.0</td>\n",
       "      <td>...</td>\n",
       "      <td>2.0</td>\n",
       "      <td>NaN</td>\n",
       "      <td>6.0</td>\n",
       "      <td>2.0</td>\n",
       "      <td>3.0</td>\n",
       "      <td>NaN</td>\n",
       "      <td>2.0</td>\n",
       "      <td>5.0</td>\n",
       "      <td>4.0</td>\n",
       "      <td>TX</td>\n",
       "    </tr>\n",
       "    <tr>\n",
       "      <th>4</th>\n",
       "      <td>4.0</td>\n",
       "      <td>1.0</td>\n",
       "      <td>1.0</td>\n",
       "      <td>1.0</td>\n",
       "      <td>1.0</td>\n",
       "      <td>2.0</td>\n",
       "      <td>4.0</td>\n",
       "      <td>1.0</td>\n",
       "      <td>1.0</td>\n",
       "      <td>2.0</td>\n",
       "      <td>...</td>\n",
       "      <td>2.0</td>\n",
       "      <td>NaN</td>\n",
       "      <td>8.0</td>\n",
       "      <td>5.0</td>\n",
       "      <td>2.0</td>\n",
       "      <td>2.0</td>\n",
       "      <td>1.0</td>\n",
       "      <td>2.0</td>\n",
       "      <td>4.0</td>\n",
       "      <td>IA</td>\n",
       "    </tr>\n",
       "    <tr>\n",
       "      <th>...</th>\n",
       "      <td>...</td>\n",
       "      <td>...</td>\n",
       "      <td>...</td>\n",
       "      <td>...</td>\n",
       "      <td>...</td>\n",
       "      <td>...</td>\n",
       "      <td>...</td>\n",
       "      <td>...</td>\n",
       "      <td>...</td>\n",
       "      <td>...</td>\n",
       "      <td>...</td>\n",
       "      <td>...</td>\n",
       "      <td>...</td>\n",
       "      <td>...</td>\n",
       "      <td>...</td>\n",
       "      <td>...</td>\n",
       "      <td>...</td>\n",
       "      <td>...</td>\n",
       "      <td>...</td>\n",
       "      <td>...</td>\n",
       "      <td>...</td>\n",
       "    </tr>\n",
       "    <tr>\n",
       "      <th>1567</th>\n",
       "      <td>4.0</td>\n",
       "      <td>1.0</td>\n",
       "      <td>1.0</td>\n",
       "      <td>NaN</td>\n",
       "      <td>NaN</td>\n",
       "      <td>2.0</td>\n",
       "      <td>4.0</td>\n",
       "      <td>NaN</td>\n",
       "      <td>1.0</td>\n",
       "      <td>3.0</td>\n",
       "      <td>...</td>\n",
       "      <td>NaN</td>\n",
       "      <td>2.0</td>\n",
       "      <td>1.0</td>\n",
       "      <td>5.0</td>\n",
       "      <td>2.0</td>\n",
       "      <td>NaN</td>\n",
       "      <td>3.0</td>\n",
       "      <td>2.0</td>\n",
       "      <td>2.0</td>\n",
       "      <td>CA</td>\n",
       "    </tr>\n",
       "    <tr>\n",
       "      <th>1568</th>\n",
       "      <td>3.0</td>\n",
       "      <td>2.0</td>\n",
       "      <td>2.0</td>\n",
       "      <td>2.0</td>\n",
       "      <td>1.0</td>\n",
       "      <td>2.0</td>\n",
       "      <td>3.0</td>\n",
       "      <td>1.0</td>\n",
       "      <td>2.0</td>\n",
       "      <td>4.0</td>\n",
       "      <td>...</td>\n",
       "      <td>NaN</td>\n",
       "      <td>5.0</td>\n",
       "      <td>0.0</td>\n",
       "      <td>4.0</td>\n",
       "      <td>2.0</td>\n",
       "      <td>1.0</td>\n",
       "      <td>1.0</td>\n",
       "      <td>2.0</td>\n",
       "      <td>3.0</td>\n",
       "      <td>CA</td>\n",
       "    </tr>\n",
       "    <tr>\n",
       "      <th>1569</th>\n",
       "      <td>4.0</td>\n",
       "      <td>2.0</td>\n",
       "      <td>1.0</td>\n",
       "      <td>2.0</td>\n",
       "      <td>1.0</td>\n",
       "      <td>2.0</td>\n",
       "      <td>3.0</td>\n",
       "      <td>1.0</td>\n",
       "      <td>2.0</td>\n",
       "      <td>4.0</td>\n",
       "      <td>...</td>\n",
       "      <td>2.0</td>\n",
       "      <td>2.0</td>\n",
       "      <td>7.0</td>\n",
       "      <td>2.0</td>\n",
       "      <td>1.0</td>\n",
       "      <td>NaN</td>\n",
       "      <td>3.0</td>\n",
       "      <td>1.0</td>\n",
       "      <td>4.0</td>\n",
       "      <td>CA</td>\n",
       "    </tr>\n",
       "    <tr>\n",
       "      <th>1570</th>\n",
       "      <td>3.0</td>\n",
       "      <td>2.0</td>\n",
       "      <td>1.0</td>\n",
       "      <td>2.0</td>\n",
       "      <td>1.0</td>\n",
       "      <td>2.0</td>\n",
       "      <td>3.0</td>\n",
       "      <td>1.0</td>\n",
       "      <td>2.0</td>\n",
       "      <td>6.0</td>\n",
       "      <td>...</td>\n",
       "      <td>NaN</td>\n",
       "      <td>3.0</td>\n",
       "      <td>3.0</td>\n",
       "      <td>5.0</td>\n",
       "      <td>2.0</td>\n",
       "      <td>0.0</td>\n",
       "      <td>1.0</td>\n",
       "      <td>3.0</td>\n",
       "      <td>3.0</td>\n",
       "      <td>CT</td>\n",
       "    </tr>\n",
       "    <tr>\n",
       "      <th>1571</th>\n",
       "      <td>NaN</td>\n",
       "      <td>NaN</td>\n",
       "      <td>NaN</td>\n",
       "      <td>NaN</td>\n",
       "      <td>NaN</td>\n",
       "      <td>NaN</td>\n",
       "      <td>NaN</td>\n",
       "      <td>NaN</td>\n",
       "      <td>NaN</td>\n",
       "      <td>NaN</td>\n",
       "      <td>...</td>\n",
       "      <td>1.0</td>\n",
       "      <td>5.0</td>\n",
       "      <td>5.0</td>\n",
       "      <td>3.0</td>\n",
       "      <td>NaN</td>\n",
       "      <td>NaN</td>\n",
       "      <td>2.0</td>\n",
       "      <td>NaN</td>\n",
       "      <td>NaN</td>\n",
       "      <td>GA</td>\n",
       "    </tr>\n",
       "  </tbody>\n",
       "</table>\n",
       "<p>1572 rows × 32 columns</p>\n",
       "</div>"
      ],
      "text/plain": [
       "      Q23A  Q73C  Q73E  Q73F  Q73G  Q73H  Q23G  Q73B  Q17  Q31  ...  Q88F  \\\n",
       "0      4.0   1.0   2.0   1.0   2.0   1.0   4.0   1.0  1.0  1.0  ...   NaN   \n",
       "1      4.0   NaN   NaN   NaN   NaN   NaN   4.0   NaN  1.0  4.0  ...   NaN   \n",
       "2      3.0   1.0   1.0   2.0   2.0   2.0   2.0   1.0  2.0  6.0  ...   2.0   \n",
       "3      4.0   1.0   1.0   2.0   1.0   2.0   4.0   1.0  2.0  2.0  ...   2.0   \n",
       "4      4.0   1.0   1.0   1.0   1.0   2.0   4.0   1.0  1.0  2.0  ...   2.0   \n",
       "...    ...   ...   ...   ...   ...   ...   ...   ...  ...  ...  ...   ...   \n",
       "1567   4.0   1.0   1.0   NaN   NaN   2.0   4.0   NaN  1.0  3.0  ...   NaN   \n",
       "1568   3.0   2.0   2.0   2.0   1.0   2.0   3.0   1.0  2.0  4.0  ...   NaN   \n",
       "1569   4.0   2.0   1.0   2.0   1.0   2.0   3.0   1.0  2.0  4.0  ...   2.0   \n",
       "1570   3.0   2.0   1.0   2.0   1.0   2.0   3.0   1.0  2.0  6.0  ...   NaN   \n",
       "1571   NaN   NaN   NaN   NaN   NaN   NaN   NaN   NaN  NaN  NaN  ...   1.0   \n",
       "\n",
       "      Q89   Q4  Q95  I_MARITAL  Q93  Q80  Q51A  Q23C  STATE  \n",
       "0     1.0  8.0  2.0        3.0  NaN  4.0   5.0   4.0     TX  \n",
       "1     NaN  1.0  1.0        3.0  2.0  1.0   5.0   4.0     TX  \n",
       "2     1.0  7.0  3.0        1.0  NaN  3.0   1.0   2.0     ND  \n",
       "3     NaN  6.0  2.0        3.0  NaN  2.0   5.0   4.0     TX  \n",
       "4     NaN  8.0  5.0        2.0  2.0  1.0   2.0   4.0     IA  \n",
       "...   ...  ...  ...        ...  ...  ...   ...   ...    ...  \n",
       "1567  2.0  1.0  5.0        2.0  NaN  3.0   2.0   2.0     CA  \n",
       "1568  5.0  0.0  4.0        2.0  1.0  1.0   2.0   3.0     CA  \n",
       "1569  2.0  7.0  2.0        1.0  NaN  3.0   1.0   4.0     CA  \n",
       "1570  3.0  3.0  5.0        2.0  0.0  1.0   3.0   3.0     CT  \n",
       "1571  5.0  5.0  3.0        NaN  NaN  2.0   NaN   NaN     GA  \n",
       "\n",
       "[1572 rows x 32 columns]"
      ]
     },
     "execution_count": 220,
     "metadata": {},
     "output_type": "execute_result"
    }
   ],
   "source": [
    "data"
   ]
  },
  {
   "cell_type": "markdown",
   "metadata": {},
   "source": [
    "# 1ST QUESTION"
   ]
  },
  {
   "cell_type": "markdown",
   "metadata": {},
   "source": [
    "\n",
    "In order to measure the belief in supernatural evil, we have to take a look in 3 questions: \n",
    "\n",
    "* Whether the respondent believes in the devil.\n",
    "\n",
    "* Whether the respondent believes in hell.\n",
    "\n",
    "* Whether the respondent believes in demons.\n",
    "\n",
    "These, correspond to the following: \n",
    "* Q23A\n",
    "* Q23C\n",
    "* Q23G"
   ]
  },
  {
   "cell_type": "code",
   "execution_count": 221,
   "metadata": {},
   "outputs": [],
   "source": [
    "supernatural_evil_questions = data[[\"Q23G\",\"Q23C\",\"Q23A\"]] "
   ]
  },
  {
   "cell_type": "markdown",
   "metadata": {},
   "source": [
    "What we want to do, is combine them into a single metric.  \n",
    "One would say to take the average of them, but is this correct?"
   ]
  },
  {
   "cell_type": "markdown",
   "metadata": {},
   "source": [
    "Before doing that, we have to make sure that we are allowed to.  \n",
    "Thankfully, there are 2 tools that help us check just that.\n",
    "* PCA \n",
    "* Factor Analysis "
   ]
  },
  {
   "cell_type": "markdown",
   "metadata": {},
   "source": [
    "## PCA"
   ]
  },
  {
   "cell_type": "markdown",
   "metadata": {},
   "source": [
    "\"PCA is a statistical procedure that allows you to summarize the information content in large data tables by means of a smaller set of “summary indices” that can be more easily visualized and analyzed\". [source](https://www.sartorius.com/en)\n"
   ]
  },
  {
   "cell_type": "markdown",
   "metadata": {},
   "source": [
    "*Note: Later on in this project, we will use a technique called multiple imputation to fill the values of the missing data.  For now however we will drop the NaN values to perform our PCA*"
   ]
  },
  {
   "cell_type": "markdown",
   "metadata": {},
   "source": [
    "We want to check 2 conditions before doing this: \n",
    "* First, that each metric doesn't have many null values \n",
    "* Second, that each metric has about the same amount of null values as the others"
   ]
  },
  {
   "cell_type": "code",
   "execution_count": 222,
   "metadata": {},
   "outputs": [
    {
     "data": {
      "text/plain": [
       "Q23G    0.050891\n",
       "Q23C    0.046438\n",
       "Q23A    0.043257\n",
       "dtype: float64"
      ]
     },
     "execution_count": 222,
     "metadata": {},
     "output_type": "execute_result"
    }
   ],
   "source": [
    "supernatural_evil_questions.isnull().mean()"
   ]
  },
  {
   "cell_type": "markdown",
   "metadata": {},
   "source": [
    "Both conditions are fullfield since all the metrics are ~5%. "
   ]
  },
  {
   "cell_type": "code",
   "execution_count": 223,
   "metadata": {},
   "outputs": [],
   "source": [
    "supernatural_evil_questions_na_dropped = supernatural_evil_questions.copy()\n",
    "supernatural_evil_questions_na_dropped.dropna(inplace=True) "
   ]
  },
  {
   "cell_type": "markdown",
   "metadata": {},
   "source": [
    "*Note: PCA was also performed with multiple imputation and the results were the same with the ones shown below*"
   ]
  },
  {
   "cell_type": "markdown",
   "metadata": {},
   "source": [
    "Since all the columns are in the same scale, there is no need to transform our data.  \n",
    "Let's perform PCA with 2 components."
   ]
  },
  {
   "cell_type": "code",
   "execution_count": 224,
   "metadata": {},
   "outputs": [
    {
     "name": "stdout",
     "output_type": "stream",
     "text": [
      "[0.90171495 0.0634095 ]\n"
     ]
    }
   ],
   "source": [
    "pca = PCA(n_components=2)\n",
    "pca.fit(supernatural_evil_questions_na_dropped)\n",
    "print(pca.explained_variance_ratio_)"
   ]
  },
  {
   "cell_type": "markdown",
   "metadata": {},
   "source": [
    "It is clear that the first component explains a huge component of the variance (PVE).  \n",
    "However, the second component explains insignificant proportion of the variance.  \n",
    "We can understand this better by presenting what is happening graphically!  "
   ]
  },
  {
   "cell_type": "code",
   "execution_count": 225,
   "metadata": {},
   "outputs": [
    {
     "data": {
      "text/plain": [
       "Text(0, 0.5, 'PVE')"
      ]
     },
     "execution_count": 225,
     "metadata": {},
     "output_type": "execute_result"
    },
    {
     "data": {
      "image/png": "[encoded data removed]",
      "text/plain": [
       "<Figure size 1152x576 with 1 Axes>"
      ]
     },
     "metadata": {
      "needs_background": "light"
     },
     "output_type": "display_data"
    }
   ],
   "source": [
    "plt.figure(figsize=(16, 8))\n",
    "plt.subplot(1, 2, 1)\n",
    "plt.plot(pca.explained_variance_ratio_, marker='o',color='g')\n",
    "plt.xlabel('Principal Component')\n",
    "plt.ylabel('PVE')"
   ]
  },
  {
   "cell_type": "markdown",
   "metadata": {},
   "source": [
    "The first point, shows us that the first component explains about 90% of the variance but when we move to the second it falls under 10%"
   ]
  },
  {
   "cell_type": "markdown",
   "metadata": {},
   "source": [
    "*Note: If we tried the maximum amount of components, which is 3, the third component would explain even smaller proportion of the variance.*"
   ]
  },
  {
   "cell_type": "markdown",
   "metadata": {},
   "source": [
    "So, let's use only 1 component for our PCA. "
   ]
  },
  {
   "cell_type": "code",
   "execution_count": 226,
   "metadata": {},
   "outputs": [
    {
     "name": "stdout",
     "output_type": "stream",
     "text": [
      "[[-0.56804263 -0.57818501 -0.58568735]]\n"
     ]
    }
   ],
   "source": [
    "pca = PCA(n_components=1)\n",
    "pca.fit(supernatural_evil_questions_na_dropped)\n",
    "print(pca.components_) "
   ]
  },
  {
   "cell_type": "markdown",
   "metadata": {},
   "source": [
    "What do we note?  \n",
    "We note that all the values are almost equal.  \n",
    "This tells us that we can indeed get the average of the 3 metrics to find a single metric."
   ]
  },
  {
   "cell_type": "markdown",
   "metadata": {},
   "source": [
    "We can cross validate the excact same thing using another technique, called Factor Analysis.  "
   ]
  },
  {
   "cell_type": "markdown",
   "metadata": {},
   "source": [
    "## Factor Analysis"
   ]
  },
  {
   "cell_type": "markdown",
   "metadata": {},
   "source": [
    "Factor analysis is very similar to PCA. It is often used to reduce a large number of variables into fewer numbers of factors."
   ]
  },
  {
   "cell_type": "markdown",
   "metadata": {},
   "source": [
    "Before performing factor analysis, we have to check wether there are factors in this dataset. \n",
    "There are 2 paths to resolve this: \n",
    "* Bartlett's Test\n",
    "* Kaiser-Meyer-Olkin Test"
   ]
  },
  {
   "cell_type": "markdown",
   "metadata": {},
   "source": [
    "### Bartlett's Test"
   ]
  },
  {
   "cell_type": "markdown",
   "metadata": {},
   "source": [
    "Bartlett's Test will check wether our 3 variables intercorrelate.  We want to see if the result is be statistically significant."
   ]
  },
  {
   "cell_type": "code",
   "execution_count": 227,
   "metadata": {},
   "outputs": [
    {
     "data": {
      "text/plain": [
       "0.0"
      ]
     },
     "execution_count": 227,
     "metadata": {},
     "output_type": "execute_result"
    }
   ],
   "source": [
    "chi_square_value,p_value=calculate_bartlett_sphericity(supernatural_evil_questions_na_dropped)\n",
    "p_value"
   ]
  },
  {
   "cell_type": "markdown",
   "metadata": {},
   "source": [
    "p-value is 0, indicating statistic significance "
   ]
  },
  {
   "cell_type": "markdown",
   "metadata": {},
   "source": [
    "### KMO Test"
   ]
  },
  {
   "cell_type": "markdown",
   "metadata": {},
   "source": [
    "KMO Test determines again if the data is good for factor analysis.  \n",
    "KMO shows the proportion of variance among the variables.  \n",
    "It gives prices between 0 and 1. What we want, is a value greater than 0.6"
   ]
  },
  {
   "cell_type": "code",
   "execution_count": 228,
   "metadata": {},
   "outputs": [
    {
     "data": {
      "text/plain": [
       "0.7549696887557487"
      ]
     },
     "execution_count": 228,
     "metadata": {},
     "output_type": "execute_result"
    }
   ],
   "source": [
    "kmo_all,kmo_model=calculate_kmo(supernatural_evil_questions_na_dropped)\n",
    "kmo_model"
   ]
  },
  {
   "cell_type": "markdown",
   "metadata": {},
   "source": [
    "The KMO for our dataset is 0.75 which is good.  \n",
    "So, after having done these 2 tests, we can proceed with the factor analysis."
   ]
  },
  {
   "cell_type": "markdown",
   "metadata": {},
   "source": [
    "Let's perform Factor Analysis with all 3 factors "
   ]
  },
  {
   "cell_type": "code",
   "execution_count": 229,
   "metadata": {},
   "outputs": [
    {
     "data": {
      "text/plain": [
       "array([2.70509088, 0.19033651, 0.10457261])"
      ]
     },
     "execution_count": 229,
     "metadata": {},
     "output_type": "execute_result"
    }
   ],
   "source": [
    "fa = FactorAnalyzer(n_factors=3)\n",
    "fa.fit(supernatural_evil_questions_na_dropped)\n",
    "ev, v = fa.get_eigenvalues()\n",
    "ev "
   ]
  },
  {
   "cell_type": "markdown",
   "metadata": {},
   "source": [
    "We notice that only 1 eigenvalue, the first one, is greater one. This means that we should choose only one factor."
   ]
  },
  {
   "cell_type": "code",
   "execution_count": 230,
   "metadata": {},
   "outputs": [
    {
     "data": {
      "image/png": "[encoded data removed]",
      "text/plain": [
       "<Figure size 432x288 with 1 Axes>"
      ]
     },
     "metadata": {
      "needs_background": "light"
     },
     "output_type": "display_data"
    }
   ],
   "source": [
    "plt.scatter(range(1,supernatural_evil_questions_na_dropped.shape[1]+1),ev)\n",
    "plt.plot(range(1,supernatural_evil_questions_na_dropped.shape[1]+1),ev)\n",
    "plt.title('Scree Plot')\n",
    "plt.xlabel('Factors')\n",
    "plt.ylabel('Eigenvalue')\n",
    "plt.grid()\n",
    "plt.show()"
   ]
  },
  {
   "cell_type": "markdown",
   "metadata": {},
   "source": [
    "From the Scree plot we can see that the 1 variable can explain most of the information, but when we add more factors the explanation decreases significantly. "
   ]
  },
  {
   "cell_type": "code",
   "execution_count": 231,
   "metadata": {},
   "outputs": [
    {
     "name": "stderr",
     "output_type": "stream",
     "text": [
      "C:\\Users\\Νίκος\\AppData\\Local\\Programs\\Python\\Python39\\lib\\site-packages\\factor_analyzer\\factor_analyzer.py:656: UserWarning: No rotation will be performed when the number of factors equals 1.\n",
      "  warnings.warn('No rotation will be performed when '\n"
     ]
    },
    {
     "data": {
      "text/plain": [
       "array([[0.88706698],\n",
       "       [0.91625195],\n",
       "       [0.9672857 ]])"
      ]
     },
     "execution_count": 231,
     "metadata": {},
     "output_type": "execute_result"
    }
   ],
   "source": [
    "fa = FactorAnalyzer()\n",
    "fa.set_params(n_factors = 1)\n",
    "fa.fit(supernatural_evil_questions_na_dropped)\n",
    "loadings = fa.loadings_\n",
    "-loadings"
   ]
  },
  {
   "cell_type": "markdown",
   "metadata": {},
   "source": [
    "Having done both PCA and Factor Analysis, we are confident that we can indeed combine the 3 metrics:\n",
    "* Whether the respondent believes in the devil.\n",
    "\n",
    "* Whether the respondent believes in hell.\n",
    "\n",
    "* Whether the respondent believes in demons.\n",
    "\n",
    "to a single metric called supernatural_Evil"
   ]
  },
  {
   "cell_type": "markdown",
   "metadata": {},
   "source": [
    "# 2ND QUESTION"
   ]
  },
  {
   "cell_type": "markdown",
   "metadata": {},
   "source": [
    "For this question, we have to derive descriptive statistics for some variables and encode them with dummy variables where needed. "
   ]
  },
  {
   "cell_type": "markdown",
   "metadata": {},
   "source": [
    "The variables are: \n",
    "* Dependent Variables\n",
    "\n",
    "  * Ban on Semi-Auto Guns\n",
    "  * Ban on High-Capacity Ammo Clips \n",
    "  * Banning Civilian Handguns\n",
    "  * Support for Concealed Carry Laws \n",
    "  * More Armed Security at Schools \n",
    "  * More Teachers/Faculty having Guns \n",
    "  * More Gun Safety Programs \n",
    "  * Expanded Mental Health Screening\n",
    "  \n",
    "* Independept Variables\n",
    " \n",
    "   * Religious Variables\n",
    "     * Attendance\n",
    "     * Bible (Human Error, History and Fables) \n",
    "     * Biblical Inerrancy\n",
    "     * Biblical Literalism\n",
    "     \n",
    "  * Religious Affiliation\n",
    "    * Conservative Protestant \n",
    "    * Mainline Protestant \n",
    "    * Black Protestant \n",
    "    * Catholic\n",
    "    * Other\n",
    "    * No Affiliation\n",
    "  * Political Ideology\n",
    "  * Age\n",
    "  * Sex\n",
    "    * Female\n",
    "    * Male\n",
    "  * Race\n",
    "    * White\n",
    "    * Hispanic\n",
    "    * African American/Black \n",
    "    * Other\n",
    "  * Education\n",
    "    * Less Than High School \n",
    "    * High School or Equivalent \n",
    "    * Some College\n",
    "    * College Degree \n",
    "    * Post-graduate Degree \n",
    "  * Household Income\n",
    "  * Marital Status\n",
    "    * Not Partnered/Single \n",
    "    * Married/Cohabitating\n",
    "  * Children\n",
    "    * No kids under 18 in home \n",
    "    * Kids under 18 in home\n",
    "  * Area Demographics\n",
    "    * Small Town/Rural\n",
    "    * Urban Area\n",
    "  * Region\n",
    "    * South\n",
    "    * Other Region"
   ]
  },
  {
   "cell_type": "markdown",
   "metadata": {},
   "source": [
    "We will begin with the dependent variables.  \n",
    "In order to avoid repetitive code, we will create a funuction that will create dummy variables for the dependent variables."
   ]
  },
  {
   "cell_type": "markdown",
   "metadata": {},
   "source": [
    "The method create_dummy_for_dependent takes as input:\n",
    "* The unique name of the question e.g. Q89 \n",
    "* The desired column name that will be returned"
   ]
  },
  {
   "cell_type": "markdown",
   "metadata": {},
   "source": [
    "*Remember* that we still have null values.  The get_dummies method will ignore the nan values which is something that we do not want to happen since we agreed on dealing with them later.  So, we will create a new column containing the null values using the command 'dummy_na=True'. After that, we wll combine this column with our dummy column.  \n",
    "We can understand this better with an example.\n",
    "By using the get_dummies method we would get: \n",
    "\n",
    "\n",
    "| ban_on_semi_auto_guns      | NaN |\n",
    "| :-----------: | :-----------: |\n",
    "|1|0|\n",
    "|0|1|  \n",
    "|0|1|\n",
    "|1|0|\n",
    "\n",
    "With the last part of this method we combine this to: \n",
    "\n",
    "| ban_on_semi_auto_guns |\n",
    "| :-----------: | \n",
    "|1|\n",
    "|NaN| \n",
    "|NaN|\n",
    "|1|      \n",
    "\n",
    "\n",
    "Which is probably what the paper's writers did considering the fact that the descriptive statistics are the same.  "
   ]
  },
  {
   "cell_type": "code",
   "execution_count": 232,
   "metadata": {},
   "outputs": [],
   "source": [
    "def create_dummy_for_dependent(question_name,column_name):\n",
    "    ban_on_semi_auto_guns=data[question_name]\n",
    "    dummy_name = pd.get_dummies(ban_on_semi_auto_guns,drop_first=True, dummy_na=True)\n",
    "    dummy_name.rename(columns = {2:column_name}, inplace = True)\n",
    "    dummy_name.rename(columns={ dummy_name.columns[0]: column_name,dummy_name.columns[-1]: \"nan\" }, inplace = True)\n",
    "    dummy_name.loc[dummy_name.nan == 1,:] = np.nan\n",
    "    del dummy_name[\"nan\"]\n",
    "    return 1-dummy_name"
   ]
  },
  {
   "cell_type": "markdown",
   "metadata": {},
   "source": [
    "### Dependent Variables"
   ]
  },
  {
   "cell_type": "markdown",
   "metadata": {},
   "source": [
    "#### Ban on semi auto "
   ]
  },
  {
   "cell_type": "code",
   "execution_count": 233,
   "metadata": {},
   "outputs": [],
   "source": [
    "ban_on_semi_auto_guns_dummy = create_dummy_for_dependent('Q73A','ban_on_semi_auto_guns')"
   ]
  },
  {
   "cell_type": "markdown",
   "metadata": {},
   "source": [
    "The dummy variable looks like this:\n",
    "* 0 means that the respondent is opposed in banning semi auto weapons \n",
    "* 1 means that he is in favor of banning semi auto weapons "
   ]
  },
  {
   "cell_type": "code",
   "execution_count": 234,
   "metadata": {},
   "outputs": [
    {
     "data": {
      "text/html": [
       "<div>\n",
       "<style scoped>\n",
       "    .dataframe tbody tr th:only-of-type {\n",
       "        vertical-align: middle;\n",
       "    }\n",
       "\n",
       "    .dataframe tbody tr th {\n",
       "        vertical-align: top;\n",
       "    }\n",
       "\n",
       "    .dataframe thead th {\n",
       "        text-align: right;\n",
       "    }\n",
       "</style>\n",
       "<table border=\"1\" class=\"dataframe\">\n",
       "  <thead>\n",
       "    <tr style=\"text-align: right;\">\n",
       "      <th></th>\n",
       "      <th>ban_on_semi_auto_guns</th>\n",
       "    </tr>\n",
       "  </thead>\n",
       "  <tbody>\n",
       "    <tr>\n",
       "      <th>0</th>\n",
       "      <td>0.0</td>\n",
       "    </tr>\n",
       "    <tr>\n",
       "      <th>1</th>\n",
       "      <td>NaN</td>\n",
       "    </tr>\n",
       "    <tr>\n",
       "      <th>2</th>\n",
       "      <td>1.0</td>\n",
       "    </tr>\n",
       "    <tr>\n",
       "      <th>3</th>\n",
       "      <td>1.0</td>\n",
       "    </tr>\n",
       "    <tr>\n",
       "      <th>4</th>\n",
       "      <td>1.0</td>\n",
       "    </tr>\n",
       "    <tr>\n",
       "      <th>...</th>\n",
       "      <td>...</td>\n",
       "    </tr>\n",
       "    <tr>\n",
       "      <th>1567</th>\n",
       "      <td>NaN</td>\n",
       "    </tr>\n",
       "    <tr>\n",
       "      <th>1568</th>\n",
       "      <td>1.0</td>\n",
       "    </tr>\n",
       "    <tr>\n",
       "      <th>1569</th>\n",
       "      <td>1.0</td>\n",
       "    </tr>\n",
       "    <tr>\n",
       "      <th>1570</th>\n",
       "      <td>1.0</td>\n",
       "    </tr>\n",
       "    <tr>\n",
       "      <th>1571</th>\n",
       "      <td>NaN</td>\n",
       "    </tr>\n",
       "  </tbody>\n",
       "</table>\n",
       "<p>1572 rows × 1 columns</p>\n",
       "</div>"
      ],
      "text/plain": [
       "      ban_on_semi_auto_guns\n",
       "0                       0.0\n",
       "1                       NaN\n",
       "2                       1.0\n",
       "3                       1.0\n",
       "4                       1.0\n",
       "...                     ...\n",
       "1567                    NaN\n",
       "1568                    1.0\n",
       "1569                    1.0\n",
       "1570                    1.0\n",
       "1571                    NaN\n",
       "\n",
       "[1572 rows x 1 columns]"
      ]
     },
     "execution_count": 234,
     "metadata": {},
     "output_type": "execute_result"
    }
   ],
   "source": [
    "ban_on_semi_auto_guns_dummy"
   ]
  },
  {
   "cell_type": "markdown",
   "metadata": {},
   "source": [
    "While the mean is:"
   ]
  },
  {
   "cell_type": "code",
   "execution_count": 235,
   "metadata": {},
   "outputs": [
    {
     "data": {
      "text/plain": [
       "'62.9'"
      ]
     },
     "execution_count": 235,
     "metadata": {},
     "output_type": "execute_result"
    }
   ],
   "source": [
    "mean = ban_on_semi_auto_guns_dummy.mean()\n",
    "\"{:.1f}\".format(float(mean)*100)"
   ]
  },
  {
   "cell_type": "markdown",
   "metadata": {},
   "source": [
    "Similarly we create the other dependent variables"
   ]
  },
  {
   "cell_type": "markdown",
   "metadata": {},
   "source": [
    "#### Ban on high-Capacity ammo clips "
   ]
  },
  {
   "cell_type": "code",
   "execution_count": 236,
   "metadata": {},
   "outputs": [],
   "source": [
    "ban_on_high_capacity_ammo_clips_dummy = create_dummy_for_dependent('Q73E','ban_on_high_capacity_ammo_clips')"
   ]
  },
  {
   "cell_type": "code",
   "execution_count": 237,
   "metadata": {},
   "outputs": [
    {
     "data": {
      "text/plain": [
       "'67.1'"
      ]
     },
     "execution_count": 237,
     "metadata": {},
     "output_type": "execute_result"
    }
   ],
   "source": [
    "mean = ban_on_high_capacity_ammo_clips_dummy.mean()\n",
    "\"{:.1f}\".format(float(mean)*100)"
   ]
  },
  {
   "cell_type": "markdown",
   "metadata": {},
   "source": [
    "#### Banning civilian handguns\n"
   ]
  },
  {
   "cell_type": "code",
   "execution_count": 238,
   "metadata": {},
   "outputs": [],
   "source": [
    "banning_civilian_handguns_dummy = create_dummy_for_dependent('Q73G','ban_on_civilian_handguns')"
   ]
  },
  {
   "cell_type": "code",
   "execution_count": 239,
   "metadata": {},
   "outputs": [
    {
     "data": {
      "text/plain": [
       "'29.0'"
      ]
     },
     "execution_count": 239,
     "metadata": {},
     "output_type": "execute_result"
    }
   ],
   "source": [
    "mean = banning_civilian_handguns_dummy.mean()\n",
    "\"{:.1f}\".format(float(mean)*100)"
   ]
  },
  {
   "cell_type": "markdown",
   "metadata": {},
   "source": [
    "#### Support for concealed carry laws"
   ]
  },
  {
   "cell_type": "code",
   "execution_count": 240,
   "metadata": {},
   "outputs": [],
   "source": [
    "support_for_Concealed_Carry_Laws_dummy = create_dummy_for_dependent('Q73H','support_for_Concealed_Carry_Laws')"
   ]
  },
  {
   "cell_type": "code",
   "execution_count": 241,
   "metadata": {},
   "outputs": [
    {
     "data": {
      "text/plain": [
       "'55.8'"
      ]
     },
     "execution_count": 241,
     "metadata": {},
     "output_type": "execute_result"
    }
   ],
   "source": [
    "mean = support_for_Concealed_Carry_Laws_dummy.mean()\n",
    "\"{:.1f}\".format(float(mean)*100)"
   ]
  },
  {
   "cell_type": "markdown",
   "metadata": {},
   "source": [
    "#### More armed security at schools "
   ]
  },
  {
   "cell_type": "code",
   "execution_count": 242,
   "metadata": {},
   "outputs": [],
   "source": [
    "more_Armed_Security_at_Schools_dummy = create_dummy_for_dependent('Q73C','more_Armed_Security_at_Schools')"
   ]
  },
  {
   "cell_type": "code",
   "execution_count": 243,
   "metadata": {},
   "outputs": [
    {
     "data": {
      "text/plain": [
       "'62.2'"
      ]
     },
     "execution_count": 243,
     "metadata": {},
     "output_type": "execute_result"
    }
   ],
   "source": [
    "mean = more_Armed_Security_at_Schools_dummy.mean()\n",
    "\"{:.1f}\".format(float(mean)*100)"
   ]
  },
  {
   "cell_type": "markdown",
   "metadata": {},
   "source": [
    "#### More teachers having guns"
   ]
  },
  {
   "cell_type": "code",
   "execution_count": 244,
   "metadata": {},
   "outputs": [],
   "source": [
    "more_Teachers_Faculty_having_Guns_dummy = create_dummy_for_dependent('Q73F','more_Teachers_Faculty_having_Guns')"
   ]
  },
  {
   "cell_type": "code",
   "execution_count": 245,
   "metadata": {},
   "outputs": [
    {
     "data": {
      "text/plain": [
       "'29.5'"
      ]
     },
     "execution_count": 245,
     "metadata": {},
     "output_type": "execute_result"
    }
   ],
   "source": [
    "mean = more_Teachers_Faculty_having_Guns_dummy.mean()\n",
    "\"{:.1f}\".format(float(mean)*100)"
   ]
  },
  {
   "cell_type": "markdown",
   "metadata": {},
   "source": [
    "#### Safety Programs"
   ]
  },
  {
   "cell_type": "code",
   "execution_count": 246,
   "metadata": {},
   "outputs": [],
   "source": [
    "more_Gun_Safety_Programs_dummy = create_dummy_for_dependent('Q73B','more_Gun_Safety_Programs')"
   ]
  },
  {
   "cell_type": "code",
   "execution_count": 247,
   "metadata": {},
   "outputs": [
    {
     "data": {
      "text/plain": [
       "'92.7'"
      ]
     },
     "execution_count": 247,
     "metadata": {},
     "output_type": "execute_result"
    }
   ],
   "source": [
    "mean = more_Gun_Safety_Programs_dummy.mean()\n",
    "\"{:.1f}\".format(float(mean)*100)"
   ]
  },
  {
   "cell_type": "markdown",
   "metadata": {},
   "source": [
    "#### Mental Health"
   ]
  },
  {
   "cell_type": "code",
   "execution_count": 248,
   "metadata": {},
   "outputs": [],
   "source": [
    "expanded_Mental_Health_Screening_dummy = create_dummy_for_dependent('Q73D','expanded_Mental_Health_Screening')"
   ]
  },
  {
   "cell_type": "code",
   "execution_count": 249,
   "metadata": {},
   "outputs": [
    {
     "data": {
      "text/plain": [
       "'90.8'"
      ]
     },
     "execution_count": 249,
     "metadata": {},
     "output_type": "execute_result"
    }
   ],
   "source": [
    "mean = expanded_Mental_Health_Screening_dummy.mean()\n",
    "\"{:.1f}\".format(float(mean)*100)"
   ]
  },
  {
   "cell_type": "markdown",
   "metadata": {},
   "source": [
    "### Focal Variable"
   ]
  },
  {
   "cell_type": "markdown",
   "metadata": {},
   "source": [
    "#### Supernatural Evil"
   ]
  },
  {
   "cell_type": "code",
   "execution_count": 250,
   "metadata": {},
   "outputs": [],
   "source": [
    "supernatural_evil_questions[\"supernatural_evil\"] = supernatural_evil_questions.mean(axis=1)\n",
    "supernatural_Evil = supernatural_evil_questions['supernatural_evil']"
   ]
  },
  {
   "cell_type": "markdown",
   "metadata": {},
   "source": [
    "<u> Mean</u>:"
   ]
  },
  {
   "cell_type": "code",
   "execution_count": 251,
   "metadata": {},
   "outputs": [
    {
     "data": {
      "text/plain": [
       "'309.0'"
      ]
     },
     "execution_count": 251,
     "metadata": {},
     "output_type": "execute_result"
    }
   ],
   "source": [
    "mean = supernatural_Evil.mean()\n",
    "\"{:.1f}\".format(float(mean)*100)"
   ]
  },
  {
   "cell_type": "markdown",
   "metadata": {},
   "source": [
    "<u>Standard Deviation</u>:"
   ]
  },
  {
   "cell_type": "code",
   "execution_count": 252,
   "metadata": {},
   "outputs": [
    {
     "data": {
      "text/plain": [
       "'1.05'"
      ]
     },
     "execution_count": 252,
     "metadata": {},
     "output_type": "execute_result"
    }
   ],
   "source": [
    "\"{:.2f}\".format(float(np.std(supernatural_Evil)))"
   ]
  },
  {
   "cell_type": "markdown",
   "metadata": {},
   "source": [
    "### Religious Variables "
   ]
  },
  {
   "cell_type": "markdown",
   "metadata": {},
   "source": [
    "#### Attendance"
   ]
  },
  {
   "cell_type": "markdown",
   "metadata": {},
   "source": [
    "Attendance, corresponds to question q4."
   ]
  },
  {
   "cell_type": "code",
   "execution_count": 253,
   "metadata": {},
   "outputs": [],
   "source": [
    "data.rename(columns = {'Q4':'attendance'}, inplace = True)\n",
    "attendance = data['attendance']"
   ]
  },
  {
   "cell_type": "markdown",
   "metadata": {},
   "source": [
    "<u> Mean</u>:"
   ]
  },
  {
   "cell_type": "code",
   "execution_count": 254,
   "metadata": {},
   "outputs": [
    {
     "data": {
      "text/plain": [
       "'3.68'"
      ]
     },
     "execution_count": 254,
     "metadata": {},
     "output_type": "execute_result"
    }
   ],
   "source": [
    "mean = attendance.mean()\n",
    "\"{:.2f}\".format(float(mean))"
   ]
  },
  {
   "cell_type": "markdown",
   "metadata": {},
   "source": [
    "<u>Standard Deviation</u>:"
   ]
  },
  {
   "cell_type": "code",
   "execution_count": 255,
   "metadata": {},
   "outputs": [
    {
     "data": {
      "text/plain": [
       "'2.93'"
      ]
     },
     "execution_count": 255,
     "metadata": {},
     "output_type": "execute_result"
    }
   ],
   "source": [
    "\"{:.2f}\".format(float(np.std(attendance)))"
   ]
  },
  {
   "cell_type": "markdown",
   "metadata": {},
   "source": [
    "### Religious Variables"
   ]
  },
  {
   "cell_type": "markdown",
   "metadata": {},
   "source": [
    "#### Bible(Human Error, History and Fables)"
   ]
  },
  {
   "cell_type": "markdown",
   "metadata": {},
   "source": [
    "The dependent variables only had 2 possible values, 0 and 1.  \n",
    "However, in this case our variables have more than 2 available values. \n",
    "Specifically, question Q17 which concerns personal beliefs about the bible, can take values from [1,4] U {8}   \n",
    "So, we will create a new function which will work the similarly to 'create_dummy_for_dependent' method.  \n",
    "The name of this function will be create_dummy_with_many_fields and will take as input:\n",
    "* The unique name of the question e.g. Q17\n",
    "* The list of names that we want each choice to get."
   ]
  },
  {
   "cell_type": "markdown",
   "metadata": {},
   "source": [
    "\n",
    "| No.Question | Meaning     | Name that we give |\n",
    "| :-----------: | :-----------: | :-----------: |\n",
    "|1|The Bible means exactly what it says. It should be taken literally, word-for-word, on all subjects.|literalism|\n",
    "|2|The Bible is perfectly true, but it should not be taken literally, word-for-word. We must interpret its meaning.|inerrancy|  \n",
    "|3|The Bible contains some human error.|human_error|\n",
    "|4|The Bible is an ancient book of history and legends.|legends|\n",
    "|8|I don't know.|idk|"
   ]
  },
  {
   "cell_type": "code",
   "execution_count": 256,
   "metadata": {},
   "outputs": [],
   "source": [
    "def create_dummy_with_many_fields(question_name,list_of_names):\n",
    "    dummies = pd.get_dummies(data[question_name], dummy_na=True)\n",
    "    for x in range (len( dummies.columns)-1):\n",
    "        dummies.rename(columns = {dummies.columns[x]:list_of_names[x]}, inplace = True)\n",
    "    dummies.rename(columns={dummies.columns[-1]: \"nan\" }, inplace = True)\n",
    "    dummies.loc[dummies.nan == 1, :] = np.nan\n",
    "    del dummies['nan']\n",
    "    return dummies\n"
   ]
  },
  {
   "cell_type": "markdown",
   "metadata": {},
   "source": [
    "So, having created this method, we can simply call it for each variable that we want to create.  \n",
    "Ones more, we save lot of time and memory.  "
   ]
  },
  {
   "cell_type": "code",
   "execution_count": 257,
   "metadata": {},
   "outputs": [],
   "source": [
    "list_of_names=['literalism','inerrancy','human_error','legends','idk']\n",
    "bible_dummy = create_dummy_with_many_fields('Q17',list_of_names)"
   ]
  },
  {
   "cell_type": "markdown",
   "metadata": {},
   "source": [
    "#### Bible"
   ]
  },
  {
   "cell_type": "markdown",
   "metadata": {},
   "source": [
    "The first variable, 'Bible' that we want to create consists of the sum of 3 repsponses.  \n",
    "To get more specific, we will count the amount of the respondents who chose the answers: 3,4,8  \n",
    "These, correspond to human_error, legends and idk."
   ]
  },
  {
   "cell_type": "code",
   "execution_count": 258,
   "metadata": {},
   "outputs": [],
   "source": [
    "bible_history = bible_dummy['human_error'] + bible_dummy['legends'] + bible_dummy['idk']\n",
    "bible_history = bible_history.to_frame()\n",
    "bible_history.rename(columns = {0:'bible_history'}, inplace = True)\n",
    "bible_humanerror_history_fables = bible_history['bible_history']"
   ]
  },
  {
   "cell_type": "markdown",
   "metadata": {},
   "source": [
    "<u> Mean</u>:"
   ]
  },
  {
   "cell_type": "code",
   "execution_count": 259,
   "metadata": {},
   "outputs": [
    {
     "data": {
      "text/plain": [
       "'43.3'"
      ]
     },
     "execution_count": 259,
     "metadata": {},
     "output_type": "execute_result"
    }
   ],
   "source": [
    "mean = bible_humanerror_history_fables.mean()\n",
    "\"{:.1f}\".format(float(mean)*100)"
   ]
  },
  {
   "cell_type": "markdown",
   "metadata": {},
   "source": [
    "#### Biblical Inerrancy"
   ]
  },
  {
   "cell_type": "code",
   "execution_count": 260,
   "metadata": {},
   "outputs": [],
   "source": [
    "biblical_inerrancy = bible_dummy['inerrancy']"
   ]
  },
  {
   "cell_type": "markdown",
   "metadata": {},
   "source": [
    "<u> Mean</u>:"
   ]
  },
  {
   "cell_type": "code",
   "execution_count": 261,
   "metadata": {},
   "outputs": [
    {
     "data": {
      "text/plain": [
       "'33.8'"
      ]
     },
     "execution_count": 261,
     "metadata": {},
     "output_type": "execute_result"
    }
   ],
   "source": [
    "mean = biblical_inerrancy.mean()\n",
    "\"{:.1f}\".format(float(mean)*100)"
   ]
  },
  {
   "cell_type": "markdown",
   "metadata": {},
   "source": [
    "#### Biblical Literalism"
   ]
  },
  {
   "cell_type": "code",
   "execution_count": 262,
   "metadata": {},
   "outputs": [],
   "source": [
    "biblical_literalism = bible_dummy['literalism']"
   ]
  },
  {
   "cell_type": "markdown",
   "metadata": {},
   "source": [
    "<u> Mean</u>:"
   ]
  },
  {
   "cell_type": "code",
   "execution_count": 263,
   "metadata": {},
   "outputs": [
    {
     "data": {
      "text/plain": [
       "'22.9'"
      ]
     },
     "execution_count": 263,
     "metadata": {},
     "output_type": "execute_result"
    }
   ],
   "source": [
    "mean = biblical_literalism.mean()\n",
    "\"{:.1f}\".format(float(mean)*100)"
   ]
  },
  {
   "cell_type": "markdown",
   "metadata": {},
   "source": [
    "### Religious Affiliation"
   ]
  },
  {
   "cell_type": "markdown",
   "metadata": {},
   "source": [
    "'Religious Tradition' question has multiple values just like Bible that we did above.  \n",
    "So we will use the same method that we created.  \n",
    "Again, we pass as an argument the names that we want to match each question.  \n",
    "Let's visualise them"
   ]
  },
  {
   "cell_type": "markdown",
   "metadata": {},
   "source": [
    "\n",
    "| No.Question | Meaning     | Name that we give |\n",
    "| :-----------: | :-----------: | :-----------: |\n",
    "|1|Evangelical Protestant|conservative_protestant|\n",
    "|2|Mainline Protestant| mainline_protestant|\n",
    "|3|Black Protestant| black_protestant|\n",
    "|4|Catholic|catholic|\n",
    "|5|Jewish|jewish|\n",
    "|6|Other|other_religion|\n",
    "|7|No Affiliation|no_affiliation|"
   ]
  },
  {
   "cell_type": "code",
   "execution_count": 264,
   "metadata": {},
   "outputs": [
    {
     "data": {
      "text/html": [
       "<div>\n",
       "<style scoped>\n",
       "    .dataframe tbody tr th:only-of-type {\n",
       "        vertical-align: middle;\n",
       "    }\n",
       "\n",
       "    .dataframe tbody tr th {\n",
       "        vertical-align: top;\n",
       "    }\n",
       "\n",
       "    .dataframe thead th {\n",
       "        text-align: right;\n",
       "    }\n",
       "</style>\n",
       "<table border=\"1\" class=\"dataframe\">\n",
       "  <thead>\n",
       "    <tr style=\"text-align: right;\">\n",
       "      <th></th>\n",
       "      <th>conservative_protestant</th>\n",
       "      <th>mainline_protestant</th>\n",
       "      <th>black_protestant</th>\n",
       "      <th>catholic</th>\n",
       "      <th>jewish</th>\n",
       "      <th>other_religion</th>\n",
       "      <th>no_affiliation</th>\n",
       "    </tr>\n",
       "  </thead>\n",
       "  <tbody>\n",
       "    <tr>\n",
       "      <th>0</th>\n",
       "      <td>1.0</td>\n",
       "      <td>0.0</td>\n",
       "      <td>0.0</td>\n",
       "      <td>0.0</td>\n",
       "      <td>0.0</td>\n",
       "      <td>0.0</td>\n",
       "      <td>0.0</td>\n",
       "    </tr>\n",
       "    <tr>\n",
       "      <th>1</th>\n",
       "      <td>0.0</td>\n",
       "      <td>0.0</td>\n",
       "      <td>1.0</td>\n",
       "      <td>0.0</td>\n",
       "      <td>0.0</td>\n",
       "      <td>0.0</td>\n",
       "      <td>0.0</td>\n",
       "    </tr>\n",
       "    <tr>\n",
       "      <th>2</th>\n",
       "      <td>0.0</td>\n",
       "      <td>1.0</td>\n",
       "      <td>0.0</td>\n",
       "      <td>0.0</td>\n",
       "      <td>0.0</td>\n",
       "      <td>0.0</td>\n",
       "      <td>0.0</td>\n",
       "    </tr>\n",
       "    <tr>\n",
       "      <th>3</th>\n",
       "      <td>0.0</td>\n",
       "      <td>1.0</td>\n",
       "      <td>0.0</td>\n",
       "      <td>0.0</td>\n",
       "      <td>0.0</td>\n",
       "      <td>0.0</td>\n",
       "      <td>0.0</td>\n",
       "    </tr>\n",
       "    <tr>\n",
       "      <th>4</th>\n",
       "      <td>1.0</td>\n",
       "      <td>0.0</td>\n",
       "      <td>0.0</td>\n",
       "      <td>0.0</td>\n",
       "      <td>0.0</td>\n",
       "      <td>0.0</td>\n",
       "      <td>0.0</td>\n",
       "    </tr>\n",
       "    <tr>\n",
       "      <th>...</th>\n",
       "      <td>...</td>\n",
       "      <td>...</td>\n",
       "      <td>...</td>\n",
       "      <td>...</td>\n",
       "      <td>...</td>\n",
       "      <td>...</td>\n",
       "      <td>...</td>\n",
       "    </tr>\n",
       "    <tr>\n",
       "      <th>1567</th>\n",
       "      <td>0.0</td>\n",
       "      <td>0.0</td>\n",
       "      <td>0.0</td>\n",
       "      <td>1.0</td>\n",
       "      <td>0.0</td>\n",
       "      <td>0.0</td>\n",
       "      <td>0.0</td>\n",
       "    </tr>\n",
       "    <tr>\n",
       "      <th>1568</th>\n",
       "      <td>0.0</td>\n",
       "      <td>0.0</td>\n",
       "      <td>0.0</td>\n",
       "      <td>1.0</td>\n",
       "      <td>0.0</td>\n",
       "      <td>0.0</td>\n",
       "      <td>0.0</td>\n",
       "    </tr>\n",
       "    <tr>\n",
       "      <th>1569</th>\n",
       "      <td>0.0</td>\n",
       "      <td>0.0</td>\n",
       "      <td>0.0</td>\n",
       "      <td>0.0</td>\n",
       "      <td>0.0</td>\n",
       "      <td>1.0</td>\n",
       "      <td>0.0</td>\n",
       "    </tr>\n",
       "    <tr>\n",
       "      <th>1570</th>\n",
       "      <td>0.0</td>\n",
       "      <td>0.0</td>\n",
       "      <td>0.0</td>\n",
       "      <td>1.0</td>\n",
       "      <td>0.0</td>\n",
       "      <td>0.0</td>\n",
       "      <td>0.0</td>\n",
       "    </tr>\n",
       "    <tr>\n",
       "      <th>1571</th>\n",
       "      <td>0.0</td>\n",
       "      <td>0.0</td>\n",
       "      <td>0.0</td>\n",
       "      <td>1.0</td>\n",
       "      <td>0.0</td>\n",
       "      <td>0.0</td>\n",
       "      <td>0.0</td>\n",
       "    </tr>\n",
       "  </tbody>\n",
       "</table>\n",
       "<p>1572 rows × 7 columns</p>\n",
       "</div>"
      ],
      "text/plain": [
       "      conservative_protestant  mainline_protestant  black_protestant  \\\n",
       "0                         1.0                  0.0               0.0   \n",
       "1                         0.0                  0.0               1.0   \n",
       "2                         0.0                  1.0               0.0   \n",
       "3                         0.0                  1.0               0.0   \n",
       "4                         1.0                  0.0               0.0   \n",
       "...                       ...                  ...               ...   \n",
       "1567                      0.0                  0.0               0.0   \n",
       "1568                      0.0                  0.0               0.0   \n",
       "1569                      0.0                  0.0               0.0   \n",
       "1570                      0.0                  0.0               0.0   \n",
       "1571                      0.0                  0.0               0.0   \n",
       "\n",
       "      catholic  jewish  other_religion  no_affiliation  \n",
       "0          0.0     0.0             0.0             0.0  \n",
       "1          0.0     0.0             0.0             0.0  \n",
       "2          0.0     0.0             0.0             0.0  \n",
       "3          0.0     0.0             0.0             0.0  \n",
       "4          0.0     0.0             0.0             0.0  \n",
       "...        ...     ...             ...             ...  \n",
       "1567       1.0     0.0             0.0             0.0  \n",
       "1568       1.0     0.0             0.0             0.0  \n",
       "1569       0.0     0.0             1.0             0.0  \n",
       "1570       1.0     0.0             0.0             0.0  \n",
       "1571       1.0     0.0             0.0             0.0  \n",
       "\n",
       "[1572 rows x 7 columns]"
      ]
     },
     "execution_count": 264,
     "metadata": {},
     "output_type": "execute_result"
    }
   ],
   "source": [
    "list_of_names=['conservative_protestant','mainline_protestant','black_protestant','catholic','jewish','other_religion','no_affiliation']\n",
    "religious_affiliation = create_dummy_with_many_fields('RELTRAD',list_of_names)\n",
    "religious_affiliation"
   ]
  },
  {
   "cell_type": "markdown",
   "metadata": {},
   "source": [
    "#### Conservative protestant\n"
   ]
  },
  {
   "cell_type": "code",
   "execution_count": 265,
   "metadata": {},
   "outputs": [],
   "source": [
    "conservative_protestant=religious_affiliation['conservative_protestant']"
   ]
  },
  {
   "cell_type": "markdown",
   "metadata": {},
   "source": [
    "<u> Mean</u>:"
   ]
  },
  {
   "cell_type": "code",
   "execution_count": 266,
   "metadata": {},
   "outputs": [
    {
     "data": {
      "text/plain": [
       "'28.4'"
      ]
     },
     "execution_count": 266,
     "metadata": {},
     "output_type": "execute_result"
    }
   ],
   "source": [
    "mean = conservative_protestant.mean()\n",
    "\"{:.1f}\".format(float(mean)*100)"
   ]
  },
  {
   "cell_type": "markdown",
   "metadata": {},
   "source": [
    "#### Mainline protestant"
   ]
  },
  {
   "cell_type": "code",
   "execution_count": 267,
   "metadata": {},
   "outputs": [],
   "source": [
    "mainline_protestant = religious_affiliation['mainline_protestant']"
   ]
  },
  {
   "cell_type": "markdown",
   "metadata": {},
   "source": [
    "<u> Mean</u>:"
   ]
  },
  {
   "cell_type": "code",
   "execution_count": 268,
   "metadata": {},
   "outputs": [
    {
     "data": {
      "text/plain": [
       "'16.9'"
      ]
     },
     "execution_count": 268,
     "metadata": {},
     "output_type": "execute_result"
    }
   ],
   "source": [
    "mean = mainline_protestant.mean()\n",
    "\"{:.1f}\".format(float(mean)*100)"
   ]
  },
  {
   "cell_type": "markdown",
   "metadata": {},
   "source": [
    "#### Black protestant"
   ]
  },
  {
   "cell_type": "code",
   "execution_count": 269,
   "metadata": {},
   "outputs": [],
   "source": [
    "black_protestant = religious_affiliation['black_protestant']"
   ]
  },
  {
   "cell_type": "markdown",
   "metadata": {},
   "source": [
    "<u> Mean</u>:"
   ]
  },
  {
   "cell_type": "code",
   "execution_count": 270,
   "metadata": {},
   "outputs": [
    {
     "data": {
      "text/plain": [
       "'7.2'"
      ]
     },
     "execution_count": 270,
     "metadata": {},
     "output_type": "execute_result"
    }
   ],
   "source": [
    "mean = black_protestant.mean()\n",
    "\"{:.1f}\".format(float(mean)*100)"
   ]
  },
  {
   "cell_type": "markdown",
   "metadata": {},
   "source": [
    "#### Catholic"
   ]
  },
  {
   "cell_type": "code",
   "execution_count": 271,
   "metadata": {},
   "outputs": [],
   "source": [
    "catholic = religious_affiliation['catholic']"
   ]
  },
  {
   "cell_type": "markdown",
   "metadata": {},
   "source": [
    "<u> Mean</u>:"
   ]
  },
  {
   "cell_type": "code",
   "execution_count": 272,
   "metadata": {},
   "outputs": [
    {
     "data": {
      "text/plain": [
       "'24.9'"
      ]
     },
     "execution_count": 272,
     "metadata": {},
     "output_type": "execute_result"
    }
   ],
   "source": [
    "mean = catholic.mean()\n",
    "\"{:.1f}\".format(float(mean)*100)"
   ]
  },
  {
   "cell_type": "markdown",
   "metadata": {},
   "source": [
    "#### Other Religions"
   ]
  },
  {
   "cell_type": "code",
   "execution_count": 273,
   "metadata": {},
   "outputs": [],
   "source": [
    "other_religion = religious_affiliation['jewish']+religious_affiliation['other_religion']"
   ]
  },
  {
   "cell_type": "markdown",
   "metadata": {},
   "source": [
    "<u> Mean</u>:"
   ]
  },
  {
   "cell_type": "code",
   "execution_count": 274,
   "metadata": {},
   "outputs": [
    {
     "data": {
      "text/plain": [
       "'8.2'"
      ]
     },
     "execution_count": 274,
     "metadata": {},
     "output_type": "execute_result"
    }
   ],
   "source": [
    "mean = other_religion.mean()\n",
    "\"{:.1f}\".format(float(mean)*100)"
   ]
  },
  {
   "cell_type": "markdown",
   "metadata": {},
   "source": [
    "#### No affiliation"
   ]
  },
  {
   "cell_type": "code",
   "execution_count": 275,
   "metadata": {},
   "outputs": [],
   "source": [
    "no_affiliation = religious_affiliation['no_affiliation']"
   ]
  },
  {
   "cell_type": "markdown",
   "metadata": {},
   "source": [
    "<u> Mean</u>:"
   ]
  },
  {
   "cell_type": "code",
   "execution_count": 276,
   "metadata": {},
   "outputs": [
    {
     "data": {
      "text/plain": [
       "'14.4'"
      ]
     },
     "execution_count": 276,
     "metadata": {},
     "output_type": "execute_result"
    }
   ],
   "source": [
    "mean = no_affiliation.mean()\n",
    "\"{:.1f}\".format(float(mean)*100)"
   ]
  },
  {
   "cell_type": "markdown",
   "metadata": {},
   "source": [
    "### Mediator"
   ]
  },
  {
   "cell_type": "markdown",
   "metadata": {},
   "source": [
    "#### Political Ideology"
   ]
  },
  {
   "cell_type": "code",
   "execution_count": 277,
   "metadata": {},
   "outputs": [],
   "source": [
    "data.rename(columns = {'Q31':'Political_Ideology'}, inplace = True)\n",
    "political = data['Political_Ideology']"
   ]
  },
  {
   "cell_type": "markdown",
   "metadata": {},
   "source": [
    "<u> Mean</u>:"
   ]
  },
  {
   "cell_type": "code",
   "execution_count": 278,
   "metadata": {},
   "outputs": [
    {
     "data": {
      "text/plain": [
       "'3.80'"
      ]
     },
     "execution_count": 278,
     "metadata": {},
     "output_type": "execute_result"
    }
   ],
   "source": [
    "mean = political.mean()\n",
    "\"{:.2f}\".format(float(mean))"
   ]
  },
  {
   "cell_type": "markdown",
   "metadata": {},
   "source": [
    "<u>Standard Deviation</u>:"
   ]
  },
  {
   "cell_type": "code",
   "execution_count": 279,
   "metadata": {},
   "outputs": [
    {
     "data": {
      "text/plain": [
       "'1.55'"
      ]
     },
     "execution_count": 279,
     "metadata": {},
     "output_type": "execute_result"
    }
   ],
   "source": [
    "\"{:.2f}\".format(float(np.std(political)))"
   ]
  },
  {
   "cell_type": "markdown",
   "metadata": {},
   "source": [
    "### Controls "
   ]
  },
  {
   "cell_type": "markdown",
   "metadata": {},
   "source": [
    "The first variable here is age.  \n",
    "Let's get its mean value "
   ]
  },
  {
   "cell_type": "code",
   "execution_count": 280,
   "metadata": {},
   "outputs": [
    {
     "data": {
      "text/plain": [
       "49.162213740458014"
      ]
     },
     "execution_count": 280,
     "metadata": {},
     "output_type": "execute_result"
    }
   ],
   "source": [
    "data['AGE'].mean()"
   ]
  },
  {
   "cell_type": "markdown",
   "metadata": {},
   "source": [
    "At first sight, it seems alright but let's count the unique values."
   ]
  },
  {
   "cell_type": "code",
   "execution_count": 281,
   "metadata": {},
   "outputs": [
    {
     "data": {
      "text/plain": [
       "0     104\n",
       "67     40\n",
       "59     40\n",
       "Name: AGE, dtype: int64"
      ]
     },
     "execution_count": 281,
     "metadata": {},
     "output_type": "execute_result"
    }
   ],
   "source": [
    "data['AGE'].value_counts().head(3)"
   ]
  },
  {
   "cell_type": "markdown",
   "metadata": {},
   "source": [
    "Hmm, this is kind of odd.  \n",
    "Unborn babies are not known for their ability to fill in questionnaires."
   ]
  },
  {
   "cell_type": "markdown",
   "metadata": {},
   "source": [
    "Let's see how many null values there are."
   ]
  },
  {
   "cell_type": "code",
   "execution_count": 282,
   "metadata": {},
   "outputs": [
    {
     "data": {
      "text/plain": [
       "0"
      ]
     },
     "execution_count": 282,
     "metadata": {},
     "output_type": "execute_result"
    }
   ],
   "source": [
    "data['AGE'].isna().sum()"
   ]
  },
  {
   "cell_type": "markdown",
   "metadata": {},
   "source": [
    "Since we haven't done the imputaton yet, having 0 missing values does not seem correct. \n",
    "Apparently, in our dataset, when the respondent didn't provide his age, instead of null, the value was filled with 0. This, obviously affects the mean. So let's fix it."
   ]
  },
  {
   "cell_type": "code",
   "execution_count": 283,
   "metadata": {},
   "outputs": [],
   "source": [
    "data['AGE'] = data['AGE'].replace(0, np.nan)"
   ]
  },
  {
   "cell_type": "code",
   "execution_count": 284,
   "metadata": {},
   "outputs": [],
   "source": [
    "age = data['AGE']"
   ]
  },
  {
   "cell_type": "markdown",
   "metadata": {},
   "source": [
    "<u> Mean</u>:"
   ]
  },
  {
   "cell_type": "code",
   "execution_count": 285,
   "metadata": {},
   "outputs": [
    {
     "data": {
      "text/plain": [
       "'52.65'"
      ]
     },
     "execution_count": 285,
     "metadata": {},
     "output_type": "execute_result"
    }
   ],
   "source": [
    "mean = age.mean()\n",
    "\"{:.2f}\".format(float(mean))"
   ]
  },
  {
   "cell_type": "markdown",
   "metadata": {},
   "source": [
    "<u>Standard Deviation</u>:"
   ]
  },
  {
   "cell_type": "code",
   "execution_count": 286,
   "metadata": {},
   "outputs": [
    {
     "data": {
      "text/plain": [
       "'17.01'"
      ]
     },
     "execution_count": 286,
     "metadata": {},
     "output_type": "execute_result"
    }
   ],
   "source": [
    "\"{:.2f}\".format(float(np.std(age)))"
   ]
  },
  {
   "cell_type": "markdown",
   "metadata": {},
   "source": [
    "#### Female"
   ]
  },
  {
   "cell_type": "code",
   "execution_count": 287,
   "metadata": {},
   "outputs": [],
   "source": [
    "gender_male = create_dummy_for_dependent('Q77','male')"
   ]
  },
  {
   "cell_type": "markdown",
   "metadata": {},
   "source": [
    "<u> Mean</u>:"
   ]
  },
  {
   "cell_type": "code",
   "execution_count": 288,
   "metadata": {},
   "outputs": [
    {
     "data": {
      "text/plain": [
       "'0.42'"
      ]
     },
     "execution_count": 288,
     "metadata": {},
     "output_type": "execute_result"
    }
   ],
   "source": [
    "mean = gender_male.mean()\n",
    "\"{:.2f}\".format(float(mean))"
   ]
  },
  {
   "cell_type": "markdown",
   "metadata": {},
   "source": [
    "#### Male"
   ]
  },
  {
   "cell_type": "code",
   "execution_count": 289,
   "metadata": {},
   "outputs": [],
   "source": [
    "gender_female = 1-gender_male\n",
    "gender_female.rename(columns = {gender_male.columns[0]:'female'}, inplace = True) "
   ]
  },
  {
   "cell_type": "markdown",
   "metadata": {},
   "source": [
    "<u> Mean</u>:"
   ]
  },
  {
   "cell_type": "code",
   "execution_count": 290,
   "metadata": {},
   "outputs": [
    {
     "data": {
      "text/plain": [
       "'0.58'"
      ]
     },
     "execution_count": 290,
     "metadata": {},
     "output_type": "execute_result"
    }
   ],
   "source": [
    "mean = gender_female.mean()\n",
    "\"{:.2f}\".format(float(mean))"
   ]
  },
  {
   "cell_type": "markdown",
   "metadata": {},
   "source": [
    "### Race"
   ]
  },
  {
   "cell_type": "markdown",
   "metadata": {},
   "source": [
    "Encoding race is a bit tricky.  We have to combine questions Q88 and Q89"
   ]
  },
  {
   "cell_type": "markdown",
   "metadata": {},
   "source": [
    "Let's take a look at Q88. \n",
    "Q88 consists of 6 questions. If the respondent is:\n",
    "* White\n",
    "* Black or African American\n",
    "* American Indian or Alaska Native \n",
    "* Asian \n",
    "* Native Hawaiian or other Pacific Islander\n",
    "* Other race  \n",
    "\n",
    "The user places 1 if he is from a specific race and 2 otherwise."
   ]
  },
  {
   "cell_type": "code",
   "execution_count": 291,
   "metadata": {},
   "outputs": [
    {
     "data": {
      "text/html": [
       "<div>\n",
       "<style scoped>\n",
       "    .dataframe tbody tr th:only-of-type {\n",
       "        vertical-align: middle;\n",
       "    }\n",
       "\n",
       "    .dataframe tbody tr th {\n",
       "        vertical-align: top;\n",
       "    }\n",
       "\n",
       "    .dataframe thead th {\n",
       "        text-align: right;\n",
       "    }\n",
       "</style>\n",
       "<table border=\"1\" class=\"dataframe\">\n",
       "  <thead>\n",
       "    <tr style=\"text-align: right;\">\n",
       "      <th></th>\n",
       "      <th>Q88A</th>\n",
       "      <th>Q88B</th>\n",
       "      <th>Q88C</th>\n",
       "      <th>Q88D</th>\n",
       "      <th>Q88E</th>\n",
       "      <th>Q88F</th>\n",
       "    </tr>\n",
       "  </thead>\n",
       "  <tbody>\n",
       "    <tr>\n",
       "      <th>0</th>\n",
       "      <td>NaN</td>\n",
       "      <td>NaN</td>\n",
       "      <td>NaN</td>\n",
       "      <td>NaN</td>\n",
       "      <td>NaN</td>\n",
       "      <td>NaN</td>\n",
       "    </tr>\n",
       "    <tr>\n",
       "      <th>1</th>\n",
       "      <td>2.0</td>\n",
       "      <td>1.0</td>\n",
       "      <td>2.0</td>\n",
       "      <td>2.0</td>\n",
       "      <td>2.0</td>\n",
       "      <td>NaN</td>\n",
       "    </tr>\n",
       "    <tr>\n",
       "      <th>2</th>\n",
       "      <td>1.0</td>\n",
       "      <td>2.0</td>\n",
       "      <td>2.0</td>\n",
       "      <td>2.0</td>\n",
       "      <td>2.0</td>\n",
       "      <td>2.0</td>\n",
       "    </tr>\n",
       "    <tr>\n",
       "      <th>3</th>\n",
       "      <td>1.0</td>\n",
       "      <td>2.0</td>\n",
       "      <td>2.0</td>\n",
       "      <td>2.0</td>\n",
       "      <td>2.0</td>\n",
       "      <td>2.0</td>\n",
       "    </tr>\n",
       "    <tr>\n",
       "      <th>4</th>\n",
       "      <td>1.0</td>\n",
       "      <td>2.0</td>\n",
       "      <td>2.0</td>\n",
       "      <td>2.0</td>\n",
       "      <td>2.0</td>\n",
       "      <td>2.0</td>\n",
       "    </tr>\n",
       "    <tr>\n",
       "      <th>...</th>\n",
       "      <td>...</td>\n",
       "      <td>...</td>\n",
       "      <td>...</td>\n",
       "      <td>...</td>\n",
       "      <td>...</td>\n",
       "      <td>...</td>\n",
       "    </tr>\n",
       "    <tr>\n",
       "      <th>1567</th>\n",
       "      <td>NaN</td>\n",
       "      <td>NaN</td>\n",
       "      <td>NaN</td>\n",
       "      <td>NaN</td>\n",
       "      <td>NaN</td>\n",
       "      <td>NaN</td>\n",
       "    </tr>\n",
       "    <tr>\n",
       "      <th>1568</th>\n",
       "      <td>NaN</td>\n",
       "      <td>NaN</td>\n",
       "      <td>NaN</td>\n",
       "      <td>NaN</td>\n",
       "      <td>NaN</td>\n",
       "      <td>NaN</td>\n",
       "    </tr>\n",
       "    <tr>\n",
       "      <th>1569</th>\n",
       "      <td>2.0</td>\n",
       "      <td>2.0</td>\n",
       "      <td>2.0</td>\n",
       "      <td>2.0</td>\n",
       "      <td>2.0</td>\n",
       "      <td>2.0</td>\n",
       "    </tr>\n",
       "    <tr>\n",
       "      <th>1570</th>\n",
       "      <td>NaN</td>\n",
       "      <td>NaN</td>\n",
       "      <td>NaN</td>\n",
       "      <td>NaN</td>\n",
       "      <td>NaN</td>\n",
       "      <td>NaN</td>\n",
       "    </tr>\n",
       "    <tr>\n",
       "      <th>1571</th>\n",
       "      <td>NaN</td>\n",
       "      <td>NaN</td>\n",
       "      <td>NaN</td>\n",
       "      <td>NaN</td>\n",
       "      <td>NaN</td>\n",
       "      <td>1.0</td>\n",
       "    </tr>\n",
       "  </tbody>\n",
       "</table>\n",
       "<p>1572 rows × 6 columns</p>\n",
       "</div>"
      ],
      "text/plain": [
       "      Q88A  Q88B  Q88C  Q88D  Q88E  Q88F\n",
       "0      NaN   NaN   NaN   NaN   NaN   NaN\n",
       "1      2.0   1.0   2.0   2.0   2.0   NaN\n",
       "2      1.0   2.0   2.0   2.0   2.0   2.0\n",
       "3      1.0   2.0   2.0   2.0   2.0   2.0\n",
       "4      1.0   2.0   2.0   2.0   2.0   2.0\n",
       "...    ...   ...   ...   ...   ...   ...\n",
       "1567   NaN   NaN   NaN   NaN   NaN   NaN\n",
       "1568   NaN   NaN   NaN   NaN   NaN   NaN\n",
       "1569   2.0   2.0   2.0   2.0   2.0   2.0\n",
       "1570   NaN   NaN   NaN   NaN   NaN   NaN\n",
       "1571   NaN   NaN   NaN   NaN   NaN   1.0\n",
       "\n",
       "[1572 rows x 6 columns]"
      ]
     },
     "execution_count": 291,
     "metadata": {},
     "output_type": "execute_result"
    }
   ],
   "source": [
    "data[['Q88A','Q88B','Q88C','Q88D','Q88E','Q88F']]"
   ]
  },
  {
   "cell_type": "markdown",
   "metadata": {},
   "source": [
    "Let's take a look at Q89.  \n",
    "Unlike Q88, Q89 takes values from [1,5] U {8}\n",
    "* 1 means that the respondent is not hispanic or latino\n",
    "* 2,3,4,5,8 means that he is hispanic or latino"
   ]
  },
  {
   "cell_type": "code",
   "execution_count": 292,
   "metadata": {},
   "outputs": [
    {
     "data": {
      "text/plain": [
       "1.0    714\n",
       "2.0     98\n",
       "5.0     43\n",
       "3.0     19\n",
       "8.0     17\n",
       "4.0     15\n",
       "Name: Q89, dtype: int64"
      ]
     },
     "execution_count": 292,
     "metadata": {},
     "output_type": "execute_result"
    }
   ],
   "source": [
    "data['Q89'].value_counts()"
   ]
  },
  {
   "cell_type": "markdown",
   "metadata": {},
   "source": [
    "Both questions refer to race so it would be easier for us to work with them if we made them similar.  \n",
    "We said that 1 indicates NOT hispanic or latino race.\n",
    "So we will place 0 in every other answer than 1 which will indicate hispanic or latino race. "
   ]
  },
  {
   "cell_type": "code",
   "execution_count": 293,
   "metadata": {},
   "outputs": [
    {
     "data": {
      "text/plain": [
       "Q89\n",
       "1.0    714\n",
       "0.0    192\n",
       "dtype: int64"
      ]
     },
     "execution_count": 293,
     "metadata": {},
     "output_type": "execute_result"
    }
   ],
   "source": [
    "data_hispanic = data['Q89']\n",
    "data_hispanic[data['Q89'] > 1] = 0\n",
    "data_hispanic = data_hispanic.to_frame()\n",
    "data_hispanic.value_counts()"
   ]
  },
  {
   "cell_type": "markdown",
   "metadata": {},
   "source": [
    "We are getting closer!  \n",
    "Remember though that Q88 only takes 1 and 2 as values.\n",
    "* 1 -> My Race\n",
    "* 2-> Not my Race"
   ]
  },
  {
   "cell_type": "markdown",
   "metadata": {},
   "source": [
    "So, we will simply add 1 to our column  \n",
    "And we are done!"
   ]
  },
  {
   "cell_type": "code",
   "execution_count": 294,
   "metadata": {},
   "outputs": [
    {
     "data": {
      "text/plain": [
       "2.0    714\n",
       "1.0    192\n",
       "Name: Q89, dtype: int64"
      ]
     },
     "execution_count": 294,
     "metadata": {},
     "output_type": "execute_result"
    }
   ],
   "source": [
    "data_hispanic['Q89'] = data_hispanic['Q89'] + 1\n",
    "data['Q89'] = data_hispanic['Q89']\n",
    "data['Q89'].value_counts()"
   ]
  },
  {
   "cell_type": "markdown",
   "metadata": {},
   "source": [
    "Now, we are in the position to combine the 2 questions since they are in the same scale.  \n",
    "We also rename them to understand them easier."
   ]
  },
  {
   "cell_type": "code",
   "execution_count": 295,
   "metadata": {},
   "outputs": [],
   "source": [
    "race_dataframe=data[['Q88A','Q88B','Q88C','Q88D','Q88E','Q88F','Q89']]#\n",
    "race_dataframe = race_dataframe.rename(columns={'Q88A': 'White', \n",
    "'Q88B': 'Black_or_African_American','Q88C': 'American_Indian_or_Alaska_Native',\n",
    "'Q88D': 'Asian','Q88E': 'Native_Hawaiian_or_other_Pacific_Islander','Q88F': 'other_race_percentage','Q89': 'Hispanic_or_Latino'})#'"
   ]
  },
  {
   "cell_type": "code",
   "execution_count": 296,
   "metadata": {},
   "outputs": [
    {
     "data": {
      "text/html": [
       "<div>\n",
       "<style scoped>\n",
       "    .dataframe tbody tr th:only-of-type {\n",
       "        vertical-align: middle;\n",
       "    }\n",
       "\n",
       "    .dataframe tbody tr th {\n",
       "        vertical-align: top;\n",
       "    }\n",
       "\n",
       "    .dataframe thead th {\n",
       "        text-align: right;\n",
       "    }\n",
       "</style>\n",
       "<table border=\"1\" class=\"dataframe\">\n",
       "  <thead>\n",
       "    <tr style=\"text-align: right;\">\n",
       "      <th></th>\n",
       "      <th>White</th>\n",
       "      <th>Black_or_African_American</th>\n",
       "      <th>American_Indian_or_Alaska_Native</th>\n",
       "      <th>Asian</th>\n",
       "      <th>Native_Hawaiian_or_other_Pacific_Islander</th>\n",
       "      <th>other_race_percentage</th>\n",
       "      <th>Hispanic_or_Latino</th>\n",
       "    </tr>\n",
       "  </thead>\n",
       "  <tbody>\n",
       "    <tr>\n",
       "      <th>0</th>\n",
       "      <td>NaN</td>\n",
       "      <td>NaN</td>\n",
       "      <td>NaN</td>\n",
       "      <td>NaN</td>\n",
       "      <td>NaN</td>\n",
       "      <td>NaN</td>\n",
       "      <td>2.0</td>\n",
       "    </tr>\n",
       "    <tr>\n",
       "      <th>1</th>\n",
       "      <td>2.0</td>\n",
       "      <td>1.0</td>\n",
       "      <td>2.0</td>\n",
       "      <td>2.0</td>\n",
       "      <td>2.0</td>\n",
       "      <td>NaN</td>\n",
       "      <td>NaN</td>\n",
       "    </tr>\n",
       "    <tr>\n",
       "      <th>2</th>\n",
       "      <td>1.0</td>\n",
       "      <td>2.0</td>\n",
       "      <td>2.0</td>\n",
       "      <td>2.0</td>\n",
       "      <td>2.0</td>\n",
       "      <td>2.0</td>\n",
       "      <td>2.0</td>\n",
       "    </tr>\n",
       "    <tr>\n",
       "      <th>3</th>\n",
       "      <td>1.0</td>\n",
       "      <td>2.0</td>\n",
       "      <td>2.0</td>\n",
       "      <td>2.0</td>\n",
       "      <td>2.0</td>\n",
       "      <td>2.0</td>\n",
       "      <td>NaN</td>\n",
       "    </tr>\n",
       "    <tr>\n",
       "      <th>4</th>\n",
       "      <td>1.0</td>\n",
       "      <td>2.0</td>\n",
       "      <td>2.0</td>\n",
       "      <td>2.0</td>\n",
       "      <td>2.0</td>\n",
       "      <td>2.0</td>\n",
       "      <td>NaN</td>\n",
       "    </tr>\n",
       "    <tr>\n",
       "      <th>...</th>\n",
       "      <td>...</td>\n",
       "      <td>...</td>\n",
       "      <td>...</td>\n",
       "      <td>...</td>\n",
       "      <td>...</td>\n",
       "      <td>...</td>\n",
       "      <td>...</td>\n",
       "    </tr>\n",
       "    <tr>\n",
       "      <th>1567</th>\n",
       "      <td>NaN</td>\n",
       "      <td>NaN</td>\n",
       "      <td>NaN</td>\n",
       "      <td>NaN</td>\n",
       "      <td>NaN</td>\n",
       "      <td>NaN</td>\n",
       "      <td>1.0</td>\n",
       "    </tr>\n",
       "    <tr>\n",
       "      <th>1568</th>\n",
       "      <td>NaN</td>\n",
       "      <td>NaN</td>\n",
       "      <td>NaN</td>\n",
       "      <td>NaN</td>\n",
       "      <td>NaN</td>\n",
       "      <td>NaN</td>\n",
       "      <td>1.0</td>\n",
       "    </tr>\n",
       "    <tr>\n",
       "      <th>1569</th>\n",
       "      <td>2.0</td>\n",
       "      <td>2.0</td>\n",
       "      <td>2.0</td>\n",
       "      <td>2.0</td>\n",
       "      <td>2.0</td>\n",
       "      <td>2.0</td>\n",
       "      <td>1.0</td>\n",
       "    </tr>\n",
       "    <tr>\n",
       "      <th>1570</th>\n",
       "      <td>NaN</td>\n",
       "      <td>NaN</td>\n",
       "      <td>NaN</td>\n",
       "      <td>NaN</td>\n",
       "      <td>NaN</td>\n",
       "      <td>NaN</td>\n",
       "      <td>1.0</td>\n",
       "    </tr>\n",
       "    <tr>\n",
       "      <th>1571</th>\n",
       "      <td>NaN</td>\n",
       "      <td>NaN</td>\n",
       "      <td>NaN</td>\n",
       "      <td>NaN</td>\n",
       "      <td>NaN</td>\n",
       "      <td>1.0</td>\n",
       "      <td>1.0</td>\n",
       "    </tr>\n",
       "  </tbody>\n",
       "</table>\n",
       "<p>1572 rows × 7 columns</p>\n",
       "</div>"
      ],
      "text/plain": [
       "      White  Black_or_African_American  American_Indian_or_Alaska_Native  \\\n",
       "0       NaN                        NaN                               NaN   \n",
       "1       2.0                        1.0                               2.0   \n",
       "2       1.0                        2.0                               2.0   \n",
       "3       1.0                        2.0                               2.0   \n",
       "4       1.0                        2.0                               2.0   \n",
       "...     ...                        ...                               ...   \n",
       "1567    NaN                        NaN                               NaN   \n",
       "1568    NaN                        NaN                               NaN   \n",
       "1569    2.0                        2.0                               2.0   \n",
       "1570    NaN                        NaN                               NaN   \n",
       "1571    NaN                        NaN                               NaN   \n",
       "\n",
       "      Asian  Native_Hawaiian_or_other_Pacific_Islander  other_race_percentage  \\\n",
       "0       NaN                                        NaN                    NaN   \n",
       "1       2.0                                        2.0                    NaN   \n",
       "2       2.0                                        2.0                    2.0   \n",
       "3       2.0                                        2.0                    2.0   \n",
       "4       2.0                                        2.0                    2.0   \n",
       "...     ...                                        ...                    ...   \n",
       "1567    NaN                                        NaN                    NaN   \n",
       "1568    NaN                                        NaN                    NaN   \n",
       "1569    2.0                                        2.0                    2.0   \n",
       "1570    NaN                                        NaN                    NaN   \n",
       "1571    NaN                                        NaN                    1.0   \n",
       "\n",
       "      Hispanic_or_Latino  \n",
       "0                    2.0  \n",
       "1                    NaN  \n",
       "2                    2.0  \n",
       "3                    NaN  \n",
       "4                    NaN  \n",
       "...                  ...  \n",
       "1567                 1.0  \n",
       "1568                 1.0  \n",
       "1569                 1.0  \n",
       "1570                 1.0  \n",
       "1571                 1.0  \n",
       "\n",
       "[1572 rows x 7 columns]"
      ]
     },
     "execution_count": 296,
     "metadata": {},
     "output_type": "execute_result"
    }
   ],
   "source": [
    "race_dataframe"
   ]
  },
  {
   "cell_type": "markdown",
   "metadata": {},
   "source": [
    "As most of the times when dealing with data, our data are problematic.  \n",
    "Some respondents have placed 1 on their race but haven't answered the questions of other races.  \n",
    "This results in a line which is considered invalid.  "
   ]
  },
  {
   "cell_type": "markdown",
   "metadata": {},
   "source": [
    "\n",
    "| White | Black_or_African_American     | American_Indian_or_Alaska_Native|Asian|Native_Hawaiian_or_other_Pacific_Islander|other_race_percentage|Hispanic_or_Latino|\n",
    "| :-----------: | :-----------: | :-----------: | :-----------: | :-----------: | :-----------: |:-----------: |\n",
    "|2|NaN|2|NaN|NaN|1|NaN|\n"
   ]
  },
  {
   "cell_type": "markdown",
   "metadata": {},
   "source": [
    "To solve this, we create a method called 'race_method'  \n",
    "'race_method' iterates 'race_dataframe' and for each line, if the line has at least one column with value '1',  \n",
    "indicating that the repspondent has declared his race, we place 2 in the columns that are not equal to 1.  \n",
    "\n",
    "The above example would transform into:"
   ]
  },
  {
   "cell_type": "markdown",
   "metadata": {},
   "source": [
    "| White | Black_or_African_American     | American_Indian_or_Alaska_Native|Asian|Native_Hawaiian_or_other_Pacific_Islander|other_race_percentage\t|Hispanic_or_Latino|\n",
    "| :-----------: | :-----------: | :-----------: | :-----------: | :-----------: | :-----------: |:-----------: |\n",
    "|2|2|2|2|2|1|2|"
   ]
  },
  {
   "cell_type": "markdown",
   "metadata": {},
   "source": [
    "So, now we not that the respondent belongs to the category 'other_race' and the line is now valid!"
   ]
  },
  {
   "cell_type": "code",
   "execution_count": 297,
   "metadata": {},
   "outputs": [],
   "source": [
    "def race_method(race_to_be_removed,row_to_be_changed):\n",
    "    list = ['White','Black_or_African_American','American_Indian_or_Alaska_Native','Asian','Native_Hawaiian_or_other_Pacific_Islander','other_race_percentage','Hispanic_or_Latino']\n",
    "    list.remove(race_to_be_removed)\n",
    "    for i in list:\n",
    "        if(row_to_be_changed[i]!=1):\n",
    "            row_to_be_changed[i] = 2\n",
    "    return row_to_be_changed\n",
    "    \n",
    "    "
   ]
  },
  {
   "cell_type": "code",
   "execution_count": 298,
   "metadata": {},
   "outputs": [],
   "source": [
    "for index, row in race_dataframe.iterrows():\n",
    "    if row['White'] == 1:\n",
    "        row = race_method(race_to_be_removed='White',row_to_be_changed=row)\n",
    "    elif row['Black_or_African_American'] == 1:\n",
    "        row = race_method(race_to_be_removed='Black_or_African_American',row_to_be_changed=row)\n",
    "    elif row['Hispanic_or_Latino'] == 1:\n",
    "        row = race_method(race_to_be_removed='Hispanic_or_Latino',row_to_be_changed=row)\n",
    "    elif row['American_Indian_or_Alaska_Native'] == 1:\n",
    "        row = race_method(race_to_be_removed='American_Indian_or_Alaska_Native',row_to_be_changed=row)\n",
    "    elif row['Asian'] == 1:\n",
    "        row = race_method(race_to_be_removed='Asian',row_to_be_changed=row)\n",
    "    elif row['Native_Hawaiian_or_other_Pacific_Islander'] == 1:\n",
    "        row = race_method(race_to_be_removed='Native_Hawaiian_or_other_Pacific_Islander',row_to_be_changed=row)\n",
    "    elif row['other_race_percentage'] == 1:\n",
    "            row = race_method(race_to_be_removed='other_race_percentage',row_to_be_changed=row)"
   ]
  },
  {
   "cell_type": "markdown",
   "metadata": {},
   "source": [
    "We create a method for the creation of the dummies, very similar to the ones we built above"
   ]
  },
  {
   "cell_type": "code",
   "execution_count": 299,
   "metadata": {},
   "outputs": [],
   "source": [
    "def create_dummy_for_race(column,column_name):\n",
    "    race_dummy = pd.get_dummies(column,dummy_na=True)\n",
    "    race_dummy.loc[race_dummy.columns[-1] == 1, :] = np.nan\n",
    "    race_dummy.rename(columns = {1:column_name}, inplace = True)\n",
    "    race_dummy.drop(index=race_dummy.index[-1], axis=0, inplace=True)\n",
    "    return race_dummy"
   ]
  },
  {
   "cell_type": "markdown",
   "metadata": {},
   "source": [
    "#### White"
   ]
  },
  {
   "cell_type": "code",
   "execution_count": 300,
   "metadata": {},
   "outputs": [],
   "source": [
    "white = create_dummy_for_race(race_dataframe['White'],column_name='white')\n",
    "white = white['white']"
   ]
  },
  {
   "cell_type": "markdown",
   "metadata": {},
   "source": [
    "<u> Mean</u>:"
   ]
  },
  {
   "cell_type": "code",
   "execution_count": 301,
   "metadata": {},
   "outputs": [
    {
     "data": {
      "text/plain": [
       "'74.7'"
      ]
     },
     "execution_count": 301,
     "metadata": {},
     "output_type": "execute_result"
    }
   ],
   "source": [
    "mean = white.mean()\n",
    "\"{:.1f}\".format(float(mean)*100)"
   ]
  },
  {
   "cell_type": "markdown",
   "metadata": {},
   "source": [
    "#### Hispanic"
   ]
  },
  {
   "cell_type": "code",
   "execution_count": 302,
   "metadata": {},
   "outputs": [],
   "source": [
    "hispanic = create_dummy_for_race(race_dataframe['Hispanic_or_Latino'],column_name='Hispanic_or_Latino')\n",
    "hispanic = hispanic['Hispanic_or_Latino']"
   ]
  },
  {
   "cell_type": "markdown",
   "metadata": {},
   "source": [
    "<u> Mean</u>:"
   ]
  },
  {
   "cell_type": "code",
   "execution_count": 303,
   "metadata": {},
   "outputs": [
    {
     "data": {
      "text/plain": [
       "'12.2'"
      ]
     },
     "execution_count": 303,
     "metadata": {},
     "output_type": "execute_result"
    }
   ],
   "source": [
    "mean = hispanic.mean()\n",
    "\"{:.1f}\".format(float(mean)*100)"
   ]
  },
  {
   "cell_type": "markdown",
   "metadata": {},
   "source": [
    "#### African American/Black"
   ]
  },
  {
   "cell_type": "code",
   "execution_count": 304,
   "metadata": {},
   "outputs": [],
   "source": [
    "african_american = create_dummy_for_race(race_dataframe['Black_or_African_American'],column_name='Black_or_African_American')\n",
    "african_american = african_american['Black_or_African_American']"
   ]
  },
  {
   "cell_type": "markdown",
   "metadata": {},
   "source": [
    "<u> Mean</u>:"
   ]
  },
  {
   "cell_type": "code",
   "execution_count": 305,
   "metadata": {},
   "outputs": [
    {
     "data": {
      "text/plain": [
       "'11.4'"
      ]
     },
     "execution_count": 305,
     "metadata": {},
     "output_type": "execute_result"
    }
   ],
   "source": [
    "mean = african_american.mean()\n",
    "\"{:.1f}\".format(float(mean)*100)"
   ]
  },
  {
   "cell_type": "markdown",
   "metadata": {},
   "source": [
    "#### Other"
   ]
  },
  {
   "cell_type": "code",
   "execution_count": 306,
   "metadata": {},
   "outputs": [],
   "source": [
    "other_race = 1 - white - hispanic - african_american  "
   ]
  },
  {
   "cell_type": "markdown",
   "metadata": {},
   "source": [
    "<u> Mean</u>:"
   ]
  },
  {
   "cell_type": "code",
   "execution_count": 307,
   "metadata": {},
   "outputs": [],
   "source": [
    "other_race = other_race.to_frame()\n",
    "other_race = other_race.rename(columns={0: 'other_race'})\n",
    "other_race = other_race['other_race']"
   ]
  },
  {
   "cell_type": "code",
   "execution_count": 308,
   "metadata": {},
   "outputs": [
    {
     "data": {
      "text/plain": [
       "'1.7'"
      ]
     },
     "execution_count": 308,
     "metadata": {},
     "output_type": "execute_result"
    }
   ],
   "source": [
    "mean = other_race.mean()\n",
    "\"{:.1f}\".format(float(mean)*100)"
   ]
  },
  {
   "cell_type": "markdown",
   "metadata": {},
   "source": [
    "#### Education"
   ]
  },
  {
   "cell_type": "markdown",
   "metadata": {},
   "source": [
    "Education is represented by question Q90.  \n",
    "Let's see the possible values.  "
   ]
  },
  {
   "cell_type": "code",
   "execution_count": 309,
   "metadata": {},
   "outputs": [
    {
     "data": {
      "text/plain": [
       "6.0    393\n",
       "4.0    362\n",
       "7.0    335\n",
       "3.0    201\n",
       "5.0    121\n",
       "2.0     67\n",
       "1.0     22\n",
       "Name: Q90, dtype: int64"
      ]
     },
     "execution_count": 309,
     "metadata": {},
     "output_type": "execute_result"
    }
   ],
   "source": [
    "data['Q90'].value_counts()"
   ]
  },
  {
   "cell_type": "markdown",
   "metadata": {},
   "source": [
    "Since Education has many values, we will use the 'create_dummy_with_many_fields' method that we created before.  \n",
    "Let's once again visualise the questions and match them with names.  "
   ]
  },
  {
   "cell_type": "markdown",
   "metadata": {},
   "source": [
    "\n",
    "| No.Question | Meaning     | Name that we give |\n",
    "| :-----------: | :-----------: | :-----------: |\n",
    "|1|8th grade or less|8th|\n",
    "|2|9th-12th grade (no high school diploma)|9th_12th|  \n",
    "|3|High school graduate|high_school|\n",
    "|4|Some college|some_college|\n",
    "|5| Trade/Technical/Vocational training|trade_tech|\n",
    "|6|College graduate|college|\n",
    "|7|Postgraduate work/Degree|post_grad|"
   ]
  },
  {
   "cell_type": "code",
   "execution_count": 310,
   "metadata": {},
   "outputs": [],
   "source": [
    "list_of_names=['8th','9th_12th','high_school','some_college','trade_tech','college','post_grad']"
   ]
  },
  {
   "cell_type": "markdown",
   "metadata": {},
   "source": [
    "We assign the dummies to a datafrme that we name 'educ'.  This df has 7 columns, one for each question from above.  "
   ]
  },
  {
   "cell_type": "code",
   "execution_count": 311,
   "metadata": {},
   "outputs": [
    {
     "data": {
      "text/html": [
       "<div>\n",
       "<style scoped>\n",
       "    .dataframe tbody tr th:only-of-type {\n",
       "        vertical-align: middle;\n",
       "    }\n",
       "\n",
       "    .dataframe tbody tr th {\n",
       "        vertical-align: top;\n",
       "    }\n",
       "\n",
       "    .dataframe thead th {\n",
       "        text-align: right;\n",
       "    }\n",
       "</style>\n",
       "<table border=\"1\" class=\"dataframe\">\n",
       "  <thead>\n",
       "    <tr style=\"text-align: right;\">\n",
       "      <th></th>\n",
       "      <th>8th</th>\n",
       "      <th>9th_12th</th>\n",
       "      <th>high_school</th>\n",
       "      <th>some_college</th>\n",
       "      <th>trade_tech</th>\n",
       "      <th>college</th>\n",
       "      <th>post_grad</th>\n",
       "    </tr>\n",
       "  </thead>\n",
       "  <tbody>\n",
       "    <tr>\n",
       "      <th>0</th>\n",
       "      <td>0.0</td>\n",
       "      <td>0.0</td>\n",
       "      <td>0.0</td>\n",
       "      <td>0.0</td>\n",
       "      <td>0.0</td>\n",
       "      <td>1.0</td>\n",
       "      <td>0.0</td>\n",
       "    </tr>\n",
       "    <tr>\n",
       "      <th>1</th>\n",
       "      <td>0.0</td>\n",
       "      <td>0.0</td>\n",
       "      <td>0.0</td>\n",
       "      <td>1.0</td>\n",
       "      <td>0.0</td>\n",
       "      <td>0.0</td>\n",
       "      <td>0.0</td>\n",
       "    </tr>\n",
       "    <tr>\n",
       "      <th>2</th>\n",
       "      <td>0.0</td>\n",
       "      <td>0.0</td>\n",
       "      <td>0.0</td>\n",
       "      <td>1.0</td>\n",
       "      <td>0.0</td>\n",
       "      <td>0.0</td>\n",
       "      <td>0.0</td>\n",
       "    </tr>\n",
       "    <tr>\n",
       "      <th>3</th>\n",
       "      <td>0.0</td>\n",
       "      <td>0.0</td>\n",
       "      <td>0.0</td>\n",
       "      <td>0.0</td>\n",
       "      <td>1.0</td>\n",
       "      <td>0.0</td>\n",
       "      <td>0.0</td>\n",
       "    </tr>\n",
       "    <tr>\n",
       "      <th>4</th>\n",
       "      <td>0.0</td>\n",
       "      <td>0.0</td>\n",
       "      <td>1.0</td>\n",
       "      <td>0.0</td>\n",
       "      <td>0.0</td>\n",
       "      <td>0.0</td>\n",
       "      <td>0.0</td>\n",
       "    </tr>\n",
       "    <tr>\n",
       "      <th>...</th>\n",
       "      <td>...</td>\n",
       "      <td>...</td>\n",
       "      <td>...</td>\n",
       "      <td>...</td>\n",
       "      <td>...</td>\n",
       "      <td>...</td>\n",
       "      <td>...</td>\n",
       "    </tr>\n",
       "    <tr>\n",
       "      <th>1567</th>\n",
       "      <td>0.0</td>\n",
       "      <td>0.0</td>\n",
       "      <td>0.0</td>\n",
       "      <td>0.0</td>\n",
       "      <td>0.0</td>\n",
       "      <td>1.0</td>\n",
       "      <td>0.0</td>\n",
       "    </tr>\n",
       "    <tr>\n",
       "      <th>1568</th>\n",
       "      <td>0.0</td>\n",
       "      <td>0.0</td>\n",
       "      <td>1.0</td>\n",
       "      <td>0.0</td>\n",
       "      <td>0.0</td>\n",
       "      <td>0.0</td>\n",
       "      <td>0.0</td>\n",
       "    </tr>\n",
       "    <tr>\n",
       "      <th>1569</th>\n",
       "      <td>0.0</td>\n",
       "      <td>0.0</td>\n",
       "      <td>0.0</td>\n",
       "      <td>1.0</td>\n",
       "      <td>0.0</td>\n",
       "      <td>0.0</td>\n",
       "      <td>0.0</td>\n",
       "    </tr>\n",
       "    <tr>\n",
       "      <th>1570</th>\n",
       "      <td>0.0</td>\n",
       "      <td>0.0</td>\n",
       "      <td>0.0</td>\n",
       "      <td>0.0</td>\n",
       "      <td>0.0</td>\n",
       "      <td>1.0</td>\n",
       "      <td>0.0</td>\n",
       "    </tr>\n",
       "    <tr>\n",
       "      <th>1571</th>\n",
       "      <td>1.0</td>\n",
       "      <td>0.0</td>\n",
       "      <td>0.0</td>\n",
       "      <td>0.0</td>\n",
       "      <td>0.0</td>\n",
       "      <td>0.0</td>\n",
       "      <td>0.0</td>\n",
       "    </tr>\n",
       "  </tbody>\n",
       "</table>\n",
       "<p>1572 rows × 7 columns</p>\n",
       "</div>"
      ],
      "text/plain": [
       "      8th  9th_12th  high_school  some_college  trade_tech  college  post_grad\n",
       "0     0.0       0.0          0.0           0.0         0.0      1.0        0.0\n",
       "1     0.0       0.0          0.0           1.0         0.0      0.0        0.0\n",
       "2     0.0       0.0          0.0           1.0         0.0      0.0        0.0\n",
       "3     0.0       0.0          0.0           0.0         1.0      0.0        0.0\n",
       "4     0.0       0.0          1.0           0.0         0.0      0.0        0.0\n",
       "...   ...       ...          ...           ...         ...      ...        ...\n",
       "1567  0.0       0.0          0.0           0.0         0.0      1.0        0.0\n",
       "1568  0.0       0.0          1.0           0.0         0.0      0.0        0.0\n",
       "1569  0.0       0.0          0.0           1.0         0.0      0.0        0.0\n",
       "1570  0.0       0.0          0.0           0.0         0.0      1.0        0.0\n",
       "1571  1.0       0.0          0.0           0.0         0.0      0.0        0.0\n",
       "\n",
       "[1572 rows x 7 columns]"
      ]
     },
     "execution_count": 311,
     "metadata": {},
     "output_type": "execute_result"
    }
   ],
   "source": [
    "educ = create_dummy_with_many_fields('Q90',list_of_names)\n",
    "educ"
   ]
  },
  {
   "cell_type": "markdown",
   "metadata": {},
   "source": [
    "#### Less than High School "
   ]
  },
  {
   "cell_type": "markdown",
   "metadata": {},
   "source": [
    "Less than high school would be considered as the union of:\n",
    "* 8th grade or less (which corresponds to answer number '1' that we named '8th')\n",
    "* 9th-12th grade (no high school diploma)(which corresponds to answer number '2' that we named '9th_12th')  \n",
    "\n",
    "So we add these.  "
   ]
  },
  {
   "cell_type": "code",
   "execution_count": 312,
   "metadata": {},
   "outputs": [
    {
     "data": {
      "text/plain": [
       "0.059293804130579615"
      ]
     },
     "execution_count": 312,
     "metadata": {},
     "output_type": "execute_result"
    }
   ],
   "source": [
    "less_than_high_school =  educ['8th']+educ['9th_12th']\n",
    "less_than_high_school.mean()"
   ]
  },
  {
   "cell_type": "markdown",
   "metadata": {},
   "source": [
    "<u>Mean</u>:"
   ]
  },
  {
   "cell_type": "code",
   "execution_count": 313,
   "metadata": {},
   "outputs": [
    {
     "data": {
      "text/plain": [
       "'5.93'"
      ]
     },
     "execution_count": 313,
     "metadata": {},
     "output_type": "execute_result"
    }
   ],
   "source": [
    "mean = less_than_high_school.mean()\n",
    "\"{:.2f}\".format(float(mean)*100)"
   ]
  },
  {
   "cell_type": "markdown",
   "metadata": {},
   "source": [
    "#### High School or Equivalent "
   ]
  },
  {
   "cell_type": "code",
   "execution_count": 314,
   "metadata": {},
   "outputs": [],
   "source": [
    "high_school_or_equivalent = educ['high_school']"
   ]
  },
  {
   "cell_type": "markdown",
   "metadata": {},
   "source": [
    "<u>Mean</u>:"
   ]
  },
  {
   "cell_type": "code",
   "execution_count": 315,
   "metadata": {},
   "outputs": [
    {
     "data": {
      "text/plain": [
       "'13.4'"
      ]
     },
     "execution_count": 315,
     "metadata": {},
     "output_type": "execute_result"
    }
   ],
   "source": [
    "mean = high_school_or_equivalent.mean()\n",
    "\"{:.1f}\".format(float(mean)*100)"
   ]
  },
  {
   "cell_type": "markdown",
   "metadata": {},
   "source": [
    "#### Some college"
   ]
  },
  {
   "cell_type": "code",
   "execution_count": 316,
   "metadata": {},
   "outputs": [
    {
     "data": {
      "text/plain": [
       "0.3217854763491006"
      ]
     },
     "execution_count": 316,
     "metadata": {},
     "output_type": "execute_result"
    }
   ],
   "source": [
    "some_college = educ['trade_tech']+educ['some_college']\n",
    "some_college.mean()"
   ]
  },
  {
   "cell_type": "markdown",
   "metadata": {},
   "source": [
    "<u>Mean</u>:"
   ]
  },
  {
   "cell_type": "code",
   "execution_count": 317,
   "metadata": {},
   "outputs": [
    {
     "data": {
      "text/plain": [
       "'32.2'"
      ]
     },
     "execution_count": 317,
     "metadata": {},
     "output_type": "execute_result"
    }
   ],
   "source": [
    "mean = some_college.mean()\n",
    "\"{:.1f}\".format(float(mean)*100)"
   ]
  },
  {
   "cell_type": "markdown",
   "metadata": {},
   "source": [
    "#### College degree"
   ]
  },
  {
   "cell_type": "code",
   "execution_count": 318,
   "metadata": {},
   "outputs": [
    {
     "data": {
      "text/plain": [
       "0.2618254497001999"
      ]
     },
     "execution_count": 318,
     "metadata": {},
     "output_type": "execute_result"
    }
   ],
   "source": [
    "college_degree = educ['college']\n",
    "college_degree.mean()"
   ]
  },
  {
   "cell_type": "markdown",
   "metadata": {},
   "source": [
    "<u>Mean</u>:"
   ]
  },
  {
   "cell_type": "code",
   "execution_count": 319,
   "metadata": {},
   "outputs": [
    {
     "data": {
      "text/plain": [
       "'26.2'"
      ]
     },
     "execution_count": 319,
     "metadata": {},
     "output_type": "execute_result"
    }
   ],
   "source": [
    "mean = college_degree.mean()\n",
    "\"{:.1f}\".format(float(mean)*100)"
   ]
  },
  {
   "cell_type": "markdown",
   "metadata": {},
   "source": [
    "#### Post-graduate degree"
   ]
  },
  {
   "cell_type": "code",
   "execution_count": 320,
   "metadata": {},
   "outputs": [
    {
     "data": {
      "text/plain": [
       "0.22318454363757495"
      ]
     },
     "execution_count": 320,
     "metadata": {},
     "output_type": "execute_result"
    }
   ],
   "source": [
    "post_grad = educ['post_grad']\n",
    "post_grad.mean()"
   ]
  },
  {
   "cell_type": "markdown",
   "metadata": {},
   "source": [
    "<u>Mean</u>:"
   ]
  },
  {
   "cell_type": "code",
   "execution_count": 321,
   "metadata": {},
   "outputs": [
    {
     "data": {
      "text/plain": [
       "'22.3'"
      ]
     },
     "execution_count": 321,
     "metadata": {},
     "output_type": "execute_result"
    }
   ],
   "source": [
    "mean = post_grad.mean()\n",
    "\"{:.1f}\".format(float(mean)*100)"
   ]
  },
  {
   "cell_type": "markdown",
   "metadata": {},
   "source": [
    "#### Household Income"
   ]
  },
  {
   "cell_type": "code",
   "execution_count": 322,
   "metadata": {},
   "outputs": [],
   "source": [
    "data.rename(columns = {'Q95':'household_income'}, inplace = True)\n",
    "household_income = data['household_income']"
   ]
  },
  {
   "cell_type": "markdown",
   "metadata": {},
   "source": [
    "<u>Mean</u>:"
   ]
  },
  {
   "cell_type": "code",
   "execution_count": 323,
   "metadata": {},
   "outputs": [
    {
     "data": {
      "text/plain": [
       "'4.15'"
      ]
     },
     "execution_count": 323,
     "metadata": {},
     "output_type": "execute_result"
    }
   ],
   "source": [
    "mean = household_income.mean()\n",
    "\"{:.2f}\".format(float(mean))"
   ]
  },
  {
   "cell_type": "markdown",
   "metadata": {},
   "source": [
    "<u>Standard Deviation</u>:"
   ]
  },
  {
   "cell_type": "code",
   "execution_count": 324,
   "metadata": {},
   "outputs": [
    {
     "data": {
      "text/plain": [
       "'1.71'"
      ]
     },
     "execution_count": 324,
     "metadata": {},
     "output_type": "execute_result"
    }
   ],
   "source": [
    "\"{:.2f}\".format(float(np.std(household_income)))"
   ]
  },
  {
   "cell_type": "markdown",
   "metadata": {},
   "source": [
    "#### Married/Cohabiated"
   ]
  },
  {
   "cell_type": "markdown",
   "metadata": {},
   "source": [
    "Q51 corresponds to questions regarding marriage.  \n",
    "Let's see the possbile values."
   ]
  },
  {
   "cell_type": "code",
   "execution_count": 325,
   "metadata": {},
   "outputs": [
    {
     "data": {
      "text/plain": [
       "0       5.0\n",
       "1       5.0\n",
       "2       1.0\n",
       "3       5.0\n",
       "4       2.0\n",
       "       ... \n",
       "1567    2.0\n",
       "1568    2.0\n",
       "1569    1.0\n",
       "1570    3.0\n",
       "1571    NaN\n",
       "Name: Q51A, Length: 1572, dtype: float64"
      ]
     },
     "execution_count": 325,
     "metadata": {},
     "output_type": "execute_result"
    }
   ],
   "source": [
    "data['Q51A']"
   ]
  },
  {
   "cell_type": "markdown",
   "metadata": {},
   "source": [
    "Since Q51 has many values, we will use the 'create_dummy_with_many_fields' method that we created before.  \n",
    "Let's once again visualise the questions and match them with names.  "
   ]
  },
  {
   "cell_type": "markdown",
   "metadata": {},
   "source": [
    "\n",
    "| No.Question | Meaning     | Name that we give |\n",
    "| :-----------: | :-----------: | :-----------: |\n",
    "|1|Single/never married|single|\n",
    "|2|Married|married|  \n",
    "|3|Living as married/partnered|partnered|\n",
    "|4|Separated |separated|\n",
    "|5|Divorced |divorced|\n",
    "|6|Widowed |widowed|"
   ]
  },
  {
   "cell_type": "code",
   "execution_count": 326,
   "metadata": {},
   "outputs": [],
   "source": [
    "list_of_names=['single','married','partnered','separated','divorced','widowed']\n",
    "martial_status = create_dummy_with_many_fields('Q51A',list_of_names)"
   ]
  },
  {
   "cell_type": "markdown",
   "metadata": {},
   "source": [
    "To find the married/cohabiated respondents we find the union of:\n",
    "* 'Living as married/partnered' (which corresponds to answer number '2' that we named 'married')\n",
    "* 'Married' (no high school diploma)(which corresponds to answer number '3' that we named 'partnered')  \n",
    "\n",
    "So we add these.  "
   ]
  },
  {
   "cell_type": "code",
   "execution_count": 327,
   "metadata": {},
   "outputs": [],
   "source": [
    "married = martial_status['married'] + martial_status['partnered']"
   ]
  },
  {
   "cell_type": "code",
   "execution_count": 328,
   "metadata": {},
   "outputs": [
    {
     "data": {
      "text/plain": [
       "'55.3'"
      ]
     },
     "execution_count": 328,
     "metadata": {},
     "output_type": "execute_result"
    }
   ],
   "source": [
    "mean = married.mean()\n",
    "\"{:.1f}\".format(float(mean)*100)"
   ]
  },
  {
   "cell_type": "markdown",
   "metadata": {},
   "source": [
    "#### Not Partnered/Single"
   ]
  },
  {
   "cell_type": "code",
   "execution_count": 329,
   "metadata": {},
   "outputs": [],
   "source": [
    "single = 1 - married"
   ]
  },
  {
   "cell_type": "code",
   "execution_count": 330,
   "metadata": {},
   "outputs": [
    {
     "data": {
      "text/plain": [
       "'44.7'"
      ]
     },
     "execution_count": 330,
     "metadata": {},
     "output_type": "execute_result"
    }
   ],
   "source": [
    "mean = single.mean()\n",
    "\"{:.1f}\".format(float(mean)*100)"
   ]
  },
  {
   "cell_type": "markdown",
   "metadata": {},
   "source": [
    "#### No kids under 18 in home"
   ]
  },
  {
   "cell_type": "markdown",
   "metadata": {},
   "source": [
    "To calculate this we have to adjust our data.  \n",
    "Specifically we have to look at 2 questions at the same time.  \n",
    "These questions are Q93 and Q93_NONE.  "
   ]
  },
  {
   "cell_type": "markdown",
   "metadata": {},
   "source": [
    "Q93 gives us the amount of children under the age of 18 that currently live in the respondents' household.  \n",
    "Q93_NONE shows us if NO children under the age of 18 currently live in the respondents' household.  \n",
    "So what problem may appear here?  \n",
    "A respondent may have answered only the Q93_NONE question and passed the Q93 since no children live at his house.  \n",
    "Let's see it with an example.  \n",
    "We have:"
   ]
  },
  {
   "cell_type": "code",
   "execution_count": 331,
   "metadata": {},
   "outputs": [
    {
     "data": {
      "text/html": [
       "<div>\n",
       "<style scoped>\n",
       "    .dataframe tbody tr th:only-of-type {\n",
       "        vertical-align: middle;\n",
       "    }\n",
       "\n",
       "    .dataframe tbody tr th {\n",
       "        vertical-align: top;\n",
       "    }\n",
       "\n",
       "    .dataframe thead th {\n",
       "        text-align: right;\n",
       "    }\n",
       "</style>\n",
       "<table border=\"1\" class=\"dataframe\">\n",
       "  <thead>\n",
       "    <tr style=\"text-align: right;\">\n",
       "      <th></th>\n",
       "      <th>Q93</th>\n",
       "      <th>Q93_NONE</th>\n",
       "    </tr>\n",
       "  </thead>\n",
       "  <tbody>\n",
       "    <tr>\n",
       "      <th>0</th>\n",
       "      <td>NaN</td>\n",
       "      <td>1.0</td>\n",
       "    </tr>\n",
       "  </tbody>\n",
       "</table>\n",
       "</div>"
      ],
      "text/plain": [
       "   Q93  Q93_NONE\n",
       "0  NaN       1.0"
      ]
     },
     "execution_count": 331,
     "metadata": {},
     "output_type": "execute_result"
    }
   ],
   "source": [
    "data[['Q93','Q93_NONE']].head(1) "
   ]
  },
  {
   "cell_type": "markdown",
   "metadata": {},
   "source": [
    "We want to transform this to:  \n",
    "\n",
    "| | Q93 |  Q93_NONE|\n",
    "| -----------| ----------- |-----------|\n",
    "|0|0|1|"
   ]
  },
  {
   "cell_type": "markdown",
   "metadata": {},
   "source": [
    "To fix this we iterate the our df and place 0 to the column Q93 if Q93_NONE is NaN"
   ]
  },
  {
   "cell_type": "code",
   "execution_count": 332,
   "metadata": {},
   "outputs": [],
   "source": [
    "for index, value in data['Q93_NONE'].items():\n",
    "    value_to_compare = data['Q93_NONE'][index]\n",
    "    if (value_to_compare==1):\n",
    "        data['Q93'][index] = 0"
   ]
  },
  {
   "cell_type": "markdown",
   "metadata": {},
   "source": [
    "Which results in what we wanted!  "
   ]
  },
  {
   "cell_type": "code",
   "execution_count": 333,
   "metadata": {},
   "outputs": [
    {
     "data": {
      "text/html": [
       "<div>\n",
       "<style scoped>\n",
       "    .dataframe tbody tr th:only-of-type {\n",
       "        vertical-align: middle;\n",
       "    }\n",
       "\n",
       "    .dataframe tbody tr th {\n",
       "        vertical-align: top;\n",
       "    }\n",
       "\n",
       "    .dataframe thead th {\n",
       "        text-align: right;\n",
       "    }\n",
       "</style>\n",
       "<table border=\"1\" class=\"dataframe\">\n",
       "  <thead>\n",
       "    <tr style=\"text-align: right;\">\n",
       "      <th></th>\n",
       "      <th>Q93</th>\n",
       "      <th>Q93_NONE</th>\n",
       "    </tr>\n",
       "  </thead>\n",
       "  <tbody>\n",
       "    <tr>\n",
       "      <th>0</th>\n",
       "      <td>0.0</td>\n",
       "      <td>1.0</td>\n",
       "    </tr>\n",
       "  </tbody>\n",
       "</table>\n",
       "</div>"
      ],
      "text/plain": [
       "   Q93  Q93_NONE\n",
       "0  0.0       1.0"
      ]
     },
     "execution_count": 333,
     "metadata": {},
     "output_type": "execute_result"
    }
   ],
   "source": [
    "data[['Q93','Q93_NONE']].head(1) "
   ]
  },
  {
   "cell_type": "markdown",
   "metadata": {},
   "source": [
    "Now that we only have to deal with one question let's inspect it."
   ]
  },
  {
   "cell_type": "code",
   "execution_count": 334,
   "metadata": {},
   "outputs": [
    {
     "data": {
      "text/plain": [
       "0.0    766\n",
       "1.0    176\n",
       "2.0    148\n",
       "3.0     60\n",
       "4.0     10\n",
       "5.0      4\n",
       "6.0      1\n",
       "Name: Q93, dtype: int64"
      ]
     },
     "execution_count": 334,
     "metadata": {},
     "output_type": "execute_result"
    }
   ],
   "source": [
    "data['Q93'].value_counts()"
   ]
  },
  {
   "cell_type": "markdown",
   "metadata": {},
   "source": [
    "Hmm, it seems like we do not care about the amount of children, we are just intrested if there are any children or not.  \n",
    "Easily, we transform each number that is bigger than 0, to 1"
   ]
  },
  {
   "cell_type": "code",
   "execution_count": 335,
   "metadata": {},
   "outputs": [],
   "source": [
    "data.rename(columns = {'Q93':'kids_at_home'}, inplace = True)\n",
    "data_kids = data['kids_at_home']\n",
    "data_kids[data['kids_at_home'] > 0] = 1\n",
    "data_kids = data_kids.to_frame() \n",
    "data_kids['no_kids_at_home'] = 1 - data_kids['kids_at_home'] "
   ]
  },
  {
   "cell_type": "code",
   "execution_count": 336,
   "metadata": {},
   "outputs": [
    {
     "data": {
      "text/html": [
       "<div>\n",
       "<style scoped>\n",
       "    .dataframe tbody tr th:only-of-type {\n",
       "        vertical-align: middle;\n",
       "    }\n",
       "\n",
       "    .dataframe tbody tr th {\n",
       "        vertical-align: top;\n",
       "    }\n",
       "\n",
       "    .dataframe thead th {\n",
       "        text-align: right;\n",
       "    }\n",
       "</style>\n",
       "<table border=\"1\" class=\"dataframe\">\n",
       "  <thead>\n",
       "    <tr style=\"text-align: right;\">\n",
       "      <th></th>\n",
       "      <th>kids_at_home</th>\n",
       "      <th>no_kids_at_home</th>\n",
       "    </tr>\n",
       "  </thead>\n",
       "  <tbody>\n",
       "    <tr>\n",
       "      <th>0</th>\n",
       "      <td>0.0</td>\n",
       "      <td>1.0</td>\n",
       "    </tr>\n",
       "    <tr>\n",
       "      <th>1</th>\n",
       "      <td>1.0</td>\n",
       "      <td>0.0</td>\n",
       "    </tr>\n",
       "    <tr>\n",
       "      <th>2</th>\n",
       "      <td>NaN</td>\n",
       "      <td>NaN</td>\n",
       "    </tr>\n",
       "    <tr>\n",
       "      <th>3</th>\n",
       "      <td>NaN</td>\n",
       "      <td>NaN</td>\n",
       "    </tr>\n",
       "    <tr>\n",
       "      <th>4</th>\n",
       "      <td>1.0</td>\n",
       "      <td>0.0</td>\n",
       "    </tr>\n",
       "    <tr>\n",
       "      <th>...</th>\n",
       "      <td>...</td>\n",
       "      <td>...</td>\n",
       "    </tr>\n",
       "    <tr>\n",
       "      <th>1567</th>\n",
       "      <td>0.0</td>\n",
       "      <td>1.0</td>\n",
       "    </tr>\n",
       "    <tr>\n",
       "      <th>1568</th>\n",
       "      <td>1.0</td>\n",
       "      <td>0.0</td>\n",
       "    </tr>\n",
       "    <tr>\n",
       "      <th>1569</th>\n",
       "      <td>NaN</td>\n",
       "      <td>NaN</td>\n",
       "    </tr>\n",
       "    <tr>\n",
       "      <th>1570</th>\n",
       "      <td>0.0</td>\n",
       "      <td>1.0</td>\n",
       "    </tr>\n",
       "    <tr>\n",
       "      <th>1571</th>\n",
       "      <td>0.0</td>\n",
       "      <td>1.0</td>\n",
       "    </tr>\n",
       "  </tbody>\n",
       "</table>\n",
       "<p>1572 rows × 2 columns</p>\n",
       "</div>"
      ],
      "text/plain": [
       "      kids_at_home  no_kids_at_home\n",
       "0              0.0              1.0\n",
       "1              1.0              0.0\n",
       "2              NaN              NaN\n",
       "3              NaN              NaN\n",
       "4              1.0              0.0\n",
       "...            ...              ...\n",
       "1567           0.0              1.0\n",
       "1568           1.0              0.0\n",
       "1569           NaN              NaN\n",
       "1570           0.0              1.0\n",
       "1571           0.0              1.0\n",
       "\n",
       "[1572 rows x 2 columns]"
      ]
     },
     "execution_count": 336,
     "metadata": {},
     "output_type": "execute_result"
    }
   ],
   "source": [
    "data_kids"
   ]
  },
  {
   "cell_type": "markdown",
   "metadata": {},
   "source": [
    "And we are ready!"
   ]
  },
  {
   "cell_type": "markdown",
   "metadata": {},
   "source": [
    "#### No kids under 18 in home(yes/no)"
   ]
  },
  {
   "cell_type": "code",
   "execution_count": 337,
   "metadata": {},
   "outputs": [],
   "source": [
    "no_kids_under_18_at_home = data_kids['no_kids_at_home']"
   ]
  },
  {
   "cell_type": "markdown",
   "metadata": {},
   "source": [
    "<u> Mean</u>:"
   ]
  },
  {
   "cell_type": "code",
   "execution_count": 338,
   "metadata": {},
   "outputs": [
    {
     "data": {
      "text/plain": [
       "'65.8'"
      ]
     },
     "execution_count": 338,
     "metadata": {},
     "output_type": "execute_result"
    }
   ],
   "source": [
    "mean = no_kids_under_18_at_home.mean()\n",
    "\"{:.1f}\".format(float(mean)*100)"
   ]
  },
  {
   "cell_type": "markdown",
   "metadata": {},
   "source": [
    "#### Kids under 18 in home(yes/no)"
   ]
  },
  {
   "cell_type": "code",
   "execution_count": 339,
   "metadata": {},
   "outputs": [],
   "source": [
    "kids_under_18_at_home = data_kids['kids_at_home']"
   ]
  },
  {
   "cell_type": "markdown",
   "metadata": {},
   "source": [
    "<u> Mean</u>:"
   ]
  },
  {
   "cell_type": "code",
   "execution_count": 340,
   "metadata": {},
   "outputs": [
    {
     "data": {
      "text/plain": [
       "'34.2'"
      ]
     },
     "execution_count": 340,
     "metadata": {},
     "output_type": "execute_result"
    }
   ],
   "source": [
    "mean = kids_under_18_at_home.mean()\n",
    "\"{:.1f}\".format(float(mean)*100)"
   ]
  },
  {
   "cell_type": "markdown",
   "metadata": {},
   "source": [
    "### Small Town - Urban Area"
   ]
  },
  {
   "cell_type": "markdown",
   "metadata": {},
   "source": [
    "We follow the same process as with previous variables"
   ]
  },
  {
   "cell_type": "code",
   "execution_count": 341,
   "metadata": {},
   "outputs": [],
   "source": [
    "list_of_names=['large','suburb','small','rural','dk']\n",
    "# data['Q80'] = data['Q80'].replace(0, np.nan)\n",
    "place = create_dummy_with_many_fields('Q80',list_of_names)"
   ]
  },
  {
   "cell_type": "markdown",
   "metadata": {},
   "source": [
    "#### Small town"
   ]
  },
  {
   "cell_type": "markdown",
   "metadata": {},
   "source": [
    "After checking different combinations, we find that the sum of questions that correspond to answers 1,4,8 constitute the 'small town' variable "
   ]
  },
  {
   "cell_type": "code",
   "execution_count": 342,
   "metadata": {},
   "outputs": [],
   "source": [
    "small_town = place['small'] + place['rural'] + place['dk']"
   ]
  },
  {
   "cell_type": "code",
   "execution_count": 343,
   "metadata": {},
   "outputs": [
    {
     "data": {
      "text/plain": [
       "'47.9'"
      ]
     },
     "execution_count": 343,
     "metadata": {},
     "output_type": "execute_result"
    }
   ],
   "source": [
    "mean = small_town.mean()\n",
    "\"{:.1f}\".format(float(mean)*100)"
   ]
  },
  {
   "cell_type": "markdown",
   "metadata": {},
   "source": [
    "#### Urban area"
   ]
  },
  {
   "cell_type": "markdown",
   "metadata": {},
   "source": [
    "The union of answers 1 and 2 constitute 'urban_area' variable"
   ]
  },
  {
   "cell_type": "code",
   "execution_count": 344,
   "metadata": {},
   "outputs": [],
   "source": [
    "urban_area = place['large']+place['suburb']"
   ]
  },
  {
   "cell_type": "code",
   "execution_count": 345,
   "metadata": {},
   "outputs": [
    {
     "data": {
      "text/plain": [
       "'52.1'"
      ]
     },
     "execution_count": 345,
     "metadata": {},
     "output_type": "execute_result"
    }
   ],
   "source": [
    "mean = urban_area.mean()\n",
    "\"{:.1f}\".format(float(mean)*100)"
   ]
  },
  {
   "cell_type": "markdown",
   "metadata": {},
   "source": [
    "#### South"
   ]
  },
  {
   "cell_type": "markdown",
   "metadata": {},
   "source": [
    "Our first step here, is to find all the South states in the US and add them to a list.  \n",
    "We find the states here: [South States](https://www.britannica.com/place/the-South-region)\n"
   ]
  },
  {
   "cell_type": "code",
   "execution_count": 346,
   "metadata": {},
   "outputs": [],
   "source": [
    "south_states = ['AL','AR','DE','DC','FL','GA','KY','LA','MD','MS','NC','OK','SC','TN','TX','VA','WV']\n",
    "state = data['STATE'].to_frame()"
   ]
  },
  {
   "cell_type": "code",
   "execution_count": 347,
   "metadata": {},
   "outputs": [
    {
     "data": {
      "text/html": [
       "<div>\n",
       "<style scoped>\n",
       "    .dataframe tbody tr th:only-of-type {\n",
       "        vertical-align: middle;\n",
       "    }\n",
       "\n",
       "    .dataframe tbody tr th {\n",
       "        vertical-align: top;\n",
       "    }\n",
       "\n",
       "    .dataframe thead th {\n",
       "        text-align: right;\n",
       "    }\n",
       "</style>\n",
       "<table border=\"1\" class=\"dataframe\">\n",
       "  <thead>\n",
       "    <tr style=\"text-align: right;\">\n",
       "      <th></th>\n",
       "      <th>STATE</th>\n",
       "    </tr>\n",
       "  </thead>\n",
       "  <tbody>\n",
       "    <tr>\n",
       "      <th>0</th>\n",
       "      <td>TX</td>\n",
       "    </tr>\n",
       "    <tr>\n",
       "      <th>1</th>\n",
       "      <td>TX</td>\n",
       "    </tr>\n",
       "    <tr>\n",
       "      <th>2</th>\n",
       "      <td>ND</td>\n",
       "    </tr>\n",
       "    <tr>\n",
       "      <th>3</th>\n",
       "      <td>TX</td>\n",
       "    </tr>\n",
       "    <tr>\n",
       "      <th>4</th>\n",
       "      <td>IA</td>\n",
       "    </tr>\n",
       "  </tbody>\n",
       "</table>\n",
       "</div>"
      ],
      "text/plain": [
       "  STATE\n",
       "0    TX\n",
       "1    TX\n",
       "2    ND\n",
       "3    TX\n",
       "4    IA"
      ]
     },
     "execution_count": 347,
     "metadata": {},
     "output_type": "execute_result"
    }
   ],
   "source": [
    "state.head(5)"
   ]
  },
  {
   "cell_type": "markdown",
   "metadata": {},
   "source": [
    "Now we iterate the column 'STATE' with the use of a <mark>lambda</mark> function and place \n",
    "* 1 if the state belongs to the south region\n",
    "* 0 otherwise"
   ]
  },
  {
   "cell_type": "code",
   "execution_count": 348,
   "metadata": {},
   "outputs": [],
   "source": [
    "state['South'] = state['STATE'].apply(lambda x:1 if x in south_states else 0) \n",
    "south = state['South']"
   ]
  },
  {
   "cell_type": "code",
   "execution_count": 349,
   "metadata": {},
   "outputs": [
    {
     "data": {
      "text/plain": [
       "0    1\n",
       "1    1\n",
       "2    0\n",
       "3    1\n",
       "4    0\n",
       "Name: South, dtype: int64"
      ]
     },
     "execution_count": 349,
     "metadata": {},
     "output_type": "execute_result"
    }
   ],
   "source": [
    "south.head(5)"
   ]
  },
  {
   "cell_type": "markdown",
   "metadata": {},
   "source": [
    "It seems totally correct as Texas indeed is a South state.\n",
    "On the other hand, North Dakota and Iowa are not South states. "
   ]
  },
  {
   "cell_type": "code",
   "execution_count": 350,
   "metadata": {},
   "outputs": [
    {
     "data": {
      "text/plain": [
       "'38.7'"
      ]
     },
     "execution_count": 350,
     "metadata": {},
     "output_type": "execute_result"
    }
   ],
   "source": [
    "mean = south.mean()\n",
    "\"{:.1f}\".format(float(mean)*100)"
   ]
  },
  {
   "cell_type": "markdown",
   "metadata": {},
   "source": [
    "#### Not south (other region)"
   ]
  },
  {
   "cell_type": "code",
   "execution_count": 351,
   "metadata": {},
   "outputs": [],
   "source": [
    "state['Other Region'] = 1 - state['South']\n",
    "other_region = state['Other Region']"
   ]
  },
  {
   "cell_type": "code",
   "execution_count": 352,
   "metadata": {},
   "outputs": [
    {
     "data": {
      "text/plain": [
       "'61.3'"
      ]
     },
     "execution_count": 352,
     "metadata": {},
     "output_type": "execute_result"
    }
   ],
   "source": [
    "mean = other_region.mean()\n",
    "\"{:.1f}\".format(float(mean)*100)"
   ]
  },
  {
   "cell_type": "markdown",
   "metadata": {},
   "source": [
    "Having created all the dummy variables, let's insert them into a dataframe.  "
   ]
  },
  {
   "cell_type": "code",
   "execution_count": 353,
   "metadata": {},
   "outputs": [],
   "source": [
    "dummy_dataframe = pd.concat([ban_on_semi_auto_guns_dummy,ban_on_high_capacity_ammo_clips_dummy,banning_civilian_handguns_dummy,support_for_Concealed_Carry_Laws_dummy,\n",
    "more_Armed_Security_at_Schools_dummy,more_Teachers_Faculty_having_Guns_dummy,more_Gun_Safety_Programs_dummy,expanded_Mental_Health_Screening_dummy,\n",
    "supernatural_Evil,attendance,bible_humanerror_history_fables,biblical_inerrancy,biblical_literalism,conservative_protestant,mainline_protestant,\n",
    "black_protestant,catholic,other_religion,no_affiliation,political,age,gender_female,gender_male,white,hispanic,african_american,other_race,\n",
    "less_than_high_school,high_school_or_equivalent,some_college,college_degree,post_grad,household_income,married,single,no_kids_under_18_at_home,\n",
    "kids_under_18_at_home,small_town,urban_area,south,other_region], axis=1)\n",
    "dummy_dataframe.rename(columns = {0:'other_religion',1:'Less_than_High_School',2:'Some_College',3:'Not partnered/Single',4:'married',5:'Small Town',6:'urban_area'}, inplace = True)"
   ]
  },
  {
   "cell_type": "markdown",
   "metadata": {},
   "source": [
    "We also print the mean of every dummy together as done in the paper (Appendix A)"
   ]
  },
  {
   "cell_type": "code",
   "execution_count": 354,
   "metadata": {},
   "outputs": [
    {
     "data": {
      "text/plain": [
       "ban_on_semi_auto_guns                 0.63\n",
       "ban_on_high_capacity_ammo_clips       0.67\n",
       "ban_on_civilian_handguns              0.29\n",
       "support_for_Concealed_Carry_Laws      0.56\n",
       "more_Armed_Security_at_Schools        0.62\n",
       "more_Teachers_Faculty_having_Guns     0.29\n",
       "more_Gun_Safety_Programs              0.93\n",
       "expanded_Mental_Health_Screening      0.91\n",
       "supernatural_evil                     3.09\n",
       "attendance                            3.68\n",
       "bible_history                         0.43\n",
       "inerrancy                             0.34\n",
       "literalism                            0.23\n",
       "conservative_protestant               0.28\n",
       "mainline_protestant                   0.17\n",
       "black_protestant                      0.07\n",
       "catholic                              0.25\n",
       "other_religion                        0.08\n",
       "no_affiliation                        0.14\n",
       "Political_Ideology                    3.80\n",
       "AGE                                  52.65\n",
       "female                                0.58\n",
       "male                                  0.42\n",
       "white                                 0.75\n",
       "Hispanic_or_Latino                    0.12\n",
       "Black_or_African_American             0.11\n",
       "other_race                            0.02\n",
       "Less_than_High_School                 0.06\n",
       "high_school                           0.13\n",
       "Some_College                          0.32\n",
       "college                               0.26\n",
       "post_grad                             0.22\n",
       "household_income                      4.15\n",
       "Not partnered/Single                  0.55\n",
       "married                               0.45\n",
       "no_kids_at_home                       0.66\n",
       "kids_at_home                          0.34\n",
       "Small Town                            0.48\n",
       "urban_area                            0.52\n",
       "South                                 0.39\n",
       "Other Region                          0.61\n",
       "dtype: float64"
      ]
     },
     "execution_count": 354,
     "metadata": {},
     "output_type": "execute_result"
    }
   ],
   "source": [
    "round(dummy_dataframe.mean(),2)"
   ]
  },
  {
   "cell_type": "markdown",
   "metadata": {},
   "source": [
    "Happily, all of our mean values are very close to the ones, the papers writers found."
   ]
  },
  {
   "cell_type": "markdown",
   "metadata": {},
   "source": [
    "## Multiple Imputation"
   ]
  },
  {
   "cell_type": "markdown",
   "metadata": {},
   "source": [
    "As we promised in the beggining of this notebook, we will deal with the missing values on our data.  \n",
    "The method we will use is multiple imputation. With this, we will eliminate missing values."
   ]
  },
  {
   "cell_type": "code",
   "execution_count": 355,
   "metadata": {},
   "outputs": [
    {
     "data": {
      "text/plain": [
       "2819"
      ]
     },
     "execution_count": 355,
     "metadata": {},
     "output_type": "execute_result"
    }
   ],
   "source": [
    "dummy_dataframe.isnull().sum().sum()"
   ]
  },
  {
   "cell_type": "code",
   "execution_count": 356,
   "metadata": {},
   "outputs": [],
   "source": [
    "kernel = mf.ImputationKernel(\n",
    "  data=dummy_dataframe,\n",
    "  save_all_iterations=True,\n",
    "  random_state=19\n",
    ")\n",
    "new_data = kernel.impute_new_data(dummy_dataframe)\n",
    "data = new_data.complete_data(0)"
   ]
  },
  {
   "cell_type": "code",
   "execution_count": 357,
   "metadata": {},
   "outputs": [
    {
     "data": {
      "text/plain": [
       "0"
      ]
     },
     "execution_count": 357,
     "metadata": {},
     "output_type": "execute_result"
    }
   ],
   "source": [
    "data.isnull().sum().sum()"
   ]
  },
  {
   "cell_type": "markdown",
   "metadata": {},
   "source": [
    "Seems like we indeed eliminated all the null values.  \n",
    "But did the imputation affect our data ?  \n",
    "Let's compare the mean value for each variable before and after the imputation."
   ]
  },
  {
   "cell_type": "code",
   "execution_count": 358,
   "metadata": {},
   "outputs": [
    {
     "data": {
      "text/plain": [
       "ban_on_semi_auto_guns                0.00\n",
       "ban_on_high_capacity_ammo_clips      0.00\n",
       "ban_on_civilian_handguns             0.00\n",
       "support_for_Concealed_Carry_Laws     0.00\n",
       "more_Armed_Security_at_Schools       0.00\n",
       "more_Teachers_Faculty_having_Guns    0.00\n",
       "more_Gun_Safety_Programs             0.00\n",
       "expanded_Mental_Health_Screening     0.00\n",
       "supernatural_evil                    0.00\n",
       "attendance                           0.00\n",
       "bible_history                        0.00\n",
       "inerrancy                            0.00\n",
       "literalism                           0.00\n",
       "conservative_protestant              0.00\n",
       "mainline_protestant                  0.00\n",
       "black_protestant                     0.00\n",
       "catholic                             0.00\n",
       "other_religion                       0.00\n",
       "no_affiliation                       0.00\n",
       "Political_Ideology                   0.00\n",
       "AGE                                  0.20\n",
       "female                               0.00\n",
       "male                                 0.00\n",
       "white                                0.00\n",
       "Hispanic_or_Latino                   0.00\n",
       "Black_or_African_American            0.00\n",
       "other_race                           0.00\n",
       "Less_than_High_School                0.00\n",
       "high_school                          0.00\n",
       "Some_College                         0.00\n",
       "college                              0.00\n",
       "post_grad                            0.00\n",
       "household_income                     0.00\n",
       "Not partnered/Single                 0.00\n",
       "married                              0.00\n",
       "no_kids_at_home                      0.00\n",
       "kids_at_home                         0.01\n",
       "Small Town                           0.00\n",
       "urban_area                           0.00\n",
       "South                                0.00\n",
       "Other Region                         0.00\n",
       "dtype: float64"
      ]
     },
     "execution_count": 358,
     "metadata": {},
     "output_type": "execute_result"
    }
   ],
   "source": [
    "round(abs(data.mean()-dummy_dataframe.mean()),2)"
   ]
  },
  {
   "cell_type": "markdown",
   "metadata": {},
   "source": [
    "We are ready to move on!"
   ]
  },
  {
   "cell_type": "markdown",
   "metadata": {},
   "source": [
    "# 3rd Question"
   ]
  },
  {
   "cell_type": "markdown",
   "metadata": {},
   "source": [
    "Following the paper's procedure, we have to do 16 logistic regressions.  \n",
    "Specifically, 2 regressions for each dependent variable.  \n",
    "The first regression has 8 independent variables (the religious predictors) whose names are stored in the following list. We will call that the small regression"
   ]
  },
  {
   "cell_type": "code",
   "execution_count": 359,
   "metadata": {},
   "outputs": [],
   "source": [
    "small_regression_variables = ['supernatural_evil','attendance','inerrancy','literalism','mainline_protestant','black_protestant','conservative_protestant','catholic','other_religion']"
   ]
  },
  {
   "cell_type": "markdown",
   "metadata": {},
   "source": [
    "Let's create the dataframe of the small regression"
   ]
  },
  {
   "cell_type": "code",
   "execution_count": 360,
   "metadata": {},
   "outputs": [],
   "source": [
    "df_small_regression = pd.DataFrame() \n",
    "for i in small_regression_variables:    \n",
    "    df_small_regression[i] = data[i] "
   ]
  },
  {
   "cell_type": "markdown",
   "metadata": {},
   "source": [
    "The second regression includes all the independent variables. We will call this the big regression. It adds all the covariates and political Ideology to the initial model.  "
   ]
  },
  {
   "cell_type": "code",
   "execution_count": 361,
   "metadata": {},
   "outputs": [],
   "source": [
    "big_regression_variables = ['Political_Ideology','Black_or_African_American','Hispanic_or_Latino','other_race','female','Less_than_High_School','Some_College','college','post_grad','AGE','household_income','married','no_kids_at_home','urban_area','South']\n",
    "all_variables_for_regression = small_regression_variables + big_regression_variables"
   ]
  },
  {
   "cell_type": "markdown",
   "metadata": {},
   "source": [
    "Let's create the dataframe of the big regression"
   ]
  },
  {
   "cell_type": "code",
   "execution_count": 362,
   "metadata": {},
   "outputs": [],
   "source": [
    "df_big_regression = pd.DataFrame() \n",
    "for i in all_variables_for_regression:    \n",
    "    df_big_regression[i] = data[i] "
   ]
  },
  {
   "cell_type": "markdown",
   "metadata": {},
   "source": [
    "Due to the fact that we are going to do numerous regressions, we build a method in order to avoid code repeatness.  \n",
    "The method is called 'regression' and takes as input:\n",
    "* The dependent variable \n",
    "* The indipendent variables\n",
    "* The dataframe  \n",
    "\n",
    "Finally, the method returns the log odds"
   ]
  },
  {
   "cell_type": "code",
   "execution_count": 363,
   "metadata": {},
   "outputs": [],
   "source": [
    "def regression(dependent_var, group,dataset):\n",
    "    first_regression = dependent_var + '+'.join(group) \n",
    "    x = smf.logit(first_regression, data=dataset).fit()\n",
    "    print(x.summary2())\n",
    "    return np.exp(x.params) "
   ]
  },
  {
   "cell_type": "markdown",
   "metadata": {},
   "source": [
    "Also, we will create a bigger method, that will prepare the needed inputs and then call the 'regression' method that we just built."
   ]
  },
  {
   "cell_type": "code",
   "execution_count": 364,
   "metadata": {},
   "outputs": [],
   "source": [
    "def small_big_regression(dependent_var, length):\n",
    "    if(length == 'small' ):\n",
    "        df_small = df_small_regression.copy() \n",
    "        df_small[dependent_var] = data[dependent_var] \n",
    "        dependent_var = dependent_var+'~'\n",
    "        group = small_regression_variables\n",
    "        return(regression(dependent_var,group,df_small))\n",
    "    else:\n",
    "        df_big = df_big_regression.copy() \n",
    "        df_big[dependent_var] = data[dependent_var] \n",
    "        dependent_var = dependent_var+'~'\n",
    "        group = all_variables_for_regression  \n",
    "        return(regression(dependent_var,group,df_big))  "
   ]
  },
  {
   "cell_type": "markdown",
   "metadata": {},
   "source": [
    "### Regression for banning semi auto guns"
   ]
  },
  {
   "cell_type": "code",
   "execution_count": 365,
   "metadata": {},
   "outputs": [
    {
     "name": "stdout",
     "output_type": "stream",
     "text": [
      "Optimization terminated successfully.\n",
      "         Current function value: 0.644705\n",
      "         Iterations 5\n",
      "                            Results: Logit\n",
      "=======================================================================\n",
      "Model:               Logit                 Pseudo R-squared: 0.020     \n",
      "Dependent Variable:  ban_on_semi_auto_guns AIC:              2046.9527 \n",
      "Date:                2021-12-19 22:23      BIC:              2100.5538 \n",
      "No. Observations:    1572                  Log-Likelihood:   -1013.5   \n",
      "Df Model:            9                     LL-Null:          -1034.5   \n",
      "Df Residuals:        1562                  LLR p-value:      3.3216e-06\n",
      "Converged:           1.0000                Scale:            1.0000    \n",
      "No. Iterations:      5.0000                                            \n",
      "-----------------------------------------------------------------------\n",
      "                         Coef.  Std.Err.    z    P>|z|   [0.025  0.975]\n",
      "-----------------------------------------------------------------------\n",
      "Intercept                1.1199   0.1900  5.8948 0.0000  0.7476  1.4923\n",
      "supernatural_evil       -0.2667   0.0722 -3.6964 0.0002 -0.4081 -0.1253\n",
      "attendance               0.0365   0.0230  1.5858 0.1128 -0.0086  0.0816\n",
      "inerrancy               -0.0430   0.1472 -0.2923 0.7701 -0.3315  0.2455\n",
      "literalism              -0.1270   0.1776 -0.7153 0.4744 -0.4751  0.2210\n",
      "mainline_protestant      0.1469   0.1921  0.7646 0.4445 -0.2296  0.5234\n",
      "black_protestant         0.5011   0.2619  1.9131 0.0557 -0.0123  1.0145\n",
      "conservative_protestant -0.0169   0.1960 -0.0864 0.9312 -0.4011  0.3673\n",
      "catholic                 0.2306   0.1820  1.2668 0.2052 -0.1262  0.5873\n",
      "other_religion           0.6825   0.2458  2.7765 0.0055  0.2007  1.1643\n",
      "=======================================================================\n",
      "\n",
      "Optimization terminated successfully.\n",
      "         Current function value: 0.553177\n",
      "         Iterations 6\n",
      "                             Results: Logit\n",
      "=========================================================================\n",
      "Model:               Logit                  Pseudo R-squared:  0.159     \n",
      "Dependent Variable:  ban_on_semi_auto_guns  AIC:               1789.1873 \n",
      "Date:                2021-12-19 22:23       BIC:               1923.1899 \n",
      "No. Observations:    1572                   Log-Likelihood:    -869.59   \n",
      "Df Model:            24                     LL-Null:           -1034.5   \n",
      "Df Residuals:        1547                   LLR p-value:       1.6406e-55\n",
      "Converged:           1.0000                 Scale:             1.0000    \n",
      "No. Iterations:      6.0000                                              \n",
      "-------------------------------------------------------------------------\n",
      "                           Coef.  Std.Err.    z    P>|z|   [0.025  0.975]\n",
      "-------------------------------------------------------------------------\n",
      "Intercept                 -3.3223   0.4799 -6.9234 0.0000 -4.2628 -2.3818\n",
      "supernatural_evil         -0.1627   0.0814 -1.9984 0.0457 -0.3223 -0.0031\n",
      "attendance                 0.0503   0.0262  1.9154 0.0554 -0.0012  0.1017\n",
      "inerrancy                  0.0229   0.1641  0.1394 0.8891 -0.2988  0.3445\n",
      "literalism                 0.0392   0.1992  0.1969 0.8439 -0.3512  0.4296\n",
      "mainline_protestant        0.1424   0.2155  0.6610 0.5086 -0.2799  0.5648\n",
      "black_protestant          -0.2784   0.3675 -0.7576 0.4487 -0.9988  0.4419\n",
      "conservative_protestant    0.2385   0.2176  1.0960 0.2731 -0.1880  0.6650\n",
      "catholic                   0.2415   0.2044  1.1812 0.2375 -0.1592  0.6422\n",
      "other_religion             0.5450   0.2716  2.0066 0.0448  0.0127  1.0773\n",
      "Political_Ideology         0.4591   0.0469  9.7959 0.0000  0.3673  0.5510\n",
      "Black_or_African_American  0.7382   0.2995  2.4646 0.0137  0.1511  1.3252\n",
      "Hispanic_or_Latino         0.4403   0.2225  1.9790 0.0478  0.0042  0.8764\n",
      "other_race                 0.0503   0.1761  0.2859 0.7749 -0.2948  0.3954\n",
      "female                     1.0821   0.1226  8.8293 0.0000  0.8419  1.3223\n",
      "Less_than_High_School     -0.2231   0.2734 -0.8160 0.4145 -0.7588  0.3127\n",
      "Some_College              -0.1163   0.1776 -0.6547 0.5127 -0.4643  0.2318\n",
      "college                   -0.2796   0.1899 -1.4723 0.1409 -0.6519  0.0926\n",
      "post_grad                  0.2614   0.2079  1.2573 0.2086 -0.1461  0.6688\n",
      "AGE                        0.0209   0.0041  5.1374 0.0000  0.0129  0.0288\n",
      "household_income           0.1044   0.0419  2.4933 0.0127  0.0223  0.1864\n",
      "married                    0.2423   0.1330  1.8222 0.0684 -0.0183  0.5028\n",
      "no_kids_at_home            0.0703   0.1354  0.5187 0.6040 -0.1952  0.3357\n",
      "urban_area                 0.2591   0.1207  2.1464 0.0318  0.0225  0.4958\n",
      "South                     -0.3624   0.1235 -2.9356 0.0033 -0.6044 -0.1204\n",
      "=========================================================================\n",
      "\n"
     ]
    }
   ],
   "source": [
    "small = small_big_regression(dependent_var='ban_on_semi_auto_guns',length='small')\n",
    "big = small_big_regression(dependent_var='ban_on_semi_auto_guns',length='big')"
   ]
  },
  {
   "cell_type": "markdown",
   "metadata": {},
   "source": [
    "### Log Odds"
   ]
  },
  {
   "cell_type": "markdown",
   "metadata": {},
   "source": [
    "We combine the results of the 2 regressions into a dataframe to see the Log odds and comment on them."
   ]
  },
  {
   "cell_type": "code",
   "execution_count": 366,
   "metadata": {},
   "outputs": [],
   "source": [
    "def log_odds_combined(small,big):\n",
    "    small_big_combined = pd.concat([small, big], axis=1)\n",
    "    small_big_combined.rename({0: 'small', 1: 'big'}, axis=1, inplace=True)\n",
    "    return small_big_combined"
   ]
  },
  {
   "cell_type": "code",
   "execution_count": 367,
   "metadata": {},
   "outputs": [
    {
     "data": {
      "text/html": [
       "<div>\n",
       "<style scoped>\n",
       "    .dataframe tbody tr th:only-of-type {\n",
       "        vertical-align: middle;\n",
       "    }\n",
       "\n",
       "    .dataframe tbody tr th {\n",
       "        vertical-align: top;\n",
       "    }\n",
       "\n",
       "    .dataframe thead th {\n",
       "        text-align: right;\n",
       "    }\n",
       "</style>\n",
       "<table border=\"1\" class=\"dataframe\">\n",
       "  <thead>\n",
       "    <tr style=\"text-align: right;\">\n",
       "      <th></th>\n",
       "      <th>small</th>\n",
       "      <th>big</th>\n",
       "    </tr>\n",
       "  </thead>\n",
       "  <tbody>\n",
       "    <tr>\n",
       "      <th>Intercept</th>\n",
       "      <td>3.064640</td>\n",
       "      <td>0.036070</td>\n",
       "    </tr>\n",
       "    <tr>\n",
       "      <th>supernatural_evil</th>\n",
       "      <td>0.765904</td>\n",
       "      <td>0.849831</td>\n",
       "    </tr>\n",
       "    <tr>\n",
       "      <th>attendance</th>\n",
       "      <td>1.037147</td>\n",
       "      <td>1.051566</td>\n",
       "    </tr>\n",
       "    <tr>\n",
       "      <th>inerrancy</th>\n",
       "      <td>0.957894</td>\n",
       "      <td>1.023148</td>\n",
       "    </tr>\n",
       "    <tr>\n",
       "      <th>literalism</th>\n",
       "      <td>0.880716</td>\n",
       "      <td>1.040006</td>\n",
       "    </tr>\n",
       "    <tr>\n",
       "      <th>mainline_protestant</th>\n",
       "      <td>1.158214</td>\n",
       "      <td>1.153095</td>\n",
       "    </tr>\n",
       "    <tr>\n",
       "      <th>black_protestant</th>\n",
       "      <td>1.650518</td>\n",
       "      <td>0.756969</td>\n",
       "    </tr>\n",
       "    <tr>\n",
       "      <th>conservative_protestant</th>\n",
       "      <td>0.983211</td>\n",
       "      <td>1.269331</td>\n",
       "    </tr>\n",
       "    <tr>\n",
       "      <th>catholic</th>\n",
       "      <td>1.259312</td>\n",
       "      <td>1.273137</td>\n",
       "    </tr>\n",
       "    <tr>\n",
       "      <th>other_religion</th>\n",
       "      <td>1.978790</td>\n",
       "      <td>1.724597</td>\n",
       "    </tr>\n",
       "    <tr>\n",
       "      <th>Political_Ideology</th>\n",
       "      <td>NaN</td>\n",
       "      <td>1.582700</td>\n",
       "    </tr>\n",
       "    <tr>\n",
       "      <th>Black_or_African_American</th>\n",
       "      <td>NaN</td>\n",
       "      <td>2.092081</td>\n",
       "    </tr>\n",
       "    <tr>\n",
       "      <th>Hispanic_or_Latino</th>\n",
       "      <td>NaN</td>\n",
       "      <td>1.553170</td>\n",
       "    </tr>\n",
       "    <tr>\n",
       "      <th>other_race</th>\n",
       "      <td>NaN</td>\n",
       "      <td>1.051630</td>\n",
       "    </tr>\n",
       "    <tr>\n",
       "      <th>female</th>\n",
       "      <td>NaN</td>\n",
       "      <td>2.950819</td>\n",
       "    </tr>\n",
       "    <tr>\n",
       "      <th>Less_than_High_School</th>\n",
       "      <td>NaN</td>\n",
       "      <td>0.800069</td>\n",
       "    </tr>\n",
       "    <tr>\n",
       "      <th>Some_College</th>\n",
       "      <td>NaN</td>\n",
       "      <td>0.890246</td>\n",
       "    </tr>\n",
       "    <tr>\n",
       "      <th>college</th>\n",
       "      <td>NaN</td>\n",
       "      <td>0.756056</td>\n",
       "    </tr>\n",
       "    <tr>\n",
       "      <th>post_grad</th>\n",
       "      <td>NaN</td>\n",
       "      <td>1.298729</td>\n",
       "    </tr>\n",
       "    <tr>\n",
       "      <th>AGE</th>\n",
       "      <td>NaN</td>\n",
       "      <td>1.021077</td>\n",
       "    </tr>\n",
       "    <tr>\n",
       "      <th>household_income</th>\n",
       "      <td>NaN</td>\n",
       "      <td>1.109989</td>\n",
       "    </tr>\n",
       "    <tr>\n",
       "      <th>married</th>\n",
       "      <td>NaN</td>\n",
       "      <td>1.274131</td>\n",
       "    </tr>\n",
       "    <tr>\n",
       "      <th>no_kids_at_home</th>\n",
       "      <td>NaN</td>\n",
       "      <td>1.072778</td>\n",
       "    </tr>\n",
       "    <tr>\n",
       "      <th>urban_area</th>\n",
       "      <td>NaN</td>\n",
       "      <td>1.295805</td>\n",
       "    </tr>\n",
       "    <tr>\n",
       "      <th>South</th>\n",
       "      <td>NaN</td>\n",
       "      <td>0.696001</td>\n",
       "    </tr>\n",
       "  </tbody>\n",
       "</table>\n",
       "</div>"
      ],
      "text/plain": [
       "                              small       big\n",
       "Intercept                  3.064640  0.036070\n",
       "supernatural_evil          0.765904  0.849831\n",
       "attendance                 1.037147  1.051566\n",
       "inerrancy                  0.957894  1.023148\n",
       "literalism                 0.880716  1.040006\n",
       "mainline_protestant        1.158214  1.153095\n",
       "black_protestant           1.650518  0.756969\n",
       "conservative_protestant    0.983211  1.269331\n",
       "catholic                   1.259312  1.273137\n",
       "other_religion             1.978790  1.724597\n",
       "Political_Ideology              NaN  1.582700\n",
       "Black_or_African_American       NaN  2.092081\n",
       "Hispanic_or_Latino              NaN  1.553170\n",
       "other_race                      NaN  1.051630\n",
       "female                          NaN  2.950819\n",
       "Less_than_High_School           NaN  0.800069\n",
       "Some_College                    NaN  0.890246\n",
       "college                         NaN  0.756056\n",
       "post_grad                       NaN  1.298729\n",
       "AGE                             NaN  1.021077\n",
       "household_income                NaN  1.109989\n",
       "married                         NaN  1.274131\n",
       "no_kids_at_home                 NaN  1.072778\n",
       "urban_area                      NaN  1.295805\n",
       "South                           NaN  0.696001"
      ]
     },
     "execution_count": 367,
     "metadata": {},
     "output_type": "execute_result"
    }
   ],
   "source": [
    "log_odds_combined(small,big)"
   ]
  },
  {
   "cell_type": "markdown",
   "metadata": {},
   "source": [
    "### Commentation"
   ]
  },
  {
   "cell_type": "markdown",
   "metadata": {},
   "source": [
    "We will discuss some interesting results that we found through logistic regression.  \n",
    "We will consider only the variables which are statistically significant. These, include:\n",
    "* supernatural_evil \n",
    "* political_Ideology\n",
    "* hispanic\n",
    "* female \n",
    "* age \n",
    "* Household Income\n",
    "* urban area\n",
    "* south"
   ]
  },
  {
   "cell_type": "markdown",
   "metadata": {},
   "source": [
    "<u>Supernatural Evil</u>  \n",
    "Belief in supernatural evil seems to be having a negative connection with banning semi-auto weapons. Specifically in the model without the controls for political ideology, each one-unit increment in the belief of supernatural evil is associated with a 24% refuse of banning semi-auto weapons. We concluded that, since the Odds ratio that we found in the table above is 0.76. On the other hand, if we add the controls for political ideology, the odds ratio increase, reaching OR=0.81, indicating a total of 16% decline in support for banning semi-auto weapons.  \n",
    "\n",
    "<u>Political Ideology</u>  \n",
    "Concerning political ideology, we found that the odds ratio is OR = 1.58 with a p-value of 0. This shows us a 58% increase in support of banning semi-auto weapons for each one unit increment in this specific variable. \n",
    "\n",
    "<u>Hispanic</u>  \n",
    "Another statistic significant variable was hispanic. Here, we had OR = 1.55 with a p-value of 0.04 < 0.05. The results indicate a 55% increment in the support of banning semi-auto weapons for each one unit \n",
    "increment of the hispanic variable. \n",
    "\n",
    "<u>Female</u>  \n",
    "This characteristic seems to play an important role since the odds ratio are higher than any other, reaching OR = 2.95 with a p-value of 0, smaller than 0.001. This tells us that female gender is positively associated with the banning of semi auto weapons.\n",
    "\n",
    "<u>Age</u>  \n",
    "Age on the other hand is not very important characteristics as each change in the unit of this variable affects the ban of semi-auto weapons by about 2%.\n",
    "\n",
    "<u>Household income</u>  \n",
    "Household income, seems to be having an OR of 1.10 and being statistically significant, having a p-value smaller than 0.05. Each change in the unit of household income is associated with a 10% support for banning semi-auto-weapons\n",
    "\n",
    "<u>Urban Area</u>  \n",
    "Urban Area seems to be having OR = 1.29. This means that for each one-unit increment in this variable, is connected with 29% increment in approval of banning semi auto weapons. \n",
    "\n",
    "<u>South</u>  \n",
    "Last, but fairly interesting is the South varible. South variable has an OR of 0.69 with a p-value of 0.003 < 0.01. This indicates that for each one unit increment in South variable, there is a 31% increment in support for banning semi-auto weapons.  \n",
    "*Note*: South seems to be having the lowest poverty levels in comparison with other regions. [Poverty/State](https://factsmaps.com/population-below-poverty-level-line-rate-united-states/)  \n",
    "*Note2*: South states with exception of Georgia and Virginia seem to be significantlly lower educated than other states in average.[Education/State](https://www.zippia.com/advice/most-highly-educated-states-in-america/)    \n",
    "This two notes might play a role in the decline of support of banning weapons.  \n",
    "But this may be a topic for another project."
   ]
  },
  {
   "cell_type": "markdown",
   "metadata": {},
   "source": [
    "### Regression for banning high capacity ammo clips"
   ]
  },
  {
   "cell_type": "code",
   "execution_count": 368,
   "metadata": {},
   "outputs": [
    {
     "name": "stdout",
     "output_type": "stream",
     "text": [
      "Optimization terminated successfully.\n",
      "         Current function value: 0.623799\n",
      "         Iterations 5\n",
      "                                 Results: Logit\n",
      "================================================================================\n",
      "Model:              Logit                           Pseudo R-squared: 0.016     \n",
      "Dependent Variable: ban_on_high_capacity_ammo_clips AIC:              1981.2245 \n",
      "Date:               2021-12-19 22:23                BIC:              2034.8256 \n",
      "No. Observations:   1572                            Log-Likelihood:   -980.61   \n",
      "Df Model:           9                               LL-Null:          -996.39   \n",
      "Df Residuals:       1562                            LLR p-value:      0.00023765\n",
      "Converged:          1.0000                          Scale:            1.0000    \n",
      "No. Iterations:     5.0000                                                      \n",
      "---------------------------------------------------------------------------------\n",
      "                              Coef.   Std.Err.     z     P>|z|    [0.025   0.975]\n",
      "---------------------------------------------------------------------------------\n",
      "Intercept                     1.2555    0.1952   6.4307  0.0000   0.8729   1.6382\n",
      "supernatural_evil            -0.2481    0.0736  -3.3712  0.0007  -0.3924  -0.1039\n",
      "attendance                    0.0289    0.0235   1.2309  0.2184  -0.0171   0.0749\n",
      "inerrancy                     0.0964    0.1505   0.6401  0.5221  -0.1987   0.3914\n",
      "literalism                    0.0547    0.1815   0.3016  0.7629  -0.3010   0.4105\n",
      "mainline_protestant           0.0331    0.1952   0.1694  0.8655  -0.3496   0.4157\n",
      "black_protestant              0.4492    0.2711   1.6571  0.0975  -0.0821   0.9805\n",
      "conservative_protestant      -0.1303    0.1988  -0.6552  0.5123  -0.5200   0.2594\n",
      "catholic                      0.1705    0.1859   0.9172  0.3591  -0.1938   0.5347\n",
      "other_religion                0.5190    0.2486   2.0873  0.0369   0.0317   1.0064\n",
      "================================================================================\n",
      "\n",
      "Optimization terminated successfully.\n",
      "         Current function value: 0.549000\n",
      "         Iterations 6\n",
      "                                 Results: Logit\n",
      "================================================================================\n",
      "Model:              Logit                           Pseudo R-squared: 0.134     \n",
      "Dependent Variable: ban_on_high_capacity_ammo_clips AIC:              1776.0547 \n",
      "Date:               2021-12-19 22:23                BIC:              1910.0573 \n",
      "No. Observations:   1572                            Log-Likelihood:   -863.03   \n",
      "Df Model:           24                              LL-Null:          -996.39   \n",
      "Df Residuals:       1547                            LLR p-value:      7.8112e-43\n",
      "Converged:          1.0000                          Scale:            1.0000    \n",
      "No. Iterations:     6.0000                                                      \n",
      "---------------------------------------------------------------------------------\n",
      "                              Coef.   Std.Err.     z     P>|z|    [0.025   0.975]\n",
      "---------------------------------------------------------------------------------\n",
      "Intercept                    -2.8994    0.4790  -6.0530  0.0000  -3.8382  -1.9606\n",
      "supernatural_evil            -0.1444    0.0813  -1.7768  0.0756  -0.3037   0.0149\n",
      "attendance                    0.0359    0.0262   1.3688  0.1710  -0.0155   0.0873\n",
      "inerrancy                     0.1942    0.1644   1.1811  0.2375  -0.1281   0.5165\n",
      "literalism                    0.1975    0.1998   0.9886  0.3229  -0.1941   0.5892\n",
      "mainline_protestant          -0.0197    0.2139  -0.0923  0.9264  -0.4389   0.3994\n",
      "black_protestant             -0.0601    0.3655  -0.1645  0.8694  -0.7766   0.6563\n",
      "conservative_protestant       0.0915    0.2153   0.4250  0.6708  -0.3305   0.5136\n",
      "catholic                      0.1835    0.2047   0.8966  0.3699  -0.2177   0.5848\n",
      "other_religion                0.3503    0.2714   1.2909  0.1967  -0.1816   0.8822\n",
      "Political_Ideology            0.4345    0.0471   9.2269  0.0000   0.3422   0.5268\n",
      "Black_or_African_American     0.3251    0.2897   1.1223  0.2617  -0.2426   0.8928\n",
      "Hispanic_or_Latino            0.2973    0.2239   1.3280  0.1842  -0.1415   0.7362\n",
      "other_race                    0.1026    0.1776   0.5774  0.5637  -0.2456   0.4508\n",
      "female                        0.9428    0.1224   7.7052  0.0000   0.7030   1.1826\n",
      "Less_than_High_School         0.2975    0.2860   1.0400  0.2983  -0.2631   0.8580\n",
      "Some_College                  0.1147    0.1785   0.6425  0.5206  -0.2352   0.4645\n",
      "college                       0.0323    0.1911   0.1693  0.8656  -0.3421   0.4068\n",
      "post_grad                     0.5774    0.2118   2.7261  0.0064   0.1623   0.9926\n",
      "AGE                           0.0210    0.0041   5.1553  0.0000   0.0130   0.0290\n",
      "household_income              0.0002    0.0420   0.0053  0.9957  -0.0822   0.0826\n",
      "married                      -0.0501    0.1336  -0.3752  0.7075  -0.3121   0.2118\n",
      "no_kids_at_home               0.3228    0.1348   2.3955  0.0166   0.0587   0.5869\n",
      "urban_area                    0.2843    0.1216   2.3379  0.0194   0.0460   0.5226\n",
      "South                        -0.1136    0.1244  -0.9132  0.3611  -0.3573   0.1302\n",
      "================================================================================\n",
      "\n"
     ]
    }
   ],
   "source": [
    "small = small_big_regression(dependent_var='ban_on_high_capacity_ammo_clips',length='small')\n",
    "big = small_big_regression(dependent_var='ban_on_high_capacity_ammo_clips',length='big')"
   ]
  },
  {
   "cell_type": "markdown",
   "metadata": {},
   "source": [
    "#### Log Odds"
   ]
  },
  {
   "cell_type": "code",
   "execution_count": 369,
   "metadata": {},
   "outputs": [
    {
     "data": {
      "text/html": [
       "<div>\n",
       "<style scoped>\n",
       "    .dataframe tbody tr th:only-of-type {\n",
       "        vertical-align: middle;\n",
       "    }\n",
       "\n",
       "    .dataframe tbody tr th {\n",
       "        vertical-align: top;\n",
       "    }\n",
       "\n",
       "    .dataframe thead th {\n",
       "        text-align: right;\n",
       "    }\n",
       "</style>\n",
       "<table border=\"1\" class=\"dataframe\">\n",
       "  <thead>\n",
       "    <tr style=\"text-align: right;\">\n",
       "      <th></th>\n",
       "      <th>small</th>\n",
       "      <th>big</th>\n",
       "    </tr>\n",
       "  </thead>\n",
       "  <tbody>\n",
       "    <tr>\n",
       "      <th>Intercept</th>\n",
       "      <td>3.509747</td>\n",
       "      <td>0.055058</td>\n",
       "    </tr>\n",
       "    <tr>\n",
       "      <th>supernatural_evil</th>\n",
       "      <td>0.780252</td>\n",
       "      <td>0.865552</td>\n",
       "    </tr>\n",
       "    <tr>\n",
       "      <th>attendance</th>\n",
       "      <td>1.029303</td>\n",
       "      <td>1.036533</td>\n",
       "    </tr>\n",
       "    <tr>\n",
       "      <th>inerrancy</th>\n",
       "      <td>1.101153</td>\n",
       "      <td>1.214350</td>\n",
       "    </tr>\n",
       "    <tr>\n",
       "      <th>literalism</th>\n",
       "      <td>1.056276</td>\n",
       "      <td>1.218391</td>\n",
       "    </tr>\n",
       "    <tr>\n",
       "      <th>mainline_protestant</th>\n",
       "      <td>1.033617</td>\n",
       "      <td>0.980449</td>\n",
       "    </tr>\n",
       "    <tr>\n",
       "      <th>black_protestant</th>\n",
       "      <td>1.567078</td>\n",
       "      <td>0.941655</td>\n",
       "    </tr>\n",
       "    <tr>\n",
       "      <th>conservative_protestant</th>\n",
       "      <td>0.877852</td>\n",
       "      <td>1.095844</td>\n",
       "    </tr>\n",
       "    <tr>\n",
       "      <th>catholic</th>\n",
       "      <td>1.185849</td>\n",
       "      <td>1.201473</td>\n",
       "    </tr>\n",
       "    <tr>\n",
       "      <th>other_religion</th>\n",
       "      <td>1.680362</td>\n",
       "      <td>1.419515</td>\n",
       "    </tr>\n",
       "    <tr>\n",
       "      <th>Political_Ideology</th>\n",
       "      <td>NaN</td>\n",
       "      <td>1.544149</td>\n",
       "    </tr>\n",
       "    <tr>\n",
       "      <th>Black_or_African_American</th>\n",
       "      <td>NaN</td>\n",
       "      <td>1.384160</td>\n",
       "    </tr>\n",
       "    <tr>\n",
       "      <th>Hispanic_or_Latino</th>\n",
       "      <td>NaN</td>\n",
       "      <td>1.346267</td>\n",
       "    </tr>\n",
       "    <tr>\n",
       "      <th>other_race</th>\n",
       "      <td>NaN</td>\n",
       "      <td>1.108016</td>\n",
       "    </tr>\n",
       "    <tr>\n",
       "      <th>female</th>\n",
       "      <td>NaN</td>\n",
       "      <td>2.567192</td>\n",
       "    </tr>\n",
       "    <tr>\n",
       "      <th>Less_than_High_School</th>\n",
       "      <td>NaN</td>\n",
       "      <td>1.346427</td>\n",
       "    </tr>\n",
       "    <tr>\n",
       "      <th>Some_College</th>\n",
       "      <td>NaN</td>\n",
       "      <td>1.121514</td>\n",
       "    </tr>\n",
       "    <tr>\n",
       "      <th>college</th>\n",
       "      <td>NaN</td>\n",
       "      <td>1.032876</td>\n",
       "    </tr>\n",
       "    <tr>\n",
       "      <th>post_grad</th>\n",
       "      <td>NaN</td>\n",
       "      <td>1.781459</td>\n",
       "    </tr>\n",
       "    <tr>\n",
       "      <th>AGE</th>\n",
       "      <td>NaN</td>\n",
       "      <td>1.021249</td>\n",
       "    </tr>\n",
       "    <tr>\n",
       "      <th>household_income</th>\n",
       "      <td>NaN</td>\n",
       "      <td>1.000225</td>\n",
       "    </tr>\n",
       "    <tr>\n",
       "      <th>married</th>\n",
       "      <td>NaN</td>\n",
       "      <td>0.951098</td>\n",
       "    </tr>\n",
       "    <tr>\n",
       "      <th>no_kids_at_home</th>\n",
       "      <td>NaN</td>\n",
       "      <td>1.380988</td>\n",
       "    </tr>\n",
       "    <tr>\n",
       "      <th>urban_area</th>\n",
       "      <td>NaN</td>\n",
       "      <td>1.328803</td>\n",
       "    </tr>\n",
       "    <tr>\n",
       "      <th>South</th>\n",
       "      <td>NaN</td>\n",
       "      <td>0.892640</td>\n",
       "    </tr>\n",
       "  </tbody>\n",
       "</table>\n",
       "</div>"
      ],
      "text/plain": [
       "                              small       big\n",
       "Intercept                  3.509747  0.055058\n",
       "supernatural_evil          0.780252  0.865552\n",
       "attendance                 1.029303  1.036533\n",
       "inerrancy                  1.101153  1.214350\n",
       "literalism                 1.056276  1.218391\n",
       "mainline_protestant        1.033617  0.980449\n",
       "black_protestant           1.567078  0.941655\n",
       "conservative_protestant    0.877852  1.095844\n",
       "catholic                   1.185849  1.201473\n",
       "other_religion             1.680362  1.419515\n",
       "Political_Ideology              NaN  1.544149\n",
       "Black_or_African_American       NaN  1.384160\n",
       "Hispanic_or_Latino              NaN  1.346267\n",
       "other_race                      NaN  1.108016\n",
       "female                          NaN  2.567192\n",
       "Less_than_High_School           NaN  1.346427\n",
       "Some_College                    NaN  1.121514\n",
       "college                         NaN  1.032876\n",
       "post_grad                       NaN  1.781459\n",
       "AGE                             NaN  1.021249\n",
       "household_income                NaN  1.000225\n",
       "married                         NaN  0.951098\n",
       "no_kids_at_home                 NaN  1.380988\n",
       "urban_area                      NaN  1.328803\n",
       "South                           NaN  0.892640"
      ]
     },
     "execution_count": 369,
     "metadata": {},
     "output_type": "execute_result"
    }
   ],
   "source": [
    "log_odds_combined(small,big)"
   ]
  },
  {
   "cell_type": "markdown",
   "metadata": {},
   "source": [
    "#### Commentation"
   ]
  },
  {
   "cell_type": "markdown",
   "metadata": {},
   "source": [
    "We will discuss some interesting results that we found through logistic regression.  \n",
    "We will consider only the variables which are statistically significant. These, include:\n",
    "* supernatural_evil \n",
    "* other_religion\n",
    "* political_ideology\n",
    "* female \n",
    "* post graduates \n",
    "* age \n",
    "* no kids at home"
   ]
  },
  {
   "cell_type": "markdown",
   "metadata": {},
   "source": [
    "<u>Supernatural Evil</u>  \n",
    "Belief in supernatural evil seems to be having a negative connection with banning high capacity ammo clips weapons. Specifically in the model without the controls for political ideology, each one-unit increment in the belief of supernatural evil is associated with a 22% refuse of banning semi-auto weapons. We concluded that, since the Odds ratio that we found in the table above is 0.78.\n",
    "\n",
    "<u>Political Ideology</u>  \n",
    "Concerning political ideology, we found that the odds ratio is OR = 1.54 with a p-value of 0 which is smaller than 0.01. This shows us a 54% increase in support of banning high capacity ammo clips weapons for each one unit increment in this specific variable.\n",
    "\n",
    "<u>Female</u>  \n",
    "This characteristic seems to play an important role since the odds ratio are higher than any other, reaching OR = 2.56 with a p-value of 0, smaller than 0.001. This tells us that female gender is very positively associated with the banning of high capacity ammo clips weapons.\n",
    "\n",
    "<u>Post graduates</u>  \n",
    "Another statistic significant variable was the one concerning post graduats. Here, we had OR = 1.78 with a p-value of 0.0064 < 0.05. The results indicate a 78% increment in the support of banning high capacity ammo clips weapons for each one unit \n",
    "increment of the hispanic variable. \n",
    "\n",
    "<u>Age</u>  \n",
    "Just like before, age is not very important characteristics as each change in the unit of this variable affects the ban of high capacity ammo clips weapons by roughly 2%.\n",
    "\n",
    "<u>No kids at home</u>  \n",
    "No kids at home variable seems to be having OR = 1.38. This means that for each one-unit increment in this variable, is connected with 38% increment in approval of banning high capacity ammo clips weapons. This actually makes sense, as we could assume that people with kids under 18 at home are overprotective and are in favor of having guns.  "
   ]
  },
  {
   "cell_type": "markdown",
   "metadata": {},
   "source": [
    "### Regression for banning civilian handguns"
   ]
  },
  {
   "cell_type": "code",
   "execution_count": 370,
   "metadata": {},
   "outputs": [
    {
     "name": "stdout",
     "output_type": "stream",
     "text": [
      "Optimization terminated successfully.\n",
      "         Current function value: 0.580842\n",
      "         Iterations 5\n",
      "                             Results: Logit\n",
      "=========================================================================\n",
      "Model:              Logit                    Pseudo R-squared: 0.042     \n",
      "Dependent Variable: ban_on_civilian_handguns AIC:              1846.1686 \n",
      "Date:               2021-12-19 22:23         BIC:              1899.7696 \n",
      "No. Observations:   1572                     Log-Likelihood:   -913.08   \n",
      "Df Model:           9                        LL-Null:          -952.88   \n",
      "Df Residuals:       1562                     LLR p-value:      1.9490e-13\n",
      "Converged:          1.0000                   Scale:            1.0000    \n",
      "No. Iterations:     5.0000                                               \n",
      "-------------------------------------------------------------------------\n",
      "                           Coef.  Std.Err.    z    P>|z|   [0.025  0.975]\n",
      "-------------------------------------------------------------------------\n",
      "Intercept                 -0.0939   0.1840 -0.5101 0.6100 -0.4546  0.2668\n",
      "supernatural_evil         -0.3079   0.0735 -4.1901 0.0000 -0.4519 -0.1639\n",
      "attendance                 0.0530   0.0253  2.0947 0.0362  0.0034  0.1026\n",
      "inerrancy                 -0.1689   0.1601 -1.0553 0.2913 -0.4826  0.1448\n",
      "literalism                 0.1633   0.1933  0.8446 0.3983 -0.2156  0.5421\n",
      "mainline_protestant       -0.4073   0.2075 -1.9623 0.0497 -0.8141 -0.0005\n",
      "black_protestant           0.8578   0.2582  3.3222 0.0009  0.3517  1.3638\n",
      "conservative_protestant   -0.3988   0.2116 -1.8845 0.0595 -0.8136  0.0160\n",
      "catholic                   0.1342   0.1871  0.7175 0.4731 -0.2324  0.5009\n",
      "other_religion             0.4159   0.2237  1.8590 0.0630 -0.0226  0.8543\n",
      "=========================================================================\n",
      "\n",
      "Optimization terminated successfully.\n",
      "         Current function value: 0.536849\n",
      "         Iterations 6\n",
      "                             Results: Logit\n",
      "=========================================================================\n",
      "Model:              Logit                    Pseudo R-squared: 0.114     \n",
      "Dependent Variable: ban_on_civilian_handguns AIC:              1737.8518 \n",
      "Date:               2021-12-19 22:23         BIC:              1871.8544 \n",
      "No. Observations:   1572                     Log-Likelihood:   -843.93   \n",
      "Df Model:           24                       LL-Null:          -952.88   \n",
      "Df Residuals:       1547                     LLR p-value:      3.4378e-33\n",
      "Converged:          1.0000                   Scale:            1.0000    \n",
      "No. Iterations:     6.0000                                               \n",
      "-------------------------------------------------------------------------\n",
      "                           Coef.  Std.Err.    z    P>|z|   [0.025  0.975]\n",
      "-------------------------------------------------------------------------\n",
      "Intercept                 -2.1676   0.4684 -4.6280 0.0000 -3.0855 -1.2496\n",
      "supernatural_evil         -0.2573   0.0798 -3.2253 0.0013 -0.4136 -0.1009\n",
      "attendance                 0.0591   0.0272  2.1745 0.0297  0.0058  0.1123\n",
      "inerrancy                 -0.0854   0.1686 -0.5068 0.6123 -0.4158  0.2450\n",
      "literalism                 0.2295   0.2070  1.1087 0.2676 -0.1762  0.6352\n",
      "mainline_protestant       -0.3342   0.2199 -1.5199 0.1285 -0.7652  0.0968\n",
      "black_protestant           0.4951   0.3351  1.4777 0.1395 -0.1616  1.1518\n",
      "conservative_protestant   -0.2182   0.2232 -0.9772 0.3285 -0.6557  0.2194\n",
      "catholic                   0.0450   0.2006  0.2242 0.8226 -0.3482  0.4381\n",
      "other_religion             0.2636   0.2384  1.1058 0.2688 -0.2036  0.7308\n",
      "Political_Ideology         0.2853   0.0451  6.3259 0.0000  0.1969  0.3737\n",
      "Black_or_African_American  0.4880   0.2632  1.8538 0.0638 -0.0279  1.0039\n",
      "Hispanic_or_Latino         1.2776   0.2166  5.8999 0.0000  0.8532  1.7021\n",
      "other_race                 0.7855   0.1689  4.6500 0.0000  0.4544  1.1166\n",
      "female                     0.2988   0.1266  2.3603 0.0183  0.0507  0.5468\n",
      "Less_than_High_School      0.5127   0.2728  1.8795 0.0602 -0.0219  1.0473\n",
      "Some_College              -0.1170   0.1842 -0.6351 0.5253 -0.4781  0.2441\n",
      "college                    0.0971   0.1939  0.5007 0.6166 -0.2829  0.4770\n",
      "post_grad                  0.4458   0.2019  2.2086 0.0272  0.0502  0.8414\n",
      "AGE                        0.0107   0.0040  2.6828 0.0073  0.0029  0.0185\n",
      "household_income          -0.0800   0.0427 -1.8728 0.0611 -0.1637  0.0037\n",
      "married                   -0.0595   0.1337 -0.4448 0.6565 -0.3216  0.2026\n",
      "no_kids_at_home           -0.1468   0.1382 -1.0629 0.2878 -0.4176  0.1239\n",
      "urban_area                 0.2649   0.1242  2.1339 0.0328  0.0216  0.5083\n",
      "South                     -0.2450   0.1301 -1.8823 0.0598 -0.5001  0.0101\n",
      "=========================================================================\n",
      "\n"
     ]
    }
   ],
   "source": [
    "small = small_big_regression(dependent_var='ban_on_civilian_handguns',length='small')\n",
    "big = small_big_regression(dependent_var='ban_on_civilian_handguns',length='big')"
   ]
  },
  {
   "cell_type": "markdown",
   "metadata": {},
   "source": [
    "#### Log Odds"
   ]
  },
  {
   "cell_type": "code",
   "execution_count": 371,
   "metadata": {},
   "outputs": [
    {
     "data": {
      "text/html": [
       "<div>\n",
       "<style scoped>\n",
       "    .dataframe tbody tr th:only-of-type {\n",
       "        vertical-align: middle;\n",
       "    }\n",
       "\n",
       "    .dataframe tbody tr th {\n",
       "        vertical-align: top;\n",
       "    }\n",
       "\n",
       "    .dataframe thead th {\n",
       "        text-align: right;\n",
       "    }\n",
       "</style>\n",
       "<table border=\"1\" class=\"dataframe\">\n",
       "  <thead>\n",
       "    <tr style=\"text-align: right;\">\n",
       "      <th></th>\n",
       "      <th>small</th>\n",
       "      <th>big</th>\n",
       "    </tr>\n",
       "  </thead>\n",
       "  <tbody>\n",
       "    <tr>\n",
       "      <th>Intercept</th>\n",
       "      <td>0.910395</td>\n",
       "      <td>0.114456</td>\n",
       "    </tr>\n",
       "    <tr>\n",
       "      <th>supernatural_evil</th>\n",
       "      <td>0.735013</td>\n",
       "      <td>0.773148</td>\n",
       "    </tr>\n",
       "    <tr>\n",
       "      <th>attendance</th>\n",
       "      <td>1.054426</td>\n",
       "      <td>1.060850</td>\n",
       "    </tr>\n",
       "    <tr>\n",
       "      <th>inerrancy</th>\n",
       "      <td>0.844580</td>\n",
       "      <td>0.918122</td>\n",
       "    </tr>\n",
       "    <tr>\n",
       "      <th>literalism</th>\n",
       "      <td>1.177333</td>\n",
       "      <td>1.257981</td>\n",
       "    </tr>\n",
       "    <tr>\n",
       "      <th>mainline_protestant</th>\n",
       "      <td>0.665461</td>\n",
       "      <td>0.715910</td>\n",
       "    </tr>\n",
       "    <tr>\n",
       "      <th>black_protestant</th>\n",
       "      <td>2.357895</td>\n",
       "      <td>1.640682</td>\n",
       "    </tr>\n",
       "    <tr>\n",
       "      <th>conservative_protestant</th>\n",
       "      <td>0.671124</td>\n",
       "      <td>0.803999</td>\n",
       "    </tr>\n",
       "    <tr>\n",
       "      <th>catholic</th>\n",
       "      <td>1.143654</td>\n",
       "      <td>1.045993</td>\n",
       "    </tr>\n",
       "    <tr>\n",
       "      <th>other_religion</th>\n",
       "      <td>1.515691</td>\n",
       "      <td>1.301622</td>\n",
       "    </tr>\n",
       "    <tr>\n",
       "      <th>Political_Ideology</th>\n",
       "      <td>NaN</td>\n",
       "      <td>1.330121</td>\n",
       "    </tr>\n",
       "    <tr>\n",
       "      <th>Black_or_African_American</th>\n",
       "      <td>NaN</td>\n",
       "      <td>1.629059</td>\n",
       "    </tr>\n",
       "    <tr>\n",
       "      <th>Hispanic_or_Latino</th>\n",
       "      <td>NaN</td>\n",
       "      <td>3.588164</td>\n",
       "    </tr>\n",
       "    <tr>\n",
       "      <th>other_race</th>\n",
       "      <td>NaN</td>\n",
       "      <td>2.193472</td>\n",
       "    </tr>\n",
       "    <tr>\n",
       "      <th>female</th>\n",
       "      <td>NaN</td>\n",
       "      <td>1.348185</td>\n",
       "    </tr>\n",
       "    <tr>\n",
       "      <th>Less_than_High_School</th>\n",
       "      <td>NaN</td>\n",
       "      <td>1.669736</td>\n",
       "    </tr>\n",
       "    <tr>\n",
       "      <th>Some_College</th>\n",
       "      <td>NaN</td>\n",
       "      <td>0.889575</td>\n",
       "    </tr>\n",
       "    <tr>\n",
       "      <th>college</th>\n",
       "      <td>NaN</td>\n",
       "      <td>1.101938</td>\n",
       "    </tr>\n",
       "    <tr>\n",
       "      <th>post_grad</th>\n",
       "      <td>NaN</td>\n",
       "      <td>1.561760</td>\n",
       "    </tr>\n",
       "    <tr>\n",
       "      <th>AGE</th>\n",
       "      <td>NaN</td>\n",
       "      <td>1.010743</td>\n",
       "    </tr>\n",
       "    <tr>\n",
       "      <th>household_income</th>\n",
       "      <td>NaN</td>\n",
       "      <td>0.923140</td>\n",
       "    </tr>\n",
       "    <tr>\n",
       "      <th>married</th>\n",
       "      <td>NaN</td>\n",
       "      <td>0.942245</td>\n",
       "    </tr>\n",
       "    <tr>\n",
       "      <th>no_kids_at_home</th>\n",
       "      <td>NaN</td>\n",
       "      <td>0.863427</td>\n",
       "    </tr>\n",
       "    <tr>\n",
       "      <th>urban_area</th>\n",
       "      <td>NaN</td>\n",
       "      <td>1.303362</td>\n",
       "    </tr>\n",
       "    <tr>\n",
       "      <th>South</th>\n",
       "      <td>NaN</td>\n",
       "      <td>0.782725</td>\n",
       "    </tr>\n",
       "  </tbody>\n",
       "</table>\n",
       "</div>"
      ],
      "text/plain": [
       "                              small       big\n",
       "Intercept                  0.910395  0.114456\n",
       "supernatural_evil          0.735013  0.773148\n",
       "attendance                 1.054426  1.060850\n",
       "inerrancy                  0.844580  0.918122\n",
       "literalism                 1.177333  1.257981\n",
       "mainline_protestant        0.665461  0.715910\n",
       "black_protestant           2.357895  1.640682\n",
       "conservative_protestant    0.671124  0.803999\n",
       "catholic                   1.143654  1.045993\n",
       "other_religion             1.515691  1.301622\n",
       "Political_Ideology              NaN  1.330121\n",
       "Black_or_African_American       NaN  1.629059\n",
       "Hispanic_or_Latino              NaN  3.588164\n",
       "other_race                      NaN  2.193472\n",
       "female                          NaN  1.348185\n",
       "Less_than_High_School           NaN  1.669736\n",
       "Some_College                    NaN  0.889575\n",
       "college                         NaN  1.101938\n",
       "post_grad                       NaN  1.561760\n",
       "AGE                             NaN  1.010743\n",
       "household_income                NaN  0.923140\n",
       "married                         NaN  0.942245\n",
       "no_kids_at_home                 NaN  0.863427\n",
       "urban_area                      NaN  1.303362\n",
       "South                           NaN  0.782725"
      ]
     },
     "execution_count": 371,
     "metadata": {},
     "output_type": "execute_result"
    }
   ],
   "source": [
    "log_odds_combined(small,big)"
   ]
  },
  {
   "cell_type": "markdown",
   "metadata": {},
   "source": [
    "#### Commentation"
   ]
  },
  {
   "cell_type": "markdown",
   "metadata": {},
   "source": [
    "We will discuss some interesting results that we found through logistic regression.  \n",
    "We will consider only the variables which are statistically significant according to the amount of * we find in the paper. If there are no * we will consider 0.05 as the border. Statistically significant variables include:\n",
    "* supernatural_evil \n",
    "* attendance\n",
    "* political ideology\n",
    "* mainline protestant\n",
    "* black protestant \n",
    "* Hispanic \n",
    "* Other race \n",
    "* post graduates \n",
    "* age\n",
    "* urban area "
   ]
  },
  {
   "cell_type": "markdown",
   "metadata": {},
   "source": [
    "<u>Supernatural Evil</u>  \n",
    "Belief in supernatural evil seems to be having a negative connection with banning civilian hand guns. Specifically in the model without the controls for political ideology, each one-unit increment in the belief of supernatural evil is associated with a 26.5% refuse of banning civilian hand guns. We concluded that, since the Odds ratio that we found in the table above is 0.735.\n",
    "\n",
    "<u>Political Ideology</u>  \n",
    "Concerning political ideology, we found that the odds ratio is OR = 1.58 with a p-value of 0. This shows us a 58% increase in support of banning civilian hand guns for each one unit increment in this specific variable. \n",
    "\n",
    "<u>Mainline protestant</u>  \n",
    "Another statistic significant variable was Mainline protestant. Here, we had OR = 0.66 in the small regression with a p-value of 0.049 < 0.05. The results indicate a 34% decrease in the support of banning civilian hand guns for each one unit increment of the mainline protestant variable. \n",
    "\n",
    "<u>Black Protestant</u>  \n",
    "Black protestant, is significant only in the small regression. There, it seems to be having an OR of 2.35 and being statistically significant, having a p-value of 0.0009 which is smaller than 0.01. Each change in the unit of black protestant is associated with a 135% support for banning civilian hand guns\n",
    "\n",
    "<u>Hispanic</u>  \n",
    "This characteristic seems to play an important role since the odds ratio are higher than any other, reaching OR = 3.58 with a p-value of 0, smaller than 0.001. This tells us that hispanic is positively associated with the banning of civilian hand guns.\n",
    "\n",
    "<u>Other race</u>  \n",
    "Other race, seems to be having an OR of 2.19 and being statistically significant, having a p-value of 0, smaller than 0.05. Each change in the unit of other race is associated with a 119% support for banning civilian hand guns\n",
    "\n",
    "<u>Post graduates</u>  \n",
    "Another statistic significant variable was post graduates. Here, we had OR = 1.56 with a p-value of 0.02 < 0.05. The results indicate a 56% increase in the support of banning civilian hand guns for each one unit increment of the post_graduate. \n",
    "\n",
    "<u>Age</u>  \n",
    "Age on the other hand is not very important characteristics as each change in the unit of this variable affects the ban of civilian hand guns by about 1%.\n",
    "\n",
    "<u>Urban Area</u>  \n",
    "Urban Area seems to be having OR = 1.30 with a p-value of  0.03 which is lower than 0.05. This means that for each one-unit increment in this variable, is connected with 30% increment in approval of banning civilian hand guns. "
   ]
  },
  {
   "cell_type": "markdown",
   "metadata": {},
   "source": [
    "### Regression for supporting Concealed Carry laws"
   ]
  },
  {
   "cell_type": "code",
   "execution_count": 372,
   "metadata": {},
   "outputs": [
    {
     "name": "stdout",
     "output_type": "stream",
     "text": [
      "Optimization terminated successfully.\n",
      "         Current function value: 0.660253\n",
      "         Iterations 5\n",
      "                                 Results: Logit\n",
      "=================================================================================\n",
      "Model:              Logit                            Pseudo R-squared: 0.038     \n",
      "Dependent Variable: support_for_Concealed_Carry_Laws AIC:              2095.8369 \n",
      "Date:               2021-12-19 22:23                 BIC:              2149.4379 \n",
      "No. Observations:   1572                             Log-Likelihood:   -1037.9   \n",
      "Df Model:           9                                LL-Null:          -1078.8   \n",
      "Df Residuals:       1562                             LLR p-value:      6.9871e-14\n",
      "Converged:          1.0000                           Scale:            1.0000    \n",
      "No. Iterations:     5.0000                                                       \n",
      "-----------------------------------------------------------------------------------\n",
      "                           Coef.    Std.Err.      z      P>|z|     [0.025    0.975]\n",
      "-----------------------------------------------------------------------------------\n",
      "Intercept                 -0.5775     0.1771   -3.2612   0.0011   -0.9246   -0.2304\n",
      "supernatural_evil          0.3513     0.0688    5.1071   0.0000    0.2165    0.4861\n",
      "attendance                -0.0148     0.0228   -0.6517   0.5146   -0.0594    0.0298\n",
      "inerrancy                 -0.2070     0.1443   -1.4347   0.1514   -0.4897    0.0758\n",
      "literalism                 0.0047     0.1782    0.0264   0.9789   -0.3446    0.3540\n",
      "mainline_protestant        0.0565     0.1851    0.3052   0.7602   -0.3063    0.4193\n",
      "black_protestant          -0.7522     0.2494   -3.0165   0.0026   -1.2409   -0.2635\n",
      "conservative_protestant    0.1757     0.1910    0.9199   0.3576   -0.1986    0.5500\n",
      "catholic                  -0.3781     0.1744   -2.1680   0.0302   -0.7199   -0.0363\n",
      "other_religion            -0.5763     0.2188   -2.6333   0.0085   -1.0052   -0.1473\n",
      "=================================================================================\n",
      "\n",
      "Optimization terminated successfully.\n",
      "         Current function value: 0.601851\n",
      "         Iterations 5\n",
      "                                 Results: Logit\n",
      "=================================================================================\n",
      "Model:              Logit                            Pseudo R-squared: 0.123     \n",
      "Dependent Variable: support_for_Concealed_Carry_Laws AIC:              1942.2195 \n",
      "Date:               2021-12-19 22:23                 BIC:              2076.2221 \n",
      "No. Observations:   1572                             Log-Likelihood:   -946.11   \n",
      "Df Model:           24                               LL-Null:          -1078.8   \n",
      "Df Residuals:       1547                             LLR p-value:      1.4030e-42\n",
      "Converged:          1.0000                           Scale:            1.0000    \n",
      "No. Iterations:     5.0000                                                       \n",
      "----------------------------------------------------------------------------------\n",
      "                               Coef.   Std.Err.     z     P>|z|    [0.025   0.975]\n",
      "----------------------------------------------------------------------------------\n",
      "Intercept                      2.1685    0.4412   4.9151  0.0000   1.3038   3.0333\n",
      "supernatural_evil              0.2705    0.0755   3.5851  0.0003   0.1226   0.4184\n",
      "attendance                    -0.0211    0.0249  -0.8481  0.3964  -0.0700   0.0277\n",
      "inerrancy                     -0.3492    0.1552  -2.2502  0.0244  -0.6534  -0.0450\n",
      "literalism                    -0.1720    0.1926  -0.8930  0.3719  -0.5494   0.2055\n",
      "mainline_protestant            0.0405    0.2001   0.2025  0.8395  -0.3516   0.4326\n",
      "black_protestant              -0.5458    0.3267  -1.6706  0.0948  -1.1861   0.0945\n",
      "conservative_protestant        0.0029    0.2038   0.0141  0.9887  -0.3965   0.4023\n",
      "catholic                      -0.3712    0.1885  -1.9692  0.0489  -0.7407  -0.0017\n",
      "other_religion                -0.4122    0.2354  -1.7514  0.0799  -0.8735   0.0491\n",
      "Political_Ideology            -0.3461    0.0427  -8.1079  0.0000  -0.4298  -0.2625\n",
      "Black_or_African_American     -0.1551    0.2525  -0.6143  0.5390  -0.6499   0.3397\n",
      "Hispanic_or_Latino            -0.5253    0.2102  -2.4994  0.0124  -0.9373  -0.1134\n",
      "other_race                    -0.3810    0.1661  -2.2932  0.0218  -0.7066  -0.0554\n",
      "female                        -0.7167    0.1178  -6.0827  0.0000  -0.9476  -0.4858\n",
      "Less_than_High_School         -0.5244    0.2622  -1.9999  0.0455  -1.0383  -0.0105\n",
      "Some_College                   0.2113    0.1700   1.2427  0.2140  -0.1219   0.5445\n",
      "college                        0.0843    0.1809   0.4658  0.6413  -0.2703   0.4388\n",
      "post_grad                     -0.4010    0.1919  -2.0893  0.0367  -0.7772  -0.0248\n",
      "AGE                           -0.0087    0.0037  -2.3227  0.0202  -0.0160  -0.0014\n",
      "household_income              -0.0204    0.0397  -0.5127  0.6081  -0.0982   0.0575\n",
      "married                       -0.0643    0.1245  -0.5167  0.6053  -0.3083   0.1797\n",
      "no_kids_at_home                0.1655    0.1290   1.2837  0.1992  -0.0872   0.4183\n",
      "urban_area                    -0.2768    0.1148  -2.4110  0.0159  -0.5019  -0.0518\n",
      "South                          0.3297    0.1193   2.7639  0.0057   0.0959   0.5634\n",
      "=================================================================================\n",
      "\n"
     ]
    }
   ],
   "source": [
    "small = small_big_regression(dependent_var='support_for_Concealed_Carry_Laws',length='small')\n",
    "big = small_big_regression(dependent_var='support_for_Concealed_Carry_Laws',length='big')"
   ]
  },
  {
   "cell_type": "markdown",
   "metadata": {},
   "source": [
    "#### Log Odds"
   ]
  },
  {
   "cell_type": "code",
   "execution_count": 373,
   "metadata": {},
   "outputs": [
    {
     "data": {
      "text/html": [
       "<div>\n",
       "<style scoped>\n",
       "    .dataframe tbody tr th:only-of-type {\n",
       "        vertical-align: middle;\n",
       "    }\n",
       "\n",
       "    .dataframe tbody tr th {\n",
       "        vertical-align: top;\n",
       "    }\n",
       "\n",
       "    .dataframe thead th {\n",
       "        text-align: right;\n",
       "    }\n",
       "</style>\n",
       "<table border=\"1\" class=\"dataframe\">\n",
       "  <thead>\n",
       "    <tr style=\"text-align: right;\">\n",
       "      <th></th>\n",
       "      <th>small</th>\n",
       "      <th>big</th>\n",
       "    </tr>\n",
       "  </thead>\n",
       "  <tbody>\n",
       "    <tr>\n",
       "      <th>Intercept</th>\n",
       "      <td>0.561304</td>\n",
       "      <td>8.745446</td>\n",
       "    </tr>\n",
       "    <tr>\n",
       "      <th>supernatural_evil</th>\n",
       "      <td>1.420893</td>\n",
       "      <td>1.310623</td>\n",
       "    </tr>\n",
       "    <tr>\n",
       "      <th>attendance</th>\n",
       "      <td>0.985274</td>\n",
       "      <td>0.979079</td>\n",
       "    </tr>\n",
       "    <tr>\n",
       "      <th>inerrancy</th>\n",
       "      <td>0.813041</td>\n",
       "      <td>0.705230</td>\n",
       "    </tr>\n",
       "    <tr>\n",
       "      <th>literalism</th>\n",
       "      <td>1.004718</td>\n",
       "      <td>0.842006</td>\n",
       "    </tr>\n",
       "    <tr>\n",
       "      <th>mainline_protestant</th>\n",
       "      <td>1.058131</td>\n",
       "      <td>1.041341</td>\n",
       "    </tr>\n",
       "    <tr>\n",
       "      <th>black_protestant</th>\n",
       "      <td>0.471341</td>\n",
       "      <td>0.579379</td>\n",
       "    </tr>\n",
       "    <tr>\n",
       "      <th>conservative_protestant</th>\n",
       "      <td>1.192057</td>\n",
       "      <td>1.002879</td>\n",
       "    </tr>\n",
       "    <tr>\n",
       "      <th>catholic</th>\n",
       "      <td>0.685171</td>\n",
       "      <td>0.689903</td>\n",
       "    </tr>\n",
       "    <tr>\n",
       "      <th>other_religion</th>\n",
       "      <td>0.561995</td>\n",
       "      <td>0.662187</td>\n",
       "    </tr>\n",
       "    <tr>\n",
       "      <th>Political_Ideology</th>\n",
       "      <td>NaN</td>\n",
       "      <td>0.707409</td>\n",
       "    </tr>\n",
       "    <tr>\n",
       "      <th>Black_or_African_American</th>\n",
       "      <td>NaN</td>\n",
       "      <td>0.856335</td>\n",
       "    </tr>\n",
       "    <tr>\n",
       "      <th>Hispanic_or_Latino</th>\n",
       "      <td>NaN</td>\n",
       "      <td>0.591360</td>\n",
       "    </tr>\n",
       "    <tr>\n",
       "      <th>other_race</th>\n",
       "      <td>NaN</td>\n",
       "      <td>0.683178</td>\n",
       "    </tr>\n",
       "    <tr>\n",
       "      <th>female</th>\n",
       "      <td>NaN</td>\n",
       "      <td>0.488368</td>\n",
       "    </tr>\n",
       "    <tr>\n",
       "      <th>Less_than_High_School</th>\n",
       "      <td>NaN</td>\n",
       "      <td>0.591920</td>\n",
       "    </tr>\n",
       "    <tr>\n",
       "      <th>Some_College</th>\n",
       "      <td>NaN</td>\n",
       "      <td>1.235261</td>\n",
       "    </tr>\n",
       "    <tr>\n",
       "      <th>college</th>\n",
       "      <td>NaN</td>\n",
       "      <td>1.087916</td>\n",
       "    </tr>\n",
       "    <tr>\n",
       "      <th>post_grad</th>\n",
       "      <td>NaN</td>\n",
       "      <td>0.669654</td>\n",
       "    </tr>\n",
       "    <tr>\n",
       "      <th>AGE</th>\n",
       "      <td>NaN</td>\n",
       "      <td>0.991346</td>\n",
       "    </tr>\n",
       "    <tr>\n",
       "      <th>household_income</th>\n",
       "      <td>NaN</td>\n",
       "      <td>0.979846</td>\n",
       "    </tr>\n",
       "    <tr>\n",
       "      <th>married</th>\n",
       "      <td>NaN</td>\n",
       "      <td>0.937698</td>\n",
       "    </tr>\n",
       "    <tr>\n",
       "      <th>no_kids_at_home</th>\n",
       "      <td>NaN</td>\n",
       "      <td>1.180029</td>\n",
       "    </tr>\n",
       "    <tr>\n",
       "      <th>urban_area</th>\n",
       "      <td>NaN</td>\n",
       "      <td>0.758174</td>\n",
       "    </tr>\n",
       "    <tr>\n",
       "      <th>South</th>\n",
       "      <td>NaN</td>\n",
       "      <td>1.390484</td>\n",
       "    </tr>\n",
       "  </tbody>\n",
       "</table>\n",
       "</div>"
      ],
      "text/plain": [
       "                              small       big\n",
       "Intercept                  0.561304  8.745446\n",
       "supernatural_evil          1.420893  1.310623\n",
       "attendance                 0.985274  0.979079\n",
       "inerrancy                  0.813041  0.705230\n",
       "literalism                 1.004718  0.842006\n",
       "mainline_protestant        1.058131  1.041341\n",
       "black_protestant           0.471341  0.579379\n",
       "conservative_protestant    1.192057  1.002879\n",
       "catholic                   0.685171  0.689903\n",
       "other_religion             0.561995  0.662187\n",
       "Political_Ideology              NaN  0.707409\n",
       "Black_or_African_American       NaN  0.856335\n",
       "Hispanic_or_Latino              NaN  0.591360\n",
       "other_race                      NaN  0.683178\n",
       "female                          NaN  0.488368\n",
       "Less_than_High_School           NaN  0.591920\n",
       "Some_College                    NaN  1.235261\n",
       "college                         NaN  1.087916\n",
       "post_grad                       NaN  0.669654\n",
       "AGE                             NaN  0.991346\n",
       "household_income                NaN  0.979846\n",
       "married                         NaN  0.937698\n",
       "no_kids_at_home                 NaN  1.180029\n",
       "urban_area                      NaN  0.758174\n",
       "South                           NaN  1.390484"
      ]
     },
     "execution_count": 373,
     "metadata": {},
     "output_type": "execute_result"
    }
   ],
   "source": [
    "log_odds_combined(small,big)"
   ]
  },
  {
   "cell_type": "markdown",
   "metadata": {},
   "source": [
    "#### Commentation"
   ]
  },
  {
   "cell_type": "markdown",
   "metadata": {},
   "source": [
    "We will discuss some interesting results that we found through logistic regression.  \n",
    "We will consider only the variables which are statistically significant according to the amount of * we find in the paper. If there are no * we will consider 0.05 as the border. Statistically significant variables include:\n",
    "* supernatural_evil \n",
    "* black protestant\n",
    "* catholic\n",
    "* other religion \n",
    "* Political ideology\n",
    "* Hispanic\n",
    "* female\n",
    "* Less than high school\n",
    "* Post Graduate  \n",
    "* Age\n",
    "* Urban Area\n",
    "* South\n"
   ]
  },
  {
   "cell_type": "markdown",
   "metadata": {},
   "source": [
    "<u>Supernatural Evil</u>  \n",
    "Belief in supernatural evil seems to be having a positive connection with supporting concealed carry laws. Specifically in the model without the controls for political ideology, each one-unit increment in the belief of supernatural evil is associated with a 42% increase in supporting concealed carry laws. We concluded that, since the Odds ratio that we found in the table above is 1.42. On the other hand, if we add the controls for political ideology, the odds ratio decrease, reaching OR=1.31, indicating a total of 31% increase in support of concealed carry laws.  \n",
    "\n",
    "<u>Black protestant</u>  \n",
    "Another statistic significant variable was black protestant. Here, we had OR = 0.47 in the small regression with a p-value of 0.026 < 0.05. The results indicate a 53% decrease in supporting concealed carry laws for each one unit increment of the black protestant variable. \n",
    "\n",
    "<u>Catholic</u>  \n",
    "Another statistic significant variable was catholic. Here, we had OR = 0.68 in the small regression with a p-value of 0.03 < 0.05. The results indicate a 32% decrease in supporting concealed carry laws for each one unit increment of the catholic variable. Even when we add the controls for political ideology, the odds ratio stay almost the same. \n",
    "\n",
    "<u>Other religion</u>  \n",
    "Another statistic significant variable for the small regression only, was 'other religion'. Here, we had OR = 0.56 with a p-value of 0.085 < 0.05. The results indicate a 44% decrease in the support of supporting concealed carry laws for each one unit increment of the 'other religion' variable. \n",
    "\n",
    "<u>Political Ideology</u>  \n",
    "Concerning political ideology, we found that the odds ratio is OR = 0.70 with a p-value of 0. This shows us a 30% decrease in supporting concealed carry laws for each one unit increment in this specific variable. \n",
    "\n",
    "<u>Hispanic</u>  \n",
    "This characteristic has OR = 0.59 with a p-value of 0.0124, smaller than 0.05. This tells us that hispanic is negatively associated with the supporting concealed carry laws.\n",
    "\n",
    "<u>Female</u>  \n",
    "Female variable has OR = 0.49 with a p-value of 0, smaller than 0.001. This tells us that female gender is negatively associated with supporting concealed carry laws. Specifically each one unit increment in the female variable is associated with a 51% decrease in supporting concealed carry laws. \n",
    "\n",
    "<u>Less than high school</u>  \n",
    "Less than high school, seems to be having an OR of 0.59 and being statistically significant, having a p-value of 0.045, smaller than 0.05. Each change in the unit of Less than high school variable, is associated with a 41% refuse of supporting concealed carry laws\n",
    "\n",
    "<u>Post graduates</u>  \n",
    "Another statistic significant variable was post graduates. Here, we had OR = 0.66 with a p-value of 0.036 < 0.05. The results indicate a 34% decrease in the support of supporting concealed carry laws for each one unit increment of the post_graduate. \n",
    "\n",
    "<u>Age</u>  \n",
    "Age on the other hand is not very important characteristics as each change in the unit of this variable affects the supporting concealed carry laws by about 1%.\n",
    "\n",
    "<u>Urban Area</u>  \n",
    "Urban Area seems to be having OR = 0.75 with a p-value of  0.01 which is lower than 0.05. This means that for each one-unit increment in this variable, is connected with 30% decrease in supporting concealed carry laws. "
   ]
  },
  {
   "cell_type": "markdown",
   "metadata": {},
   "source": [
    "### Regression for more armed security at schools"
   ]
  },
  {
   "cell_type": "code",
   "execution_count": 374,
   "metadata": {},
   "outputs": [
    {
     "name": "stdout",
     "output_type": "stream",
     "text": [
      "Optimization terminated successfully.\n",
      "         Current function value: 0.622117\n",
      "         Iterations 5\n",
      "                                Results: Logit\n",
      "===============================================================================\n",
      "Model:              Logit                          Pseudo R-squared: 0.063     \n",
      "Dependent Variable: more_Armed_Security_at_Schools AIC:              1975.9369 \n",
      "Date:               2021-12-19 22:23               BIC:              2029.5380 \n",
      "No. Observations:   1572                           Log-Likelihood:   -977.97   \n",
      "Df Model:           9                              LL-Null:          -1043.7   \n",
      "Df Residuals:       1562                           LLR p-value:      5.7514e-24\n",
      "Converged:          1.0000                         Scale:            1.0000    \n",
      "No. Iterations:     5.0000                                                     \n",
      "--------------------------------------------------------------------------------\n",
      "                             Coef.   Std.Err.     z     P>|z|    [0.025   0.975]\n",
      "--------------------------------------------------------------------------------\n",
      "Intercept                   -0.9284    0.1802  -5.1509  0.0000  -1.2817  -0.5752\n",
      "supernatural_evil            0.4486    0.0699   6.4197  0.0000   0.3116   0.5855\n",
      "attendance                  -0.0653    0.0243  -2.6908  0.0071  -0.1129  -0.0177\n",
      "inerrancy                    0.2716    0.1470   1.8475  0.0647  -0.0165   0.5597\n",
      "literalism                   0.8270    0.1916   4.3157  0.0000   0.4514   1.2026\n",
      "mainline_protestant          0.0667    0.1898   0.3514  0.7253  -0.3053   0.4387\n",
      "black_protestant             0.0487    0.2680   0.1816  0.8559  -0.4765   0.5738\n",
      "conservative_protestant      0.0430    0.1967   0.2183  0.8272  -0.3427   0.4286\n",
      "catholic                     0.0176    0.1788   0.0985  0.9215  -0.3329   0.3682\n",
      "other_religion               0.0193    0.2233   0.0863  0.9313  -0.4184   0.4569\n",
      "===============================================================================\n",
      "\n",
      "Optimization terminated successfully.\n",
      "         Current function value: 0.598581\n",
      "         Iterations 5\n",
      "                                Results: Logit\n",
      "===============================================================================\n",
      "Model:              Logit                          Pseudo R-squared: 0.098     \n",
      "Dependent Variable: more_Armed_Security_at_Schools AIC:              1931.9391 \n",
      "Date:               2021-12-19 22:23               BIC:              2065.9417 \n",
      "No. Observations:   1572                           Log-Likelihood:   -940.97   \n",
      "Df Model:           24                             LL-Null:          -1043.7   \n",
      "Df Residuals:       1547                           LLR p-value:      8.8782e-31\n",
      "Converged:          1.0000                         Scale:            1.0000    \n",
      "No. Iterations:     5.0000                                                     \n",
      "--------------------------------------------------------------------------------\n",
      "                             Coef.   Std.Err.     z     P>|z|    [0.025   0.975]\n",
      "--------------------------------------------------------------------------------\n",
      "Intercept                    1.6027    0.4412   3.6325  0.0003   0.7380   2.4675\n",
      "supernatural_evil            0.3176    0.0739   4.3001  0.0000   0.1729   0.4624\n",
      "attendance                  -0.0599    0.0255  -2.3537  0.0186  -0.1098  -0.0100\n",
      "inerrancy                    0.1906    0.1522   1.2521  0.2105  -0.1077   0.4888\n",
      "literalism                   0.6290    0.2006   3.1362  0.0017   0.2359   1.0222\n",
      "mainline_protestant          0.1463    0.1992   0.7347  0.4625  -0.2440   0.5366\n",
      "black_protestant            -0.0836    0.3429  -0.2438  0.8074  -0.7557   0.5885\n",
      "conservative_protestant     -0.0633    0.2034  -0.3112  0.7557  -0.4620   0.3354\n",
      "catholic                     0.0705    0.1878   0.3755  0.7073  -0.2975   0.4385\n",
      "other_religion               0.2562    0.2355   1.0876  0.2768  -0.2055   0.7178\n",
      "Political_Ideology          -0.1911    0.0420  -4.5548  0.0000  -0.2733  -0.1089\n",
      "Black_or_African_American    0.3117    0.2702   1.1537  0.2486  -0.2179   0.8413\n",
      "Hispanic_or_Latino          -0.0330    0.2148  -0.1535  0.8780  -0.4539   0.3880\n",
      "other_race                  -0.0992    0.1677  -0.5916  0.5541  -0.4279   0.2295\n",
      "female                      -0.0498    0.1167  -0.4266  0.6697  -0.2784   0.1789\n",
      "Less_than_High_School       -0.3344    0.2772  -1.2063  0.2277  -0.8777   0.2089\n",
      "Some_College                -0.2695    0.1781  -1.5137  0.1301  -0.6185   0.0795\n",
      "college                     -0.2727    0.1873  -1.4555  0.1455  -0.6398   0.0945\n",
      "post_grad                   -0.6876    0.1951  -3.5246  0.0004  -1.0700  -0.3052\n",
      "AGE                         -0.0097    0.0038  -2.5946  0.0095  -0.0171  -0.0024\n",
      "household_income            -0.1105    0.0401  -2.7530  0.0059  -0.1891  -0.0318\n",
      "married                     -0.2744    0.1252  -2.1919  0.0284  -0.5198  -0.0290\n",
      "no_kids_at_home              0.1251    0.1296   0.9653  0.3344  -0.1289   0.3792\n",
      "urban_area                  -0.2104    0.1155  -1.8214  0.0685  -0.4368   0.0160\n",
      "South                        0.3285    0.1198   2.7422  0.0061   0.0937   0.5633\n",
      "===============================================================================\n",
      "\n"
     ]
    }
   ],
   "source": [
    "small = small_big_regression(dependent_var='more_Armed_Security_at_Schools',length='small')\n",
    "big = small_big_regression(dependent_var='more_Armed_Security_at_Schools',length='big')"
   ]
  },
  {
   "cell_type": "markdown",
   "metadata": {},
   "source": [
    "#### Log Odds"
   ]
  },
  {
   "cell_type": "code",
   "execution_count": 375,
   "metadata": {},
   "outputs": [
    {
     "data": {
      "text/html": [
       "<div>\n",
       "<style scoped>\n",
       "    .dataframe tbody tr th:only-of-type {\n",
       "        vertical-align: middle;\n",
       "    }\n",
       "\n",
       "    .dataframe tbody tr th {\n",
       "        vertical-align: top;\n",
       "    }\n",
       "\n",
       "    .dataframe thead th {\n",
       "        text-align: right;\n",
       "    }\n",
       "</style>\n",
       "<table border=\"1\" class=\"dataframe\">\n",
       "  <thead>\n",
       "    <tr style=\"text-align: right;\">\n",
       "      <th></th>\n",
       "      <th>small</th>\n",
       "      <th>big</th>\n",
       "    </tr>\n",
       "  </thead>\n",
       "  <tbody>\n",
       "    <tr>\n",
       "      <th>Intercept</th>\n",
       "      <td>0.395171</td>\n",
       "      <td>4.966445</td>\n",
       "    </tr>\n",
       "    <tr>\n",
       "      <th>supernatural_evil</th>\n",
       "      <td>1.566076</td>\n",
       "      <td>1.373888</td>\n",
       "    </tr>\n",
       "    <tr>\n",
       "      <th>attendance</th>\n",
       "      <td>0.936791</td>\n",
       "      <td>0.941841</td>\n",
       "    </tr>\n",
       "    <tr>\n",
       "      <th>inerrancy</th>\n",
       "      <td>1.312029</td>\n",
       "      <td>1.209916</td>\n",
       "    </tr>\n",
       "    <tr>\n",
       "      <th>literalism</th>\n",
       "      <td>2.286519</td>\n",
       "      <td>1.875804</td>\n",
       "    </tr>\n",
       "    <tr>\n",
       "      <th>mainline_protestant</th>\n",
       "      <td>1.068974</td>\n",
       "      <td>1.157559</td>\n",
       "    </tr>\n",
       "    <tr>\n",
       "      <th>black_protestant</th>\n",
       "      <td>1.049855</td>\n",
       "      <td>0.919796</td>\n",
       "    </tr>\n",
       "    <tr>\n",
       "      <th>conservative_protestant</th>\n",
       "      <td>1.043888</td>\n",
       "      <td>0.938662</td>\n",
       "    </tr>\n",
       "    <tr>\n",
       "      <th>catholic</th>\n",
       "      <td>1.017778</td>\n",
       "      <td>1.073064</td>\n",
       "    </tr>\n",
       "    <tr>\n",
       "      <th>other_religion</th>\n",
       "      <td>1.019446</td>\n",
       "      <td>1.291970</td>\n",
       "    </tr>\n",
       "    <tr>\n",
       "      <th>Political_Ideology</th>\n",
       "      <td>NaN</td>\n",
       "      <td>0.826050</td>\n",
       "    </tr>\n",
       "    <tr>\n",
       "      <th>Black_or_African_American</th>\n",
       "      <td>NaN</td>\n",
       "      <td>1.365793</td>\n",
       "    </tr>\n",
       "    <tr>\n",
       "      <th>Hispanic_or_Latino</th>\n",
       "      <td>NaN</td>\n",
       "      <td>0.967579</td>\n",
       "    </tr>\n",
       "    <tr>\n",
       "      <th>other_race</th>\n",
       "      <td>NaN</td>\n",
       "      <td>0.905542</td>\n",
       "    </tr>\n",
       "    <tr>\n",
       "      <th>female</th>\n",
       "      <td>NaN</td>\n",
       "      <td>0.951451</td>\n",
       "    </tr>\n",
       "    <tr>\n",
       "      <th>Less_than_High_School</th>\n",
       "      <td>NaN</td>\n",
       "      <td>0.715788</td>\n",
       "    </tr>\n",
       "    <tr>\n",
       "      <th>Some_College</th>\n",
       "      <td>NaN</td>\n",
       "      <td>0.763736</td>\n",
       "    </tr>\n",
       "    <tr>\n",
       "      <th>college</th>\n",
       "      <td>NaN</td>\n",
       "      <td>0.761355</td>\n",
       "    </tr>\n",
       "    <tr>\n",
       "      <th>post_grad</th>\n",
       "      <td>NaN</td>\n",
       "      <td>0.502775</td>\n",
       "    </tr>\n",
       "    <tr>\n",
       "      <th>AGE</th>\n",
       "      <td>NaN</td>\n",
       "      <td>0.990313</td>\n",
       "    </tr>\n",
       "    <tr>\n",
       "      <th>household_income</th>\n",
       "      <td>NaN</td>\n",
       "      <td>0.895430</td>\n",
       "    </tr>\n",
       "    <tr>\n",
       "      <th>married</th>\n",
       "      <td>NaN</td>\n",
       "      <td>0.759996</td>\n",
       "    </tr>\n",
       "    <tr>\n",
       "      <th>no_kids_at_home</th>\n",
       "      <td>NaN</td>\n",
       "      <td>1.133299</td>\n",
       "    </tr>\n",
       "    <tr>\n",
       "      <th>urban_area</th>\n",
       "      <td>NaN</td>\n",
       "      <td>0.810262</td>\n",
       "    </tr>\n",
       "    <tr>\n",
       "      <th>South</th>\n",
       "      <td>NaN</td>\n",
       "      <td>1.388914</td>\n",
       "    </tr>\n",
       "  </tbody>\n",
       "</table>\n",
       "</div>"
      ],
      "text/plain": [
       "                              small       big\n",
       "Intercept                  0.395171  4.966445\n",
       "supernatural_evil          1.566076  1.373888\n",
       "attendance                 0.936791  0.941841\n",
       "inerrancy                  1.312029  1.209916\n",
       "literalism                 2.286519  1.875804\n",
       "mainline_protestant        1.068974  1.157559\n",
       "black_protestant           1.049855  0.919796\n",
       "conservative_protestant    1.043888  0.938662\n",
       "catholic                   1.017778  1.073064\n",
       "other_religion             1.019446  1.291970\n",
       "Political_Ideology              NaN  0.826050\n",
       "Black_or_African_American       NaN  1.365793\n",
       "Hispanic_or_Latino              NaN  0.967579\n",
       "other_race                      NaN  0.905542\n",
       "female                          NaN  0.951451\n",
       "Less_than_High_School           NaN  0.715788\n",
       "Some_College                    NaN  0.763736\n",
       "college                         NaN  0.761355\n",
       "post_grad                       NaN  0.502775\n",
       "AGE                             NaN  0.990313\n",
       "household_income                NaN  0.895430\n",
       "married                         NaN  0.759996\n",
       "no_kids_at_home                 NaN  1.133299\n",
       "urban_area                      NaN  0.810262\n",
       "South                           NaN  1.388914"
      ]
     },
     "execution_count": 375,
     "metadata": {},
     "output_type": "execute_result"
    }
   ],
   "source": [
    "log_odds_combined(small,big)"
   ]
  },
  {
   "cell_type": "markdown",
   "metadata": {},
   "source": [
    "#### Commentation"
   ]
  },
  {
   "cell_type": "markdown",
   "metadata": {},
   "source": [
    "We will discuss some interesting results that we found through logistic regression.  \n",
    "We will consider only the variables which are statistically significant according to the amount of * we find in the paper. If there are no * we will consider 0.05 as the border. Statistically significant variables include:\n",
    "* supernatural_evil\n",
    "* attendance \n",
    "* literalism \n",
    "* political ideology\n",
    "* post graduates \n",
    "* age \n",
    "* household income\n",
    "* urban area\n",
    "* south\n",
    "\n",
    "We notice here that there are a lot of statistically significant variables. Having seen the pattern that we follow on the commentation, we will now discuss only the variables that play an important role (e.g. having a relativly high odds ratio) to the dependent variable \n"
   ]
  },
  {
   "cell_type": "markdown",
   "metadata": {},
   "source": [
    "<u>Supernatural Evil</u>  \n",
    "Belief in supernatural evil seems to be having a positive connection with supporting more armed security at schools. Specifically in the model without the controls for political ideology, each one-unit increment in the belief of supernatural evil is associated with a 56% increase in supporting more armed security at schools. We concluded that, since the Odds ratio that we found in the table above is 1.56. On the other hand, if we add the controls for political ideology, the odds ratio decrease, reaching OR=1.37, indicating a total of 37% increase in support of more armed security at schools.  \n",
    "\n",
    "<u>Attendance</u>  \n",
    "Another statistic significant variable was attendance. Here, we had OR = 0.93 in the small regression with a p-value of 0.0071 < 0.05. The results indicate a 7% decrease in supporting more armed security at schools for each one unit increment of the attendance variable. \n",
    "\n",
    "<u>literliasm</u>  \n",
    "Another statistic significant variable was literliasm. Here, we had OR = 0.68 in the small regression with a p-value of 0 < 0.001. The results indicate a 32% decrease in supporting more armed security at schools for each one unit increment of the catholic variable. Even when we add the controls for political ideology, the odds ratio fall to 1.87 with a p-value equal to 0.0017 which is lower than 0.05. \n",
    "\n",
    "<u>Political Ideology</u>  \n",
    "Concerning political ideology, we found that the odds ratio is OR = 0.82 with a p-value of 0. This shows us a 18% decrease in supporting more armed security at schools for each one unit increment in this specific variable. \n",
    "\n",
    "<u>Post graduates</u>  \n",
    "Another statistic significant variable was post graduates. Here, we had OR = 0.50 with a p-value of 0.0004 < 0.01. The results indicate a 50% decrease in the support of supporting more armed security at schools for each one unit increment of the post_graduate. \n",
    "\n",
    "<u>Age</u>  \n",
    "Age on the other hand is not very important characteristic as each change in the unit of this variable affects the support of armed security at schools by about 1%.\n",
    "\n",
    "<u>Household income</u>  \n",
    "Household income, seems to be having an OR of 0.89 and being statistically significant, having a p-value equal to 0.0059, smaller than 0.05. Each change in the unit of household income is associated with a 11% refuse to support of more armed security at schools.\n",
    "\n",
    "<u>Urban Area</u>  \n",
    "Urban Area seems to be having OR = 0.81 with a p-value of  0.068 which is lower than 0.05. This means that for each one-unit increment in this variable, is connected with 32% decrease in supporting more armed security at schools. \n",
    "\n",
    "<u>South</u>  \n",
    "Last, but fairly interesting is the South varible. South variable has an OR of 1.38 with a p-value of 0.0061 < 0.05. This indicates that for each one unit increment in South variable, there is a 31% increment in support more armed security at schools."
   ]
  },
  {
   "cell_type": "markdown",
   "metadata": {},
   "source": [
    "### Regression for more teachers faculty having guns"
   ]
  },
  {
   "cell_type": "code",
   "execution_count": 376,
   "metadata": {},
   "outputs": [
    {
     "name": "stdout",
     "output_type": "stream",
     "text": [
      "Optimization terminated successfully.\n",
      "         Current function value: 0.589160\n",
      "         Iterations 5\n",
      "                                  Results: Logit\n",
      "==================================================================================\n",
      "Model:              Logit                             Pseudo R-squared: 0.030     \n",
      "Dependent Variable: more_Teachers_Faculty_having_Guns AIC:              1872.3191 \n",
      "Date:               2021-12-19 22:23                  BIC:              1925.9202 \n",
      "No. Observations:   1572                              Log-Likelihood:   -926.16   \n",
      "Df Model:           9                                 LL-Null:          -954.62   \n",
      "Df Residuals:       1562                              LLR p-value:      5.2312e-09\n",
      "Converged:          1.0000                            Scale:            1.0000    \n",
      "No. Iterations:     5.0000                                                        \n",
      "------------------------------------------------------------------------------------\n",
      "                            Coef.    Std.Err.      z      P>|z|     [0.025    0.975]\n",
      "------------------------------------------------------------------------------------\n",
      "Intercept                  -1.8715     0.2144   -8.7296   0.0000   -2.2916   -1.4513\n",
      "supernatural_evil           0.3865     0.0782    4.9433   0.0000    0.2333    0.5398\n",
      "attendance                 -0.0511     0.0241   -2.1247   0.0336   -0.0982   -0.0040\n",
      "inerrancy                  -0.0884     0.1559   -0.5671   0.5706   -0.3940    0.2171\n",
      "literalism                 -0.0225     0.1859   -0.1208   0.9038   -0.3868    0.3419\n",
      "mainline_protestant         0.0136     0.2045    0.0664   0.9470   -0.3872    0.4144\n",
      "black_protestant           -0.5102     0.2855   -1.7872   0.0739   -1.0698    0.0493\n",
      "conservative_protestant     0.2920     0.2053    1.4223   0.1550   -0.1104    0.6944\n",
      "catholic                   -0.1799     0.1960   -0.9178   0.3587   -0.5640    0.2043\n",
      "other_religion             -0.0904     0.2481   -0.3645   0.7155   -0.5768    0.3959\n",
      "==================================================================================\n",
      "\n",
      "Optimization terminated successfully.\n",
      "         Current function value: 0.539693\n",
      "         Iterations 6\n",
      "                                  Results: Logit\n",
      "==================================================================================\n",
      "Model:              Logit                             Pseudo R-squared: 0.111     \n",
      "Dependent Variable: more_Teachers_Faculty_having_Guns AIC:              1746.7946 \n",
      "Date:               2021-12-19 22:23                  BIC:              1880.7972 \n",
      "No. Observations:   1572                              Log-Likelihood:   -848.40   \n",
      "Df Model:           24                                LL-Null:          -954.62   \n",
      "Df Residuals:       1547                              LLR p-value:      4.0006e-32\n",
      "Converged:          1.0000                            Scale:            1.0000    \n",
      "No. Iterations:     6.0000                                                        \n",
      "-----------------------------------------------------------------------------------\n",
      "                                Coef.   Std.Err.     z     P>|z|    [0.025   0.975]\n",
      "-----------------------------------------------------------------------------------\n",
      "Intercept                       1.4261    0.4791   2.9765  0.0029   0.4870   2.3652\n",
      "supernatural_evil               0.3178    0.0841   3.7788  0.0002   0.1530   0.4827\n",
      "attendance                     -0.0661    0.0263  -2.5180  0.0118  -0.1176  -0.0147\n",
      "inerrancy                      -0.1535    0.1661  -0.9243  0.3553  -0.4791   0.1720\n",
      "literalism                     -0.1437    0.1997  -0.7193  0.4719  -0.5351   0.2478\n",
      "mainline_protestant            -0.0402    0.2188  -0.1838  0.8542  -0.4691   0.3887\n",
      "black_protestant                0.1698    0.3788   0.4483  0.6539  -0.5726   0.9123\n",
      "conservative_protestant         0.1109    0.2173   0.5104  0.6098  -0.3149   0.5367\n",
      "catholic                       -0.2565    0.2103  -1.2197  0.2226  -0.6686   0.1557\n",
      "other_religion                  0.0357    0.2643   0.1349  0.8927  -0.4824   0.5537\n",
      "Political_Ideology             -0.3432    0.0466  -7.3673  0.0000  -0.4345  -0.2519\n",
      "Black_or_African_American      -0.5482    0.3039  -1.8039  0.0712  -1.1438   0.0474\n",
      "Hispanic_or_Latino             -0.3470    0.2321  -1.4955  0.1348  -0.8018   0.1078\n",
      "other_race                     -0.1481    0.1827  -0.8105  0.4176  -0.5063   0.2100\n",
      "female                         -0.7367    0.1234  -5.9713  0.0000  -0.9785  -0.4949\n",
      "Less_than_High_School          -0.3320    0.2849  -1.1651  0.2440  -0.8904   0.2265\n",
      "Some_College                   -0.1804    0.1776  -1.0156  0.3098  -0.5285   0.1677\n",
      "college                        -0.1779    0.1916  -0.9282  0.3533  -0.5535   0.1977\n",
      "post_grad                      -0.5656    0.2126  -2.6598  0.0078  -0.9824  -0.1488\n",
      "AGE                            -0.0092    0.0041  -2.2426  0.0249  -0.0172  -0.0012\n",
      "household_income               -0.0182    0.0426  -0.4269  0.6695  -0.1018   0.0654\n",
      "married                        -0.1745    0.1349  -1.2941  0.1956  -0.4389   0.0898\n",
      "no_kids_at_home                -0.1351    0.1380  -0.9790  0.3276  -0.4055   0.1354\n",
      "urban_area                     -0.4086    0.1227  -3.3289  0.0009  -0.6492  -0.1680\n",
      "South                          -0.1043    0.1266  -0.8241  0.4099  -0.3524   0.1438\n",
      "==================================================================================\n",
      "\n"
     ]
    }
   ],
   "source": [
    "small = small_big_regression(dependent_var='more_Teachers_Faculty_having_Guns',length='small')\n",
    "big = small_big_regression(dependent_var='more_Teachers_Faculty_having_Guns',length='big')"
   ]
  },
  {
   "cell_type": "markdown",
   "metadata": {},
   "source": [
    "#### Log Odds"
   ]
  },
  {
   "cell_type": "code",
   "execution_count": 377,
   "metadata": {},
   "outputs": [
    {
     "data": {
      "text/html": [
       "<div>\n",
       "<style scoped>\n",
       "    .dataframe tbody tr th:only-of-type {\n",
       "        vertical-align: middle;\n",
       "    }\n",
       "\n",
       "    .dataframe tbody tr th {\n",
       "        vertical-align: top;\n",
       "    }\n",
       "\n",
       "    .dataframe thead th {\n",
       "        text-align: right;\n",
       "    }\n",
       "</style>\n",
       "<table border=\"1\" class=\"dataframe\">\n",
       "  <thead>\n",
       "    <tr style=\"text-align: right;\">\n",
       "      <th></th>\n",
       "      <th>small</th>\n",
       "      <th>big</th>\n",
       "    </tr>\n",
       "  </thead>\n",
       "  <tbody>\n",
       "    <tr>\n",
       "      <th>Intercept</th>\n",
       "      <td>0.153898</td>\n",
       "      <td>4.162596</td>\n",
       "    </tr>\n",
       "    <tr>\n",
       "      <th>supernatural_evil</th>\n",
       "      <td>1.471882</td>\n",
       "      <td>1.374144</td>\n",
       "    </tr>\n",
       "    <tr>\n",
       "      <th>attendance</th>\n",
       "      <td>0.950181</td>\n",
       "      <td>0.936019</td>\n",
       "    </tr>\n",
       "    <tr>\n",
       "      <th>inerrancy</th>\n",
       "      <td>0.915383</td>\n",
       "      <td>0.857674</td>\n",
       "    </tr>\n",
       "    <tr>\n",
       "      <th>literalism</th>\n",
       "      <td>0.977794</td>\n",
       "      <td>0.866167</td>\n",
       "    </tr>\n",
       "    <tr>\n",
       "      <th>mainline_protestant</th>\n",
       "      <td>1.013675</td>\n",
       "      <td>0.960584</td>\n",
       "    </tr>\n",
       "    <tr>\n",
       "      <th>black_protestant</th>\n",
       "      <td>0.600355</td>\n",
       "      <td>1.185104</td>\n",
       "    </tr>\n",
       "    <tr>\n",
       "      <th>conservative_protestant</th>\n",
       "      <td>1.339123</td>\n",
       "      <td>1.117285</td>\n",
       "    </tr>\n",
       "    <tr>\n",
       "      <th>catholic</th>\n",
       "      <td>0.835386</td>\n",
       "      <td>0.773768</td>\n",
       "    </tr>\n",
       "    <tr>\n",
       "      <th>other_religion</th>\n",
       "      <td>0.913528</td>\n",
       "      <td>1.036296</td>\n",
       "    </tr>\n",
       "    <tr>\n",
       "      <th>Political_Ideology</th>\n",
       "      <td>NaN</td>\n",
       "      <td>0.709502</td>\n",
       "    </tr>\n",
       "    <tr>\n",
       "      <th>Black_or_African_American</th>\n",
       "      <td>NaN</td>\n",
       "      <td>0.578000</td>\n",
       "    </tr>\n",
       "    <tr>\n",
       "      <th>Hispanic_or_Latino</th>\n",
       "      <td>NaN</td>\n",
       "      <td>0.706788</td>\n",
       "    </tr>\n",
       "    <tr>\n",
       "      <th>other_race</th>\n",
       "      <td>NaN</td>\n",
       "      <td>0.862326</td>\n",
       "    </tr>\n",
       "    <tr>\n",
       "      <th>female</th>\n",
       "      <td>NaN</td>\n",
       "      <td>0.478688</td>\n",
       "    </tr>\n",
       "    <tr>\n",
       "      <th>Less_than_High_School</th>\n",
       "      <td>NaN</td>\n",
       "      <td>0.717503</td>\n",
       "    </tr>\n",
       "    <tr>\n",
       "      <th>Some_College</th>\n",
       "      <td>NaN</td>\n",
       "      <td>0.834942</td>\n",
       "    </tr>\n",
       "    <tr>\n",
       "      <th>college</th>\n",
       "      <td>NaN</td>\n",
       "      <td>0.837044</td>\n",
       "    </tr>\n",
       "    <tr>\n",
       "      <th>post_grad</th>\n",
       "      <td>NaN</td>\n",
       "      <td>0.568028</td>\n",
       "    </tr>\n",
       "    <tr>\n",
       "      <th>AGE</th>\n",
       "      <td>NaN</td>\n",
       "      <td>0.990839</td>\n",
       "    </tr>\n",
       "    <tr>\n",
       "      <th>household_income</th>\n",
       "      <td>NaN</td>\n",
       "      <td>0.981964</td>\n",
       "    </tr>\n",
       "    <tr>\n",
       "      <th>married</th>\n",
       "      <td>NaN</td>\n",
       "      <td>0.839844</td>\n",
       "    </tr>\n",
       "    <tr>\n",
       "      <th>no_kids_at_home</th>\n",
       "      <td>NaN</td>\n",
       "      <td>0.873643</td>\n",
       "    </tr>\n",
       "    <tr>\n",
       "      <th>urban_area</th>\n",
       "      <td>NaN</td>\n",
       "      <td>0.664572</td>\n",
       "    </tr>\n",
       "    <tr>\n",
       "      <th>South</th>\n",
       "      <td>NaN</td>\n",
       "      <td>0.900937</td>\n",
       "    </tr>\n",
       "  </tbody>\n",
       "</table>\n",
       "</div>"
      ],
      "text/plain": [
       "                              small       big\n",
       "Intercept                  0.153898  4.162596\n",
       "supernatural_evil          1.471882  1.374144\n",
       "attendance                 0.950181  0.936019\n",
       "inerrancy                  0.915383  0.857674\n",
       "literalism                 0.977794  0.866167\n",
       "mainline_protestant        1.013675  0.960584\n",
       "black_protestant           0.600355  1.185104\n",
       "conservative_protestant    1.339123  1.117285\n",
       "catholic                   0.835386  0.773768\n",
       "other_religion             0.913528  1.036296\n",
       "Political_Ideology              NaN  0.709502\n",
       "Black_or_African_American       NaN  0.578000\n",
       "Hispanic_or_Latino              NaN  0.706788\n",
       "other_race                      NaN  0.862326\n",
       "female                          NaN  0.478688\n",
       "Less_than_High_School           NaN  0.717503\n",
       "Some_College                    NaN  0.834942\n",
       "college                         NaN  0.837044\n",
       "post_grad                       NaN  0.568028\n",
       "AGE                             NaN  0.990839\n",
       "household_income                NaN  0.981964\n",
       "married                         NaN  0.839844\n",
       "no_kids_at_home                 NaN  0.873643\n",
       "urban_area                      NaN  0.664572\n",
       "South                           NaN  0.900937"
      ]
     },
     "execution_count": 377,
     "metadata": {},
     "output_type": "execute_result"
    }
   ],
   "source": [
    "log_odds_combined(small,big)"
   ]
  },
  {
   "cell_type": "markdown",
   "metadata": {},
   "source": [
    "#### Commentation"
   ]
  },
  {
   "cell_type": "markdown",
   "metadata": {},
   "source": [
    "We will discuss some interesting results that we found through logistic regression.  \n",
    "We will consider only the variables which are statistically significant according to the amount of * we find in the paper. If there are no * we will consider 0.05 as the border. Statistically significant variables include:\n",
    "* supernatural_evil\n",
    "* attendance \n",
    "* political ideology\n",
    "* female\n",
    "* post graduate \n",
    "* urban area\n",
    "\n",
    "We notice here that there are a lot of statistically significant variables. Having seen the pattern that we follow on the commentation, we will now discuss only the variables that play an important role (e.g. having a relativly high odds ratio) to the dependent variable \n"
   ]
  },
  {
   "cell_type": "markdown",
   "metadata": {},
   "source": [
    "<u>Supernatural Evil</u>  \n",
    "Belief in supernatural evil seems to be having a positive connection with supporting more teachers-faculty having guns. Specifically in the model without the controls for political ideology, each one-unit increment in the belief of supernatural evil is associated with a 47% increase in supporting more teachers-faculty having guns. We concluded that, since the Odds ratio that we found in the table above is 1.47. On the other hand, if we add the controls for political ideology, the odds ratio decrease, reaching OR=1.37, indicating a total of 37% increase in support of more teachers-faculty having guns.  \n",
    "\n",
    "<u>Attendance</u>  \n",
    "Another statistic significant variable was attendance. Here, we had OR = 0.95 in the small regression with a p-value of 0.036 < 0.05. The results indicate a 5% decrease in supporting more teachers-faculty having guns for each one unit increment of the attendance variable. This percentage only increases by 2 percent if we  add controls for political ideology since the new odds ratio reaches OR = 0.93.\n",
    "\n",
    "<u>Political Ideology</u>  \n",
    "Concerning political ideology, we found that the odds ratio is OR = 0.70 with a p-value of 0. This shows us a 30% decrease in supporting more teachers-faculty having guns for each one unit increment in this specific variable. \n",
    "\n",
    "<u>Female</u>  \n",
    "This characteristic seems to play an important role since reaching OR of 0.47 with a p-value of 0, smaller than 0.001. This tells us that female gender is negatively associated with the support of more teachers/faculty having guns. \n",
    "\n",
    "<u>Post graduates</u>  \n",
    "Another statistic significant variable was post graduates. Here, we had OR = 0.56 with a p-value of 0.0078 < 0.01. The results indicate a 55% decrease in the support of supporting more teachers-faculty having guns for each one unit increment of the post_graduate. \n",
    "\n",
    "<u>Urban Area</u>  \n",
    "Urban Area seems to be having OR = 0.66 with a p-value of  0.0009 which is lower than 0.01. This means that each one-unit increment in this variable, is connected with 34% decrease in supporting more teachers-faculty having guns. "
   ]
  },
  {
   "cell_type": "markdown",
   "metadata": {},
   "source": [
    "### Regression for more gun safety programs"
   ]
  },
  {
   "cell_type": "code",
   "execution_count": 378,
   "metadata": {},
   "outputs": [
    {
     "name": "stdout",
     "output_type": "stream",
     "text": [
      "Optimization terminated successfully.\n",
      "         Current function value: 0.257952\n",
      "         Iterations 7\n",
      "                            Results: Logit\n",
      "=======================================================================\n",
      "Model:              Logit                    Pseudo R-squared: 0.008   \n",
      "Dependent Variable: more_Gun_Safety_Programs AIC:              831.0017\n",
      "Date:               2021-12-19 22:23         BIC:              884.6028\n",
      "No. Observations:   1572                     Log-Likelihood:   -405.50 \n",
      "Df Model:           9                        LL-Null:          -408.89 \n",
      "Df Residuals:       1562                     LLR p-value:      0.66062 \n",
      "Converged:          1.0000                   Scale:            1.0000  \n",
      "No. Iterations:     7.0000                                             \n",
      "-----------------------------------------------------------------------\n",
      "                          Coef.  Std.Err.    z    P>|z|   [0.025 0.975]\n",
      "-----------------------------------------------------------------------\n",
      "Intercept                 2.9369   0.3708  7.9207 0.0000  2.2102 3.6637\n",
      "supernatural_evil        -0.0628   0.1356 -0.4630 0.6434 -0.3286 0.2030\n",
      "attendance               -0.0328   0.0423 -0.7749 0.4384 -0.1157 0.0501\n",
      "inerrancy                 0.1419   0.2782  0.5100 0.6100 -0.4033 0.6871\n",
      "literalism               -0.0618   0.3192 -0.1937 0.8464 -0.6875 0.5638\n",
      "mainline_protestant      -0.0980   0.3650 -0.2684 0.7884 -0.8134 0.6174\n",
      "black_protestant         -0.2178   0.4597 -0.4738 0.6357 -1.1189 0.6832\n",
      "conservative_protestant  -0.2604   0.3649 -0.7136 0.4755 -0.9755 0.4548\n",
      "catholic                  0.0384   0.3522  0.1089 0.9133 -0.6520 0.7287\n",
      "other_religion            0.1969   0.4619  0.4262 0.6700 -0.7084 1.1021\n",
      "=======================================================================\n",
      "\n",
      "Optimization terminated successfully.\n",
      "         Current function value: 0.239097\n",
      "         Iterations 7\n",
      "                             Results: Logit\n",
      "=========================================================================\n",
      "Model:              Logit                    Pseudo R-squared: 0.081     \n",
      "Dependent Variable: more_Gun_Safety_Programs AIC:              801.7222  \n",
      "Date:               2021-12-19 22:23         BIC:              935.7248  \n",
      "No. Observations:   1572                     Log-Likelihood:   -375.86   \n",
      "Df Model:           24                       LL-Null:          -408.89   \n",
      "Df Residuals:       1547                     LLR p-value:      8.5165e-06\n",
      "Converged:          1.0000                   Scale:            1.0000    \n",
      "No. Iterations:     7.0000                                               \n",
      "-------------------------------------------------------------------------\n",
      "                           Coef.  Std.Err.    z    P>|z|   [0.025  0.975]\n",
      "-------------------------------------------------------------------------\n",
      "Intercept                  0.0293   0.7912  0.0371 0.9704 -1.5214  1.5800\n",
      "supernatural_evil          0.0636   0.1425  0.4466 0.6552 -0.2156  0.3429\n",
      "attendance                -0.0427   0.0446 -0.9571 0.3385 -0.1301  0.0447\n",
      "inerrancy                  0.1342   0.2871  0.4673 0.6403 -0.4285  0.6969\n",
      "literalism                 0.0819   0.3343  0.2451 0.8064 -0.5733  0.7372\n",
      "mainline_protestant       -0.0067   0.3849 -0.0173 0.9862 -0.7610  0.7477\n",
      "black_protestant          -1.0024   0.6250 -1.6039 0.1087 -2.2272  0.2225\n",
      "conservative_protestant    0.0854   0.3781  0.2258 0.8213 -0.6556  0.8264\n",
      "catholic                   0.1845   0.3753  0.4915 0.6231 -0.5511  0.9201\n",
      "other_religion             0.0764   0.4857  0.1573 0.8750 -0.8755  1.0283\n",
      "Political_Ideology         0.3128   0.0787  3.9730 0.0001  0.1585  0.4672\n",
      "Black_or_African_American  0.9567   0.5830  1.6412 0.1008 -0.1859  2.0994\n",
      "Hispanic_or_Latino         0.3763   0.3973  0.9470 0.3436 -0.4024  1.1550\n",
      "other_race                 0.3354   0.3288  1.0201 0.3077 -0.3090  0.9797\n",
      "female                     0.5105   0.2085  2.4480 0.0144  0.1018  0.9192\n",
      "Less_than_High_School     -0.8805   0.4031 -2.1845 0.0289 -1.6704 -0.0905\n",
      "Some_College              -0.0638   0.3148 -0.2025 0.8395 -0.6808  0.5533\n",
      "college                   -0.0156   0.3356 -0.0464 0.9630 -0.6733  0.6422\n",
      "post_grad                  0.2623   0.3781  0.6937 0.4879 -0.4788  1.0035\n",
      "AGE                        0.0082   0.0070  1.1668 0.2433 -0.0056  0.0220\n",
      "household_income           0.0120   0.0724  0.1654 0.8686 -0.1299  0.1539\n",
      "married                   -0.1081   0.2278 -0.4744 0.6352 -0.5546  0.3384\n",
      "no_kids_at_home            0.6152   0.2275  2.7043 0.0068  0.1693  1.0611\n",
      "urban_area                 0.5898   0.2137  2.7601 0.0058  0.1710  1.0086\n",
      "South                     -0.2113   0.2101 -1.0056 0.3146 -0.6232  0.2005\n",
      "=========================================================================\n",
      "\n"
     ]
    }
   ],
   "source": [
    "small = small_big_regression(dependent_var='more_Gun_Safety_Programs',length='small')\n",
    "big = small_big_regression(dependent_var='more_Gun_Safety_Programs',length='big')"
   ]
  },
  {
   "cell_type": "markdown",
   "metadata": {},
   "source": [
    "#### Log Odds"
   ]
  },
  {
   "cell_type": "code",
   "execution_count": 379,
   "metadata": {},
   "outputs": [
    {
     "data": {
      "text/html": [
       "<div>\n",
       "<style scoped>\n",
       "    .dataframe tbody tr th:only-of-type {\n",
       "        vertical-align: middle;\n",
       "    }\n",
       "\n",
       "    .dataframe tbody tr th {\n",
       "        vertical-align: top;\n",
       "    }\n",
       "\n",
       "    .dataframe thead th {\n",
       "        text-align: right;\n",
       "    }\n",
       "</style>\n",
       "<table border=\"1\" class=\"dataframe\">\n",
       "  <thead>\n",
       "    <tr style=\"text-align: right;\">\n",
       "      <th></th>\n",
       "      <th>small</th>\n",
       "      <th>big</th>\n",
       "    </tr>\n",
       "  </thead>\n",
       "  <tbody>\n",
       "    <tr>\n",
       "      <th>Intercept</th>\n",
       "      <td>18.857870</td>\n",
       "      <td>1.029751</td>\n",
       "    </tr>\n",
       "    <tr>\n",
       "      <th>supernatural_evil</th>\n",
       "      <td>0.939133</td>\n",
       "      <td>1.065701</td>\n",
       "    </tr>\n",
       "    <tr>\n",
       "      <th>attendance</th>\n",
       "      <td>0.967749</td>\n",
       "      <td>0.958226</td>\n",
       "    </tr>\n",
       "    <tr>\n",
       "      <th>inerrancy</th>\n",
       "      <td>1.152434</td>\n",
       "      <td>1.143591</td>\n",
       "    </tr>\n",
       "    <tr>\n",
       "      <th>literalism</th>\n",
       "      <td>0.940042</td>\n",
       "      <td>1.085379</td>\n",
       "    </tr>\n",
       "    <tr>\n",
       "      <th>mainline_protestant</th>\n",
       "      <td>0.906683</td>\n",
       "      <td>0.993358</td>\n",
       "    </tr>\n",
       "    <tr>\n",
       "      <th>black_protestant</th>\n",
       "      <td>0.804280</td>\n",
       "      <td>0.367014</td>\n",
       "    </tr>\n",
       "    <tr>\n",
       "      <th>conservative_protestant</th>\n",
       "      <td>0.770751</td>\n",
       "      <td>1.089130</td>\n",
       "    </tr>\n",
       "    <tr>\n",
       "      <th>catholic</th>\n",
       "      <td>1.039097</td>\n",
       "      <td>1.202598</td>\n",
       "    </tr>\n",
       "    <tr>\n",
       "      <th>other_religion</th>\n",
       "      <td>1.217564</td>\n",
       "      <td>1.079377</td>\n",
       "    </tr>\n",
       "    <tr>\n",
       "      <th>Political_Ideology</th>\n",
       "      <td>NaN</td>\n",
       "      <td>1.367305</td>\n",
       "    </tr>\n",
       "    <tr>\n",
       "      <th>Black_or_African_American</th>\n",
       "      <td>NaN</td>\n",
       "      <td>2.603219</td>\n",
       "    </tr>\n",
       "    <tr>\n",
       "      <th>Hispanic_or_Latino</th>\n",
       "      <td>NaN</td>\n",
       "      <td>1.456824</td>\n",
       "    </tr>\n",
       "    <tr>\n",
       "      <th>other_race</th>\n",
       "      <td>NaN</td>\n",
       "      <td>1.398451</td>\n",
       "    </tr>\n",
       "    <tr>\n",
       "      <th>female</th>\n",
       "      <td>NaN</td>\n",
       "      <td>1.666106</td>\n",
       "    </tr>\n",
       "    <tr>\n",
       "      <th>Less_than_High_School</th>\n",
       "      <td>NaN</td>\n",
       "      <td>0.414587</td>\n",
       "    </tr>\n",
       "    <tr>\n",
       "      <th>Some_College</th>\n",
       "      <td>NaN</td>\n",
       "      <td>0.938238</td>\n",
       "    </tr>\n",
       "    <tr>\n",
       "      <th>college</th>\n",
       "      <td>NaN</td>\n",
       "      <td>0.984551</td>\n",
       "    </tr>\n",
       "    <tr>\n",
       "      <th>post_grad</th>\n",
       "      <td>NaN</td>\n",
       "      <td>1.299929</td>\n",
       "    </tr>\n",
       "    <tr>\n",
       "      <th>AGE</th>\n",
       "      <td>NaN</td>\n",
       "      <td>1.008232</td>\n",
       "    </tr>\n",
       "    <tr>\n",
       "      <th>household_income</th>\n",
       "      <td>NaN</td>\n",
       "      <td>1.012048</td>\n",
       "    </tr>\n",
       "    <tr>\n",
       "      <th>married</th>\n",
       "      <td>NaN</td>\n",
       "      <td>0.897565</td>\n",
       "    </tr>\n",
       "    <tr>\n",
       "      <th>no_kids_at_home</th>\n",
       "      <td>NaN</td>\n",
       "      <td>1.850058</td>\n",
       "    </tr>\n",
       "    <tr>\n",
       "      <th>urban_area</th>\n",
       "      <td>NaN</td>\n",
       "      <td>1.803578</td>\n",
       "    </tr>\n",
       "    <tr>\n",
       "      <th>South</th>\n",
       "      <td>NaN</td>\n",
       "      <td>0.809523</td>\n",
       "    </tr>\n",
       "  </tbody>\n",
       "</table>\n",
       "</div>"
      ],
      "text/plain": [
       "                               small       big\n",
       "Intercept                  18.857870  1.029751\n",
       "supernatural_evil           0.939133  1.065701\n",
       "attendance                  0.967749  0.958226\n",
       "inerrancy                   1.152434  1.143591\n",
       "literalism                  0.940042  1.085379\n",
       "mainline_protestant         0.906683  0.993358\n",
       "black_protestant            0.804280  0.367014\n",
       "conservative_protestant     0.770751  1.089130\n",
       "catholic                    1.039097  1.202598\n",
       "other_religion              1.217564  1.079377\n",
       "Political_Ideology               NaN  1.367305\n",
       "Black_or_African_American        NaN  2.603219\n",
       "Hispanic_or_Latino               NaN  1.456824\n",
       "other_race                       NaN  1.398451\n",
       "female                           NaN  1.666106\n",
       "Less_than_High_School            NaN  0.414587\n",
       "Some_College                     NaN  0.938238\n",
       "college                          NaN  0.984551\n",
       "post_grad                        NaN  1.299929\n",
       "AGE                              NaN  1.008232\n",
       "household_income                 NaN  1.012048\n",
       "married                          NaN  0.897565\n",
       "no_kids_at_home                  NaN  1.850058\n",
       "urban_area                       NaN  1.803578\n",
       "South                            NaN  0.809523"
      ]
     },
     "execution_count": 379,
     "metadata": {},
     "output_type": "execute_result"
    }
   ],
   "source": [
    "log_odds_combined(small,big)"
   ]
  },
  {
   "cell_type": "markdown",
   "metadata": {},
   "source": [
    "#### Commentation"
   ]
  },
  {
   "cell_type": "markdown",
   "metadata": {},
   "source": [
    "We will discuss some interesting results that we found through logistic regression.  \n",
    "We will consider only the variables which are statistically significant according to the amount of * we find in the paper. If there are no * we will consider 0.05 as the border. Statistically significant variables include:\n",
    "\n",
    "* political ideology\n",
    "* female\n",
    "* Less than High school\n",
    "* No kids at home\n",
    "* Urban Area\n"
   ]
  },
  {
   "cell_type": "markdown",
   "metadata": {},
   "source": [
    "<u>Political Ideology</u>  \n",
    "Concerning political ideology, we found that the odds ratio is OR = 1.36 with a p-value of 0.0001. This shows us a 36% indrease in supporting required gun safety programs for each one unit increment in the political ideology variable. \n",
    "\n",
    "<u>Female</u>  \n",
    "This characteristic is statistically significant, reaching an OR of 1.66 with a p-value of 0.01, smaller than 0.05. This tells us that female gender is positively associated with the banning of semi auto weapons. Specifically, each one unit increment in the female variable is associated with a 44% increment in the support of required gun safety programs. \n",
    "\n",
    "<u>Less than high school</u>  \n",
    "Less than high school, seems to be having an OR of 0.41 and being statistically significant, having a p-value of 0.028, smaller than 0.05. Each change in the unit of Less than high school variable, is associated with a 41% refuse of supporting required gun safety programs.\n",
    "\n",
    "<u>No kids at home</u>  \n",
    "No kids at home seems to be having OR = 1.85. This means that for each one-unit increment in this variable, is connected with 85% increment in approval of required gun safety programs.\n",
    "\n",
    "<u>Urban Area</u>  \n",
    "Urban Area seems to be having OR = 1.80 with a p-value of 0.068 which is lower than 0.05. This means that each one-unit increment in this variable, is connected with 80% increase in supporting required gun safety programs. \n",
    "\n"
   ]
  },
  {
   "cell_type": "markdown",
   "metadata": {},
   "source": [
    "### Regression for expanding mental health screening"
   ]
  },
  {
   "cell_type": "code",
   "execution_count": 380,
   "metadata": {},
   "outputs": [
    {
     "name": "stdout",
     "output_type": "stream",
     "text": [
      "Optimization terminated successfully.\n",
      "         Current function value: 0.298041\n",
      "         Iterations 7\n",
      "                                 Results: Logit\n",
      "================================================================================\n",
      "Model:              Logit                            Pseudo R-squared: 0.022    \n",
      "Dependent Variable: expanded_Mental_Health_Screening AIC:              957.0407 \n",
      "Date:               2021-12-19 22:23                 BIC:              1010.6418\n",
      "No. Observations:   1572                             Log-Likelihood:   -468.52  \n",
      "Df Model:           9                                LL-Null:          -479.10  \n",
      "Df Residuals:       1562                             LLR p-value:      0.011985 \n",
      "Converged:          1.0000                           Scale:            1.0000   \n",
      "No. Iterations:     7.0000                                                      \n",
      "----------------------------------------------------------------------------------\n",
      "                           Coef.    Std.Err.      z      P>|z|     [0.025   0.975]\n",
      "----------------------------------------------------------------------------------\n",
      "Intercept                  2.8724     0.3453    8.3180   0.0000    2.1956   3.5492\n",
      "supernatural_evil         -0.1675     0.1258   -1.3314   0.1831   -0.4140   0.0791\n",
      "attendance                 0.0090     0.0378    0.2375   0.8123   -0.0650   0.0830\n",
      "inerrancy                  0.1958     0.2531    0.7738   0.4391   -0.3002   0.6918\n",
      "literalism                 0.0216     0.2882    0.0749   0.9403   -0.5433   0.5865\n",
      "mainline_protestant        0.0038     0.3346    0.0113   0.9910   -0.6519   0.6595\n",
      "black_protestant           0.0958     0.4464    0.2145   0.8301   -0.7791   0.9706\n",
      "conservative_protestant   -0.5730     0.3206   -1.7875   0.0739   -1.2013   0.0553\n",
      "catholic                   0.1213     0.3192    0.3801   0.7038   -0.5042   0.7468\n",
      "other_religion             0.3871     0.4452    0.8695   0.3846   -0.4854   1.2596\n",
      "================================================================================\n",
      "\n",
      "Optimization terminated successfully.\n",
      "         Current function value: 0.274847\n",
      "         Iterations 7\n",
      "                                 Results: Logit\n",
      "=================================================================================\n",
      "Model:              Logit                            Pseudo R-squared: 0.098     \n",
      "Dependent Variable: expanded_Mental_Health_Screening AIC:              914.1186  \n",
      "Date:               2021-12-19 22:23                 BIC:              1048.1212 \n",
      "No. Observations:   1572                             Log-Likelihood:   -432.06   \n",
      "Df Model:           24                               LL-Null:          -479.10   \n",
      "Df Residuals:       1547                             LLR p-value:      3.0179e-10\n",
      "Converged:          1.0000                           Scale:            1.0000    \n",
      "No. Iterations:     7.0000                                                       \n",
      "----------------------------------------------------------------------------------\n",
      "                                Coef.   Std.Err.     z     P>|z|    [0.025  0.975]\n",
      "----------------------------------------------------------------------------------\n",
      "Intercept                       0.1990    0.7427   0.2679  0.7888  -1.2566  1.6546\n",
      "supernatural_evil              -0.0869    0.1327  -0.6550  0.5125  -0.3469  0.1731\n",
      "attendance                      0.0150    0.0401   0.3746  0.7079  -0.0636  0.0937\n",
      "inerrancy                       0.2301    0.2641   0.8713  0.3836  -0.2875  0.7477\n",
      "literalism                      0.1034    0.3067   0.3371  0.7360  -0.4977  0.7045\n",
      "mainline_protestant             0.0973    0.3505   0.2777  0.7813  -0.5896  0.7842\n",
      "black_protestant               -0.5296    0.5790  -0.9147  0.3603  -1.6644  0.6052\n",
      "conservative_protestant        -0.3155    0.3307  -0.9540  0.3401  -0.9636  0.3327\n",
      "catholic                        0.1719    0.3369   0.5102  0.6099  -0.4885  0.8323\n",
      "other_religion                  0.3165    0.4653   0.6801  0.4965  -0.5956  1.2285\n",
      "Political_Ideology              0.3731    0.0737   5.0641  0.0000   0.2287  0.5175\n",
      "Black_or_African_American       0.6307    0.4994   1.2629  0.2066  -0.3481  1.6096\n",
      "Hispanic_or_Latino              1.2325    0.4490   2.7451  0.0060   0.3525  2.1124\n",
      "other_race                      0.5048    0.3234   1.5610  0.1185  -0.1290  1.1386\n",
      "female                          0.6088    0.1896   3.2117  0.0013   0.2373  0.9803\n",
      "Less_than_High_School          -0.4366    0.4255  -1.0261  0.3049  -1.2706  0.3974\n",
      "Some_College                   -0.1920    0.2922  -0.6571  0.5111  -0.7647  0.3807\n",
      "college                        -0.2351    0.3091  -0.7606  0.4469  -0.8409  0.3707\n",
      "post_grad                       0.1888    0.3517   0.5368  0.5914  -0.5005  0.8781\n",
      "AGE                             0.0068    0.0064   1.0533  0.2922  -0.0058  0.0194\n",
      "household_income               -0.0268    0.0664  -0.4038  0.6864  -0.1569  0.1033\n",
      "married                        -0.1744    0.2089  -0.8351  0.4037  -0.5839  0.2350\n",
      "no_kids_at_home                 0.4756    0.2091   2.2743  0.0229   0.0657  0.8855\n",
      "urban_area                      0.2639    0.1912   1.3802  0.1675  -0.1108  0.6387\n",
      "South                           0.1599    0.1941   0.8239  0.4100  -0.2205  0.5403\n",
      "=================================================================================\n",
      "\n"
     ]
    }
   ],
   "source": [
    "small = small_big_regression(dependent_var='expanded_Mental_Health_Screening',length='small')\n",
    "big = small_big_regression(dependent_var='expanded_Mental_Health_Screening',length='big')"
   ]
  },
  {
   "cell_type": "markdown",
   "metadata": {},
   "source": [
    "#### Log Odds"
   ]
  },
  {
   "cell_type": "code",
   "execution_count": 381,
   "metadata": {},
   "outputs": [
    {
     "data": {
      "text/html": [
       "<div>\n",
       "<style scoped>\n",
       "    .dataframe tbody tr th:only-of-type {\n",
       "        vertical-align: middle;\n",
       "    }\n",
       "\n",
       "    .dataframe tbody tr th {\n",
       "        vertical-align: top;\n",
       "    }\n",
       "\n",
       "    .dataframe thead th {\n",
       "        text-align: right;\n",
       "    }\n",
       "</style>\n",
       "<table border=\"1\" class=\"dataframe\">\n",
       "  <thead>\n",
       "    <tr style=\"text-align: right;\">\n",
       "      <th></th>\n",
       "      <th>small</th>\n",
       "      <th>big</th>\n",
       "    </tr>\n",
       "  </thead>\n",
       "  <tbody>\n",
       "    <tr>\n",
       "      <th>Intercept</th>\n",
       "      <td>17.678811</td>\n",
       "      <td>1.220135</td>\n",
       "    </tr>\n",
       "    <tr>\n",
       "      <th>supernatural_evil</th>\n",
       "      <td>0.845808</td>\n",
       "      <td>0.916778</td>\n",
       "    </tr>\n",
       "    <tr>\n",
       "      <th>attendance</th>\n",
       "      <td>1.009007</td>\n",
       "      <td>1.015149</td>\n",
       "    </tr>\n",
       "    <tr>\n",
       "      <th>inerrancy</th>\n",
       "      <td>1.216284</td>\n",
       "      <td>1.258744</td>\n",
       "    </tr>\n",
       "    <tr>\n",
       "      <th>literalism</th>\n",
       "      <td>1.021836</td>\n",
       "      <td>1.108915</td>\n",
       "    </tr>\n",
       "    <tr>\n",
       "      <th>mainline_protestant</th>\n",
       "      <td>1.003790</td>\n",
       "      <td>1.102200</td>\n",
       "    </tr>\n",
       "    <tr>\n",
       "      <th>black_protestant</th>\n",
       "      <td>1.100492</td>\n",
       "      <td>0.588836</td>\n",
       "    </tr>\n",
       "    <tr>\n",
       "      <th>conservative_protestant</th>\n",
       "      <td>0.563830</td>\n",
       "      <td>0.729450</td>\n",
       "    </tr>\n",
       "    <tr>\n",
       "      <th>catholic</th>\n",
       "      <td>1.128985</td>\n",
       "      <td>1.187586</td>\n",
       "    </tr>\n",
       "    <tr>\n",
       "      <th>other_religion</th>\n",
       "      <td>1.472675</td>\n",
       "      <td>1.372258</td>\n",
       "    </tr>\n",
       "    <tr>\n",
       "      <th>Political_Ideology</th>\n",
       "      <td>NaN</td>\n",
       "      <td>1.452201</td>\n",
       "    </tr>\n",
       "    <tr>\n",
       "      <th>Black_or_African_American</th>\n",
       "      <td>NaN</td>\n",
       "      <td>1.878977</td>\n",
       "    </tr>\n",
       "    <tr>\n",
       "      <th>Hispanic_or_Latino</th>\n",
       "      <td>NaN</td>\n",
       "      <td>3.429664</td>\n",
       "    </tr>\n",
       "    <tr>\n",
       "      <th>other_race</th>\n",
       "      <td>NaN</td>\n",
       "      <td>1.656666</td>\n",
       "    </tr>\n",
       "    <tr>\n",
       "      <th>female</th>\n",
       "      <td>NaN</td>\n",
       "      <td>1.838220</td>\n",
       "    </tr>\n",
       "    <tr>\n",
       "      <th>Less_than_High_School</th>\n",
       "      <td>NaN</td>\n",
       "      <td>0.646230</td>\n",
       "    </tr>\n",
       "    <tr>\n",
       "      <th>Some_College</th>\n",
       "      <td>NaN</td>\n",
       "      <td>0.825307</td>\n",
       "    </tr>\n",
       "    <tr>\n",
       "      <th>college</th>\n",
       "      <td>NaN</td>\n",
       "      <td>0.790491</td>\n",
       "    </tr>\n",
       "    <tr>\n",
       "      <th>post_grad</th>\n",
       "      <td>NaN</td>\n",
       "      <td>1.207784</td>\n",
       "    </tr>\n",
       "    <tr>\n",
       "      <th>AGE</th>\n",
       "      <td>NaN</td>\n",
       "      <td>1.006789</td>\n",
       "    </tr>\n",
       "    <tr>\n",
       "      <th>household_income</th>\n",
       "      <td>NaN</td>\n",
       "      <td>0.973550</td>\n",
       "    </tr>\n",
       "    <tr>\n",
       "      <th>married</th>\n",
       "      <td>NaN</td>\n",
       "      <td>0.839932</td>\n",
       "    </tr>\n",
       "    <tr>\n",
       "      <th>no_kids_at_home</th>\n",
       "      <td>NaN</td>\n",
       "      <td>1.609018</td>\n",
       "    </tr>\n",
       "    <tr>\n",
       "      <th>urban_area</th>\n",
       "      <td>NaN</td>\n",
       "      <td>1.302007</td>\n",
       "    </tr>\n",
       "    <tr>\n",
       "      <th>South</th>\n",
       "      <td>NaN</td>\n",
       "      <td>1.173391</td>\n",
       "    </tr>\n",
       "  </tbody>\n",
       "</table>\n",
       "</div>"
      ],
      "text/plain": [
       "                               small       big\n",
       "Intercept                  17.678811  1.220135\n",
       "supernatural_evil           0.845808  0.916778\n",
       "attendance                  1.009007  1.015149\n",
       "inerrancy                   1.216284  1.258744\n",
       "literalism                  1.021836  1.108915\n",
       "mainline_protestant         1.003790  1.102200\n",
       "black_protestant            1.100492  0.588836\n",
       "conservative_protestant     0.563830  0.729450\n",
       "catholic                    1.128985  1.187586\n",
       "other_religion              1.472675  1.372258\n",
       "Political_Ideology               NaN  1.452201\n",
       "Black_or_African_American        NaN  1.878977\n",
       "Hispanic_or_Latino               NaN  3.429664\n",
       "other_race                       NaN  1.656666\n",
       "female                           NaN  1.838220\n",
       "Less_than_High_School            NaN  0.646230\n",
       "Some_College                     NaN  0.825307\n",
       "college                          NaN  0.790491\n",
       "post_grad                        NaN  1.207784\n",
       "AGE                              NaN  1.006789\n",
       "household_income                 NaN  0.973550\n",
       "married                          NaN  0.839932\n",
       "no_kids_at_home                  NaN  1.609018\n",
       "urban_area                       NaN  1.302007\n",
       "South                            NaN  1.173391"
      ]
     },
     "execution_count": 381,
     "metadata": {},
     "output_type": "execute_result"
    }
   ],
   "source": [
    "log_odds_combined(small,big)"
   ]
  },
  {
   "cell_type": "markdown",
   "metadata": {},
   "source": [
    "#### Commentation"
   ]
  },
  {
   "cell_type": "markdown",
   "metadata": {},
   "source": [
    "We will discuss some interesting results that we found through logistic regression.  \n",
    "We will consider only the variables which are statistically significant according to the amount of * we find in the paper. If there are no * we will consider 0.05 as the border. Statistically significant variables include:\n",
    "\n",
    "* Political ideology\n",
    "* Hispanic\n",
    "* Female\n",
    "* No kids at home"
   ]
  },
  {
   "cell_type": "markdown",
   "metadata": {},
   "source": [
    "<u>Political Ideology</u>  \n",
    "Concerning political ideology, we found that the odds ratio is OR = 1.45 with a p-value of 0. This shows us a 45% increase in supporting expanded Mental Health Screening for each one unit increment in this specific variable. \n",
    "\n",
    "<u>Hispanic</u>  \n",
    "This characteristic has OR = 2.77 with a p-value of 0.0060, smaller than 0.05. This tells us that hispanic is very postively associated with supporting expanded Mental Health Screening.\n",
    "\n",
    "<u>Female</u>  \n",
    "Female variable has OR = 1.83 with a p-value of 0.0013, smaller than 0.01. This tells us that female gender is postively associated with supporting expanded Mental Health Screening. Specifically each one unit increment in the female variable is associated with a 83% increase in supporting expanded Mental Health Screening. \n",
    "\n",
    "<u>No kids at home</u>  \n",
    "No kids at home seems to be having OR = 1.60. This means that for each one-unit increment in this variable, is connected with 60% increment in supporting expanded Mental Health Screening."
   ]
  },
  {
   "cell_type": "markdown",
   "metadata": {},
   "source": [
    "### The economist report"
   ]
  },
  {
   "cell_type": "markdown",
   "metadata": {},
   "source": [
    "Moving on to the last part of this question, I studied carefully a report carried out from The Economist, based on the reaserch of Christopher Ellison, Benjamin Dowd-Arrow, Amy Burdette that I am working on right now and I have to say that i was surprised.  \n",
    "It's a fact that the audience of The Economist on the social media is over 30 million users.  \n",
    "So definently, some of them did read this report.But if we think of it, how many of them actually read the paper on which the report was conducted? (almost none).\n",
    "But even if some did, how many of them are familiar with statistics to be able to understand the reaserch? My estimation is much less than 1%. \n",
    "Having said that, you would expect that from a magazine with The Economist's publicity to at least be accurate for its conent when it delivers reports with scientific content.  \n",
    "\n",
    "To begin with, in the second paragraph of the article, it says that 'A Catholic who believes in supernatural evil is more likely to hold pro-gun views than a Protestant'. First of all, what does protestant mean? \n",
    "Taking a look at the questionnaire, we can see that the respondent could choose from evangelic, mainline and black protestant. \n",
    "In which type of protestant does the article refer to? I could guess that it refers to the average of them? I doubt that the writers of this article created a new variable and compared it with catholics.  \n",
    "Also, before referring to any variables, and their results through the logistic regression, the writers have to consider about statistic importance of the variables.  \n",
    "Last but not least, regarding logistic regression, where the paper conducted analysis through log odds, a fairly **difficult** method to understand what it means and how to interpret , the writers should be carefule when they are using it or should have explained what it means with examples.  "
   ]
  },
  {
   "cell_type": "markdown",
   "metadata": {},
   "source": [
    "# 4TH QUESTION"
   ]
  },
  {
   "cell_type": "markdown",
   "metadata": {},
   "source": [
    "Having done the logistic model we found the odds ratios.  \n",
    "However let's approach the same issue using a linear model which is simplier to explain and understand.  "
   ]
  },
  {
   "cell_type": "markdown",
   "metadata": {},
   "source": [
    "Let's create the method that will perform the linear regression."
   ]
  },
  {
   "cell_type": "code",
   "execution_count": 382,
   "metadata": {},
   "outputs": [],
   "source": [
    "def multiple_regression2(dependent_var, group, dataset):\n",
    "    df_z = dataset.apply(stats.zscore)\n",
    "    formula = dependent_var + '+'.join(group) \n",
    "    result = smf.ols(formula, data=df_z).fit()\n",
    "    return result.summary()"
   ]
  },
  {
   "cell_type": "markdown",
   "metadata": {},
   "source": [
    "The 2 following methods are responsible for doing small regression (without the political controls) and big regression correspondingly.  "
   ]
  },
  {
   "cell_type": "code",
   "execution_count": 383,
   "metadata": {},
   "outputs": [],
   "source": [
    "def do_small_linear(dependent_variable):\n",
    "    df_for_linear1 = df_small_regression.copy() \n",
    "    df_for_linear1[dependent_variable]=data[dependent_variable].copy()\n",
    "    dependent_var = dependent_variable + '~'\n",
    "    group = small_regression_variables\n",
    "    return(multiple_regression2(dependent_var,group,df_for_linear1))\n",
    "\n",
    "def do_big_linear(dependent_variable):\n",
    "    df_for_linear1 = df_big_regression.copy() \n",
    "    df_for_linear1[dependent_variable]=data[dependent_variable].copy()\n",
    "    dependent_var = dependent_variable + '~'\n",
    "    group = all_variables_for_regression\n",
    "    return(multiple_regression2(dependent_var,group,df_for_linear1))"
   ]
  },
  {
   "cell_type": "markdown",
   "metadata": {},
   "source": [
    "### Semi-auto weapons ban"
   ]
  },
  {
   "cell_type": "code",
   "execution_count": 384,
   "metadata": {},
   "outputs": [
    {
     "data": {
      "text/html": [
       "<table class=\"simpletable\">\n",
       "<caption>OLS Regression Results</caption>\n",
       "<tr>\n",
       "  <th>Dep. Variable:</th>    <td>ban_on_semi_auto_guns</td> <th>  R-squared:         </th> <td>   0.026</td>\n",
       "</tr>\n",
       "<tr>\n",
       "  <th>Model:</th>                     <td>OLS</td>          <th>  Adj. R-squared:    </th> <td>   0.020</td>\n",
       "</tr>\n",
       "<tr>\n",
       "  <th>Method:</th>               <td>Least Squares</td>     <th>  F-statistic:       </th> <td>   4.602</td>\n",
       "</tr>\n",
       "<tr>\n",
       "  <th>Date:</th>               <td>Sun, 19 Dec 2021</td>    <th>  Prob (F-statistic):</th> <td>5.06e-06</td>\n",
       "</tr>\n",
       "<tr>\n",
       "  <th>Time:</th>                   <td>22:23:34</td>        <th>  Log-Likelihood:    </th> <td> -2210.0</td>\n",
       "</tr>\n",
       "<tr>\n",
       "  <th>No. Observations:</th>        <td>  1572</td>         <th>  AIC:               </th> <td>   4440.</td>\n",
       "</tr>\n",
       "<tr>\n",
       "  <th>Df Residuals:</th>            <td>  1562</td>         <th>  BIC:               </th> <td>   4494.</td>\n",
       "</tr>\n",
       "<tr>\n",
       "  <th>Df Model:</th>                <td>     9</td>         <th>                     </th>     <td> </td>   \n",
       "</tr>\n",
       "<tr>\n",
       "  <th>Covariance Type:</th>        <td>nonrobust</td>       <th>                     </th>     <td> </td>   \n",
       "</tr>\n",
       "</table>\n",
       "<table class=\"simpletable\">\n",
       "<tr>\n",
       "             <td></td>                <th>coef</th>     <th>std err</th>      <th>t</th>      <th>P>|t|</th>  <th>[0.025</th>    <th>0.975]</th>  \n",
       "</tr>\n",
       "<tr>\n",
       "  <th>Intercept</th>               <td> 1.865e-16</td> <td>    0.025</td> <td> 7.47e-15</td> <td> 1.000</td> <td>   -0.049</td> <td>    0.049</td>\n",
       "</tr>\n",
       "<tr>\n",
       "  <th>supernatural_evil</th>       <td>   -0.1271</td> <td>    0.035</td> <td>   -3.671</td> <td> 0.000</td> <td>   -0.195</td> <td>   -0.059</td>\n",
       "</tr>\n",
       "<tr>\n",
       "  <th>attendance</th>              <td>    0.0505</td> <td>    0.032</td> <td>    1.588</td> <td> 0.113</td> <td>   -0.012</td> <td>    0.113</td>\n",
       "</tr>\n",
       "<tr>\n",
       "  <th>inerrancy</th>               <td>   -0.0102</td> <td>    0.033</td> <td>   -0.310</td> <td> 0.756</td> <td>   -0.075</td> <td>    0.054</td>\n",
       "</tr>\n",
       "<tr>\n",
       "  <th>literalism</th>              <td>   -0.0269</td> <td>    0.036</td> <td>   -0.757</td> <td> 0.449</td> <td>   -0.097</td> <td>    0.043</td>\n",
       "</tr>\n",
       "<tr>\n",
       "  <th>mainline_protestant</th>     <td>    0.0245</td> <td>    0.034</td> <td>    0.728</td> <td> 0.467</td> <td>   -0.041</td> <td>    0.090</td>\n",
       "</tr>\n",
       "<tr>\n",
       "  <th>black_protestant</th>        <td>    0.0600</td> <td>    0.031</td> <td>    1.913</td> <td> 0.056</td> <td>   -0.002</td> <td>    0.122</td>\n",
       "</tr>\n",
       "<tr>\n",
       "  <th>conservative_protestant</th> <td>   -0.0090</td> <td>    0.041</td> <td>   -0.217</td> <td> 0.828</td> <td>   -0.090</td> <td>    0.072</td>\n",
       "</tr>\n",
       "<tr>\n",
       "  <th>catholic</th>                <td>    0.0454</td> <td>    0.037</td> <td>    1.238</td> <td> 0.216</td> <td>   -0.027</td> <td>    0.117</td>\n",
       "</tr>\n",
       "<tr>\n",
       "  <th>other_religion</th>          <td>    0.0785</td> <td>    0.029</td> <td>    2.708</td> <td> 0.007</td> <td>    0.022</td> <td>    0.135</td>\n",
       "</tr>\n",
       "</table>\n",
       "<table class=\"simpletable\">\n",
       "<tr>\n",
       "  <th>Omnibus:</th>       <td>8144.854</td> <th>  Durbin-Watson:     </th> <td>   2.006</td>\n",
       "</tr>\n",
       "<tr>\n",
       "  <th>Prob(Omnibus):</th>  <td> 0.000</td>  <th>  Jarque-Bera (JB):  </th> <td> 243.428</td>\n",
       "</tr>\n",
       "<tr>\n",
       "  <th>Skew:</th>           <td>-0.520</td>  <th>  Prob(JB):          </th> <td>1.38e-53</td>\n",
       "</tr>\n",
       "<tr>\n",
       "  <th>Kurtosis:</th>       <td> 1.377</td>  <th>  Cond. No.          </th> <td>    3.78</td>\n",
       "</tr>\n",
       "</table><br/><br/>Notes:<br/>[1] Standard Errors assume that the covariance matrix of the errors is correctly specified."
      ],
      "text/plain": [
       "<class 'statsmodels.iolib.summary.Summary'>\n",
       "\"\"\"\n",
       "                              OLS Regression Results                             \n",
       "=================================================================================\n",
       "Dep. Variable:     ban_on_semi_auto_guns   R-squared:                       0.026\n",
       "Model:                               OLS   Adj. R-squared:                  0.020\n",
       "Method:                    Least Squares   F-statistic:                     4.602\n",
       "Date:                   Sun, 19 Dec 2021   Prob (F-statistic):           5.06e-06\n",
       "Time:                           22:23:34   Log-Likelihood:                -2210.0\n",
       "No. Observations:                   1572   AIC:                             4440.\n",
       "Df Residuals:                       1562   BIC:                             4494.\n",
       "Df Model:                              9                                         \n",
       "Covariance Type:               nonrobust                                         \n",
       "===========================================================================================\n",
       "                              coef    std err          t      P>|t|      [0.025      0.975]\n",
       "-------------------------------------------------------------------------------------------\n",
       "Intercept                1.865e-16      0.025   7.47e-15      1.000      -0.049       0.049\n",
       "supernatural_evil          -0.1271      0.035     -3.671      0.000      -0.195      -0.059\n",
       "attendance                  0.0505      0.032      1.588      0.113      -0.012       0.113\n",
       "inerrancy                  -0.0102      0.033     -0.310      0.756      -0.075       0.054\n",
       "literalism                 -0.0269      0.036     -0.757      0.449      -0.097       0.043\n",
       "mainline_protestant         0.0245      0.034      0.728      0.467      -0.041       0.090\n",
       "black_protestant            0.0600      0.031      1.913      0.056      -0.002       0.122\n",
       "conservative_protestant    -0.0090      0.041     -0.217      0.828      -0.090       0.072\n",
       "catholic                    0.0454      0.037      1.238      0.216      -0.027       0.117\n",
       "other_religion              0.0785      0.029      2.708      0.007       0.022       0.135\n",
       "==============================================================================\n",
       "Omnibus:                     8144.854   Durbin-Watson:                   2.006\n",
       "Prob(Omnibus):                  0.000   Jarque-Bera (JB):              243.428\n",
       "Skew:                          -0.520   Prob(JB):                     1.38e-53\n",
       "Kurtosis:                       1.377   Cond. No.                         3.78\n",
       "==============================================================================\n",
       "\n",
       "Notes:\n",
       "[1] Standard Errors assume that the covariance matrix of the errors is correctly specified.\n",
       "\"\"\""
      ]
     },
     "execution_count": 384,
     "metadata": {},
     "output_type": "execute_result"
    }
   ],
   "source": [
    "do_small_linear('ban_on_semi_auto_guns')"
   ]
  },
  {
   "cell_type": "markdown",
   "metadata": {},
   "source": [
    "Let's see the regression with all the variables as well!"
   ]
  },
  {
   "cell_type": "code",
   "execution_count": 385,
   "metadata": {},
   "outputs": [
    {
     "data": {
      "text/html": [
       "<table class=\"simpletable\">\n",
       "<caption>OLS Regression Results</caption>\n",
       "<tr>\n",
       "  <th>Dep. Variable:</th>    <td>ban_on_semi_auto_guns</td> <th>  R-squared:         </th> <td>   0.189</td>\n",
       "</tr>\n",
       "<tr>\n",
       "  <th>Model:</th>                     <td>OLS</td>          <th>  Adj. R-squared:    </th> <td>   0.176</td>\n",
       "</tr>\n",
       "<tr>\n",
       "  <th>Method:</th>               <td>Least Squares</td>     <th>  F-statistic:       </th> <td>   15.02</td>\n",
       "</tr>\n",
       "<tr>\n",
       "  <th>Date:</th>               <td>Sun, 19 Dec 2021</td>    <th>  Prob (F-statistic):</th> <td>8.27e-55</td>\n",
       "</tr>\n",
       "<tr>\n",
       "  <th>Time:</th>                   <td>22:23:34</td>        <th>  Log-Likelihood:    </th> <td> -2065.9</td>\n",
       "</tr>\n",
       "<tr>\n",
       "  <th>No. Observations:</th>        <td>  1572</td>         <th>  AIC:               </th> <td>   4182.</td>\n",
       "</tr>\n",
       "<tr>\n",
       "  <th>Df Residuals:</th>            <td>  1547</td>         <th>  BIC:               </th> <td>   4316.</td>\n",
       "</tr>\n",
       "<tr>\n",
       "  <th>Df Model:</th>                <td>    24</td>         <th>                     </th>     <td> </td>   \n",
       "</tr>\n",
       "<tr>\n",
       "  <th>Covariance Type:</th>        <td>nonrobust</td>       <th>                     </th>     <td> </td>   \n",
       "</tr>\n",
       "</table>\n",
       "<table class=\"simpletable\">\n",
       "<tr>\n",
       "              <td></td>                 <th>coef</th>     <th>std err</th>      <th>t</th>      <th>P>|t|</th>  <th>[0.025</th>    <th>0.975]</th>  \n",
       "</tr>\n",
       "<tr>\n",
       "  <th>Intercept</th>                 <td> 1.865e-16</td> <td>    0.023</td> <td> 8.14e-15</td> <td> 1.000</td> <td>   -0.045</td> <td>    0.045</td>\n",
       "</tr>\n",
       "<tr>\n",
       "  <th>supernatural_evil</th>         <td>   -0.0615</td> <td>    0.033</td> <td>   -1.856</td> <td> 0.064</td> <td>   -0.126</td> <td>    0.004</td>\n",
       "</tr>\n",
       "<tr>\n",
       "  <th>attendance</th>                <td>    0.0558</td> <td>    0.030</td> <td>    1.862</td> <td> 0.063</td> <td>   -0.003</td> <td>    0.115</td>\n",
       "</tr>\n",
       "<tr>\n",
       "  <th>inerrancy</th>                 <td>    0.0047</td> <td>    0.030</td> <td>    0.154</td> <td> 0.877</td> <td>   -0.055</td> <td>    0.064</td>\n",
       "</tr>\n",
       "<tr>\n",
       "  <th>literalism</th>                <td>    0.0054</td> <td>    0.033</td> <td>    0.161</td> <td> 0.872</td> <td>   -0.060</td> <td>    0.071</td>\n",
       "</tr>\n",
       "<tr>\n",
       "  <th>mainline_protestant</th>       <td>    0.0198</td> <td>    0.031</td> <td>    0.631</td> <td> 0.528</td> <td>   -0.042</td> <td>    0.082</td>\n",
       "</tr>\n",
       "<tr>\n",
       "  <th>black_protestant</th>          <td>   -0.0205</td> <td>    0.036</td> <td>   -0.569</td> <td> 0.570</td> <td>   -0.091</td> <td>    0.050</td>\n",
       "</tr>\n",
       "<tr>\n",
       "  <th>conservative_protestant</th>   <td>    0.0376</td> <td>    0.038</td> <td>    0.977</td> <td> 0.329</td> <td>   -0.038</td> <td>    0.113</td>\n",
       "</tr>\n",
       "<tr>\n",
       "  <th>catholic</th>                  <td>    0.0408</td> <td>    0.035</td> <td>    1.182</td> <td> 0.237</td> <td>   -0.027</td> <td>    0.108</td>\n",
       "</tr>\n",
       "<tr>\n",
       "  <th>other_religion</th>            <td>    0.0498</td> <td>    0.027</td> <td>    1.835</td> <td> 0.067</td> <td>   -0.003</td> <td>    0.103</td>\n",
       "</tr>\n",
       "<tr>\n",
       "  <th>Political_Ideology</th>        <td>    0.2801</td> <td>    0.027</td> <td>   10.397</td> <td> 0.000</td> <td>    0.227</td> <td>    0.333</td>\n",
       "</tr>\n",
       "<tr>\n",
       "  <th>Black_or_African_American</th> <td>    0.0883</td> <td>    0.034</td> <td>    2.588</td> <td> 0.010</td> <td>    0.021</td> <td>    0.155</td>\n",
       "</tr>\n",
       "<tr>\n",
       "  <th>Hispanic_or_Latino</th>        <td>    0.0602</td> <td>    0.029</td> <td>    2.074</td> <td> 0.038</td> <td>    0.003</td> <td>    0.117</td>\n",
       "</tr>\n",
       "<tr>\n",
       "  <th>other_race</th>                <td>    0.0130</td> <td>    0.028</td> <td>    0.471</td> <td> 0.638</td> <td>   -0.041</td> <td>    0.067</td>\n",
       "</tr>\n",
       "<tr>\n",
       "  <th>female</th>                    <td>    0.2158</td> <td>    0.024</td> <td>    9.100</td> <td> 0.000</td> <td>    0.169</td> <td>    0.262</td>\n",
       "</tr>\n",
       "<tr>\n",
       "  <th>Less_than_High_School</th>     <td>   -0.0228</td> <td>    0.026</td> <td>   -0.872</td> <td> 0.383</td> <td>   -0.074</td> <td>    0.029</td>\n",
       "</tr>\n",
       "<tr>\n",
       "  <th>Some_College</th>              <td>   -0.0247</td> <td>    0.033</td> <td>   -0.748</td> <td> 0.455</td> <td>   -0.090</td> <td>    0.040</td>\n",
       "</tr>\n",
       "<tr>\n",
       "  <th>college</th>                   <td>   -0.0533</td> <td>    0.033</td> <td>   -1.606</td> <td> 0.108</td> <td>   -0.118</td> <td>    0.012</td>\n",
       "</tr>\n",
       "<tr>\n",
       "  <th>post_grad</th>                 <td>    0.0320</td> <td>    0.034</td> <td>    0.956</td> <td> 0.339</td> <td>   -0.034</td> <td>    0.098</td>\n",
       "</tr>\n",
       "<tr>\n",
       "  <th>AGE</th>                       <td>    0.1290</td> <td>    0.026</td> <td>    4.935</td> <td> 0.000</td> <td>    0.078</td> <td>    0.180</td>\n",
       "</tr>\n",
       "<tr>\n",
       "  <th>household_income</th>          <td>    0.0657</td> <td>    0.028</td> <td>    2.335</td> <td> 0.020</td> <td>    0.010</td> <td>    0.121</td>\n",
       "</tr>\n",
       "<tr>\n",
       "  <th>married</th>                   <td>    0.0361</td> <td>    0.026</td> <td>    1.405</td> <td> 0.160</td> <td>   -0.014</td> <td>    0.087</td>\n",
       "</tr>\n",
       "<tr>\n",
       "  <th>no_kids_at_home</th>           <td>    0.0166</td> <td>    0.025</td> <td>    0.654</td> <td> 0.513</td> <td>   -0.033</td> <td>    0.066</td>\n",
       "</tr>\n",
       "<tr>\n",
       "  <th>urban_area</th>                <td>    0.0507</td> <td>    0.024</td> <td>    2.125</td> <td> 0.034</td> <td>    0.004</td> <td>    0.097</td>\n",
       "</tr>\n",
       "<tr>\n",
       "  <th>South</th>                     <td>   -0.0725</td> <td>    0.024</td> <td>   -3.032</td> <td> 0.002</td> <td>   -0.119</td> <td>   -0.026</td>\n",
       "</tr>\n",
       "</table>\n",
       "<table class=\"simpletable\">\n",
       "<tr>\n",
       "  <th>Omnibus:</th>       <td>681.012</td> <th>  Durbin-Watson:     </th> <td>   1.982</td>\n",
       "</tr>\n",
       "<tr>\n",
       "  <th>Prob(Omnibus):</th> <td> 0.000</td>  <th>  Jarque-Bera (JB):  </th> <td> 124.100</td>\n",
       "</tr>\n",
       "<tr>\n",
       "  <th>Skew:</th>          <td>-0.408</td>  <th>  Prob(JB):          </th> <td>1.13e-27</td>\n",
       "</tr>\n",
       "<tr>\n",
       "  <th>Kurtosis:</th>      <td> 1.891</td>  <th>  Cond. No.          </th> <td>    4.37</td>\n",
       "</tr>\n",
       "</table><br/><br/>Notes:<br/>[1] Standard Errors assume that the covariance matrix of the errors is correctly specified."
      ],
      "text/plain": [
       "<class 'statsmodels.iolib.summary.Summary'>\n",
       "\"\"\"\n",
       "                              OLS Regression Results                             \n",
       "=================================================================================\n",
       "Dep. Variable:     ban_on_semi_auto_guns   R-squared:                       0.189\n",
       "Model:                               OLS   Adj. R-squared:                  0.176\n",
       "Method:                    Least Squares   F-statistic:                     15.02\n",
       "Date:                   Sun, 19 Dec 2021   Prob (F-statistic):           8.27e-55\n",
       "Time:                           22:23:34   Log-Likelihood:                -2065.9\n",
       "No. Observations:                   1572   AIC:                             4182.\n",
       "Df Residuals:                       1547   BIC:                             4316.\n",
       "Df Model:                             24                                         \n",
       "Covariance Type:               nonrobust                                         \n",
       "=============================================================================================\n",
       "                                coef    std err          t      P>|t|      [0.025      0.975]\n",
       "---------------------------------------------------------------------------------------------\n",
       "Intercept                  1.865e-16      0.023   8.14e-15      1.000      -0.045       0.045\n",
       "supernatural_evil            -0.0615      0.033     -1.856      0.064      -0.126       0.004\n",
       "attendance                    0.0558      0.030      1.862      0.063      -0.003       0.115\n",
       "inerrancy                     0.0047      0.030      0.154      0.877      -0.055       0.064\n",
       "literalism                    0.0054      0.033      0.161      0.872      -0.060       0.071\n",
       "mainline_protestant           0.0198      0.031      0.631      0.528      -0.042       0.082\n",
       "black_protestant             -0.0205      0.036     -0.569      0.570      -0.091       0.050\n",
       "conservative_protestant       0.0376      0.038      0.977      0.329      -0.038       0.113\n",
       "catholic                      0.0408      0.035      1.182      0.237      -0.027       0.108\n",
       "other_religion                0.0498      0.027      1.835      0.067      -0.003       0.103\n",
       "Political_Ideology            0.2801      0.027     10.397      0.000       0.227       0.333\n",
       "Black_or_African_American     0.0883      0.034      2.588      0.010       0.021       0.155\n",
       "Hispanic_or_Latino            0.0602      0.029      2.074      0.038       0.003       0.117\n",
       "other_race                    0.0130      0.028      0.471      0.638      -0.041       0.067\n",
       "female                        0.2158      0.024      9.100      0.000       0.169       0.262\n",
       "Less_than_High_School        -0.0228      0.026     -0.872      0.383      -0.074       0.029\n",
       "Some_College                 -0.0247      0.033     -0.748      0.455      -0.090       0.040\n",
       "college                      -0.0533      0.033     -1.606      0.108      -0.118       0.012\n",
       "post_grad                     0.0320      0.034      0.956      0.339      -0.034       0.098\n",
       "AGE                           0.1290      0.026      4.935      0.000       0.078       0.180\n",
       "household_income              0.0657      0.028      2.335      0.020       0.010       0.121\n",
       "married                       0.0361      0.026      1.405      0.160      -0.014       0.087\n",
       "no_kids_at_home               0.0166      0.025      0.654      0.513      -0.033       0.066\n",
       "urban_area                    0.0507      0.024      2.125      0.034       0.004       0.097\n",
       "South                        -0.0725      0.024     -3.032      0.002      -0.119      -0.026\n",
       "==============================================================================\n",
       "Omnibus:                      681.012   Durbin-Watson:                   1.982\n",
       "Prob(Omnibus):                  0.000   Jarque-Bera (JB):              124.100\n",
       "Skew:                          -0.408   Prob(JB):                     1.13e-27\n",
       "Kurtosis:                       1.891   Cond. No.                         4.37\n",
       "==============================================================================\n",
       "\n",
       "Notes:\n",
       "[1] Standard Errors assume that the covariance matrix of the errors is correctly specified.\n",
       "\"\"\""
      ]
     },
     "execution_count": 385,
     "metadata": {},
     "output_type": "execute_result"
    }
   ],
   "source": [
    "do_big_linear('ban_on_semi_auto_guns')"
   ]
  },
  {
   "cell_type": "markdown",
   "metadata": {},
   "source": [
    "Due to the fact that this is the first example, we will explain what those numbers mean.  \n",
    "First of all we standarize our variables so that we can compare the relative importance of each coefficient in our regression model.  \n",
    "Let's talk about the small regression. As we can see *supernatural evil* is statistically important with a p-value of 0.  \n",
    "Its beta coefficient value is -0.12. This means that:  \n",
    "With every increase of one standard deviation in supernatural evil, our dependent variable, which is banning semi auto guns, decreases by 0.12 standard deviations.  \n",
    "This assumption is being made with the fact that all the other variables are held constant.  \n",
    "\n",
    "The same excact process if followed for other significant variables as well. We will not rewrite the same comments for the other dependent variables to avoid repetitiveness as the process is the same."
   ]
  },
  {
   "cell_type": "markdown",
   "metadata": {},
   "source": [
    "### Ban on high capacity ammo clips"
   ]
  },
  {
   "cell_type": "markdown",
   "metadata": {},
   "source": [
    "Let's see the model without the controls for political ideology"
   ]
  },
  {
   "cell_type": "code",
   "execution_count": 386,
   "metadata": {},
   "outputs": [
    {
     "data": {
      "text/html": [
       "<table class=\"simpletable\">\n",
       "<caption>OLS Regression Results</caption>\n",
       "<tr>\n",
       "  <th>Dep. Variable:</th>    <td>ban_on_high_capacity_ammo_clips</td> <th>  R-squared:         </th> <td>   0.020</td>\n",
       "</tr>\n",
       "<tr>\n",
       "  <th>Model:</th>                          <td>OLS</td>               <th>  Adj. R-squared:    </th> <td>   0.014</td>\n",
       "</tr>\n",
       "<tr>\n",
       "  <th>Method:</th>                    <td>Least Squares</td>          <th>  F-statistic:       </th> <td>   3.462</td>\n",
       "</tr>\n",
       "<tr>\n",
       "  <th>Date:</th>                    <td>Sun, 19 Dec 2021</td>         <th>  Prob (F-statistic):</th> <td>0.000305</td>\n",
       "</tr>\n",
       "<tr>\n",
       "  <th>Time:</th>                        <td>22:23:34</td>             <th>  Log-Likelihood:    </th> <td> -2215.0</td>\n",
       "</tr>\n",
       "<tr>\n",
       "  <th>No. Observations:</th>             <td>  1572</td>              <th>  AIC:               </th> <td>   4450.</td>\n",
       "</tr>\n",
       "<tr>\n",
       "  <th>Df Residuals:</th>                 <td>  1562</td>              <th>  BIC:               </th> <td>   4504.</td>\n",
       "</tr>\n",
       "<tr>\n",
       "  <th>Df Model:</th>                     <td>     9</td>              <th>                     </th>     <td> </td>   \n",
       "</tr>\n",
       "<tr>\n",
       "  <th>Covariance Type:</th>             <td>nonrobust</td>            <th>                     </th>     <td> </td>   \n",
       "</tr>\n",
       "</table>\n",
       "<table class=\"simpletable\">\n",
       "<tr>\n",
       "             <td></td>                <th>coef</th>     <th>std err</th>      <th>t</th>      <th>P>|t|</th>  <th>[0.025</th>    <th>0.975]</th>  \n",
       "</tr>\n",
       "<tr>\n",
       "  <th>Intercept</th>               <td> 1.388e-17</td> <td>    0.025</td> <td> 5.54e-16</td> <td> 1.000</td> <td>   -0.049</td> <td>    0.049</td>\n",
       "</tr>\n",
       "<tr>\n",
       "  <th>supernatural_evil</th>       <td>   -0.1163</td> <td>    0.035</td> <td>   -3.349</td> <td> 0.001</td> <td>   -0.184</td> <td>   -0.048</td>\n",
       "</tr>\n",
       "<tr>\n",
       "  <th>attendance</th>              <td>    0.0392</td> <td>    0.032</td> <td>    1.227</td> <td> 0.220</td> <td>   -0.023</td> <td>    0.102</td>\n",
       "</tr>\n",
       "<tr>\n",
       "  <th>inerrancy</th>               <td>    0.0203</td> <td>    0.033</td> <td>    0.615</td> <td> 0.538</td> <td>   -0.044</td> <td>    0.085</td>\n",
       "</tr>\n",
       "<tr>\n",
       "  <th>literalism</th>              <td>    0.0093</td> <td>    0.036</td> <td>    0.261</td> <td> 0.794</td> <td>   -0.061</td> <td>    0.079</td>\n",
       "</tr>\n",
       "<tr>\n",
       "  <th>mainline_protestant</th>     <td>    0.0050</td> <td>    0.034</td> <td>    0.148</td> <td> 0.883</td> <td>   -0.061</td> <td>    0.071</td>\n",
       "</tr>\n",
       "<tr>\n",
       "  <th>black_protestant</th>        <td>    0.0521</td> <td>    0.031</td> <td>    1.655</td> <td> 0.098</td> <td>   -0.010</td> <td>    0.114</td>\n",
       "</tr>\n",
       "<tr>\n",
       "  <th>conservative_protestant</th> <td>   -0.0316</td> <td>    0.042</td> <td>   -0.762</td> <td> 0.446</td> <td>   -0.113</td> <td>    0.050</td>\n",
       "</tr>\n",
       "<tr>\n",
       "  <th>catholic</th>                <td>    0.0332</td> <td>    0.037</td> <td>    0.901</td> <td> 0.368</td> <td>   -0.039</td> <td>    0.105</td>\n",
       "</tr>\n",
       "<tr>\n",
       "  <th>other_religion</th>          <td>    0.0586</td> <td>    0.029</td> <td>    2.017</td> <td> 0.044</td> <td>    0.002</td> <td>    0.116</td>\n",
       "</tr>\n",
       "</table>\n",
       "<table class=\"simpletable\">\n",
       "<tr>\n",
       "  <th>Omnibus:</th>       <td>15243.383</td> <th>  Durbin-Watson:     </th> <td>   2.020</td>\n",
       "</tr>\n",
       "<tr>\n",
       "  <th>Prob(Omnibus):</th>  <td> 0.000</td>   <th>  Jarque-Bera (JB):  </th> <td> 261.253</td>\n",
       "</tr>\n",
       "<tr>\n",
       "  <th>Skew:</th>           <td>-0.701</td>   <th>  Prob(JB):          </th> <td>1.86e-57</td>\n",
       "</tr>\n",
       "<tr>\n",
       "  <th>Kurtosis:</th>       <td> 1.578</td>   <th>  Cond. No.          </th> <td>    3.78</td>\n",
       "</tr>\n",
       "</table><br/><br/>Notes:<br/>[1] Standard Errors assume that the covariance matrix of the errors is correctly specified."
      ],
      "text/plain": [
       "<class 'statsmodels.iolib.summary.Summary'>\n",
       "\"\"\"\n",
       "                                   OLS Regression Results                                  \n",
       "===========================================================================================\n",
       "Dep. Variable:     ban_on_high_capacity_ammo_clips   R-squared:                       0.020\n",
       "Model:                                         OLS   Adj. R-squared:                  0.014\n",
       "Method:                              Least Squares   F-statistic:                     3.462\n",
       "Date:                             Sun, 19 Dec 2021   Prob (F-statistic):           0.000305\n",
       "Time:                                     22:23:34   Log-Likelihood:                -2215.0\n",
       "No. Observations:                             1572   AIC:                             4450.\n",
       "Df Residuals:                                 1562   BIC:                             4504.\n",
       "Df Model:                                        9                                         \n",
       "Covariance Type:                         nonrobust                                         \n",
       "===========================================================================================\n",
       "                              coef    std err          t      P>|t|      [0.025      0.975]\n",
       "-------------------------------------------------------------------------------------------\n",
       "Intercept                1.388e-17      0.025   5.54e-16      1.000      -0.049       0.049\n",
       "supernatural_evil          -0.1163      0.035     -3.349      0.001      -0.184      -0.048\n",
       "attendance                  0.0392      0.032      1.227      0.220      -0.023       0.102\n",
       "inerrancy                   0.0203      0.033      0.615      0.538      -0.044       0.085\n",
       "literalism                  0.0093      0.036      0.261      0.794      -0.061       0.079\n",
       "mainline_protestant         0.0050      0.034      0.148      0.883      -0.061       0.071\n",
       "black_protestant            0.0521      0.031      1.655      0.098      -0.010       0.114\n",
       "conservative_protestant    -0.0316      0.042     -0.762      0.446      -0.113       0.050\n",
       "catholic                    0.0332      0.037      0.901      0.368      -0.039       0.105\n",
       "other_religion              0.0586      0.029      2.017      0.044       0.002       0.116\n",
       "==============================================================================\n",
       "Omnibus:                    15243.383   Durbin-Watson:                   2.020\n",
       "Prob(Omnibus):                  0.000   Jarque-Bera (JB):              261.253\n",
       "Skew:                          -0.701   Prob(JB):                     1.86e-57\n",
       "Kurtosis:                       1.578   Cond. No.                         3.78\n",
       "==============================================================================\n",
       "\n",
       "Notes:\n",
       "[1] Standard Errors assume that the covariance matrix of the errors is correctly specified.\n",
       "\"\"\""
      ]
     },
     "execution_count": 386,
     "metadata": {},
     "output_type": "execute_result"
    }
   ],
   "source": [
    "do_small_linear('ban_on_high_capacity_ammo_clips')"
   ]
  },
  {
   "cell_type": "markdown",
   "metadata": {},
   "source": [
    "Let's see the regression with all the variables as well!"
   ]
  },
  {
   "cell_type": "code",
   "execution_count": 387,
   "metadata": {},
   "outputs": [
    {
     "data": {
      "text/html": [
       "<table class=\"simpletable\">\n",
       "<caption>OLS Regression Results</caption>\n",
       "<tr>\n",
       "  <th>Dep. Variable:</th>    <td>ban_on_high_capacity_ammo_clips</td> <th>  R-squared:         </th> <td>   0.156</td>\n",
       "</tr>\n",
       "<tr>\n",
       "  <th>Model:</th>                          <td>OLS</td>               <th>  Adj. R-squared:    </th> <td>   0.143</td>\n",
       "</tr>\n",
       "<tr>\n",
       "  <th>Method:</th>                    <td>Least Squares</td>          <th>  F-statistic:       </th> <td>   11.93</td>\n",
       "</tr>\n",
       "<tr>\n",
       "  <th>Date:</th>                    <td>Sun, 19 Dec 2021</td>         <th>  Prob (F-statistic):</th> <td>2.18e-42</td>\n",
       "</tr>\n",
       "<tr>\n",
       "  <th>Time:</th>                        <td>22:23:34</td>             <th>  Log-Likelihood:    </th> <td> -2097.1</td>\n",
       "</tr>\n",
       "<tr>\n",
       "  <th>No. Observations:</th>             <td>  1572</td>              <th>  AIC:               </th> <td>   4244.</td>\n",
       "</tr>\n",
       "<tr>\n",
       "  <th>Df Residuals:</th>                 <td>  1547</td>              <th>  BIC:               </th> <td>   4378.</td>\n",
       "</tr>\n",
       "<tr>\n",
       "  <th>Df Model:</th>                     <td>    24</td>              <th>                     </th>     <td> </td>   \n",
       "</tr>\n",
       "<tr>\n",
       "  <th>Covariance Type:</th>             <td>nonrobust</td>            <th>                     </th>     <td> </td>   \n",
       "</tr>\n",
       "</table>\n",
       "<table class=\"simpletable\">\n",
       "<tr>\n",
       "              <td></td>                 <th>coef</th>     <th>std err</th>      <th>t</th>      <th>P>|t|</th>  <th>[0.025</th>    <th>0.975]</th>  \n",
       "</tr>\n",
       "<tr>\n",
       "  <th>Intercept</th>                 <td> 1.388e-17</td> <td>    0.023</td> <td> 5.94e-16</td> <td> 1.000</td> <td>   -0.046</td> <td>    0.046</td>\n",
       "</tr>\n",
       "<tr>\n",
       "  <th>supernatural_evil</th>         <td>   -0.0575</td> <td>    0.034</td> <td>   -1.700</td> <td> 0.089</td> <td>   -0.124</td> <td>    0.009</td>\n",
       "</tr>\n",
       "<tr>\n",
       "  <th>attendance</th>                <td>    0.0406</td> <td>    0.031</td> <td>    1.329</td> <td> 0.184</td> <td>   -0.019</td> <td>    0.101</td>\n",
       "</tr>\n",
       "<tr>\n",
       "  <th>inerrancy</th>                 <td>    0.0364</td> <td>    0.031</td> <td>    1.177</td> <td> 0.240</td> <td>   -0.024</td> <td>    0.097</td>\n",
       "</tr>\n",
       "<tr>\n",
       "  <th>literalism</th>                <td>    0.0305</td> <td>    0.034</td> <td>    0.898</td> <td> 0.370</td> <td>   -0.036</td> <td>    0.097</td>\n",
       "</tr>\n",
       "<tr>\n",
       "  <th>mainline_protestant</th>       <td>   -0.0026</td> <td>    0.032</td> <td>   -0.080</td> <td> 0.936</td> <td>   -0.065</td> <td>    0.060</td>\n",
       "</tr>\n",
       "<tr>\n",
       "  <th>black_protestant</th>          <td>   -0.0039</td> <td>    0.037</td> <td>   -0.106</td> <td> 0.915</td> <td>   -0.076</td> <td>    0.068</td>\n",
       "</tr>\n",
       "<tr>\n",
       "  <th>conservative_protestant</th>   <td>    0.0125</td> <td>    0.039</td> <td>    0.320</td> <td> 0.749</td> <td>   -0.064</td> <td>    0.089</td>\n",
       "</tr>\n",
       "<tr>\n",
       "  <th>catholic</th>                  <td>    0.0314</td> <td>    0.035</td> <td>    0.893</td> <td> 0.372</td> <td>   -0.038</td> <td>    0.100</td>\n",
       "</tr>\n",
       "<tr>\n",
       "  <th>other_religion</th>            <td>    0.0316</td> <td>    0.028</td> <td>    1.143</td> <td> 0.253</td> <td>   -0.023</td> <td>    0.086</td>\n",
       "</tr>\n",
       "<tr>\n",
       "  <th>Political_Ideology</th>        <td>    0.2665</td> <td>    0.027</td> <td>    9.700</td> <td> 0.000</td> <td>    0.213</td> <td>    0.320</td>\n",
       "</tr>\n",
       "<tr>\n",
       "  <th>Black_or_African_American</th> <td>    0.0460</td> <td>    0.035</td> <td>    1.322</td> <td> 0.186</td> <td>   -0.022</td> <td>    0.114</td>\n",
       "</tr>\n",
       "<tr>\n",
       "  <th>Hispanic_or_Latino</th>        <td>    0.0421</td> <td>    0.030</td> <td>    1.422</td> <td> 0.155</td> <td>   -0.016</td> <td>    0.100</td>\n",
       "</tr>\n",
       "<tr>\n",
       "  <th>other_race</th>                <td>    0.0242</td> <td>    0.028</td> <td>    0.858</td> <td> 0.391</td> <td>   -0.031</td> <td>    0.080</td>\n",
       "</tr>\n",
       "<tr>\n",
       "  <th>female</th>                    <td>    0.1921</td> <td>    0.024</td> <td>    7.942</td> <td> 0.000</td> <td>    0.145</td> <td>    0.240</td>\n",
       "</tr>\n",
       "<tr>\n",
       "  <th>Less_than_High_School</th>     <td>    0.0266</td> <td>    0.027</td> <td>    0.996</td> <td> 0.319</td> <td>   -0.026</td> <td>    0.079</td>\n",
       "</tr>\n",
       "<tr>\n",
       "  <th>Some_College</th>              <td>    0.0201</td> <td>    0.034</td> <td>    0.597</td> <td> 0.551</td> <td>   -0.046</td> <td>    0.086</td>\n",
       "</tr>\n",
       "<tr>\n",
       "  <th>college</th>                   <td>    0.0013</td> <td>    0.034</td> <td>    0.038</td> <td> 0.970</td> <td>   -0.065</td> <td>    0.068</td>\n",
       "</tr>\n",
       "<tr>\n",
       "  <th>post_grad</th>                 <td>    0.0860</td> <td>    0.034</td> <td>    2.515</td> <td> 0.012</td> <td>    0.019</td> <td>    0.153</td>\n",
       "</tr>\n",
       "<tr>\n",
       "  <th>AGE</th>                       <td>    0.1338</td> <td>    0.027</td> <td>    5.017</td> <td> 0.000</td> <td>    0.081</td> <td>    0.186</td>\n",
       "</tr>\n",
       "<tr>\n",
       "  <th>household_income</th>          <td>   -0.0018</td> <td>    0.029</td> <td>   -0.063</td> <td> 0.949</td> <td>   -0.058</td> <td>    0.054</td>\n",
       "</tr>\n",
       "<tr>\n",
       "  <th>married</th>                   <td>   -0.0217</td> <td>    0.026</td> <td>   -0.829</td> <td> 0.407</td> <td>   -0.073</td> <td>    0.030</td>\n",
       "</tr>\n",
       "<tr>\n",
       "  <th>no_kids_at_home</th>           <td>    0.0646</td> <td>    0.026</td> <td>    2.497</td> <td> 0.013</td> <td>    0.014</td> <td>    0.115</td>\n",
       "</tr>\n",
       "<tr>\n",
       "  <th>urban_area</th>                <td>    0.0563</td> <td>    0.024</td> <td>    2.315</td> <td> 0.021</td> <td>    0.009</td> <td>    0.104</td>\n",
       "</tr>\n",
       "<tr>\n",
       "  <th>South</th>                     <td>   -0.0247</td> <td>    0.024</td> <td>   -1.011</td> <td> 0.312</td> <td>   -0.073</td> <td>    0.023</td>\n",
       "</tr>\n",
       "</table>\n",
       "<table class=\"simpletable\">\n",
       "<tr>\n",
       "  <th>Omnibus:</th>       <td>431.939</td> <th>  Durbin-Watson:     </th> <td>   2.004</td>\n",
       "</tr>\n",
       "<tr>\n",
       "  <th>Prob(Omnibus):</th> <td> 0.000</td>  <th>  Jarque-Bera (JB):  </th> <td> 160.359</td>\n",
       "</tr>\n",
       "<tr>\n",
       "  <th>Skew:</th>          <td>-0.600</td>  <th>  Prob(JB):          </th> <td>1.51e-35</td>\n",
       "</tr>\n",
       "<tr>\n",
       "  <th>Kurtosis:</th>      <td> 1.997</td>  <th>  Cond. No.          </th> <td>    4.37</td>\n",
       "</tr>\n",
       "</table><br/><br/>Notes:<br/>[1] Standard Errors assume that the covariance matrix of the errors is correctly specified."
      ],
      "text/plain": [
       "<class 'statsmodels.iolib.summary.Summary'>\n",
       "\"\"\"\n",
       "                                   OLS Regression Results                                  \n",
       "===========================================================================================\n",
       "Dep. Variable:     ban_on_high_capacity_ammo_clips   R-squared:                       0.156\n",
       "Model:                                         OLS   Adj. R-squared:                  0.143\n",
       "Method:                              Least Squares   F-statistic:                     11.93\n",
       "Date:                             Sun, 19 Dec 2021   Prob (F-statistic):           2.18e-42\n",
       "Time:                                     22:23:34   Log-Likelihood:                -2097.1\n",
       "No. Observations:                             1572   AIC:                             4244.\n",
       "Df Residuals:                                 1547   BIC:                             4378.\n",
       "Df Model:                                       24                                         \n",
       "Covariance Type:                         nonrobust                                         \n",
       "=============================================================================================\n",
       "                                coef    std err          t      P>|t|      [0.025      0.975]\n",
       "---------------------------------------------------------------------------------------------\n",
       "Intercept                  1.388e-17      0.023   5.94e-16      1.000      -0.046       0.046\n",
       "supernatural_evil            -0.0575      0.034     -1.700      0.089      -0.124       0.009\n",
       "attendance                    0.0406      0.031      1.329      0.184      -0.019       0.101\n",
       "inerrancy                     0.0364      0.031      1.177      0.240      -0.024       0.097\n",
       "literalism                    0.0305      0.034      0.898      0.370      -0.036       0.097\n",
       "mainline_protestant          -0.0026      0.032     -0.080      0.936      -0.065       0.060\n",
       "black_protestant             -0.0039      0.037     -0.106      0.915      -0.076       0.068\n",
       "conservative_protestant       0.0125      0.039      0.320      0.749      -0.064       0.089\n",
       "catholic                      0.0314      0.035      0.893      0.372      -0.038       0.100\n",
       "other_religion                0.0316      0.028      1.143      0.253      -0.023       0.086\n",
       "Political_Ideology            0.2665      0.027      9.700      0.000       0.213       0.320\n",
       "Black_or_African_American     0.0460      0.035      1.322      0.186      -0.022       0.114\n",
       "Hispanic_or_Latino            0.0421      0.030      1.422      0.155      -0.016       0.100\n",
       "other_race                    0.0242      0.028      0.858      0.391      -0.031       0.080\n",
       "female                        0.1921      0.024      7.942      0.000       0.145       0.240\n",
       "Less_than_High_School         0.0266      0.027      0.996      0.319      -0.026       0.079\n",
       "Some_College                  0.0201      0.034      0.597      0.551      -0.046       0.086\n",
       "college                       0.0013      0.034      0.038      0.970      -0.065       0.068\n",
       "post_grad                     0.0860      0.034      2.515      0.012       0.019       0.153\n",
       "AGE                           0.1338      0.027      5.017      0.000       0.081       0.186\n",
       "household_income             -0.0018      0.029     -0.063      0.949      -0.058       0.054\n",
       "married                      -0.0217      0.026     -0.829      0.407      -0.073       0.030\n",
       "no_kids_at_home               0.0646      0.026      2.497      0.013       0.014       0.115\n",
       "urban_area                    0.0563      0.024      2.315      0.021       0.009       0.104\n",
       "South                        -0.0247      0.024     -1.011      0.312      -0.073       0.023\n",
       "==============================================================================\n",
       "Omnibus:                      431.939   Durbin-Watson:                   2.004\n",
       "Prob(Omnibus):                  0.000   Jarque-Bera (JB):              160.359\n",
       "Skew:                          -0.600   Prob(JB):                     1.51e-35\n",
       "Kurtosis:                       1.997   Cond. No.                         4.37\n",
       "==============================================================================\n",
       "\n",
       "Notes:\n",
       "[1] Standard Errors assume that the covariance matrix of the errors is correctly specified.\n",
       "\"\"\""
      ]
     },
     "execution_count": 387,
     "metadata": {},
     "output_type": "execute_result"
    }
   ],
   "source": [
    "do_big_linear('ban_on_high_capacity_ammo_clips')"
   ]
  },
  {
   "cell_type": "markdown",
   "metadata": {},
   "source": [
    "Let's talk about the small regression. As we can see *supernatural evil* is statistically important with a p-value of 0.  \n",
    "Its beta coefficient value is -0.11. This means that:  \n",
    "With every increase of one standard deviation in supernatural evil, our dependent variable, which is ban_on_high_capacity_ammo_clips, decreases by 0.11 standard deviations. \n",
    "This assumption is being made with the fact that all the other variables are held constant.  "
   ]
  },
  {
   "cell_type": "markdown",
   "metadata": {},
   "source": [
    "### Ban on civilian handguns"
   ]
  },
  {
   "cell_type": "markdown",
   "metadata": {},
   "source": [
    "Let's see the model without the controls for political ideology"
   ]
  },
  {
   "cell_type": "code",
   "execution_count": 388,
   "metadata": {},
   "outputs": [
    {
     "data": {
      "text/html": [
       "<table class=\"simpletable\">\n",
       "<caption>OLS Regression Results</caption>\n",
       "<tr>\n",
       "  <th>Dep. Variable:</th>    <td>ban_on_civilian_handguns</td> <th>  R-squared:         </th> <td>   0.051</td>\n",
       "</tr>\n",
       "<tr>\n",
       "  <th>Model:</th>                       <td>OLS</td>           <th>  Adj. R-squared:    </th> <td>   0.045</td>\n",
       "</tr>\n",
       "<tr>\n",
       "  <th>Method:</th>                 <td>Least Squares</td>      <th>  F-statistic:       </th> <td>   9.278</td>\n",
       "</tr>\n",
       "<tr>\n",
       "  <th>Date:</th>                 <td>Sun, 19 Dec 2021</td>     <th>  Prob (F-statistic):</th> <td>8.04e-14</td>\n",
       "</tr>\n",
       "<tr>\n",
       "  <th>Time:</th>                     <td>22:23:34</td>         <th>  Log-Likelihood:    </th> <td> -2189.6</td>\n",
       "</tr>\n",
       "<tr>\n",
       "  <th>No. Observations:</th>          <td>  1572</td>          <th>  AIC:               </th> <td>   4399.</td>\n",
       "</tr>\n",
       "<tr>\n",
       "  <th>Df Residuals:</th>              <td>  1562</td>          <th>  BIC:               </th> <td>   4453.</td>\n",
       "</tr>\n",
       "<tr>\n",
       "  <th>Df Model:</th>                  <td>     9</td>          <th>                     </th>     <td> </td>   \n",
       "</tr>\n",
       "<tr>\n",
       "  <th>Covariance Type:</th>          <td>nonrobust</td>        <th>                     </th>     <td> </td>   \n",
       "</tr>\n",
       "</table>\n",
       "<table class=\"simpletable\">\n",
       "<tr>\n",
       "             <td></td>                <th>coef</th>     <th>std err</th>      <th>t</th>      <th>P>|t|</th>  <th>[0.025</th>    <th>0.975]</th>  \n",
       "</tr>\n",
       "<tr>\n",
       "  <th>Intercept</th>               <td>  2.09e-16</td> <td>    0.025</td> <td> 8.48e-15</td> <td> 1.000</td> <td>   -0.048</td> <td>    0.048</td>\n",
       "</tr>\n",
       "<tr>\n",
       "  <th>supernatural_evil</th>       <td>   -0.1468</td> <td>    0.034</td> <td>   -4.295</td> <td> 0.000</td> <td>   -0.214</td> <td>   -0.080</td>\n",
       "</tr>\n",
       "<tr>\n",
       "  <th>attendance</th>              <td>    0.0648</td> <td>    0.031</td> <td>    2.063</td> <td> 0.039</td> <td>    0.003</td> <td>    0.126</td>\n",
       "</tr>\n",
       "<tr>\n",
       "  <th>inerrancy</th>               <td>   -0.0310</td> <td>    0.032</td> <td>   -0.957</td> <td> 0.339</td> <td>   -0.095</td> <td>    0.033</td>\n",
       "</tr>\n",
       "<tr>\n",
       "  <th>literalism</th>              <td>    0.0299</td> <td>    0.035</td> <td>    0.850</td> <td> 0.395</td> <td>   -0.039</td> <td>    0.099</td>\n",
       "</tr>\n",
       "<tr>\n",
       "  <th>mainline_protestant</th>     <td>   -0.0637</td> <td>    0.033</td> <td>   -1.921</td> <td> 0.055</td> <td>   -0.129</td> <td>    0.001</td>\n",
       "</tr>\n",
       "<tr>\n",
       "  <th>black_protestant</th>        <td>    0.1105</td> <td>    0.031</td> <td>    3.565</td> <td> 0.000</td> <td>    0.050</td> <td>    0.171</td>\n",
       "</tr>\n",
       "<tr>\n",
       "  <th>conservative_protestant</th> <td>   -0.0725</td> <td>    0.041</td> <td>   -1.776</td> <td> 0.076</td> <td>   -0.153</td> <td>    0.008</td>\n",
       "</tr>\n",
       "<tr>\n",
       "  <th>catholic</th>                <td>    0.0248</td> <td>    0.036</td> <td>    0.685</td> <td> 0.494</td> <td>   -0.046</td> <td>    0.096</td>\n",
       "</tr>\n",
       "<tr>\n",
       "  <th>other_religion</th>          <td>    0.0577</td> <td>    0.029</td> <td>    2.017</td> <td> 0.044</td> <td>    0.002</td> <td>    0.114</td>\n",
       "</tr>\n",
       "</table>\n",
       "<table class=\"simpletable\">\n",
       "<tr>\n",
       "  <th>Omnibus:</th>       <td>566.364</td> <th>  Durbin-Watson:     </th> <td>   1.993</td>\n",
       "</tr>\n",
       "<tr>\n",
       "  <th>Prob(Omnibus):</th> <td> 0.000</td>  <th>  Jarque-Bera (JB):  </th> <td> 257.067</td>\n",
       "</tr>\n",
       "<tr>\n",
       "  <th>Skew:</th>          <td> 0.844</td>  <th>  Prob(JB):          </th> <td>1.51e-56</td>\n",
       "</tr>\n",
       "<tr>\n",
       "  <th>Kurtosis:</th>      <td> 1.962</td>  <th>  Cond. No.          </th> <td>    3.78</td>\n",
       "</tr>\n",
       "</table><br/><br/>Notes:<br/>[1] Standard Errors assume that the covariance matrix of the errors is correctly specified."
      ],
      "text/plain": [
       "<class 'statsmodels.iolib.summary.Summary'>\n",
       "\"\"\"\n",
       "                               OLS Regression Results                               \n",
       "====================================================================================\n",
       "Dep. Variable:     ban_on_civilian_handguns   R-squared:                       0.051\n",
       "Model:                                  OLS   Adj. R-squared:                  0.045\n",
       "Method:                       Least Squares   F-statistic:                     9.278\n",
       "Date:                      Sun, 19 Dec 2021   Prob (F-statistic):           8.04e-14\n",
       "Time:                              22:23:34   Log-Likelihood:                -2189.6\n",
       "No. Observations:                      1572   AIC:                             4399.\n",
       "Df Residuals:                          1562   BIC:                             4453.\n",
       "Df Model:                                 9                                         \n",
       "Covariance Type:                  nonrobust                                         \n",
       "===========================================================================================\n",
       "                              coef    std err          t      P>|t|      [0.025      0.975]\n",
       "-------------------------------------------------------------------------------------------\n",
       "Intercept                 2.09e-16      0.025   8.48e-15      1.000      -0.048       0.048\n",
       "supernatural_evil          -0.1468      0.034     -4.295      0.000      -0.214      -0.080\n",
       "attendance                  0.0648      0.031      2.063      0.039       0.003       0.126\n",
       "inerrancy                  -0.0310      0.032     -0.957      0.339      -0.095       0.033\n",
       "literalism                  0.0299      0.035      0.850      0.395      -0.039       0.099\n",
       "mainline_protestant        -0.0637      0.033     -1.921      0.055      -0.129       0.001\n",
       "black_protestant            0.1105      0.031      3.565      0.000       0.050       0.171\n",
       "conservative_protestant    -0.0725      0.041     -1.776      0.076      -0.153       0.008\n",
       "catholic                    0.0248      0.036      0.685      0.494      -0.046       0.096\n",
       "other_religion              0.0577      0.029      2.017      0.044       0.002       0.114\n",
       "==============================================================================\n",
       "Omnibus:                      566.364   Durbin-Watson:                   1.993\n",
       "Prob(Omnibus):                  0.000   Jarque-Bera (JB):              257.067\n",
       "Skew:                           0.844   Prob(JB):                     1.51e-56\n",
       "Kurtosis:                       1.962   Cond. No.                         3.78\n",
       "==============================================================================\n",
       "\n",
       "Notes:\n",
       "[1] Standard Errors assume that the covariance matrix of the errors is correctly specified.\n",
       "\"\"\""
      ]
     },
     "execution_count": 388,
     "metadata": {},
     "output_type": "execute_result"
    }
   ],
   "source": [
    "do_small_linear('ban_on_civilian_handguns')"
   ]
  },
  {
   "cell_type": "markdown",
   "metadata": {},
   "source": [
    "Let's see the regression with all the variables as well!"
   ]
  },
  {
   "cell_type": "code",
   "execution_count": 389,
   "metadata": {},
   "outputs": [
    {
     "data": {
      "text/html": [
       "<table class=\"simpletable\">\n",
       "<caption>OLS Regression Results</caption>\n",
       "<tr>\n",
       "  <th>Dep. Variable:</th>    <td>ban_on_civilian_handguns</td> <th>  R-squared:         </th> <td>   0.132</td>\n",
       "</tr>\n",
       "<tr>\n",
       "  <th>Model:</th>                       <td>OLS</td>           <th>  Adj. R-squared:    </th> <td>   0.119</td>\n",
       "</tr>\n",
       "<tr>\n",
       "  <th>Method:</th>                 <td>Least Squares</td>      <th>  F-statistic:       </th> <td>   9.819</td>\n",
       "</tr>\n",
       "<tr>\n",
       "  <th>Date:</th>                 <td>Sun, 19 Dec 2021</td>     <th>  Prob (F-statistic):</th> <td>9.03e-34</td>\n",
       "</tr>\n",
       "<tr>\n",
       "  <th>Time:</th>                     <td>22:23:35</td>         <th>  Log-Likelihood:    </th> <td> -2119.1</td>\n",
       "</tr>\n",
       "<tr>\n",
       "  <th>No. Observations:</th>          <td>  1572</td>          <th>  AIC:               </th> <td>   4288.</td>\n",
       "</tr>\n",
       "<tr>\n",
       "  <th>Df Residuals:</th>              <td>  1547</td>          <th>  BIC:               </th> <td>   4422.</td>\n",
       "</tr>\n",
       "<tr>\n",
       "  <th>Df Model:</th>                  <td>    24</td>          <th>                     </th>     <td> </td>   \n",
       "</tr>\n",
       "<tr>\n",
       "  <th>Covariance Type:</th>          <td>nonrobust</td>        <th>                     </th>     <td> </td>   \n",
       "</tr>\n",
       "</table>\n",
       "<table class=\"simpletable\">\n",
       "<tr>\n",
       "              <td></td>                 <th>coef</th>     <th>std err</th>      <th>t</th>      <th>P>|t|</th>  <th>[0.025</th>    <th>0.975]</th>  \n",
       "</tr>\n",
       "<tr>\n",
       "  <th>Intercept</th>                 <td>  2.09e-16</td> <td>    0.024</td> <td> 8.83e-15</td> <td> 1.000</td> <td>   -0.046</td> <td>    0.046</td>\n",
       "</tr>\n",
       "<tr>\n",
       "  <th>supernatural_evil</th>         <td>   -0.1103</td> <td>    0.034</td> <td>   -3.218</td> <td> 0.001</td> <td>   -0.178</td> <td>   -0.043</td>\n",
       "</tr>\n",
       "<tr>\n",
       "  <th>attendance</th>                <td>    0.0665</td> <td>    0.031</td> <td>    2.144</td> <td> 0.032</td> <td>    0.006</td> <td>    0.127</td>\n",
       "</tr>\n",
       "<tr>\n",
       "  <th>inerrancy</th>                 <td>   -0.0102</td> <td>    0.031</td> <td>   -0.324</td> <td> 0.746</td> <td>   -0.072</td> <td>    0.051</td>\n",
       "</tr>\n",
       "<tr>\n",
       "  <th>literalism</th>                <td>    0.0429</td> <td>    0.034</td> <td>    1.246</td> <td> 0.213</td> <td>   -0.025</td> <td>    0.111</td>\n",
       "</tr>\n",
       "<tr>\n",
       "  <th>mainline_protestant</th>       <td>   -0.0507</td> <td>    0.033</td> <td>   -1.560</td> <td> 0.119</td> <td>   -0.115</td> <td>    0.013</td>\n",
       "</tr>\n",
       "<tr>\n",
       "  <th>black_protestant</th>          <td>    0.0637</td> <td>    0.037</td> <td>    1.709</td> <td> 0.088</td> <td>   -0.009</td> <td>    0.137</td>\n",
       "</tr>\n",
       "<tr>\n",
       "  <th>conservative_protestant</th>   <td>   -0.0357</td> <td>    0.040</td> <td>   -0.897</td> <td> 0.370</td> <td>   -0.114</td> <td>    0.042</td>\n",
       "</tr>\n",
       "<tr>\n",
       "  <th>catholic</th>                  <td>    0.0036</td> <td>    0.036</td> <td>    0.099</td> <td> 0.921</td> <td>   -0.066</td> <td>    0.074</td>\n",
       "</tr>\n",
       "<tr>\n",
       "  <th>other_religion</th>            <td>    0.0357</td> <td>    0.028</td> <td>    1.274</td> <td> 0.203</td> <td>   -0.019</td> <td>    0.091</td>\n",
       "</tr>\n",
       "<tr>\n",
       "  <th>Political_Ideology</th>        <td>    0.1798</td> <td>    0.028</td> <td>    6.454</td> <td> 0.000</td> <td>    0.125</td> <td>    0.235</td>\n",
       "</tr>\n",
       "<tr>\n",
       "  <th>Black_or_African_American</th> <td>    0.0587</td> <td>    0.035</td> <td>    1.664</td> <td> 0.096</td> <td>   -0.010</td> <td>    0.128</td>\n",
       "</tr>\n",
       "<tr>\n",
       "  <th>Hispanic_or_Latino</th>        <td>    0.1807</td> <td>    0.030</td> <td>    6.019</td> <td> 0.000</td> <td>    0.122</td> <td>    0.240</td>\n",
       "</tr>\n",
       "<tr>\n",
       "  <th>other_race</th>                <td>    0.1327</td> <td>    0.029</td> <td>    4.634</td> <td> 0.000</td> <td>    0.077</td> <td>    0.189</td>\n",
       "</tr>\n",
       "<tr>\n",
       "  <th>female</th>                    <td>    0.0533</td> <td>    0.025</td> <td>    2.173</td> <td> 0.030</td> <td>    0.005</td> <td>    0.101</td>\n",
       "</tr>\n",
       "<tr>\n",
       "  <th>Less_than_High_School</th>     <td>    0.0537</td> <td>    0.027</td> <td>    1.982</td> <td> 0.048</td> <td>    0.001</td> <td>    0.107</td>\n",
       "</tr>\n",
       "<tr>\n",
       "  <th>Some_College</th>              <td>   -0.0173</td> <td>    0.034</td> <td>   -0.507</td> <td> 0.612</td> <td>   -0.084</td> <td>    0.050</td>\n",
       "</tr>\n",
       "<tr>\n",
       "  <th>college</th>                   <td>    0.0196</td> <td>    0.034</td> <td>    0.570</td> <td> 0.568</td> <td>   -0.048</td> <td>    0.087</td>\n",
       "</tr>\n",
       "<tr>\n",
       "  <th>post_grad</th>                 <td>    0.0778</td> <td>    0.035</td> <td>    2.245</td> <td> 0.025</td> <td>    0.010</td> <td>    0.146</td>\n",
       "</tr>\n",
       "<tr>\n",
       "  <th>AGE</th>                       <td>    0.0719</td> <td>    0.027</td> <td>    2.659</td> <td> 0.008</td> <td>    0.019</td> <td>    0.125</td>\n",
       "</tr>\n",
       "<tr>\n",
       "  <th>household_income</th>          <td>   -0.0532</td> <td>    0.029</td> <td>   -1.829</td> <td> 0.068</td> <td>   -0.110</td> <td>    0.004</td>\n",
       "</tr>\n",
       "<tr>\n",
       "  <th>married</th>                   <td>   -0.0111</td> <td>    0.027</td> <td>   -0.419</td> <td> 0.675</td> <td>   -0.063</td> <td>    0.041</td>\n",
       "</tr>\n",
       "<tr>\n",
       "  <th>no_kids_at_home</th>           <td>   -0.0265</td> <td>    0.026</td> <td>   -1.011</td> <td> 0.312</td> <td>   -0.078</td> <td>    0.025</td>\n",
       "</tr>\n",
       "<tr>\n",
       "  <th>urban_area</th>                <td>    0.0529</td> <td>    0.025</td> <td>    2.145</td> <td> 0.032</td> <td>    0.005</td> <td>    0.101</td>\n",
       "</tr>\n",
       "<tr>\n",
       "  <th>South</th>                     <td>   -0.0439</td> <td>    0.025</td> <td>   -1.776</td> <td> 0.076</td> <td>   -0.092</td> <td>    0.005</td>\n",
       "</tr>\n",
       "</table>\n",
       "<table class=\"simpletable\">\n",
       "<tr>\n",
       "  <th>Omnibus:</th>       <td>296.863</td> <th>  Durbin-Watson:     </th> <td>   1.996</td>\n",
       "</tr>\n",
       "<tr>\n",
       "  <th>Prob(Omnibus):</th> <td> 0.000</td>  <th>  Jarque-Bera (JB):  </th> <td> 182.652</td>\n",
       "</tr>\n",
       "<tr>\n",
       "  <th>Skew:</th>          <td> 0.710</td>  <th>  Prob(JB):          </th> <td>2.18e-40</td>\n",
       "</tr>\n",
       "<tr>\n",
       "  <th>Kurtosis:</th>      <td> 2.122</td>  <th>  Cond. No.          </th> <td>    4.37</td>\n",
       "</tr>\n",
       "</table><br/><br/>Notes:<br/>[1] Standard Errors assume that the covariance matrix of the errors is correctly specified."
      ],
      "text/plain": [
       "<class 'statsmodels.iolib.summary.Summary'>\n",
       "\"\"\"\n",
       "                               OLS Regression Results                               \n",
       "====================================================================================\n",
       "Dep. Variable:     ban_on_civilian_handguns   R-squared:                       0.132\n",
       "Model:                                  OLS   Adj. R-squared:                  0.119\n",
       "Method:                       Least Squares   F-statistic:                     9.819\n",
       "Date:                      Sun, 19 Dec 2021   Prob (F-statistic):           9.03e-34\n",
       "Time:                              22:23:35   Log-Likelihood:                -2119.1\n",
       "No. Observations:                      1572   AIC:                             4288.\n",
       "Df Residuals:                          1547   BIC:                             4422.\n",
       "Df Model:                                24                                         \n",
       "Covariance Type:                  nonrobust                                         \n",
       "=============================================================================================\n",
       "                                coef    std err          t      P>|t|      [0.025      0.975]\n",
       "---------------------------------------------------------------------------------------------\n",
       "Intercept                   2.09e-16      0.024   8.83e-15      1.000      -0.046       0.046\n",
       "supernatural_evil            -0.1103      0.034     -3.218      0.001      -0.178      -0.043\n",
       "attendance                    0.0665      0.031      2.144      0.032       0.006       0.127\n",
       "inerrancy                    -0.0102      0.031     -0.324      0.746      -0.072       0.051\n",
       "literalism                    0.0429      0.034      1.246      0.213      -0.025       0.111\n",
       "mainline_protestant          -0.0507      0.033     -1.560      0.119      -0.115       0.013\n",
       "black_protestant              0.0637      0.037      1.709      0.088      -0.009       0.137\n",
       "conservative_protestant      -0.0357      0.040     -0.897      0.370      -0.114       0.042\n",
       "catholic                      0.0036      0.036      0.099      0.921      -0.066       0.074\n",
       "other_religion                0.0357      0.028      1.274      0.203      -0.019       0.091\n",
       "Political_Ideology            0.1798      0.028      6.454      0.000       0.125       0.235\n",
       "Black_or_African_American     0.0587      0.035      1.664      0.096      -0.010       0.128\n",
       "Hispanic_or_Latino            0.1807      0.030      6.019      0.000       0.122       0.240\n",
       "other_race                    0.1327      0.029      4.634      0.000       0.077       0.189\n",
       "female                        0.0533      0.025      2.173      0.030       0.005       0.101\n",
       "Less_than_High_School         0.0537      0.027      1.982      0.048       0.001       0.107\n",
       "Some_College                 -0.0173      0.034     -0.507      0.612      -0.084       0.050\n",
       "college                       0.0196      0.034      0.570      0.568      -0.048       0.087\n",
       "post_grad                     0.0778      0.035      2.245      0.025       0.010       0.146\n",
       "AGE                           0.0719      0.027      2.659      0.008       0.019       0.125\n",
       "household_income             -0.0532      0.029     -1.829      0.068      -0.110       0.004\n",
       "married                      -0.0111      0.027     -0.419      0.675      -0.063       0.041\n",
       "no_kids_at_home              -0.0265      0.026     -1.011      0.312      -0.078       0.025\n",
       "urban_area                    0.0529      0.025      2.145      0.032       0.005       0.101\n",
       "South                        -0.0439      0.025     -1.776      0.076      -0.092       0.005\n",
       "==============================================================================\n",
       "Omnibus:                      296.863   Durbin-Watson:                   1.996\n",
       "Prob(Omnibus):                  0.000   Jarque-Bera (JB):              182.652\n",
       "Skew:                           0.710   Prob(JB):                     2.18e-40\n",
       "Kurtosis:                       2.122   Cond. No.                         4.37\n",
       "==============================================================================\n",
       "\n",
       "Notes:\n",
       "[1] Standard Errors assume that the covariance matrix of the errors is correctly specified.\n",
       "\"\"\""
      ]
     },
     "execution_count": 389,
     "metadata": {},
     "output_type": "execute_result"
    }
   ],
   "source": [
    "do_big_linear('ban_on_civilian_handguns')"
   ]
  },
  {
   "cell_type": "markdown",
   "metadata": {},
   "source": [
    "Let's talk about the small regression. As we can see *supernatural evil* is statistically important with a p-value of 0.  \n",
    "Its beta coefficient value is -0.14. This means that:  \n",
    "With every increase of one standard deviation in supernatural evil, our dependent variable, which is ban_on_civilian_handguns, decreases by 0.14 standard deviations.  This percentage is -0.11 in the when we add controls for political ideology.\n",
    "This assumption is being made with the fact that all the other variables are held constant.  "
   ]
  },
  {
   "cell_type": "markdown",
   "metadata": {},
   "source": [
    "### Support for conceled carry laws "
   ]
  },
  {
   "cell_type": "markdown",
   "metadata": {},
   "source": [
    "Let's see the model without the controls for political ideology"
   ]
  },
  {
   "cell_type": "code",
   "execution_count": 390,
   "metadata": {},
   "outputs": [
    {
     "data": {
      "text/html": [
       "<table class=\"simpletable\">\n",
       "<caption>OLS Regression Results</caption>\n",
       "<tr>\n",
       "  <th>Dep. Variable:</th>    <td>support_for_Concealed_Carry_Laws</td> <th>  R-squared:         </th> <td>   0.051</td>\n",
       "</tr>\n",
       "<tr>\n",
       "  <th>Model:</th>                           <td>OLS</td>               <th>  Adj. R-squared:    </th> <td>   0.046</td>\n",
       "</tr>\n",
       "<tr>\n",
       "  <th>Method:</th>                     <td>Least Squares</td>          <th>  F-statistic:       </th> <td>   9.372</td>\n",
       "</tr>\n",
       "<tr>\n",
       "  <th>Date:</th>                     <td>Sun, 19 Dec 2021</td>         <th>  Prob (F-statistic):</th> <td>5.55e-14</td>\n",
       "</tr>\n",
       "<tr>\n",
       "  <th>Time:</th>                         <td>22:23:35</td>             <th>  Log-Likelihood:    </th> <td> -2189.2</td>\n",
       "</tr>\n",
       "<tr>\n",
       "  <th>No. Observations:</th>              <td>  1572</td>              <th>  AIC:               </th> <td>   4398.</td>\n",
       "</tr>\n",
       "<tr>\n",
       "  <th>Df Residuals:</th>                  <td>  1562</td>              <th>  BIC:               </th> <td>   4452.</td>\n",
       "</tr>\n",
       "<tr>\n",
       "  <th>Df Model:</th>                      <td>     9</td>              <th>                     </th>     <td> </td>   \n",
       "</tr>\n",
       "<tr>\n",
       "  <th>Covariance Type:</th>              <td>nonrobust</td>            <th>                     </th>     <td> </td>   \n",
       "</tr>\n",
       "</table>\n",
       "<table class=\"simpletable\">\n",
       "<tr>\n",
       "             <td></td>                <th>coef</th>     <th>std err</th>      <th>t</th>      <th>P>|t|</th>  <th>[0.025</th>    <th>0.975]</th>  \n",
       "</tr>\n",
       "<tr>\n",
       "  <th>Intercept</th>               <td>-1.253e-16</td> <td>    0.025</td> <td>-5.09e-15</td> <td> 1.000</td> <td>   -0.048</td> <td>    0.048</td>\n",
       "</tr>\n",
       "<tr>\n",
       "  <th>supernatural_evil</th>       <td>    0.1792</td> <td>    0.034</td> <td>    5.245</td> <td> 0.000</td> <td>    0.112</td> <td>    0.246</td>\n",
       "</tr>\n",
       "<tr>\n",
       "  <th>attendance</th>              <td>   -0.0207</td> <td>    0.031</td> <td>   -0.660</td> <td> 0.509</td> <td>   -0.082</td> <td>    0.041</td>\n",
       "</tr>\n",
       "<tr>\n",
       "  <th>inerrancy</th>               <td>   -0.0469</td> <td>    0.032</td> <td>   -1.446</td> <td> 0.148</td> <td>   -0.110</td> <td>    0.017</td>\n",
       "</tr>\n",
       "<tr>\n",
       "  <th>literalism</th>              <td>   -0.0009</td> <td>    0.035</td> <td>   -0.024</td> <td> 0.981</td> <td>   -0.070</td> <td>    0.068</td>\n",
       "</tr>\n",
       "<tr>\n",
       "  <th>mainline_protestant</th>     <td>    0.0108</td> <td>    0.033</td> <td>    0.327</td> <td> 0.744</td> <td>   -0.054</td> <td>    0.076</td>\n",
       "</tr>\n",
       "<tr>\n",
       "  <th>black_protestant</th>        <td>   -0.0943</td> <td>    0.031</td> <td>   -3.045</td> <td> 0.002</td> <td>   -0.155</td> <td>   -0.034</td>\n",
       "</tr>\n",
       "<tr>\n",
       "  <th>conservative_protestant</th> <td>    0.0365</td> <td>    0.041</td> <td>    0.894</td> <td> 0.372</td> <td>   -0.044</td> <td>    0.117</td>\n",
       "</tr>\n",
       "<tr>\n",
       "  <th>catholic</th>                <td>   -0.0790</td> <td>    0.036</td> <td>   -2.182</td> <td> 0.029</td> <td>   -0.150</td> <td>   -0.008</td>\n",
       "</tr>\n",
       "<tr>\n",
       "  <th>other_religion</th>          <td>   -0.0763</td> <td>    0.029</td> <td>   -2.670</td> <td> 0.008</td> <td>   -0.132</td> <td>   -0.020</td>\n",
       "</tr>\n",
       "</table>\n",
       "<table class=\"simpletable\">\n",
       "<tr>\n",
       "  <th>Omnibus:</th>       <td>6985.460</td> <th>  Durbin-Watson:     </th> <td>   1.924</td>\n",
       "</tr>\n",
       "<tr>\n",
       "  <th>Prob(Omnibus):</th>  <td> 0.000</td>  <th>  Jarque-Bera (JB):  </th> <td> 211.568</td>\n",
       "</tr>\n",
       "<tr>\n",
       "  <th>Skew:</th>           <td>-0.225</td>  <th>  Prob(JB):          </th> <td>1.14e-46</td>\n",
       "</tr>\n",
       "<tr>\n",
       "  <th>Kurtosis:</th>       <td> 1.260</td>  <th>  Cond. No.          </th> <td>    3.78</td>\n",
       "</tr>\n",
       "</table><br/><br/>Notes:<br/>[1] Standard Errors assume that the covariance matrix of the errors is correctly specified."
      ],
      "text/plain": [
       "<class 'statsmodels.iolib.summary.Summary'>\n",
       "\"\"\"\n",
       "                                   OLS Regression Results                                   \n",
       "============================================================================================\n",
       "Dep. Variable:     support_for_Concealed_Carry_Laws   R-squared:                       0.051\n",
       "Model:                                          OLS   Adj. R-squared:                  0.046\n",
       "Method:                               Least Squares   F-statistic:                     9.372\n",
       "Date:                              Sun, 19 Dec 2021   Prob (F-statistic):           5.55e-14\n",
       "Time:                                      22:23:35   Log-Likelihood:                -2189.2\n",
       "No. Observations:                              1572   AIC:                             4398.\n",
       "Df Residuals:                                  1562   BIC:                             4452.\n",
       "Df Model:                                         9                                         \n",
       "Covariance Type:                          nonrobust                                         \n",
       "===========================================================================================\n",
       "                              coef    std err          t      P>|t|      [0.025      0.975]\n",
       "-------------------------------------------------------------------------------------------\n",
       "Intercept               -1.253e-16      0.025  -5.09e-15      1.000      -0.048       0.048\n",
       "supernatural_evil           0.1792      0.034      5.245      0.000       0.112       0.246\n",
       "attendance                 -0.0207      0.031     -0.660      0.509      -0.082       0.041\n",
       "inerrancy                  -0.0469      0.032     -1.446      0.148      -0.110       0.017\n",
       "literalism                 -0.0009      0.035     -0.024      0.981      -0.070       0.068\n",
       "mainline_protestant         0.0108      0.033      0.327      0.744      -0.054       0.076\n",
       "black_protestant           -0.0943      0.031     -3.045      0.002      -0.155      -0.034\n",
       "conservative_protestant     0.0365      0.041      0.894      0.372      -0.044       0.117\n",
       "catholic                   -0.0790      0.036     -2.182      0.029      -0.150      -0.008\n",
       "other_religion             -0.0763      0.029     -2.670      0.008      -0.132      -0.020\n",
       "==============================================================================\n",
       "Omnibus:                     6985.460   Durbin-Watson:                   1.924\n",
       "Prob(Omnibus):                  0.000   Jarque-Bera (JB):              211.568\n",
       "Skew:                          -0.225   Prob(JB):                     1.14e-46\n",
       "Kurtosis:                       1.260   Cond. No.                         3.78\n",
       "==============================================================================\n",
       "\n",
       "Notes:\n",
       "[1] Standard Errors assume that the covariance matrix of the errors is correctly specified.\n",
       "\"\"\""
      ]
     },
     "execution_count": 390,
     "metadata": {},
     "output_type": "execute_result"
    }
   ],
   "source": [
    "do_small_linear('support_for_Concealed_Carry_Laws')"
   ]
  },
  {
   "cell_type": "markdown",
   "metadata": {},
   "source": [
    "Let's see the regression with all the variables as well!"
   ]
  },
  {
   "cell_type": "code",
   "execution_count": 391,
   "metadata": {},
   "outputs": [
    {
     "data": {
      "text/html": [
       "<table class=\"simpletable\">\n",
       "<caption>OLS Regression Results</caption>\n",
       "<tr>\n",
       "  <th>Dep. Variable:</th>    <td>support_for_Concealed_Carry_Laws</td> <th>  R-squared:         </th> <td>   0.156</td>\n",
       "</tr>\n",
       "<tr>\n",
       "  <th>Model:</th>                           <td>OLS</td>               <th>  Adj. R-squared:    </th> <td>   0.143</td>\n",
       "</tr>\n",
       "<tr>\n",
       "  <th>Method:</th>                     <td>Least Squares</td>          <th>  F-statistic:       </th> <td>   11.95</td>\n",
       "</tr>\n",
       "<tr>\n",
       "  <th>Date:</th>                     <td>Sun, 19 Dec 2021</td>         <th>  Prob (F-statistic):</th> <td>1.79e-42</td>\n",
       "</tr>\n",
       "<tr>\n",
       "  <th>Time:</th>                         <td>22:23:35</td>             <th>  Log-Likelihood:    </th> <td> -2096.9</td>\n",
       "</tr>\n",
       "<tr>\n",
       "  <th>No. Observations:</th>              <td>  1572</td>              <th>  AIC:               </th> <td>   4244.</td>\n",
       "</tr>\n",
       "<tr>\n",
       "  <th>Df Residuals:</th>                  <td>  1547</td>              <th>  BIC:               </th> <td>   4378.</td>\n",
       "</tr>\n",
       "<tr>\n",
       "  <th>Df Model:</th>                      <td>    24</td>              <th>                     </th>     <td> </td>   \n",
       "</tr>\n",
       "<tr>\n",
       "  <th>Covariance Type:</th>              <td>nonrobust</td>            <th>                     </th>     <td> </td>   \n",
       "</tr>\n",
       "</table>\n",
       "<table class=\"simpletable\">\n",
       "<tr>\n",
       "              <td></td>                 <th>coef</th>     <th>std err</th>      <th>t</th>      <th>P>|t|</th>  <th>[0.025</th>    <th>0.975]</th>  \n",
       "</tr>\n",
       "<tr>\n",
       "  <th>Intercept</th>                 <td>-1.253e-16</td> <td>    0.023</td> <td>-5.37e-15</td> <td> 1.000</td> <td>   -0.046</td> <td>    0.046</td>\n",
       "</tr>\n",
       "<tr>\n",
       "  <th>supernatural_evil</th>         <td>    0.1225</td> <td>    0.034</td> <td>    3.625</td> <td> 0.000</td> <td>    0.056</td> <td>    0.189</td>\n",
       "</tr>\n",
       "<tr>\n",
       "  <th>attendance</th>                <td>   -0.0239</td> <td>    0.031</td> <td>   -0.780</td> <td> 0.435</td> <td>   -0.084</td> <td>    0.036</td>\n",
       "</tr>\n",
       "<tr>\n",
       "  <th>inerrancy</th>                 <td>   -0.0696</td> <td>    0.031</td> <td>   -2.248</td> <td> 0.025</td> <td>   -0.130</td> <td>   -0.009</td>\n",
       "</tr>\n",
       "<tr>\n",
       "  <th>literalism</th>                <td>   -0.0342</td> <td>    0.034</td> <td>   -1.008</td> <td> 0.314</td> <td>   -0.101</td> <td>    0.032</td>\n",
       "</tr>\n",
       "<tr>\n",
       "  <th>mainline_protestant</th>       <td>    0.0062</td> <td>    0.032</td> <td>    0.194</td> <td> 0.846</td> <td>   -0.057</td> <td>    0.069</td>\n",
       "</tr>\n",
       "<tr>\n",
       "  <th>black_protestant</th>          <td>   -0.0630</td> <td>    0.037</td> <td>   -1.716</td> <td> 0.086</td> <td>   -0.135</td> <td>    0.009</td>\n",
       "</tr>\n",
       "<tr>\n",
       "  <th>conservative_protestant</th>   <td>   -0.0028</td> <td>    0.039</td> <td>   -0.071</td> <td> 0.943</td> <td>   -0.080</td> <td>    0.074</td>\n",
       "</tr>\n",
       "<tr>\n",
       "  <th>catholic</th>                  <td>   -0.0712</td> <td>    0.035</td> <td>   -2.024</td> <td> 0.043</td> <td>   -0.140</td> <td>   -0.002</td>\n",
       "</tr>\n",
       "<tr>\n",
       "  <th>other_religion</th>            <td>   -0.0480</td> <td>    0.028</td> <td>   -1.734</td> <td> 0.083</td> <td>   -0.102</td> <td>    0.006</td>\n",
       "</tr>\n",
       "<tr>\n",
       "  <th>Political_Ideology</th>        <td>   -0.2318</td> <td>    0.027</td> <td>   -8.438</td> <td> 0.000</td> <td>   -0.286</td> <td>   -0.178</td>\n",
       "</tr>\n",
       "<tr>\n",
       "  <th>Black_or_African_American</th> <td>   -0.0191</td> <td>    0.035</td> <td>   -0.548</td> <td> 0.584</td> <td>   -0.087</td> <td>    0.049</td>\n",
       "</tr>\n",
       "<tr>\n",
       "  <th>Hispanic_or_Latino</th>        <td>   -0.0729</td> <td>    0.030</td> <td>   -2.463</td> <td> 0.014</td> <td>   -0.131</td> <td>   -0.015</td>\n",
       "</tr>\n",
       "<tr>\n",
       "  <th>other_race</th>                <td>   -0.0630</td> <td>    0.028</td> <td>   -2.230</td> <td> 0.026</td> <td>   -0.118</td> <td>   -0.008</td>\n",
       "</tr>\n",
       "<tr>\n",
       "  <th>female</th>                    <td>   -0.1473</td> <td>    0.024</td> <td>   -6.091</td> <td> 0.000</td> <td>   -0.195</td> <td>   -0.100</td>\n",
       "</tr>\n",
       "<tr>\n",
       "  <th>Less_than_High_School</th>     <td>   -0.0525</td> <td>    0.027</td> <td>   -1.966</td> <td> 0.049</td> <td>   -0.105</td> <td>   -0.000</td>\n",
       "</tr>\n",
       "<tr>\n",
       "  <th>Some_College</th>              <td>    0.0407</td> <td>    0.034</td> <td>    1.208</td> <td> 0.227</td> <td>   -0.025</td> <td>    0.107</td>\n",
       "</tr>\n",
       "<tr>\n",
       "  <th>college</th>                   <td>    0.0146</td> <td>    0.034</td> <td>    0.431</td> <td> 0.667</td> <td>   -0.052</td> <td>    0.081</td>\n",
       "</tr>\n",
       "<tr>\n",
       "  <th>post_grad</th>                 <td>   -0.0715</td> <td>    0.034</td> <td>   -2.092</td> <td> 0.037</td> <td>   -0.139</td> <td>   -0.004</td>\n",
       "</tr>\n",
       "<tr>\n",
       "  <th>AGE</th>                       <td>   -0.0610</td> <td>    0.027</td> <td>   -2.287</td> <td> 0.022</td> <td>   -0.113</td> <td>   -0.009</td>\n",
       "</tr>\n",
       "<tr>\n",
       "  <th>household_income</th>          <td>   -0.0137</td> <td>    0.029</td> <td>   -0.478</td> <td> 0.632</td> <td>   -0.070</td> <td>    0.043</td>\n",
       "</tr>\n",
       "<tr>\n",
       "  <th>married</th>                   <td>   -0.0126</td> <td>    0.026</td> <td>   -0.480</td> <td> 0.632</td> <td>   -0.064</td> <td>    0.039</td>\n",
       "</tr>\n",
       "<tr>\n",
       "  <th>no_kids_at_home</th>           <td>    0.0315</td> <td>    0.026</td> <td>    1.216</td> <td> 0.224</td> <td>   -0.019</td> <td>    0.082</td>\n",
       "</tr>\n",
       "<tr>\n",
       "  <th>urban_area</th>                <td>   -0.0593</td> <td>    0.024</td> <td>   -2.439</td> <td> 0.015</td> <td>   -0.107</td> <td>   -0.012</td>\n",
       "</tr>\n",
       "<tr>\n",
       "  <th>South</th>                     <td>    0.0650</td> <td>    0.024</td> <td>    2.666</td> <td> 0.008</td> <td>    0.017</td> <td>    0.113</td>\n",
       "</tr>\n",
       "</table>\n",
       "<table class=\"simpletable\">\n",
       "<tr>\n",
       "  <th>Omnibus:</th>       <td>37103.233</td> <th>  Durbin-Watson:     </th> <td>   1.939</td>\n",
       "</tr>\n",
       "<tr>\n",
       "  <th>Prob(Omnibus):</th>  <td> 0.000</td>   <th>  Jarque-Bera (JB):  </th> <td> 130.464</td>\n",
       "</tr>\n",
       "<tr>\n",
       "  <th>Skew:</th>           <td>-0.177</td>   <th>  Prob(JB):          </th> <td>4.68e-29</td>\n",
       "</tr>\n",
       "<tr>\n",
       "  <th>Kurtosis:</th>       <td> 1.634</td>   <th>  Cond. No.          </th> <td>    4.37</td>\n",
       "</tr>\n",
       "</table><br/><br/>Notes:<br/>[1] Standard Errors assume that the covariance matrix of the errors is correctly specified."
      ],
      "text/plain": [
       "<class 'statsmodels.iolib.summary.Summary'>\n",
       "\"\"\"\n",
       "                                   OLS Regression Results                                   \n",
       "============================================================================================\n",
       "Dep. Variable:     support_for_Concealed_Carry_Laws   R-squared:                       0.156\n",
       "Model:                                          OLS   Adj. R-squared:                  0.143\n",
       "Method:                               Least Squares   F-statistic:                     11.95\n",
       "Date:                              Sun, 19 Dec 2021   Prob (F-statistic):           1.79e-42\n",
       "Time:                                      22:23:35   Log-Likelihood:                -2096.9\n",
       "No. Observations:                              1572   AIC:                             4244.\n",
       "Df Residuals:                                  1547   BIC:                             4378.\n",
       "Df Model:                                        24                                         \n",
       "Covariance Type:                          nonrobust                                         \n",
       "=============================================================================================\n",
       "                                coef    std err          t      P>|t|      [0.025      0.975]\n",
       "---------------------------------------------------------------------------------------------\n",
       "Intercept                 -1.253e-16      0.023  -5.37e-15      1.000      -0.046       0.046\n",
       "supernatural_evil             0.1225      0.034      3.625      0.000       0.056       0.189\n",
       "attendance                   -0.0239      0.031     -0.780      0.435      -0.084       0.036\n",
       "inerrancy                    -0.0696      0.031     -2.248      0.025      -0.130      -0.009\n",
       "literalism                   -0.0342      0.034     -1.008      0.314      -0.101       0.032\n",
       "mainline_protestant           0.0062      0.032      0.194      0.846      -0.057       0.069\n",
       "black_protestant             -0.0630      0.037     -1.716      0.086      -0.135       0.009\n",
       "conservative_protestant      -0.0028      0.039     -0.071      0.943      -0.080       0.074\n",
       "catholic                     -0.0712      0.035     -2.024      0.043      -0.140      -0.002\n",
       "other_religion               -0.0480      0.028     -1.734      0.083      -0.102       0.006\n",
       "Political_Ideology           -0.2318      0.027     -8.438      0.000      -0.286      -0.178\n",
       "Black_or_African_American    -0.0191      0.035     -0.548      0.584      -0.087       0.049\n",
       "Hispanic_or_Latino           -0.0729      0.030     -2.463      0.014      -0.131      -0.015\n",
       "other_race                   -0.0630      0.028     -2.230      0.026      -0.118      -0.008\n",
       "female                       -0.1473      0.024     -6.091      0.000      -0.195      -0.100\n",
       "Less_than_High_School        -0.0525      0.027     -1.966      0.049      -0.105      -0.000\n",
       "Some_College                  0.0407      0.034      1.208      0.227      -0.025       0.107\n",
       "college                       0.0146      0.034      0.431      0.667      -0.052       0.081\n",
       "post_grad                    -0.0715      0.034     -2.092      0.037      -0.139      -0.004\n",
       "AGE                          -0.0610      0.027     -2.287      0.022      -0.113      -0.009\n",
       "household_income             -0.0137      0.029     -0.478      0.632      -0.070       0.043\n",
       "married                      -0.0126      0.026     -0.480      0.632      -0.064       0.039\n",
       "no_kids_at_home               0.0315      0.026      1.216      0.224      -0.019       0.082\n",
       "urban_area                   -0.0593      0.024     -2.439      0.015      -0.107      -0.012\n",
       "South                         0.0650      0.024      2.666      0.008       0.017       0.113\n",
       "==============================================================================\n",
       "Omnibus:                    37103.233   Durbin-Watson:                   1.939\n",
       "Prob(Omnibus):                  0.000   Jarque-Bera (JB):              130.464\n",
       "Skew:                          -0.177   Prob(JB):                     4.68e-29\n",
       "Kurtosis:                       1.634   Cond. No.                         4.37\n",
       "==============================================================================\n",
       "\n",
       "Notes:\n",
       "[1] Standard Errors assume that the covariance matrix of the errors is correctly specified.\n",
       "\"\"\""
      ]
     },
     "execution_count": 391,
     "metadata": {},
     "output_type": "execute_result"
    }
   ],
   "source": [
    "do_big_linear('support_for_Concealed_Carry_Laws')"
   ]
  },
  {
   "cell_type": "markdown",
   "metadata": {},
   "source": [
    "Let's talk about the small regression. As we can see *supernatural evil* is statistically important with a p-value of 0.  \n",
    "Its beta coefficient value is 0.17. This means that:  \n",
    "With every increase of one standard deviation in supernatural evil, our dependent variable, which is support_for_Concealed_Carry_Laws, increases by 0.17 standard deviations.  This percentage is 0.12 in the when we add controls for political ideology.\n",
    "This assumption is being made with the fact that all the other variables are held constant.  "
   ]
  },
  {
   "cell_type": "markdown",
   "metadata": {},
   "source": [
    "### More armed security at schools"
   ]
  },
  {
   "cell_type": "markdown",
   "metadata": {},
   "source": [
    "Let's see the model without the controls for political ideology"
   ]
  },
  {
   "cell_type": "code",
   "execution_count": 392,
   "metadata": {},
   "outputs": [
    {
     "data": {
      "text/html": [
       "<table class=\"simpletable\">\n",
       "<caption>OLS Regression Results</caption>\n",
       "<tr>\n",
       "  <th>Dep. Variable:</th>    <td>more_Armed_Security_at_Schools</td> <th>  R-squared:         </th> <td>   0.082</td>\n",
       "</tr>\n",
       "<tr>\n",
       "  <th>Model:</th>                          <td>OLS</td>              <th>  Adj. R-squared:    </th> <td>   0.077</td>\n",
       "</tr>\n",
       "<tr>\n",
       "  <th>Method:</th>                    <td>Least Squares</td>         <th>  F-statistic:       </th> <td>   15.54</td>\n",
       "</tr>\n",
       "<tr>\n",
       "  <th>Date:</th>                    <td>Sun, 19 Dec 2021</td>        <th>  Prob (F-statistic):</th> <td>1.62e-24</td>\n",
       "</tr>\n",
       "<tr>\n",
       "  <th>Time:</th>                        <td>22:23:35</td>            <th>  Log-Likelihood:    </th> <td> -2163.2</td>\n",
       "</tr>\n",
       "<tr>\n",
       "  <th>No. Observations:</th>             <td>  1572</td>             <th>  AIC:               </th> <td>   4346.</td>\n",
       "</tr>\n",
       "<tr>\n",
       "  <th>Df Residuals:</th>                 <td>  1562</td>             <th>  BIC:               </th> <td>   4400.</td>\n",
       "</tr>\n",
       "<tr>\n",
       "  <th>Df Model:</th>                     <td>     9</td>             <th>                     </th>     <td> </td>   \n",
       "</tr>\n",
       "<tr>\n",
       "  <th>Covariance Type:</th>             <td>nonrobust</td>           <th>                     </th>     <td> </td>   \n",
       "</tr>\n",
       "</table>\n",
       "<table class=\"simpletable\">\n",
       "<tr>\n",
       "             <td></td>                <th>coef</th>     <th>std err</th>      <th>t</th>      <th>P>|t|</th>  <th>[0.025</th>    <th>0.975]</th>  \n",
       "</tr>\n",
       "<tr>\n",
       "  <th>Intercept</th>               <td>-9.888e-17</td> <td>    0.024</td> <td>-4.08e-15</td> <td> 1.000</td> <td>   -0.048</td> <td>    0.048</td>\n",
       "</tr>\n",
       "<tr>\n",
       "  <th>supernatural_evil</th>       <td>    0.2288</td> <td>    0.034</td> <td>    6.810</td> <td> 0.000</td> <td>    0.163</td> <td>    0.295</td>\n",
       "</tr>\n",
       "<tr>\n",
       "  <th>attendance</th>              <td>   -0.0836</td> <td>    0.031</td> <td>   -2.705</td> <td> 0.007</td> <td>   -0.144</td> <td>   -0.023</td>\n",
       "</tr>\n",
       "<tr>\n",
       "  <th>inerrancy</th>               <td>    0.0599</td> <td>    0.032</td> <td>    1.879</td> <td> 0.060</td> <td>   -0.003</td> <td>    0.122</td>\n",
       "</tr>\n",
       "<tr>\n",
       "  <th>literalism</th>              <td>    0.1455</td> <td>    0.035</td> <td>    4.213</td> <td> 0.000</td> <td>    0.078</td> <td>    0.213</td>\n",
       "</tr>\n",
       "<tr>\n",
       "  <th>mainline_protestant</th>     <td>    0.0112</td> <td>    0.033</td> <td>    0.343</td> <td> 0.732</td> <td>   -0.053</td> <td>    0.075</td>\n",
       "</tr>\n",
       "<tr>\n",
       "  <th>black_protestant</th>        <td>    0.0053</td> <td>    0.030</td> <td>    0.173</td> <td> 0.863</td> <td>   -0.054</td> <td>    0.065</td>\n",
       "</tr>\n",
       "<tr>\n",
       "  <th>conservative_protestant</th> <td>    0.0072</td> <td>    0.040</td> <td>    0.178</td> <td> 0.859</td> <td>   -0.072</td> <td>    0.086</td>\n",
       "</tr>\n",
       "<tr>\n",
       "  <th>catholic</th>                <td>    0.0030</td> <td>    0.036</td> <td>    0.085</td> <td> 0.932</td> <td>   -0.067</td> <td>    0.073</td>\n",
       "</tr>\n",
       "<tr>\n",
       "  <th>other_religion</th>          <td>    0.0013</td> <td>    0.028</td> <td>    0.047</td> <td> 0.963</td> <td>   -0.054</td> <td>    0.056</td>\n",
       "</tr>\n",
       "</table>\n",
       "<table class=\"simpletable\">\n",
       "<tr>\n",
       "  <th>Omnibus:</th>       <td>14070.706</td> <th>  Durbin-Watson:     </th> <td>   1.989</td>\n",
       "</tr>\n",
       "<tr>\n",
       "  <th>Prob(Omnibus):</th>  <td> 0.000</td>   <th>  Jarque-Bera (JB):  </th> <td> 188.430</td>\n",
       "</tr>\n",
       "<tr>\n",
       "  <th>Skew:</th>           <td>-0.453</td>   <th>  Prob(JB):          </th> <td>1.21e-41</td>\n",
       "</tr>\n",
       "<tr>\n",
       "  <th>Kurtosis:</th>       <td> 1.566</td>   <th>  Cond. No.          </th> <td>    3.78</td>\n",
       "</tr>\n",
       "</table><br/><br/>Notes:<br/>[1] Standard Errors assume that the covariance matrix of the errors is correctly specified."
      ],
      "text/plain": [
       "<class 'statsmodels.iolib.summary.Summary'>\n",
       "\"\"\"\n",
       "                                  OLS Regression Results                                  \n",
       "==========================================================================================\n",
       "Dep. Variable:     more_Armed_Security_at_Schools   R-squared:                       0.082\n",
       "Model:                                        OLS   Adj. R-squared:                  0.077\n",
       "Method:                             Least Squares   F-statistic:                     15.54\n",
       "Date:                            Sun, 19 Dec 2021   Prob (F-statistic):           1.62e-24\n",
       "Time:                                    22:23:35   Log-Likelihood:                -2163.2\n",
       "No. Observations:                            1572   AIC:                             4346.\n",
       "Df Residuals:                                1562   BIC:                             4400.\n",
       "Df Model:                                       9                                         \n",
       "Covariance Type:                        nonrobust                                         \n",
       "===========================================================================================\n",
       "                              coef    std err          t      P>|t|      [0.025      0.975]\n",
       "-------------------------------------------------------------------------------------------\n",
       "Intercept               -9.888e-17      0.024  -4.08e-15      1.000      -0.048       0.048\n",
       "supernatural_evil           0.2288      0.034      6.810      0.000       0.163       0.295\n",
       "attendance                 -0.0836      0.031     -2.705      0.007      -0.144      -0.023\n",
       "inerrancy                   0.0599      0.032      1.879      0.060      -0.003       0.122\n",
       "literalism                  0.1455      0.035      4.213      0.000       0.078       0.213\n",
       "mainline_protestant         0.0112      0.033      0.343      0.732      -0.053       0.075\n",
       "black_protestant            0.0053      0.030      0.173      0.863      -0.054       0.065\n",
       "conservative_protestant     0.0072      0.040      0.178      0.859      -0.072       0.086\n",
       "catholic                    0.0030      0.036      0.085      0.932      -0.067       0.073\n",
       "other_religion              0.0013      0.028      0.047      0.963      -0.054       0.056\n",
       "==============================================================================\n",
       "Omnibus:                    14070.706   Durbin-Watson:                   1.989\n",
       "Prob(Omnibus):                  0.000   Jarque-Bera (JB):              188.430\n",
       "Skew:                          -0.453   Prob(JB):                     1.21e-41\n",
       "Kurtosis:                       1.566   Cond. No.                         3.78\n",
       "==============================================================================\n",
       "\n",
       "Notes:\n",
       "[1] Standard Errors assume that the covariance matrix of the errors is correctly specified.\n",
       "\"\"\""
      ]
     },
     "execution_count": 392,
     "metadata": {},
     "output_type": "execute_result"
    }
   ],
   "source": [
    "do_small_linear('more_Armed_Security_at_Schools')"
   ]
  },
  {
   "cell_type": "markdown",
   "metadata": {},
   "source": [
    "Let's see the regression with all the variables as well!"
   ]
  },
  {
   "cell_type": "code",
   "execution_count": 393,
   "metadata": {},
   "outputs": [
    {
     "data": {
      "text/html": [
       "<table class=\"simpletable\">\n",
       "<caption>OLS Regression Results</caption>\n",
       "<tr>\n",
       "  <th>Dep. Variable:</th>    <td>more_Armed_Security_at_Schools</td> <th>  R-squared:         </th> <td>   0.125</td>\n",
       "</tr>\n",
       "<tr>\n",
       "  <th>Model:</th>                          <td>OLS</td>              <th>  Adj. R-squared:    </th> <td>   0.111</td>\n",
       "</tr>\n",
       "<tr>\n",
       "  <th>Method:</th>                    <td>Least Squares</td>         <th>  F-statistic:       </th> <td>   9.196</td>\n",
       "</tr>\n",
       "<tr>\n",
       "  <th>Date:</th>                    <td>Sun, 19 Dec 2021</td>        <th>  Prob (F-statistic):</th> <td>3.26e-31</td>\n",
       "</tr>\n",
       "<tr>\n",
       "  <th>Time:</th>                        <td>22:23:35</td>            <th>  Log-Likelihood:    </th> <td> -2125.7</td>\n",
       "</tr>\n",
       "<tr>\n",
       "  <th>No. Observations:</th>             <td>  1572</td>             <th>  AIC:               </th> <td>   4301.</td>\n",
       "</tr>\n",
       "<tr>\n",
       "  <th>Df Residuals:</th>                 <td>  1547</td>             <th>  BIC:               </th> <td>   4435.</td>\n",
       "</tr>\n",
       "<tr>\n",
       "  <th>Df Model:</th>                     <td>    24</td>             <th>                     </th>     <td> </td>   \n",
       "</tr>\n",
       "<tr>\n",
       "  <th>Covariance Type:</th>             <td>nonrobust</td>           <th>                     </th>     <td> </td>   \n",
       "</tr>\n",
       "</table>\n",
       "<table class=\"simpletable\">\n",
       "<tr>\n",
       "              <td></td>                 <th>coef</th>     <th>std err</th>      <th>t</th>      <th>P>|t|</th>  <th>[0.025</th>    <th>0.975]</th>  \n",
       "</tr>\n",
       "<tr>\n",
       "  <th>Intercept</th>                 <td>-9.888e-17</td> <td>    0.024</td> <td>-4.16e-15</td> <td> 1.000</td> <td>   -0.047</td> <td>    0.047</td>\n",
       "</tr>\n",
       "<tr>\n",
       "  <th>supernatural_evil</th>         <td>    0.1579</td> <td>    0.034</td> <td>    4.586</td> <td> 0.000</td> <td>    0.090</td> <td>    0.225</td>\n",
       "</tr>\n",
       "<tr>\n",
       "  <th>attendance</th>                <td>   -0.0716</td> <td>    0.031</td> <td>   -2.299</td> <td> 0.022</td> <td>   -0.133</td> <td>   -0.011</td>\n",
       "</tr>\n",
       "<tr>\n",
       "  <th>inerrancy</th>                 <td>    0.0411</td> <td>    0.032</td> <td>    1.304</td> <td> 0.192</td> <td>   -0.021</td> <td>    0.103</td>\n",
       "</tr>\n",
       "<tr>\n",
       "  <th>literalism</th>                <td>    0.1018</td> <td>    0.035</td> <td>    2.941</td> <td> 0.003</td> <td>    0.034</td> <td>    0.170</td>\n",
       "</tr>\n",
       "<tr>\n",
       "  <th>mainline_protestant</th>       <td>    0.0246</td> <td>    0.033</td> <td>    0.754</td> <td> 0.451</td> <td>   -0.039</td> <td>    0.089</td>\n",
       "</tr>\n",
       "<tr>\n",
       "  <th>black_protestant</th>          <td>   -0.0095</td> <td>    0.037</td> <td>   -0.253</td> <td> 0.800</td> <td>   -0.083</td> <td>    0.064</td>\n",
       "</tr>\n",
       "<tr>\n",
       "  <th>conservative_protestant</th>   <td>   -0.0126</td> <td>    0.040</td> <td>   -0.316</td> <td> 0.752</td> <td>   -0.091</td> <td>    0.066</td>\n",
       "</tr>\n",
       "<tr>\n",
       "  <th>catholic</th>                  <td>    0.0128</td> <td>    0.036</td> <td>    0.357</td> <td> 0.721</td> <td>   -0.058</td> <td>    0.083</td>\n",
       "</tr>\n",
       "<tr>\n",
       "  <th>other_religion</th>            <td>    0.0292</td> <td>    0.028</td> <td>    1.037</td> <td> 0.300</td> <td>   -0.026</td> <td>    0.084</td>\n",
       "</tr>\n",
       "<tr>\n",
       "  <th>Political_Ideology</th>        <td>   -0.1293</td> <td>    0.028</td> <td>   -4.621</td> <td> 0.000</td> <td>   -0.184</td> <td>   -0.074</td>\n",
       "</tr>\n",
       "<tr>\n",
       "  <th>Black_or_African_American</th> <td>    0.0419</td> <td>    0.035</td> <td>    1.182</td> <td> 0.237</td> <td>   -0.028</td> <td>    0.111</td>\n",
       "</tr>\n",
       "<tr>\n",
       "  <th>Hispanic_or_Latino</th>        <td>   -0.0032</td> <td>    0.030</td> <td>   -0.106</td> <td> 0.915</td> <td>   -0.062</td> <td>    0.056</td>\n",
       "</tr>\n",
       "<tr>\n",
       "  <th>other_race</th>                <td>   -0.0127</td> <td>    0.029</td> <td>   -0.442</td> <td> 0.658</td> <td>   -0.069</td> <td>    0.044</td>\n",
       "</tr>\n",
       "<tr>\n",
       "  <th>female</th>                    <td>   -0.0102</td> <td>    0.025</td> <td>   -0.415</td> <td> 0.678</td> <td>   -0.059</td> <td>    0.038</td>\n",
       "</tr>\n",
       "<tr>\n",
       "  <th>Less_than_High_School</th>     <td>   -0.0313</td> <td>    0.027</td> <td>   -1.152</td> <td> 0.249</td> <td>   -0.085</td> <td>    0.022</td>\n",
       "</tr>\n",
       "<tr>\n",
       "  <th>Some_College</th>              <td>   -0.0490</td> <td>    0.034</td> <td>   -1.427</td> <td> 0.154</td> <td>   -0.116</td> <td>    0.018</td>\n",
       "</tr>\n",
       "<tr>\n",
       "  <th>college</th>                   <td>   -0.0472</td> <td>    0.034</td> <td>   -1.370</td> <td> 0.171</td> <td>   -0.115</td> <td>    0.020</td>\n",
       "</tr>\n",
       "<tr>\n",
       "  <th>post_grad</th>                 <td>   -0.1266</td> <td>    0.035</td> <td>   -3.638</td> <td> 0.000</td> <td>   -0.195</td> <td>   -0.058</td>\n",
       "</tr>\n",
       "<tr>\n",
       "  <th>AGE</th>                       <td>   -0.0687</td> <td>    0.027</td> <td>   -2.531</td> <td> 0.011</td> <td>   -0.122</td> <td>   -0.015</td>\n",
       "</tr>\n",
       "<tr>\n",
       "  <th>household_income</th>          <td>   -0.0795</td> <td>    0.029</td> <td>   -2.718</td> <td> 0.007</td> <td>   -0.137</td> <td>   -0.022</td>\n",
       "</tr>\n",
       "<tr>\n",
       "  <th>married</th>                   <td>   -0.0586</td> <td>    0.027</td> <td>   -2.194</td> <td> 0.028</td> <td>   -0.111</td> <td>   -0.006</td>\n",
       "</tr>\n",
       "<tr>\n",
       "  <th>no_kids_at_home</th>           <td>    0.0232</td> <td>    0.026</td> <td>    0.882</td> <td> 0.378</td> <td>   -0.028</td> <td>    0.075</td>\n",
       "</tr>\n",
       "<tr>\n",
       "  <th>urban_area</th>                <td>   -0.0434</td> <td>    0.025</td> <td>   -1.752</td> <td> 0.080</td> <td>   -0.092</td> <td>    0.005</td>\n",
       "</tr>\n",
       "<tr>\n",
       "  <th>South</th>                     <td>    0.0666</td> <td>    0.025</td> <td>    2.682</td> <td> 0.007</td> <td>    0.018</td> <td>    0.115</td>\n",
       "</tr>\n",
       "</table>\n",
       "<table class=\"simpletable\">\n",
       "<tr>\n",
       "  <th>Omnibus:</th>       <td>2373.677</td> <th>  Durbin-Watson:     </th> <td>   1.994</td>\n",
       "</tr>\n",
       "<tr>\n",
       "  <th>Prob(Omnibus):</th>  <td> 0.000</td>  <th>  Jarque-Bera (JB):  </th> <td> 158.742</td>\n",
       "</tr>\n",
       "<tr>\n",
       "  <th>Skew:</th>           <td>-0.455</td>  <th>  Prob(JB):          </th> <td>3.38e-35</td>\n",
       "</tr>\n",
       "<tr>\n",
       "  <th>Kurtosis:</th>       <td> 1.737</td>  <th>  Cond. No.          </th> <td>    4.37</td>\n",
       "</tr>\n",
       "</table><br/><br/>Notes:<br/>[1] Standard Errors assume that the covariance matrix of the errors is correctly specified."
      ],
      "text/plain": [
       "<class 'statsmodels.iolib.summary.Summary'>\n",
       "\"\"\"\n",
       "                                  OLS Regression Results                                  \n",
       "==========================================================================================\n",
       "Dep. Variable:     more_Armed_Security_at_Schools   R-squared:                       0.125\n",
       "Model:                                        OLS   Adj. R-squared:                  0.111\n",
       "Method:                             Least Squares   F-statistic:                     9.196\n",
       "Date:                            Sun, 19 Dec 2021   Prob (F-statistic):           3.26e-31\n",
       "Time:                                    22:23:35   Log-Likelihood:                -2125.7\n",
       "No. Observations:                            1572   AIC:                             4301.\n",
       "Df Residuals:                                1547   BIC:                             4435.\n",
       "Df Model:                                      24                                         \n",
       "Covariance Type:                        nonrobust                                         \n",
       "=============================================================================================\n",
       "                                coef    std err          t      P>|t|      [0.025      0.975]\n",
       "---------------------------------------------------------------------------------------------\n",
       "Intercept                 -9.888e-17      0.024  -4.16e-15      1.000      -0.047       0.047\n",
       "supernatural_evil             0.1579      0.034      4.586      0.000       0.090       0.225\n",
       "attendance                   -0.0716      0.031     -2.299      0.022      -0.133      -0.011\n",
       "inerrancy                     0.0411      0.032      1.304      0.192      -0.021       0.103\n",
       "literalism                    0.1018      0.035      2.941      0.003       0.034       0.170\n",
       "mainline_protestant           0.0246      0.033      0.754      0.451      -0.039       0.089\n",
       "black_protestant             -0.0095      0.037     -0.253      0.800      -0.083       0.064\n",
       "conservative_protestant      -0.0126      0.040     -0.316      0.752      -0.091       0.066\n",
       "catholic                      0.0128      0.036      0.357      0.721      -0.058       0.083\n",
       "other_religion                0.0292      0.028      1.037      0.300      -0.026       0.084\n",
       "Political_Ideology           -0.1293      0.028     -4.621      0.000      -0.184      -0.074\n",
       "Black_or_African_American     0.0419      0.035      1.182      0.237      -0.028       0.111\n",
       "Hispanic_or_Latino           -0.0032      0.030     -0.106      0.915      -0.062       0.056\n",
       "other_race                   -0.0127      0.029     -0.442      0.658      -0.069       0.044\n",
       "female                       -0.0102      0.025     -0.415      0.678      -0.059       0.038\n",
       "Less_than_High_School        -0.0313      0.027     -1.152      0.249      -0.085       0.022\n",
       "Some_College                 -0.0490      0.034     -1.427      0.154      -0.116       0.018\n",
       "college                      -0.0472      0.034     -1.370      0.171      -0.115       0.020\n",
       "post_grad                    -0.1266      0.035     -3.638      0.000      -0.195      -0.058\n",
       "AGE                          -0.0687      0.027     -2.531      0.011      -0.122      -0.015\n",
       "household_income             -0.0795      0.029     -2.718      0.007      -0.137      -0.022\n",
       "married                      -0.0586      0.027     -2.194      0.028      -0.111      -0.006\n",
       "no_kids_at_home               0.0232      0.026      0.882      0.378      -0.028       0.075\n",
       "urban_area                   -0.0434      0.025     -1.752      0.080      -0.092       0.005\n",
       "South                         0.0666      0.025      2.682      0.007       0.018       0.115\n",
       "==============================================================================\n",
       "Omnibus:                     2373.677   Durbin-Watson:                   1.994\n",
       "Prob(Omnibus):                  0.000   Jarque-Bera (JB):              158.742\n",
       "Skew:                          -0.455   Prob(JB):                     3.38e-35\n",
       "Kurtosis:                       1.737   Cond. No.                         4.37\n",
       "==============================================================================\n",
       "\n",
       "Notes:\n",
       "[1] Standard Errors assume that the covariance matrix of the errors is correctly specified.\n",
       "\"\"\""
      ]
     },
     "execution_count": 393,
     "metadata": {},
     "output_type": "execute_result"
    }
   ],
   "source": [
    "do_big_linear('more_Armed_Security_at_Schools')"
   ]
  },
  {
   "cell_type": "markdown",
   "metadata": {},
   "source": [
    "Let's talk about the small regression. As we can see *supernatural evil* is statistically important with a p-value of 0.  \n",
    "Its beta coefficient value is 0.22. This means that:  \n",
    "With every increase of one standard deviation in supernatural evil, our dependent variable, which is more_Armed_Security_at_Schools, increases by 0.22 standard deviations.  This percentage is 0.15 in the when we add controls for political ideology.\n",
    "This assumption is being made with the fact that all the other variables are held constant.  "
   ]
  },
  {
   "cell_type": "markdown",
   "metadata": {},
   "source": [
    "### More teachers faculty having guns"
   ]
  },
  {
   "cell_type": "markdown",
   "metadata": {},
   "source": [
    "Let's see the model without the controls for political ideology"
   ]
  },
  {
   "cell_type": "code",
   "execution_count": 394,
   "metadata": {},
   "outputs": [
    {
     "data": {
      "text/html": [
       "<table class=\"simpletable\">\n",
       "<caption>OLS Regression Results</caption>\n",
       "<tr>\n",
       "  <th>Dep. Variable:</th>    <td>more_Teachers_Faculty_having_Guns</td> <th>  R-squared:         </th> <td>   0.035</td>\n",
       "</tr>\n",
       "<tr>\n",
       "  <th>Model:</th>                           <td>OLS</td>                <th>  Adj. R-squared:    </th> <td>   0.030</td>\n",
       "</tr>\n",
       "<tr>\n",
       "  <th>Method:</th>                     <td>Least Squares</td>           <th>  F-statistic:       </th> <td>   6.378</td>\n",
       "</tr>\n",
       "<tr>\n",
       "  <th>Date:</th>                     <td>Sun, 19 Dec 2021</td>          <th>  Prob (F-statistic):</th> <td>6.31e-09</td>\n",
       "</tr>\n",
       "<tr>\n",
       "  <th>Time:</th>                         <td>22:23:35</td>              <th>  Log-Likelihood:    </th> <td> -2202.2</td>\n",
       "</tr>\n",
       "<tr>\n",
       "  <th>No. Observations:</th>              <td>  1572</td>               <th>  AIC:               </th> <td>   4424.</td>\n",
       "</tr>\n",
       "<tr>\n",
       "  <th>Df Residuals:</th>                  <td>  1562</td>               <th>  BIC:               </th> <td>   4478.</td>\n",
       "</tr>\n",
       "<tr>\n",
       "  <th>Df Model:</th>                      <td>     9</td>               <th>                     </th>     <td> </td>   \n",
       "</tr>\n",
       "<tr>\n",
       "  <th>Covariance Type:</th>              <td>nonrobust</td>             <th>                     </th>     <td> </td>   \n",
       "</tr>\n",
       "</table>\n",
       "<table class=\"simpletable\">\n",
       "<tr>\n",
       "             <td></td>                <th>coef</th>     <th>std err</th>      <th>t</th>      <th>P>|t|</th>  <th>[0.025</th>    <th>0.975]</th>  \n",
       "</tr>\n",
       "<tr>\n",
       "  <th>Intercept</th>               <td> 1.735e-16</td> <td>    0.025</td> <td> 6.98e-15</td> <td> 1.000</td> <td>   -0.049</td> <td>    0.049</td>\n",
       "</tr>\n",
       "<tr>\n",
       "  <th>supernatural_evil</th>       <td>    0.1700</td> <td>    0.034</td> <td>    4.936</td> <td> 0.000</td> <td>    0.102</td> <td>    0.238</td>\n",
       "</tr>\n",
       "<tr>\n",
       "  <th>attendance</th>              <td>   -0.0676</td> <td>    0.032</td> <td>   -2.135</td> <td> 0.033</td> <td>   -0.130</td> <td>   -0.005</td>\n",
       "</tr>\n",
       "<tr>\n",
       "  <th>inerrancy</th>               <td>   -0.0171</td> <td>    0.033</td> <td>   -0.523</td> <td> 0.601</td> <td>   -0.081</td> <td>    0.047</td>\n",
       "</tr>\n",
       "<tr>\n",
       "  <th>literalism</th>              <td>   -0.0009</td> <td>    0.035</td> <td>   -0.025</td> <td> 0.980</td> <td>   -0.070</td> <td>    0.069</td>\n",
       "</tr>\n",
       "<tr>\n",
       "  <th>mainline_protestant</th>     <td>    0.0028</td> <td>    0.033</td> <td>    0.085</td> <td> 0.932</td> <td>   -0.063</td> <td>    0.068</td>\n",
       "</tr>\n",
       "<tr>\n",
       "  <th>black_protestant</th>        <td>   -0.0560</td> <td>    0.031</td> <td>   -1.793</td> <td> 0.073</td> <td>   -0.117</td> <td>    0.005</td>\n",
       "</tr>\n",
       "<tr>\n",
       "  <th>conservative_protestant</th> <td>    0.0674</td> <td>    0.041</td> <td>    1.638</td> <td> 0.102</td> <td>   -0.013</td> <td>    0.148</td>\n",
       "</tr>\n",
       "<tr>\n",
       "  <th>catholic</th>                <td>   -0.0327</td> <td>    0.036</td> <td>   -0.895</td> <td> 0.371</td> <td>   -0.104</td> <td>    0.039</td>\n",
       "</tr>\n",
       "<tr>\n",
       "  <th>other_religion</th>          <td>   -0.0086</td> <td>    0.029</td> <td>   -0.297</td> <td> 0.766</td> <td>   -0.065</td> <td>    0.048</td>\n",
       "</tr>\n",
       "</table>\n",
       "<table class=\"simpletable\">\n",
       "<tr>\n",
       "  <th>Omnibus:</th>       <td>835.721</td> <th>  Durbin-Watson:     </th> <td>   2.054</td>\n",
       "</tr>\n",
       "<tr>\n",
       "  <th>Prob(Omnibus):</th> <td> 0.000</td>  <th>  Jarque-Bera (JB):  </th> <td> 268.642</td>\n",
       "</tr>\n",
       "<tr>\n",
       "  <th>Skew:</th>          <td> 0.843</td>  <th>  Prob(JB):          </th> <td>4.62e-59</td>\n",
       "</tr>\n",
       "<tr>\n",
       "  <th>Kurtosis:</th>      <td> 1.879</td>  <th>  Cond. No.          </th> <td>    3.78</td>\n",
       "</tr>\n",
       "</table><br/><br/>Notes:<br/>[1] Standard Errors assume that the covariance matrix of the errors is correctly specified."
      ],
      "text/plain": [
       "<class 'statsmodels.iolib.summary.Summary'>\n",
       "\"\"\"\n",
       "                                    OLS Regression Results                                   \n",
       "=============================================================================================\n",
       "Dep. Variable:     more_Teachers_Faculty_having_Guns   R-squared:                       0.035\n",
       "Model:                                           OLS   Adj. R-squared:                  0.030\n",
       "Method:                                Least Squares   F-statistic:                     6.378\n",
       "Date:                               Sun, 19 Dec 2021   Prob (F-statistic):           6.31e-09\n",
       "Time:                                       22:23:35   Log-Likelihood:                -2202.2\n",
       "No. Observations:                               1572   AIC:                             4424.\n",
       "Df Residuals:                                   1562   BIC:                             4478.\n",
       "Df Model:                                          9                                         \n",
       "Covariance Type:                           nonrobust                                         \n",
       "===========================================================================================\n",
       "                              coef    std err          t      P>|t|      [0.025      0.975]\n",
       "-------------------------------------------------------------------------------------------\n",
       "Intercept                1.735e-16      0.025   6.98e-15      1.000      -0.049       0.049\n",
       "supernatural_evil           0.1700      0.034      4.936      0.000       0.102       0.238\n",
       "attendance                 -0.0676      0.032     -2.135      0.033      -0.130      -0.005\n",
       "inerrancy                  -0.0171      0.033     -0.523      0.601      -0.081       0.047\n",
       "literalism                 -0.0009      0.035     -0.025      0.980      -0.070       0.069\n",
       "mainline_protestant         0.0028      0.033      0.085      0.932      -0.063       0.068\n",
       "black_protestant           -0.0560      0.031     -1.793      0.073      -0.117       0.005\n",
       "conservative_protestant     0.0674      0.041      1.638      0.102      -0.013       0.148\n",
       "catholic                   -0.0327      0.036     -0.895      0.371      -0.104       0.039\n",
       "other_religion             -0.0086      0.029     -0.297      0.766      -0.065       0.048\n",
       "==============================================================================\n",
       "Omnibus:                      835.721   Durbin-Watson:                   2.054\n",
       "Prob(Omnibus):                  0.000   Jarque-Bera (JB):              268.642\n",
       "Skew:                           0.843   Prob(JB):                     4.62e-59\n",
       "Kurtosis:                       1.879   Cond. No.                         3.78\n",
       "==============================================================================\n",
       "\n",
       "Notes:\n",
       "[1] Standard Errors assume that the covariance matrix of the errors is correctly specified.\n",
       "\"\"\""
      ]
     },
     "execution_count": 394,
     "metadata": {},
     "output_type": "execute_result"
    }
   ],
   "source": [
    "do_small_linear('more_Teachers_Faculty_having_Guns')"
   ]
  },
  {
   "cell_type": "markdown",
   "metadata": {},
   "source": [
    "Let's see the regression with all the variables as well!"
   ]
  },
  {
   "cell_type": "code",
   "execution_count": 395,
   "metadata": {},
   "outputs": [
    {
     "data": {
      "text/html": [
       "<table class=\"simpletable\">\n",
       "<caption>OLS Regression Results</caption>\n",
       "<tr>\n",
       "  <th>Dep. Variable:</th>    <td>more_Teachers_Faculty_having_Guns</td> <th>  R-squared:         </th> <td>   0.126</td>\n",
       "</tr>\n",
       "<tr>\n",
       "  <th>Model:</th>                           <td>OLS</td>                <th>  Adj. R-squared:    </th> <td>   0.113</td>\n",
       "</tr>\n",
       "<tr>\n",
       "  <th>Method:</th>                     <td>Least Squares</td>           <th>  F-statistic:       </th> <td>   9.317</td>\n",
       "</tr>\n",
       "<tr>\n",
       "  <th>Date:</th>                     <td>Sun, 19 Dec 2021</td>          <th>  Prob (F-statistic):</th> <td>1.04e-31</td>\n",
       "</tr>\n",
       "<tr>\n",
       "  <th>Time:</th>                         <td>22:23:35</td>              <th>  Log-Likelihood:    </th> <td> -2124.5</td>\n",
       "</tr>\n",
       "<tr>\n",
       "  <th>No. Observations:</th>              <td>  1572</td>               <th>  AIC:               </th> <td>   4299.</td>\n",
       "</tr>\n",
       "<tr>\n",
       "  <th>Df Residuals:</th>                  <td>  1547</td>               <th>  BIC:               </th> <td>   4433.</td>\n",
       "</tr>\n",
       "<tr>\n",
       "  <th>Df Model:</th>                      <td>    24</td>               <th>                     </th>     <td> </td>   \n",
       "</tr>\n",
       "<tr>\n",
       "  <th>Covariance Type:</th>              <td>nonrobust</td>             <th>                     </th>     <td> </td>   \n",
       "</tr>\n",
       "</table>\n",
       "<table class=\"simpletable\">\n",
       "<tr>\n",
       "              <td></td>                 <th>coef</th>     <th>std err</th>      <th>t</th>      <th>P>|t|</th>  <th>[0.025</th>    <th>0.975]</th>  \n",
       "</tr>\n",
       "<tr>\n",
       "  <th>Intercept</th>                 <td> 1.735e-16</td> <td>    0.024</td> <td>  7.3e-15</td> <td> 1.000</td> <td>   -0.047</td> <td>    0.047</td>\n",
       "</tr>\n",
       "<tr>\n",
       "  <th>supernatural_evil</th>         <td>    0.1294</td> <td>    0.034</td> <td>    3.763</td> <td> 0.000</td> <td>    0.062</td> <td>    0.197</td>\n",
       "</tr>\n",
       "<tr>\n",
       "  <th>attendance</th>                <td>   -0.0777</td> <td>    0.031</td> <td>   -2.497</td> <td> 0.013</td> <td>   -0.139</td> <td>   -0.017</td>\n",
       "</tr>\n",
       "<tr>\n",
       "  <th>inerrancy</th>                 <td>   -0.0298</td> <td>    0.031</td> <td>   -0.947</td> <td> 0.344</td> <td>   -0.092</td> <td>    0.032</td>\n",
       "</tr>\n",
       "<tr>\n",
       "  <th>literalism</th>                <td>   -0.0211</td> <td>    0.035</td> <td>   -0.610</td> <td> 0.542</td> <td>   -0.089</td> <td>    0.047</td>\n",
       "</tr>\n",
       "<tr>\n",
       "  <th>mainline_protestant</th>       <td>   -0.0068</td> <td>    0.033</td> <td>   -0.208</td> <td> 0.835</td> <td>   -0.071</td> <td>    0.057</td>\n",
       "</tr>\n",
       "<tr>\n",
       "  <th>black_protestant</th>          <td>    0.0155</td> <td>    0.037</td> <td>    0.414</td> <td> 0.679</td> <td>   -0.058</td> <td>    0.089</td>\n",
       "</tr>\n",
       "<tr>\n",
       "  <th>conservative_protestant</th>   <td>    0.0277</td> <td>    0.040</td> <td>    0.694</td> <td> 0.488</td> <td>   -0.051</td> <td>    0.106</td>\n",
       "</tr>\n",
       "<tr>\n",
       "  <th>catholic</th>                  <td>   -0.0470</td> <td>    0.036</td> <td>   -1.312</td> <td> 0.190</td> <td>   -0.117</td> <td>    0.023</td>\n",
       "</tr>\n",
       "<tr>\n",
       "  <th>other_religion</th>            <td>    0.0058</td> <td>    0.028</td> <td>    0.207</td> <td> 0.836</td> <td>   -0.049</td> <td>    0.061</td>\n",
       "</tr>\n",
       "<tr>\n",
       "  <th>Political_Ideology</th>        <td>   -0.2110</td> <td>    0.028</td> <td>   -7.545</td> <td> 0.000</td> <td>   -0.266</td> <td>   -0.156</td>\n",
       "</tr>\n",
       "<tr>\n",
       "  <th>Black_or_African_American</th> <td>   -0.0712</td> <td>    0.035</td> <td>   -2.011</td> <td> 0.044</td> <td>   -0.141</td> <td>   -0.002</td>\n",
       "</tr>\n",
       "<tr>\n",
       "  <th>Hispanic_or_Latino</th>        <td>   -0.0484</td> <td>    0.030</td> <td>   -1.608</td> <td> 0.108</td> <td>   -0.108</td> <td>    0.011</td>\n",
       "</tr>\n",
       "<tr>\n",
       "  <th>other_race</th>                <td>   -0.0325</td> <td>    0.029</td> <td>   -1.132</td> <td> 0.258</td> <td>   -0.089</td> <td>    0.024</td>\n",
       "</tr>\n",
       "<tr>\n",
       "  <th>female</th>                    <td>   -0.1478</td> <td>    0.025</td> <td>   -6.005</td> <td> 0.000</td> <td>   -0.196</td> <td>   -0.100</td>\n",
       "</tr>\n",
       "<tr>\n",
       "  <th>Less_than_High_School</th>     <td>   -0.0322</td> <td>    0.027</td> <td>   -1.187</td> <td> 0.235</td> <td>   -0.086</td> <td>    0.021</td>\n",
       "</tr>\n",
       "<tr>\n",
       "  <th>Some_College</th>              <td>   -0.0340</td> <td>    0.034</td> <td>   -0.992</td> <td> 0.321</td> <td>   -0.101</td> <td>    0.033</td>\n",
       "</tr>\n",
       "<tr>\n",
       "  <th>college</th>                   <td>   -0.0299</td> <td>    0.034</td> <td>   -0.869</td> <td> 0.385</td> <td>   -0.097</td> <td>    0.038</td>\n",
       "</tr>\n",
       "<tr>\n",
       "  <th>post_grad</th>                 <td>   -0.0851</td> <td>    0.035</td> <td>   -2.448</td> <td> 0.014</td> <td>   -0.153</td> <td>   -0.017</td>\n",
       "</tr>\n",
       "<tr>\n",
       "  <th>AGE</th>                       <td>   -0.0571</td> <td>    0.027</td> <td>   -2.105</td> <td> 0.035</td> <td>   -0.110</td> <td>   -0.004</td>\n",
       "</tr>\n",
       "<tr>\n",
       "  <th>household_income</th>          <td>   -0.0096</td> <td>    0.029</td> <td>   -0.327</td> <td> 0.743</td> <td>   -0.067</td> <td>    0.048</td>\n",
       "</tr>\n",
       "<tr>\n",
       "  <th>married</th>                   <td>   -0.0281</td> <td>    0.027</td> <td>   -1.054</td> <td> 0.292</td> <td>   -0.080</td> <td>    0.024</td>\n",
       "</tr>\n",
       "<tr>\n",
       "  <th>no_kids_at_home</th>           <td>   -0.0265</td> <td>    0.026</td> <td>   -1.006</td> <td> 0.314</td> <td>   -0.078</td> <td>    0.025</td>\n",
       "</tr>\n",
       "<tr>\n",
       "  <th>urban_area</th>                <td>   -0.0825</td> <td>    0.025</td> <td>   -3.336</td> <td> 0.001</td> <td>   -0.131</td> <td>   -0.034</td>\n",
       "</tr>\n",
       "<tr>\n",
       "  <th>South</th>                     <td>   -0.0187</td> <td>    0.025</td> <td>   -0.752</td> <td> 0.452</td> <td>   -0.067</td> <td>    0.030</td>\n",
       "</tr>\n",
       "</table>\n",
       "<table class=\"simpletable\">\n",
       "<tr>\n",
       "  <th>Omnibus:</th>       <td>367.771</td> <th>  Durbin-Watson:     </th> <td>   2.073</td>\n",
       "</tr>\n",
       "<tr>\n",
       "  <th>Prob(Omnibus):</th> <td> 0.000</td>  <th>  Jarque-Bera (JB):  </th> <td> 188.213</td>\n",
       "</tr>\n",
       "<tr>\n",
       "  <th>Skew:</th>          <td> 0.704</td>  <th>  Prob(JB):          </th> <td>1.35e-41</td>\n",
       "</tr>\n",
       "<tr>\n",
       "  <th>Kurtosis:</th>      <td> 2.055</td>  <th>  Cond. No.          </th> <td>    4.37</td>\n",
       "</tr>\n",
       "</table><br/><br/>Notes:<br/>[1] Standard Errors assume that the covariance matrix of the errors is correctly specified."
      ],
      "text/plain": [
       "<class 'statsmodels.iolib.summary.Summary'>\n",
       "\"\"\"\n",
       "                                    OLS Regression Results                                   \n",
       "=============================================================================================\n",
       "Dep. Variable:     more_Teachers_Faculty_having_Guns   R-squared:                       0.126\n",
       "Model:                                           OLS   Adj. R-squared:                  0.113\n",
       "Method:                                Least Squares   F-statistic:                     9.317\n",
       "Date:                               Sun, 19 Dec 2021   Prob (F-statistic):           1.04e-31\n",
       "Time:                                       22:23:35   Log-Likelihood:                -2124.5\n",
       "No. Observations:                               1572   AIC:                             4299.\n",
       "Df Residuals:                                   1547   BIC:                             4433.\n",
       "Df Model:                                         24                                         \n",
       "Covariance Type:                           nonrobust                                         \n",
       "=============================================================================================\n",
       "                                coef    std err          t      P>|t|      [0.025      0.975]\n",
       "---------------------------------------------------------------------------------------------\n",
       "Intercept                  1.735e-16      0.024    7.3e-15      1.000      -0.047       0.047\n",
       "supernatural_evil             0.1294      0.034      3.763      0.000       0.062       0.197\n",
       "attendance                   -0.0777      0.031     -2.497      0.013      -0.139      -0.017\n",
       "inerrancy                    -0.0298      0.031     -0.947      0.344      -0.092       0.032\n",
       "literalism                   -0.0211      0.035     -0.610      0.542      -0.089       0.047\n",
       "mainline_protestant          -0.0068      0.033     -0.208      0.835      -0.071       0.057\n",
       "black_protestant              0.0155      0.037      0.414      0.679      -0.058       0.089\n",
       "conservative_protestant       0.0277      0.040      0.694      0.488      -0.051       0.106\n",
       "catholic                     -0.0470      0.036     -1.312      0.190      -0.117       0.023\n",
       "other_religion                0.0058      0.028      0.207      0.836      -0.049       0.061\n",
       "Political_Ideology           -0.2110      0.028     -7.545      0.000      -0.266      -0.156\n",
       "Black_or_African_American    -0.0712      0.035     -2.011      0.044      -0.141      -0.002\n",
       "Hispanic_or_Latino           -0.0484      0.030     -1.608      0.108      -0.108       0.011\n",
       "other_race                   -0.0325      0.029     -1.132      0.258      -0.089       0.024\n",
       "female                       -0.1478      0.025     -6.005      0.000      -0.196      -0.100\n",
       "Less_than_High_School        -0.0322      0.027     -1.187      0.235      -0.086       0.021\n",
       "Some_College                 -0.0340      0.034     -0.992      0.321      -0.101       0.033\n",
       "college                      -0.0299      0.034     -0.869      0.385      -0.097       0.038\n",
       "post_grad                    -0.0851      0.035     -2.448      0.014      -0.153      -0.017\n",
       "AGE                          -0.0571      0.027     -2.105      0.035      -0.110      -0.004\n",
       "household_income             -0.0096      0.029     -0.327      0.743      -0.067       0.048\n",
       "married                      -0.0281      0.027     -1.054      0.292      -0.080       0.024\n",
       "no_kids_at_home              -0.0265      0.026     -1.006      0.314      -0.078       0.025\n",
       "urban_area                   -0.0825      0.025     -3.336      0.001      -0.131      -0.034\n",
       "South                        -0.0187      0.025     -0.752      0.452      -0.067       0.030\n",
       "==============================================================================\n",
       "Omnibus:                      367.771   Durbin-Watson:                   2.073\n",
       "Prob(Omnibus):                  0.000   Jarque-Bera (JB):              188.213\n",
       "Skew:                           0.704   Prob(JB):                     1.35e-41\n",
       "Kurtosis:                       2.055   Cond. No.                         4.37\n",
       "==============================================================================\n",
       "\n",
       "Notes:\n",
       "[1] Standard Errors assume that the covariance matrix of the errors is correctly specified.\n",
       "\"\"\""
      ]
     },
     "execution_count": 395,
     "metadata": {},
     "output_type": "execute_result"
    }
   ],
   "source": [
    "do_big_linear('more_Teachers_Faculty_having_Guns')"
   ]
  },
  {
   "cell_type": "markdown",
   "metadata": {},
   "source": [
    "Let's talk about the small regression. As we can see *supernatural evil* is statistically important with a p-value of 0.  \n",
    "Its beta coefficient value is 0.17. This means that:  \n",
    "With every increase of one standard deviation in supernatural evil, our dependent variable, which is more_Teachers_Faculty_having_Guns, increases by 0.17 standard deviations.  This percentage is 0.12 in the when we add controls for political ideology.\n",
    "This assumption is being made with the fact that all the other variables are held constant.  "
   ]
  },
  {
   "cell_type": "markdown",
   "metadata": {},
   "source": [
    "### More gun safety programs"
   ]
  },
  {
   "cell_type": "markdown",
   "metadata": {},
   "source": [
    "Let's see the model without the controls for political ideology"
   ]
  },
  {
   "cell_type": "code",
   "execution_count": 396,
   "metadata": {},
   "outputs": [
    {
     "data": {
      "text/html": [
       "<table class=\"simpletable\">\n",
       "<caption>OLS Regression Results</caption>\n",
       "<tr>\n",
       "  <th>Dep. Variable:</th>    <td>more_Gun_Safety_Programs</td> <th>  R-squared:         </th> <td>   0.004</td>\n",
       "</tr>\n",
       "<tr>\n",
       "  <th>Model:</th>                       <td>OLS</td>           <th>  Adj. R-squared:    </th> <td>  -0.001</td>\n",
       "</tr>\n",
       "<tr>\n",
       "  <th>Method:</th>                 <td>Least Squares</td>      <th>  F-statistic:       </th> <td>  0.7659</td>\n",
       "</tr>\n",
       "<tr>\n",
       "  <th>Date:</th>                 <td>Sun, 19 Dec 2021</td>     <th>  Prob (F-statistic):</th>  <td> 0.648</td> \n",
       "</tr>\n",
       "<tr>\n",
       "  <th>Time:</th>                     <td>22:23:35</td>         <th>  Log-Likelihood:    </th> <td> -2227.1</td>\n",
       "</tr>\n",
       "<tr>\n",
       "  <th>No. Observations:</th>          <td>  1572</td>          <th>  AIC:               </th> <td>   4474.</td>\n",
       "</tr>\n",
       "<tr>\n",
       "  <th>Df Residuals:</th>              <td>  1562</td>          <th>  BIC:               </th> <td>   4528.</td>\n",
       "</tr>\n",
       "<tr>\n",
       "  <th>Df Model:</th>                  <td>     9</td>          <th>                     </th>     <td> </td>   \n",
       "</tr>\n",
       "<tr>\n",
       "  <th>Covariance Type:</th>          <td>nonrobust</td>        <th>                     </th>     <td> </td>   \n",
       "</tr>\n",
       "</table>\n",
       "<table class=\"simpletable\">\n",
       "<tr>\n",
       "             <td></td>                <th>coef</th>     <th>std err</th>      <th>t</th>      <th>P>|t|</th>  <th>[0.025</th>    <th>0.975]</th>  \n",
       "</tr>\n",
       "<tr>\n",
       "  <th>Intercept</th>               <td>-3.313e-16</td> <td>    0.025</td> <td>-1.31e-14</td> <td> 1.000</td> <td>   -0.050</td> <td>    0.050</td>\n",
       "</tr>\n",
       "<tr>\n",
       "  <th>supernatural_evil</th>       <td>   -0.0149</td> <td>    0.035</td> <td>   -0.426</td> <td> 0.670</td> <td>   -0.084</td> <td>    0.054</td>\n",
       "</tr>\n",
       "<tr>\n",
       "  <th>attendance</th>              <td>   -0.0255</td> <td>    0.032</td> <td>   -0.793</td> <td> 0.428</td> <td>   -0.089</td> <td>    0.038</td>\n",
       "</tr>\n",
       "<tr>\n",
       "  <th>inerrancy</th>               <td>    0.0172</td> <td>    0.033</td> <td>    0.519</td> <td> 0.604</td> <td>   -0.048</td> <td>    0.082</td>\n",
       "</tr>\n",
       "<tr>\n",
       "  <th>literalism</th>              <td>   -0.0102</td> <td>    0.036</td> <td>   -0.284</td> <td> 0.776</td> <td>   -0.081</td> <td>    0.060</td>\n",
       "</tr>\n",
       "<tr>\n",
       "  <th>mainline_protestant</th>     <td>   -0.0074</td> <td>    0.034</td> <td>   -0.218</td> <td> 0.828</td> <td>   -0.074</td> <td>    0.059</td>\n",
       "</tr>\n",
       "<tr>\n",
       "  <th>black_protestant</th>        <td>   -0.0140</td> <td>    0.032</td> <td>   -0.442</td> <td> 0.659</td> <td>   -0.076</td> <td>    0.048</td>\n",
       "</tr>\n",
       "<tr>\n",
       "  <th>conservative_protestant</th> <td>   -0.0308</td> <td>    0.042</td> <td>   -0.736</td> <td> 0.462</td> <td>   -0.113</td> <td>    0.051</td>\n",
       "</tr>\n",
       "<tr>\n",
       "  <th>catholic</th>                <td>    0.0058</td> <td>    0.037</td> <td>    0.157</td> <td> 0.875</td> <td>   -0.067</td> <td>    0.079</td>\n",
       "</tr>\n",
       "<tr>\n",
       "  <th>other_religion</th>          <td>    0.0129</td> <td>    0.029</td> <td>    0.439</td> <td> 0.661</td> <td>   -0.045</td> <td>    0.070</td>\n",
       "</tr>\n",
       "</table>\n",
       "<table class=\"simpletable\">\n",
       "<tr>\n",
       "  <th>Omnibus:</th>       <td>1046.475</td> <th>  Durbin-Watson:     </th> <td>   1.937</td>\n",
       "</tr>\n",
       "<tr>\n",
       "  <th>Prob(Omnibus):</th>  <td> 0.000</td>  <th>  Jarque-Bera (JB):  </th> <td>7874.509</td>\n",
       "</tr>\n",
       "<tr>\n",
       "  <th>Skew:</th>           <td>-3.275</td>  <th>  Prob(JB):          </th> <td>    0.00</td>\n",
       "</tr>\n",
       "<tr>\n",
       "  <th>Kurtosis:</th>       <td>11.793</td>  <th>  Cond. No.          </th> <td>    3.78</td>\n",
       "</tr>\n",
       "</table><br/><br/>Notes:<br/>[1] Standard Errors assume that the covariance matrix of the errors is correctly specified."
      ],
      "text/plain": [
       "<class 'statsmodels.iolib.summary.Summary'>\n",
       "\"\"\"\n",
       "                               OLS Regression Results                               \n",
       "====================================================================================\n",
       "Dep. Variable:     more_Gun_Safety_Programs   R-squared:                       0.004\n",
       "Model:                                  OLS   Adj. R-squared:                 -0.001\n",
       "Method:                       Least Squares   F-statistic:                    0.7659\n",
       "Date:                      Sun, 19 Dec 2021   Prob (F-statistic):              0.648\n",
       "Time:                              22:23:35   Log-Likelihood:                -2227.1\n",
       "No. Observations:                      1572   AIC:                             4474.\n",
       "Df Residuals:                          1562   BIC:                             4528.\n",
       "Df Model:                                 9                                         \n",
       "Covariance Type:                  nonrobust                                         \n",
       "===========================================================================================\n",
       "                              coef    std err          t      P>|t|      [0.025      0.975]\n",
       "-------------------------------------------------------------------------------------------\n",
       "Intercept               -3.313e-16      0.025  -1.31e-14      1.000      -0.050       0.050\n",
       "supernatural_evil          -0.0149      0.035     -0.426      0.670      -0.084       0.054\n",
       "attendance                 -0.0255      0.032     -0.793      0.428      -0.089       0.038\n",
       "inerrancy                   0.0172      0.033      0.519      0.604      -0.048       0.082\n",
       "literalism                 -0.0102      0.036     -0.284      0.776      -0.081       0.060\n",
       "mainline_protestant        -0.0074      0.034     -0.218      0.828      -0.074       0.059\n",
       "black_protestant           -0.0140      0.032     -0.442      0.659      -0.076       0.048\n",
       "conservative_protestant    -0.0308      0.042     -0.736      0.462      -0.113       0.051\n",
       "catholic                    0.0058      0.037      0.157      0.875      -0.067       0.079\n",
       "other_religion              0.0129      0.029      0.439      0.661      -0.045       0.070\n",
       "==============================================================================\n",
       "Omnibus:                     1046.475   Durbin-Watson:                   1.937\n",
       "Prob(Omnibus):                  0.000   Jarque-Bera (JB):             7874.509\n",
       "Skew:                          -3.275   Prob(JB):                         0.00\n",
       "Kurtosis:                      11.793   Cond. No.                         3.78\n",
       "==============================================================================\n",
       "\n",
       "Notes:\n",
       "[1] Standard Errors assume that the covariance matrix of the errors is correctly specified.\n",
       "\"\"\""
      ]
     },
     "execution_count": 396,
     "metadata": {},
     "output_type": "execute_result"
    }
   ],
   "source": [
    "do_small_linear('more_Gun_Safety_Programs')"
   ]
  },
  {
   "cell_type": "markdown",
   "metadata": {},
   "source": [
    "Let's see the regression with all the variables as well!"
   ]
  },
  {
   "cell_type": "code",
   "execution_count": 397,
   "metadata": {},
   "outputs": [
    {
     "data": {
      "text/html": [
       "<table class=\"simpletable\">\n",
       "<caption>OLS Regression Results</caption>\n",
       "<tr>\n",
       "  <th>Dep. Variable:</th>    <td>more_Gun_Safety_Programs</td> <th>  R-squared:         </th> <td>   0.042</td>\n",
       "</tr>\n",
       "<tr>\n",
       "  <th>Model:</th>                       <td>OLS</td>           <th>  Adj. R-squared:    </th> <td>   0.027</td>\n",
       "</tr>\n",
       "<tr>\n",
       "  <th>Method:</th>                 <td>Least Squares</td>      <th>  F-statistic:       </th> <td>   2.793</td>\n",
       "</tr>\n",
       "<tr>\n",
       "  <th>Date:</th>                 <td>Sun, 19 Dec 2021</td>     <th>  Prob (F-statistic):</th> <td>8.45e-06</td>\n",
       "</tr>\n",
       "<tr>\n",
       "  <th>Time:</th>                     <td>22:23:35</td>         <th>  Log-Likelihood:    </th> <td> -2197.2</td>\n",
       "</tr>\n",
       "<tr>\n",
       "  <th>No. Observations:</th>          <td>  1572</td>          <th>  AIC:               </th> <td>   4444.</td>\n",
       "</tr>\n",
       "<tr>\n",
       "  <th>Df Residuals:</th>              <td>  1547</td>          <th>  BIC:               </th> <td>   4578.</td>\n",
       "</tr>\n",
       "<tr>\n",
       "  <th>Df Model:</th>                  <td>    24</td>          <th>                     </th>     <td> </td>   \n",
       "</tr>\n",
       "<tr>\n",
       "  <th>Covariance Type:</th>          <td>nonrobust</td>        <th>                     </th>     <td> </td>   \n",
       "</tr>\n",
       "</table>\n",
       "<table class=\"simpletable\">\n",
       "<tr>\n",
       "              <td></td>                 <th>coef</th>     <th>std err</th>      <th>t</th>      <th>P>|t|</th>  <th>[0.025</th>    <th>0.975]</th>  \n",
       "</tr>\n",
       "<tr>\n",
       "  <th>Intercept</th>                 <td>-3.313e-16</td> <td>    0.025</td> <td>-1.33e-14</td> <td> 1.000</td> <td>   -0.049</td> <td>    0.049</td>\n",
       "</tr>\n",
       "<tr>\n",
       "  <th>supernatural_evil</th>         <td>    0.0172</td> <td>    0.036</td> <td>    0.478</td> <td> 0.633</td> <td>   -0.053</td> <td>    0.088</td>\n",
       "</tr>\n",
       "<tr>\n",
       "  <th>attendance</th>                <td>   -0.0270</td> <td>    0.033</td> <td>   -0.828</td> <td> 0.408</td> <td>   -0.091</td> <td>    0.037</td>\n",
       "</tr>\n",
       "<tr>\n",
       "  <th>inerrancy</th>                 <td>    0.0200</td> <td>    0.033</td> <td>    0.607</td> <td> 0.544</td> <td>   -0.045</td> <td>    0.085</td>\n",
       "</tr>\n",
       "<tr>\n",
       "  <th>literalism</th>                <td>    0.0032</td> <td>    0.036</td> <td>    0.087</td> <td> 0.931</td> <td>   -0.068</td> <td>    0.074</td>\n",
       "</tr>\n",
       "<tr>\n",
       "  <th>mainline_protestant</th>       <td>    0.0012</td> <td>    0.034</td> <td>    0.034</td> <td> 0.973</td> <td>   -0.066</td> <td>    0.068</td>\n",
       "</tr>\n",
       "<tr>\n",
       "  <th>black_protestant</th>          <td>   -0.0526</td> <td>    0.039</td> <td>   -1.343</td> <td> 0.179</td> <td>   -0.129</td> <td>    0.024</td>\n",
       "</tr>\n",
       "<tr>\n",
       "  <th>conservative_protestant</th>   <td>    0.0050</td> <td>    0.042</td> <td>    0.120</td> <td> 0.904</td> <td>   -0.077</td> <td>    0.087</td>\n",
       "</tr>\n",
       "<tr>\n",
       "  <th>catholic</th>                  <td>    0.0181</td> <td>    0.038</td> <td>    0.482</td> <td> 0.630</td> <td>   -0.055</td> <td>    0.092</td>\n",
       "</tr>\n",
       "<tr>\n",
       "  <th>other_religion</th>            <td>    0.0039</td> <td>    0.029</td> <td>    0.131</td> <td> 0.896</td> <td>   -0.054</td> <td>    0.062</td>\n",
       "</tr>\n",
       "<tr>\n",
       "  <th>Political_Ideology</th>        <td>    0.1162</td> <td>    0.029</td> <td>    3.968</td> <td> 0.000</td> <td>    0.059</td> <td>    0.174</td>\n",
       "</tr>\n",
       "<tr>\n",
       "  <th>Black_or_African_American</th> <td>    0.0588</td> <td>    0.037</td> <td>    1.587</td> <td> 0.113</td> <td>   -0.014</td> <td>    0.132</td>\n",
       "</tr>\n",
       "<tr>\n",
       "  <th>Hispanic_or_Latino</th>        <td>    0.0321</td> <td>    0.032</td> <td>    1.018</td> <td> 0.309</td> <td>   -0.030</td> <td>    0.094</td>\n",
       "</tr>\n",
       "<tr>\n",
       "  <th>other_race</th>                <td>    0.0310</td> <td>    0.030</td> <td>    1.031</td> <td> 0.303</td> <td>   -0.028</td> <td>    0.090</td>\n",
       "</tr>\n",
       "<tr>\n",
       "  <th>female</th>                    <td>    0.0643</td> <td>    0.026</td> <td>    2.493</td> <td> 0.013</td> <td>    0.014</td> <td>    0.115</td>\n",
       "</tr>\n",
       "<tr>\n",
       "  <th>Less_than_High_School</th>     <td>   -0.0687</td> <td>    0.028</td> <td>   -2.415</td> <td> 0.016</td> <td>   -0.125</td> <td>   -0.013</td>\n",
       "</tr>\n",
       "<tr>\n",
       "  <th>Some_College</th>              <td>   -0.0097</td> <td>    0.036</td> <td>   -0.270</td> <td> 0.787</td> <td>   -0.080</td> <td>    0.061</td>\n",
       "</tr>\n",
       "<tr>\n",
       "  <th>college</th>                   <td>   -0.0062</td> <td>    0.036</td> <td>   -0.173</td> <td> 0.862</td> <td>   -0.077</td> <td>    0.065</td>\n",
       "</tr>\n",
       "<tr>\n",
       "  <th>post_grad</th>                 <td>    0.0165</td> <td>    0.036</td> <td>    0.453</td> <td> 0.650</td> <td>   -0.055</td> <td>    0.088</td>\n",
       "</tr>\n",
       "<tr>\n",
       "  <th>AGE</th>                       <td>    0.0332</td> <td>    0.028</td> <td>    1.170</td> <td> 0.242</td> <td>   -0.023</td> <td>    0.089</td>\n",
       "</tr>\n",
       "<tr>\n",
       "  <th>household_income</th>          <td>    0.0005</td> <td>    0.031</td> <td>    0.017</td> <td> 0.987</td> <td>   -0.060</td> <td>    0.061</td>\n",
       "</tr>\n",
       "<tr>\n",
       "  <th>married</th>                   <td>   -0.0187</td> <td>    0.028</td> <td>   -0.668</td> <td> 0.504</td> <td>   -0.073</td> <td>    0.036</td>\n",
       "</tr>\n",
       "<tr>\n",
       "  <th>no_kids_at_home</th>           <td>    0.0773</td> <td>    0.028</td> <td>    2.803</td> <td> 0.005</td> <td>    0.023</td> <td>    0.131</td>\n",
       "</tr>\n",
       "<tr>\n",
       "  <th>urban_area</th>                <td>    0.0725</td> <td>    0.026</td> <td>    2.798</td> <td> 0.005</td> <td>    0.022</td> <td>    0.123</td>\n",
       "</tr>\n",
       "<tr>\n",
       "  <th>South</th>                     <td>   -0.0262</td> <td>    0.026</td> <td>   -1.009</td> <td> 0.313</td> <td>   -0.077</td> <td>    0.025</td>\n",
       "</tr>\n",
       "</table>\n",
       "<table class=\"simpletable\">\n",
       "<tr>\n",
       "  <th>Omnibus:</th>       <td>992.154</td> <th>  Durbin-Watson:     </th> <td>   1.950</td>\n",
       "</tr>\n",
       "<tr>\n",
       "  <th>Prob(Omnibus):</th> <td> 0.000</td>  <th>  Jarque-Bera (JB):  </th> <td>6824.380</td>\n",
       "</tr>\n",
       "<tr>\n",
       "  <th>Skew:</th>          <td>-3.089</td>  <th>  Prob(JB):          </th> <td>    0.00</td>\n",
       "</tr>\n",
       "<tr>\n",
       "  <th>Kurtosis:</th>      <td>11.126</td>  <th>  Cond. No.          </th> <td>    4.37</td>\n",
       "</tr>\n",
       "</table><br/><br/>Notes:<br/>[1] Standard Errors assume that the covariance matrix of the errors is correctly specified."
      ],
      "text/plain": [
       "<class 'statsmodels.iolib.summary.Summary'>\n",
       "\"\"\"\n",
       "                               OLS Regression Results                               \n",
       "====================================================================================\n",
       "Dep. Variable:     more_Gun_Safety_Programs   R-squared:                       0.042\n",
       "Model:                                  OLS   Adj. R-squared:                  0.027\n",
       "Method:                       Least Squares   F-statistic:                     2.793\n",
       "Date:                      Sun, 19 Dec 2021   Prob (F-statistic):           8.45e-06\n",
       "Time:                              22:23:35   Log-Likelihood:                -2197.2\n",
       "No. Observations:                      1572   AIC:                             4444.\n",
       "Df Residuals:                          1547   BIC:                             4578.\n",
       "Df Model:                                24                                         \n",
       "Covariance Type:                  nonrobust                                         \n",
       "=============================================================================================\n",
       "                                coef    std err          t      P>|t|      [0.025      0.975]\n",
       "---------------------------------------------------------------------------------------------\n",
       "Intercept                 -3.313e-16      0.025  -1.33e-14      1.000      -0.049       0.049\n",
       "supernatural_evil             0.0172      0.036      0.478      0.633      -0.053       0.088\n",
       "attendance                   -0.0270      0.033     -0.828      0.408      -0.091       0.037\n",
       "inerrancy                     0.0200      0.033      0.607      0.544      -0.045       0.085\n",
       "literalism                    0.0032      0.036      0.087      0.931      -0.068       0.074\n",
       "mainline_protestant           0.0012      0.034      0.034      0.973      -0.066       0.068\n",
       "black_protestant             -0.0526      0.039     -1.343      0.179      -0.129       0.024\n",
       "conservative_protestant       0.0050      0.042      0.120      0.904      -0.077       0.087\n",
       "catholic                      0.0181      0.038      0.482      0.630      -0.055       0.092\n",
       "other_religion                0.0039      0.029      0.131      0.896      -0.054       0.062\n",
       "Political_Ideology            0.1162      0.029      3.968      0.000       0.059       0.174\n",
       "Black_or_African_American     0.0588      0.037      1.587      0.113      -0.014       0.132\n",
       "Hispanic_or_Latino            0.0321      0.032      1.018      0.309      -0.030       0.094\n",
       "other_race                    0.0310      0.030      1.031      0.303      -0.028       0.090\n",
       "female                        0.0643      0.026      2.493      0.013       0.014       0.115\n",
       "Less_than_High_School        -0.0687      0.028     -2.415      0.016      -0.125      -0.013\n",
       "Some_College                 -0.0097      0.036     -0.270      0.787      -0.080       0.061\n",
       "college                      -0.0062      0.036     -0.173      0.862      -0.077       0.065\n",
       "post_grad                     0.0165      0.036      0.453      0.650      -0.055       0.088\n",
       "AGE                           0.0332      0.028      1.170      0.242      -0.023       0.089\n",
       "household_income              0.0005      0.031      0.017      0.987      -0.060       0.061\n",
       "married                      -0.0187      0.028     -0.668      0.504      -0.073       0.036\n",
       "no_kids_at_home               0.0773      0.028      2.803      0.005       0.023       0.131\n",
       "urban_area                    0.0725      0.026      2.798      0.005       0.022       0.123\n",
       "South                        -0.0262      0.026     -1.009      0.313      -0.077       0.025\n",
       "==============================================================================\n",
       "Omnibus:                      992.154   Durbin-Watson:                   1.950\n",
       "Prob(Omnibus):                  0.000   Jarque-Bera (JB):             6824.380\n",
       "Skew:                          -3.089   Prob(JB):                         0.00\n",
       "Kurtosis:                      11.126   Cond. No.                         4.37\n",
       "==============================================================================\n",
       "\n",
       "Notes:\n",
       "[1] Standard Errors assume that the covariance matrix of the errors is correctly specified.\n",
       "\"\"\""
      ]
     },
     "execution_count": 397,
     "metadata": {},
     "output_type": "execute_result"
    }
   ],
   "source": [
    "do_big_linear('more_Gun_Safety_Programs')"
   ]
  },
  {
   "cell_type": "markdown",
   "metadata": {},
   "source": [
    "### Expanded mental health screening"
   ]
  },
  {
   "cell_type": "markdown",
   "metadata": {},
   "source": [
    "Let's see the model without the controls for political ideology"
   ]
  },
  {
   "cell_type": "code",
   "execution_count": 398,
   "metadata": {},
   "outputs": [
    {
     "data": {
      "text/html": [
       "<table class=\"simpletable\">\n",
       "<caption>OLS Regression Results</caption>\n",
       "<tr>\n",
       "  <th>Dep. Variable:</th>    <td>expanded_Mental_Health_Screening</td> <th>  R-squared:         </th> <td>   0.014</td>\n",
       "</tr>\n",
       "<tr>\n",
       "  <th>Model:</th>                           <td>OLS</td>               <th>  Adj. R-squared:    </th> <td>   0.008</td>\n",
       "</tr>\n",
       "<tr>\n",
       "  <th>Method:</th>                     <td>Least Squares</td>          <th>  F-statistic:       </th> <td>   2.478</td>\n",
       "</tr>\n",
       "<tr>\n",
       "  <th>Date:</th>                     <td>Sun, 19 Dec 2021</td>         <th>  Prob (F-statistic):</th>  <td>0.00829</td>\n",
       "</tr>\n",
       "<tr>\n",
       "  <th>Time:</th>                         <td>22:23:35</td>             <th>  Log-Likelihood:    </th> <td> -2219.4</td>\n",
       "</tr>\n",
       "<tr>\n",
       "  <th>No. Observations:</th>              <td>  1572</td>              <th>  AIC:               </th> <td>   4459.</td>\n",
       "</tr>\n",
       "<tr>\n",
       "  <th>Df Residuals:</th>                  <td>  1562</td>              <th>  BIC:               </th> <td>   4512.</td>\n",
       "</tr>\n",
       "<tr>\n",
       "  <th>Df Model:</th>                      <td>     9</td>              <th>                     </th>     <td> </td>   \n",
       "</tr>\n",
       "<tr>\n",
       "  <th>Covariance Type:</th>              <td>nonrobust</td>            <th>                     </th>     <td> </td>   \n",
       "</tr>\n",
       "</table>\n",
       "<table class=\"simpletable\">\n",
       "<tr>\n",
       "             <td></td>                <th>coef</th>     <th>std err</th>      <th>t</th>      <th>P>|t|</th>  <th>[0.025</th>    <th>0.975]</th>  \n",
       "</tr>\n",
       "<tr>\n",
       "  <th>Intercept</th>               <td>-1.596e-16</td> <td>    0.025</td> <td>-6.35e-15</td> <td> 1.000</td> <td>   -0.049</td> <td>    0.049</td>\n",
       "</tr>\n",
       "<tr>\n",
       "  <th>supernatural_evil</th>       <td>   -0.0438</td> <td>    0.035</td> <td>   -1.257</td> <td> 0.209</td> <td>   -0.112</td> <td>    0.025</td>\n",
       "</tr>\n",
       "<tr>\n",
       "  <th>attendance</th>              <td>    0.0068</td> <td>    0.032</td> <td>    0.212</td> <td> 0.832</td> <td>   -0.056</td> <td>    0.070</td>\n",
       "</tr>\n",
       "<tr>\n",
       "  <th>inerrancy</th>               <td>    0.0243</td> <td>    0.033</td> <td>    0.735</td> <td> 0.462</td> <td>   -0.041</td> <td>    0.089</td>\n",
       "</tr>\n",
       "<tr>\n",
       "  <th>literalism</th>              <td>   -0.0028</td> <td>    0.036</td> <td>   -0.079</td> <td> 0.937</td> <td>   -0.073</td> <td>    0.067</td>\n",
       "</tr>\n",
       "<tr>\n",
       "  <th>mainline_protestant</th>     <td>    0.0018</td> <td>    0.034</td> <td>    0.052</td> <td> 0.958</td> <td>   -0.064</td> <td>    0.068</td>\n",
       "</tr>\n",
       "<tr>\n",
       "  <th>black_protestant</th>        <td>    0.0083</td> <td>    0.032</td> <td>    0.264</td> <td> 0.792</td> <td>   -0.054</td> <td>    0.070</td>\n",
       "</tr>\n",
       "<tr>\n",
       "  <th>conservative_protestant</th> <td>   -0.0852</td> <td>    0.042</td> <td>   -2.047</td> <td> 0.041</td> <td>   -0.167</td> <td>   -0.004</td>\n",
       "</tr>\n",
       "<tr>\n",
       "  <th>catholic</th>                <td>    0.0139</td> <td>    0.037</td> <td>    0.377</td> <td> 0.706</td> <td>   -0.058</td> <td>    0.086</td>\n",
       "</tr>\n",
       "<tr>\n",
       "  <th>other_religion</th>          <td>    0.0230</td> <td>    0.029</td> <td>    0.791</td> <td> 0.429</td> <td>   -0.034</td> <td>    0.080</td>\n",
       "</tr>\n",
       "</table>\n",
       "<table class=\"simpletable\">\n",
       "<tr>\n",
       "  <th>Omnibus:</th>       <td>873.574</td> <th>  Durbin-Watson:     </th> <td>   2.017</td>\n",
       "</tr>\n",
       "<tr>\n",
       "  <th>Prob(Omnibus):</th> <td> 0.000</td>  <th>  Jarque-Bera (JB):  </th> <td>4336.981</td>\n",
       "</tr>\n",
       "<tr>\n",
       "  <th>Skew:</th>          <td>-2.785</td>  <th>  Prob(JB):          </th> <td>    0.00</td>\n",
       "</tr>\n",
       "<tr>\n",
       "  <th>Kurtosis:</th>      <td> 8.932</td>  <th>  Cond. No.          </th> <td>    3.78</td>\n",
       "</tr>\n",
       "</table><br/><br/>Notes:<br/>[1] Standard Errors assume that the covariance matrix of the errors is correctly specified."
      ],
      "text/plain": [
       "<class 'statsmodels.iolib.summary.Summary'>\n",
       "\"\"\"\n",
       "                                   OLS Regression Results                                   \n",
       "============================================================================================\n",
       "Dep. Variable:     expanded_Mental_Health_Screening   R-squared:                       0.014\n",
       "Model:                                          OLS   Adj. R-squared:                  0.008\n",
       "Method:                               Least Squares   F-statistic:                     2.478\n",
       "Date:                              Sun, 19 Dec 2021   Prob (F-statistic):            0.00829\n",
       "Time:                                      22:23:35   Log-Likelihood:                -2219.4\n",
       "No. Observations:                              1572   AIC:                             4459.\n",
       "Df Residuals:                                  1562   BIC:                             4512.\n",
       "Df Model:                                         9                                         \n",
       "Covariance Type:                          nonrobust                                         \n",
       "===========================================================================================\n",
       "                              coef    std err          t      P>|t|      [0.025      0.975]\n",
       "-------------------------------------------------------------------------------------------\n",
       "Intercept               -1.596e-16      0.025  -6.35e-15      1.000      -0.049       0.049\n",
       "supernatural_evil          -0.0438      0.035     -1.257      0.209      -0.112       0.025\n",
       "attendance                  0.0068      0.032      0.212      0.832      -0.056       0.070\n",
       "inerrancy                   0.0243      0.033      0.735      0.462      -0.041       0.089\n",
       "literalism                 -0.0028      0.036     -0.079      0.937      -0.073       0.067\n",
       "mainline_protestant         0.0018      0.034      0.052      0.958      -0.064       0.068\n",
       "black_protestant            0.0083      0.032      0.264      0.792      -0.054       0.070\n",
       "conservative_protestant    -0.0852      0.042     -2.047      0.041      -0.167      -0.004\n",
       "catholic                    0.0139      0.037      0.377      0.706      -0.058       0.086\n",
       "other_religion              0.0230      0.029      0.791      0.429      -0.034       0.080\n",
       "==============================================================================\n",
       "Omnibus:                      873.574   Durbin-Watson:                   2.017\n",
       "Prob(Omnibus):                  0.000   Jarque-Bera (JB):             4336.981\n",
       "Skew:                          -2.785   Prob(JB):                         0.00\n",
       "Kurtosis:                       8.932   Cond. No.                         3.78\n",
       "==============================================================================\n",
       "\n",
       "Notes:\n",
       "[1] Standard Errors assume that the covariance matrix of the errors is correctly specified.\n",
       "\"\"\""
      ]
     },
     "execution_count": 398,
     "metadata": {},
     "output_type": "execute_result"
    }
   ],
   "source": [
    "do_small_linear('expanded_Mental_Health_Screening')"
   ]
  },
  {
   "cell_type": "markdown",
   "metadata": {},
   "source": [
    "Let's see the regression with all the variables as well!"
   ]
  },
  {
   "cell_type": "code",
   "execution_count": 399,
   "metadata": {},
   "outputs": [
    {
     "data": {
      "text/html": [
       "<table class=\"simpletable\">\n",
       "<caption>OLS Regression Results</caption>\n",
       "<tr>\n",
       "  <th>Dep. Variable:</th>    <td>expanded_Mental_Health_Screening</td> <th>  R-squared:         </th> <td>   0.058</td>\n",
       "</tr>\n",
       "<tr>\n",
       "  <th>Model:</th>                           <td>OLS</td>               <th>  Adj. R-squared:    </th> <td>   0.044</td>\n",
       "</tr>\n",
       "<tr>\n",
       "  <th>Method:</th>                     <td>Least Squares</td>          <th>  F-statistic:       </th> <td>   3.986</td>\n",
       "</tr>\n",
       "<tr>\n",
       "  <th>Date:</th>                     <td>Sun, 19 Dec 2021</td>         <th>  Prob (F-statistic):</th> <td>3.80e-10</td>\n",
       "</tr>\n",
       "<tr>\n",
       "  <th>Time:</th>                         <td>22:23:35</td>             <th>  Log-Likelihood:    </th> <td> -2183.4</td>\n",
       "</tr>\n",
       "<tr>\n",
       "  <th>No. Observations:</th>              <td>  1572</td>              <th>  AIC:               </th> <td>   4417.</td>\n",
       "</tr>\n",
       "<tr>\n",
       "  <th>Df Residuals:</th>                  <td>  1547</td>              <th>  BIC:               </th> <td>   4551.</td>\n",
       "</tr>\n",
       "<tr>\n",
       "  <th>Df Model:</th>                      <td>    24</td>              <th>                     </th>     <td> </td>   \n",
       "</tr>\n",
       "<tr>\n",
       "  <th>Covariance Type:</th>              <td>nonrobust</td>            <th>                     </th>     <td> </td>   \n",
       "</tr>\n",
       "</table>\n",
       "<table class=\"simpletable\">\n",
       "<tr>\n",
       "              <td></td>                 <th>coef</th>     <th>std err</th>      <th>t</th>      <th>P>|t|</th>  <th>[0.025</th>    <th>0.975]</th>  \n",
       "</tr>\n",
       "<tr>\n",
       "  <th>Intercept</th>                 <td>-1.596e-16</td> <td>    0.025</td> <td>-6.47e-15</td> <td> 1.000</td> <td>   -0.048</td> <td>    0.048</td>\n",
       "</tr>\n",
       "<tr>\n",
       "  <th>supernatural_evil</th>         <td>   -0.0215</td> <td>    0.036</td> <td>   -0.602</td> <td> 0.547</td> <td>   -0.092</td> <td>    0.049</td>\n",
       "</tr>\n",
       "<tr>\n",
       "  <th>attendance</th>                <td>    0.0119</td> <td>    0.032</td> <td>    0.367</td> <td> 0.714</td> <td>   -0.052</td> <td>    0.075</td>\n",
       "</tr>\n",
       "<tr>\n",
       "  <th>inerrancy</th>                 <td>    0.0282</td> <td>    0.033</td> <td>    0.862</td> <td> 0.389</td> <td>   -0.036</td> <td>    0.092</td>\n",
       "</tr>\n",
       "<tr>\n",
       "  <th>literalism</th>                <td>    0.0023</td> <td>    0.036</td> <td>    0.064</td> <td> 0.949</td> <td>   -0.068</td> <td>    0.073</td>\n",
       "</tr>\n",
       "<tr>\n",
       "  <th>mainline_protestant</th>       <td>    0.0121</td> <td>    0.034</td> <td>    0.357</td> <td> 0.721</td> <td>   -0.054</td> <td>    0.079</td>\n",
       "</tr>\n",
       "<tr>\n",
       "  <th>black_protestant</th>          <td>   -0.0319</td> <td>    0.039</td> <td>   -0.823</td> <td> 0.411</td> <td>   -0.108</td> <td>    0.044</td>\n",
       "</tr>\n",
       "<tr>\n",
       "  <th>conservative_protestant</th>   <td>   -0.0506</td> <td>    0.041</td> <td>   -1.221</td> <td> 0.222</td> <td>   -0.132</td> <td>    0.031</td>\n",
       "</tr>\n",
       "<tr>\n",
       "  <th>catholic</th>                  <td>    0.0160</td> <td>    0.037</td> <td>    0.431</td> <td> 0.666</td> <td>   -0.057</td> <td>    0.089</td>\n",
       "</tr>\n",
       "<tr>\n",
       "  <th>other_religion</th>            <td>    0.0173</td> <td>    0.029</td> <td>    0.592</td> <td> 0.554</td> <td>   -0.040</td> <td>    0.075</td>\n",
       "</tr>\n",
       "<tr>\n",
       "  <th>Political_Ideology</th>        <td>    0.1487</td> <td>    0.029</td> <td>    5.122</td> <td> 0.000</td> <td>    0.092</td> <td>    0.206</td>\n",
       "</tr>\n",
       "<tr>\n",
       "  <th>Black_or_African_American</th> <td>    0.0555</td> <td>    0.037</td> <td>    1.511</td> <td> 0.131</td> <td>   -0.017</td> <td>    0.128</td>\n",
       "</tr>\n",
       "<tr>\n",
       "  <th>Hispanic_or_Latino</th>        <td>    0.0929</td> <td>    0.031</td> <td>    2.971</td> <td> 0.003</td> <td>    0.032</td> <td>    0.154</td>\n",
       "</tr>\n",
       "<tr>\n",
       "  <th>other_race</th>                <td>    0.0544</td> <td>    0.030</td> <td>    1.824</td> <td> 0.068</td> <td>   -0.004</td> <td>    0.113</td>\n",
       "</tr>\n",
       "<tr>\n",
       "  <th>female</th>                    <td>    0.0860</td> <td>    0.026</td> <td>    3.367</td> <td> 0.001</td> <td>    0.036</td> <td>    0.136</td>\n",
       "</tr>\n",
       "<tr>\n",
       "  <th>Less_than_High_School</th>     <td>   -0.0295</td> <td>    0.028</td> <td>   -1.046</td> <td> 0.296</td> <td>   -0.085</td> <td>    0.026</td>\n",
       "</tr>\n",
       "<tr>\n",
       "  <th>Some_College</th>              <td>   -0.0237</td> <td>    0.036</td> <td>   -0.665</td> <td> 0.506</td> <td>   -0.094</td> <td>    0.046</td>\n",
       "</tr>\n",
       "<tr>\n",
       "  <th>college</th>                   <td>   -0.0321</td> <td>    0.036</td> <td>   -0.898</td> <td> 0.369</td> <td>   -0.102</td> <td>    0.038</td>\n",
       "</tr>\n",
       "<tr>\n",
       "  <th>post_grad</th>                 <td>    0.0140</td> <td>    0.036</td> <td>    0.387</td> <td> 0.699</td> <td>   -0.057</td> <td>    0.085</td>\n",
       "</tr>\n",
       "<tr>\n",
       "  <th>AGE</th>                       <td>    0.0316</td> <td>    0.028</td> <td>    1.122</td> <td> 0.262</td> <td>   -0.024</td> <td>    0.087</td>\n",
       "</tr>\n",
       "<tr>\n",
       "  <th>household_income</th>          <td>   -0.0162</td> <td>    0.030</td> <td>   -0.534</td> <td> 0.593</td> <td>   -0.076</td> <td>    0.043</td>\n",
       "</tr>\n",
       "<tr>\n",
       "  <th>married</th>                   <td>   -0.0286</td> <td>    0.028</td> <td>   -1.031</td> <td> 0.303</td> <td>   -0.083</td> <td>    0.026</td>\n",
       "</tr>\n",
       "<tr>\n",
       "  <th>no_kids_at_home</th>           <td>    0.0649</td> <td>    0.027</td> <td>    2.372</td> <td> 0.018</td> <td>    0.011</td> <td>    0.118</td>\n",
       "</tr>\n",
       "<tr>\n",
       "  <th>urban_area</th>                <td>    0.0365</td> <td>    0.026</td> <td>    1.421</td> <td> 0.155</td> <td>   -0.014</td> <td>    0.087</td>\n",
       "</tr>\n",
       "<tr>\n",
       "  <th>South</th>                     <td>    0.0176</td> <td>    0.026</td> <td>    0.684</td> <td> 0.494</td> <td>   -0.033</td> <td>    0.068</td>\n",
       "</tr>\n",
       "</table>\n",
       "<table class=\"simpletable\">\n",
       "<tr>\n",
       "  <th>Omnibus:</th>       <td>816.147</td> <th>  Durbin-Watson:     </th> <td>   1.998</td>\n",
       "</tr>\n",
       "<tr>\n",
       "  <th>Prob(Omnibus):</th> <td> 0.000</td>  <th>  Jarque-Bera (JB):  </th> <td>3698.196</td>\n",
       "</tr>\n",
       "<tr>\n",
       "  <th>Skew:</th>          <td>-2.601</td>  <th>  Prob(JB):          </th> <td>    0.00</td>\n",
       "</tr>\n",
       "<tr>\n",
       "  <th>Kurtosis:</th>      <td> 8.421</td>  <th>  Cond. No.          </th> <td>    4.37</td>\n",
       "</tr>\n",
       "</table><br/><br/>Notes:<br/>[1] Standard Errors assume that the covariance matrix of the errors is correctly specified."
      ],
      "text/plain": [
       "<class 'statsmodels.iolib.summary.Summary'>\n",
       "\"\"\"\n",
       "                                   OLS Regression Results                                   \n",
       "============================================================================================\n",
       "Dep. Variable:     expanded_Mental_Health_Screening   R-squared:                       0.058\n",
       "Model:                                          OLS   Adj. R-squared:                  0.044\n",
       "Method:                               Least Squares   F-statistic:                     3.986\n",
       "Date:                              Sun, 19 Dec 2021   Prob (F-statistic):           3.80e-10\n",
       "Time:                                      22:23:35   Log-Likelihood:                -2183.4\n",
       "No. Observations:                              1572   AIC:                             4417.\n",
       "Df Residuals:                                  1547   BIC:                             4551.\n",
       "Df Model:                                        24                                         \n",
       "Covariance Type:                          nonrobust                                         \n",
       "=============================================================================================\n",
       "                                coef    std err          t      P>|t|      [0.025      0.975]\n",
       "---------------------------------------------------------------------------------------------\n",
       "Intercept                 -1.596e-16      0.025  -6.47e-15      1.000      -0.048       0.048\n",
       "supernatural_evil            -0.0215      0.036     -0.602      0.547      -0.092       0.049\n",
       "attendance                    0.0119      0.032      0.367      0.714      -0.052       0.075\n",
       "inerrancy                     0.0282      0.033      0.862      0.389      -0.036       0.092\n",
       "literalism                    0.0023      0.036      0.064      0.949      -0.068       0.073\n",
       "mainline_protestant           0.0121      0.034      0.357      0.721      -0.054       0.079\n",
       "black_protestant             -0.0319      0.039     -0.823      0.411      -0.108       0.044\n",
       "conservative_protestant      -0.0506      0.041     -1.221      0.222      -0.132       0.031\n",
       "catholic                      0.0160      0.037      0.431      0.666      -0.057       0.089\n",
       "other_religion                0.0173      0.029      0.592      0.554      -0.040       0.075\n",
       "Political_Ideology            0.1487      0.029      5.122      0.000       0.092       0.206\n",
       "Black_or_African_American     0.0555      0.037      1.511      0.131      -0.017       0.128\n",
       "Hispanic_or_Latino            0.0929      0.031      2.971      0.003       0.032       0.154\n",
       "other_race                    0.0544      0.030      1.824      0.068      -0.004       0.113\n",
       "female                        0.0860      0.026      3.367      0.001       0.036       0.136\n",
       "Less_than_High_School        -0.0295      0.028     -1.046      0.296      -0.085       0.026\n",
       "Some_College                 -0.0237      0.036     -0.665      0.506      -0.094       0.046\n",
       "college                      -0.0321      0.036     -0.898      0.369      -0.102       0.038\n",
       "post_grad                     0.0140      0.036      0.387      0.699      -0.057       0.085\n",
       "AGE                           0.0316      0.028      1.122      0.262      -0.024       0.087\n",
       "household_income             -0.0162      0.030     -0.534      0.593      -0.076       0.043\n",
       "married                      -0.0286      0.028     -1.031      0.303      -0.083       0.026\n",
       "no_kids_at_home               0.0649      0.027      2.372      0.018       0.011       0.118\n",
       "urban_area                    0.0365      0.026      1.421      0.155      -0.014       0.087\n",
       "South                         0.0176      0.026      0.684      0.494      -0.033       0.068\n",
       "==============================================================================\n",
       "Omnibus:                      816.147   Durbin-Watson:                   1.998\n",
       "Prob(Omnibus):                  0.000   Jarque-Bera (JB):             3698.196\n",
       "Skew:                          -2.601   Prob(JB):                         0.00\n",
       "Kurtosis:                       8.421   Cond. No.                         4.37\n",
       "==============================================================================\n",
       "\n",
       "Notes:\n",
       "[1] Standard Errors assume that the covariance matrix of the errors is correctly specified.\n",
       "\"\"\""
      ]
     },
     "execution_count": 399,
     "metadata": {},
     "output_type": "execute_result"
    }
   ],
   "source": [
    "do_big_linear('expanded_Mental_Health_Screening')"
   ]
  },
  {
   "cell_type": "markdown",
   "metadata": {},
   "source": [
    "# 5TH QUESTION"
   ]
  },
  {
   "cell_type": "code",
   "execution_count": 400,
   "metadata": {},
   "outputs": [],
   "source": [
    "df_for_trees = data.loc[:, 'supernatural_evil':'Other Region'].copy()"
   ]
  },
  {
   "cell_type": "markdown",
   "metadata": {},
   "source": [
    "### We first create our Tree classifiers"
   ]
  },
  {
   "cell_type": "markdown",
   "metadata": {},
   "source": [
    "### Bagging classifier"
   ]
  },
  {
   "cell_type": "code",
   "execution_count": 401,
   "metadata": {},
   "outputs": [],
   "source": [
    "\n",
    "def bagging_classifier():\n",
    "    bagging_tree = BaggingClassifier(DecisionTreeClassifier(criterion='entropy'),\n",
    "                                        n_estimators=100, \n",
    "                                        n_jobs=-1,\n",
    "                                        )\n",
    "    cv = StratifiedKFold(n_splits=10, shuffle=True, random_state=13)                                                                            \n",
    "    bagged_cv_score = cross_val_score(bagging_tree, \n",
    "                                    x, \n",
    "                                    y, \n",
    "                                    cv=cv, scoring='accuracy')\n",
    "\n",
    "    bagging_tree.fit(x,y) \n",
    "    importances = np.mean([\n",
    "        tree.feature_importances_ for tree in bagging_tree.estimators_\n",
    "    ], axis=0)\n",
    "    indices = np.argsort(importances)[::-1]\n",
    "    return (np.mean(bagged_cv_score),importances,indices)\n",
    "    \n",
    "def print_feature_imp_bagging(importances,indices):\n",
    "    plt.figure(figsize=(15, 8))\n",
    "    plt.title(\"Feature importances\")\n",
    "    importances[indices]=  importances[indices]*100\n",
    "    plt.bar(range(x.shape[1]), importances[indices],\n",
    "            tick_label=[feature_cols[x] for x in indices],\n",
    "            color=\"b\",  align=\"center\")\n",
    "    plt.xlim([-1, x.shape[1]])\n",
    "    _ = plt.xticks(rotation=80)\n",
    "        "
   ]
  },
  {
   "cell_type": "markdown",
   "metadata": {},
   "source": [
    "### Random forests"
   ]
  },
  {
   "cell_type": "code",
   "execution_count": 402,
   "metadata": {},
   "outputs": [],
   "source": [
    "def random_forests():\n",
    "        forest = RandomForestClassifier(n_estimators=100, max_depth=3,\n",
    "                                        min_samples_split=2)\n",
    "        cv = StratifiedKFold(n_splits=5, shuffle=True, random_state=13)\n",
    "\n",
    "        scores = cross_val_score(forest, x, \n",
    "                                y, cv=cv)\n",
    "\n",
    "        forest.fit(x,y)\n",
    "        importances = forest.feature_importances_\n",
    "        indices = np.argsort(importances)[::-1]\n",
    "        return (scores.mean(),importances,indices)\n",
    "def print_feature_imp_random(importances,indices):\n",
    "\n",
    "        counter = 0\n",
    "        for f in range(len(indices)-1,-1,-1):\n",
    "                if (importances[indices[f]]) == 0 :\n",
    "                        counter = counter+1\n",
    "                        indices = np.delete(indices, f)\n",
    "        for f in range(x.shape[1]-counter):\n",
    "                importances[indices[f]]=importances[indices[f]]\n",
    "\n",
    "        plt.figure(figsize=(10, 8))\n",
    "        plt.title(\"Feature importances\")\n",
    "        plt.bar(range(x.shape[1]-counter), importances[indices]*100,\n",
    "                tick_label=[feature_cols[x] for x in indices],\n",
    "                color=\"r\",  align=\"center\")\n",
    "        plt.xlim([-1, x.shape[1]-counter])\n",
    "        _ = plt.xticks(rotation=80)"
   ]
  },
  {
   "cell_type": "markdown",
   "metadata": {},
   "source": [
    "### XGBoost"
   ]
  },
  {
   "cell_type": "code",
   "execution_count": 403,
   "metadata": {},
   "outputs": [],
   "source": [
    "def xgboost():\n",
    "    model = XGBClassifier()\n",
    "    n_estimators = [300,500]\n",
    "    learning_rate = [0.01, 0.1]\n",
    "    max_depth=[1]\n",
    "    eval_metric = ['mlogloss']\n",
    "    use_label_encoder=[False]\n",
    "    param_grid = dict(learning_rate=learning_rate, n_estimators=n_estimators,eval_metric = eval_metric,use_label_encoder=use_label_encoder,max_depth=max_depth)\n",
    "    kfold = StratifiedKFold(n_splits=10, shuffle=True, random_state=70)\n",
    "    grid_search = GridSearchCV(model, param_grid, scoring=\"accuracy\", n_jobs=-1, cv=kfold)\n",
    "    grid_result = grid_search.fit(x, y)\n",
    "    importances=grid_result.best_estimator_.feature_importances_\n",
    "    indices = np.argsort(importances)[::-1]\n",
    "    \n",
    "    return grid_result.best_score_,importances,indices"
   ]
  },
  {
   "cell_type": "markdown",
   "metadata": {},
   "source": [
    "Printing the results of xgboost"
   ]
  },
  {
   "cell_type": "code",
   "execution_count": 404,
   "metadata": {},
   "outputs": [],
   "source": [
    "def printxgboost(importances,indices):\n",
    "        counter = 0\n",
    "        for f in range(len(indices)-1,-1,-1):\n",
    "                if (importances[indices[f]]) == 0 :\n",
    "                        counter = counter+1\n",
    "                        indices = np.delete(indices, f)\n",
    "        for f in range(x.shape[1]-counter):\n",
    "                importances[indices[f]]=importances[indices[f]]\n",
    "        plt.figure(figsize=(10, 8))\n",
    "        plt.title(\"Feature importances\")\n",
    "        plt.bar(range(x.shape[1]-counter), importances[indices],tick_label=[feature_cols[x] for x in indices],color=\"g\",  align=\"center\")\n",
    "        plt.xlim([-1, x.shape[1]-counter])\n",
    "        _ = plt.xticks(rotation=80)"
   ]
  },
  {
   "cell_type": "markdown",
   "metadata": {},
   "source": [
    "### LightGBM"
   ]
  },
  {
   "cell_type": "code",
   "execution_count": 405,
   "metadata": {},
   "outputs": [],
   "source": [
    "def lightgbm():\n",
    "\n",
    "    model = lgb.LGBMClassifier()\n",
    "    max_depth = [1]\n",
    "    learning_rate = [0.01, 0.1,0.21]\n",
    "\n",
    "    param_grid = dict(learning_rate=learning_rate, max_depth=max_depth)\n",
    "    kfold = StratifiedKFold(n_splits=10, shuffle=True, random_state=7)\n",
    "    grid_search = GridSearchCV(model, param_grid, scoring=\"accuracy\", n_jobs=-1, cv=kfold)\n",
    "    grid_result = grid_search.fit(x, y)\n",
    "    importances=grid_result.best_estimator_.feature_importances_\n",
    "    indices = np.argsort(importances)[::-1]\n",
    "    return grid_result.best_score_, importances, indices"
   ]
  },
  {
   "cell_type": "markdown",
   "metadata": {},
   "source": [
    "Printing the results of lightgbm"
   ]
  },
  {
   "cell_type": "code",
   "execution_count": 406,
   "metadata": {},
   "outputs": [],
   "source": [
    "def printlightgbm(importances,indices):\n",
    "        counter = 0\n",
    "        for f in range(len(indices)-1,-1,-1):\n",
    "                if (importances[indices[f]]) == 0 :\n",
    "                        counter = counter+1\n",
    "                        indices = np.delete(indices, f)\n",
    "        for f in range(x.shape[1]-counter):\n",
    "                importances[indices[f]]=importances[indices[f]]\n",
    "        plt.figure(figsize=(10, 8))\n",
    "        plt.title(\"Feature importances\")\n",
    "        plt.bar(range(x.shape[1]-counter), importances[indices],tick_label=[feature_cols[x] for x in indices],color=\"c\",  align=\"center\")\n",
    "        plt.xlim([-1, x.shape[1]-counter])\n",
    "        _ = plt.xticks(rotation=80)"
   ]
  },
  {
   "cell_type": "markdown",
   "metadata": {},
   "source": [
    "#### Find the best tree\n"
   ]
  },
  {
   "cell_type": "markdown",
   "metadata": {},
   "source": [
    "We now create a method that compares the results of the 4 trees/forests and returns the best "
   ]
  },
  {
   "cell_type": "code",
   "execution_count": 407,
   "metadata": {},
   "outputs": [],
   "source": [
    "def find_best_tree():\n",
    "    bag_score, bag_importances ,bag_indices = bagging_classifier() \n",
    "    print('bagging', bag_score)\n",
    "\n",
    "    ran_score, ran_importances ,ran_indices = random_forests() \n",
    "    print('random forests',ran_score)\n",
    "\n",
    "    xg_score, xg_importances ,xg_indices = xgboost() \n",
    "    print('xgboost',xg_score)\n",
    "\n",
    "    lg_score, lg_importances, lg_indices = lightgbm() \n",
    "    print('light',lg_score)\n",
    "    \n",
    "    maximum = bag_score\n",
    "    if ran_score > maximum:\n",
    "        maximum = ran_score\n",
    "    if xg_score > maximum:\n",
    "        maximum = xg_score\n",
    "    if lg_score> maximum:\n",
    "        maximum = lg_score\n",
    "\n",
    "    # maximum = max(bag_score,ran_score ,xg_score,lg_score)\n",
    "\n",
    "    if maximum==bag_score:\n",
    "        return(1,bag_importances,bag_indices)\n",
    "    elif maximum == ran_score:\n",
    "        return(2,ran_importances,ran_indices)\n",
    "    elif maximum == xg_score:\n",
    "        return(3,xg_importances,xg_indices)\n",
    "    else:\n",
    "        return(4,lg_importances,lg_indices)\n",
    "\n"
   ]
  },
  {
   "cell_type": "markdown",
   "metadata": {},
   "source": [
    "#### The following method plots the best tree"
   ]
  },
  {
   "cell_type": "code",
   "execution_count": 408,
   "metadata": {},
   "outputs": [],
   "source": [
    "def print_tree(best_tree,importances,indices):\n",
    "    if best_tree==1:\n",
    "        print_feature_imp_bagging(importances,indices)\n",
    "    elif best_tree==2:\n",
    "        print_feature_imp_random(importances,indices)\n",
    "    elif best_tree==3:\n",
    "        printxgboost(importances,indices)\n",
    "    else:\n",
    "        printlightgbm(importances,indices)"
   ]
  },
  {
   "cell_type": "markdown",
   "metadata": {},
   "source": [
    "#### We create a method that will prepare the dataframe and the variabels that we will need to create the trees \n",
    "Note: we need all the dummy variables to create the trees "
   ]
  },
  {
   "cell_type": "code",
   "execution_count": 409,
   "metadata": {},
   "outputs": [],
   "source": [
    "def tree_vars(dependent):\n",
    "    df_for_tree = df_for_trees.copy()\n",
    "    df_for_tree[dependent] = data[dependent]\n",
    "    feature_cols = [ col for col in df_for_tree.columns if col != dependent]\n",
    "    x = df_for_tree.loc[:, feature_cols]\n",
    "    y = df_for_tree[dependent]\n",
    "    X_train, X_test, y_train, y_test = train_test_split(x, y, test_size=0.25)\n",
    "    feature_names = list(df_for_tree.loc[:, 'supernatural_evil':'Other Region'].columns)\n",
    "    return df_for_tree,feature_cols,x,y,X_train, X_test, y_train, y_test,feature_names"
   ]
  },
  {
   "cell_type": "markdown",
   "metadata": {},
   "source": [
    "## Semi auto weapons"
   ]
  },
  {
   "cell_type": "code",
   "execution_count": 410,
   "metadata": {},
   "outputs": [],
   "source": [
    "df_for_tree,feature_cols,x,y,X_train, X_test, y_train, y_test, feature_names = tree_vars('ban_on_semi_auto_guns')"
   ]
  },
  {
   "cell_type": "markdown",
   "metadata": {},
   "source": [
    "#### Let's check which tree/forest does the best job. "
   ]
  },
  {
   "cell_type": "code",
   "execution_count": 411,
   "metadata": {},
   "outputs": [
    {
     "name": "stdout",
     "output_type": "stream",
     "text": [
      "bagging 0.6990969926630654\n",
      "random forests 0.688290364978263\n",
      "xgboost 0.70996129968556\n",
      "light 0.7016084818189148\n"
     ]
    }
   ],
   "source": [
    "max,importances,indices = find_best_tree()"
   ]
  },
  {
   "cell_type": "code",
   "execution_count": 412,
   "metadata": {},
   "outputs": [
    {
     "data": {
      "image/png": "[encoded data removed]",
      "text/plain": [
       "<Figure size 720x576 with 1 Axes>"
      ]
     },
     "metadata": {
      "needs_background": "light"
     },
     "output_type": "display_data"
    }
   ],
   "source": [
    "print_tree(max,importances,indices)"
   ]
  },
  {
   "cell_type": "markdown",
   "metadata": {},
   "source": [
    "## High capacity ammo clips"
   ]
  },
  {
   "cell_type": "code",
   "execution_count": 413,
   "metadata": {},
   "outputs": [],
   "source": [
    "df_for_tree,feature_cols,x,y,X_train, X_test, y_train, y_test, feature_names = tree_vars('ban_on_high_capacity_ammo_clips')"
   ]
  },
  {
   "cell_type": "markdown",
   "metadata": {},
   "source": [
    "#### Let's check which tree/forest does the best job. "
   ]
  },
  {
   "cell_type": "code",
   "execution_count": 414,
   "metadata": {},
   "outputs": [
    {
     "name": "stdout",
     "output_type": "stream",
     "text": [
      "bagging 0.7169434814157865\n",
      "random forests 0.6914771003942979\n",
      "xgboost 0.7270982826735467\n",
      "light 0.7283721680238653\n"
     ]
    }
   ],
   "source": [
    "max,importances,indices = find_best_tree()"
   ]
  },
  {
   "cell_type": "code",
   "execution_count": 415,
   "metadata": {},
   "outputs": [
    {
     "data": {
      "image/png": "[encoded data removed]",
      "text/plain": [
       "<Figure size 720x576 with 1 Axes>"
      ]
     },
     "metadata": {
      "needs_background": "light"
     },
     "output_type": "display_data"
    }
   ],
   "source": [
    "print_tree(max,importances,indices)"
   ]
  },
  {
   "cell_type": "markdown",
   "metadata": {},
   "source": [
    "## Civilian hand gun possesion ban"
   ]
  },
  {
   "cell_type": "code",
   "execution_count": 416,
   "metadata": {},
   "outputs": [],
   "source": [
    "df_for_tree,feature_cols,x,y,X_train, X_test, y_train, y_test, feature_names = tree_vars('ban_on_civilian_handguns')"
   ]
  },
  {
   "cell_type": "markdown",
   "metadata": {},
   "source": [
    "#### Let's check which tree/forest does the best job. "
   ]
  },
  {
   "cell_type": "code",
   "execution_count": 417,
   "metadata": {},
   "outputs": [
    {
     "name": "stdout",
     "output_type": "stream",
     "text": [
      "bagging 0.706127549786342\n",
      "random forests 0.7054716408856536\n",
      "xgboost 0.7156615334999596\n",
      "light 0.7086672579214705\n"
     ]
    }
   ],
   "source": [
    "max,importances,indices = find_best_tree()"
   ]
  },
  {
   "cell_type": "code",
   "execution_count": 418,
   "metadata": {},
   "outputs": [
    {
     "data": {
      "image/png": "[encoded data removed]",
      "text/plain": [
       "<Figure size 720x576 with 1 Axes>"
      ]
     },
     "metadata": {
      "needs_background": "light"
     },
     "output_type": "display_data"
    }
   ],
   "source": [
    "print_tree(max,importances,indices)"
   ]
  },
  {
   "cell_type": "markdown",
   "metadata": {},
   "source": [
    "## Support for concealed carry"
   ]
  },
  {
   "cell_type": "code",
   "execution_count": 419,
   "metadata": {},
   "outputs": [],
   "source": [
    "df_for_tree,feature_cols,x,y,X_train, X_test, y_train, y_test, feature_names = tree_vars('support_for_Concealed_Carry_Laws')"
   ]
  },
  {
   "cell_type": "markdown",
   "metadata": {},
   "source": [
    "#### Let's check which tree/forest does the best job. "
   ]
  },
  {
   "cell_type": "code",
   "execution_count": 420,
   "metadata": {},
   "outputs": [
    {
     "name": "stdout",
     "output_type": "stream",
     "text": [
      "bagging 0.609380794968959\n",
      "random forests 0.6545971084824588\n",
      "xgboost 0.6577844069983068\n",
      "light 0.6584213496734661\n"
     ]
    }
   ],
   "source": [
    "max,importances,indices = find_best_tree()"
   ]
  },
  {
   "cell_type": "code",
   "execution_count": 421,
   "metadata": {},
   "outputs": [
    {
     "data": {
      "image/png": "[encoded data removed]",
      "text/plain": [
       "<Figure size 720x576 with 1 Axes>"
      ]
     },
     "metadata": {
      "needs_background": "light"
     },
     "output_type": "display_data"
    }
   ],
   "source": [
    "print_tree(max,importances,indices)"
   ]
  },
  {
   "cell_type": "markdown",
   "metadata": {},
   "source": [
    "## More armed security at schools"
   ]
  },
  {
   "cell_type": "code",
   "execution_count": 422,
   "metadata": {},
   "outputs": [],
   "source": [
    "df_for_tree,feature_cols,x,y,X_train, X_test, y_train, y_test, feature_names = tree_vars('more_Armed_Security_at_Schools')"
   ]
  },
  {
   "cell_type": "markdown",
   "metadata": {},
   "source": [
    "#### Let's check which tree/forest does the best job. "
   ]
  },
  {
   "cell_type": "code",
   "execution_count": 423,
   "metadata": {},
   "outputs": [
    {
     "name": "stdout",
     "output_type": "stream",
     "text": [
      "bagging 0.6736555672014835\n",
      "random forests 0.6768375290668284\n",
      "xgboost 0.6831976134806095\n",
      "light 0.6844997178102072\n"
     ]
    }
   ],
   "source": [
    "max,importances,indices = find_best_tree()"
   ]
  },
  {
   "cell_type": "code",
   "execution_count": 424,
   "metadata": {},
   "outputs": [
    {
     "data": {
      "image/png": "[encoded data removed]",
      "text/plain": [
       "<Figure size 720x576 with 1 Axes>"
      ]
     },
     "metadata": {
      "needs_background": "light"
     },
     "output_type": "display_data"
    }
   ],
   "source": [
    "print_tree(max,importances,indices)"
   ]
  },
  {
   "cell_type": "markdown",
   "metadata": {},
   "source": [
    "## More teachers/faculty with guns"
   ]
  },
  {
   "cell_type": "code",
   "execution_count": 425,
   "metadata": {},
   "outputs": [],
   "source": [
    "df_for_tree,feature_cols,x,y,X_train, X_test, y_train, y_test, feature_names = tree_vars('more_Teachers_Faculty_having_Guns')"
   ]
  },
  {
   "cell_type": "markdown",
   "metadata": {},
   "source": [
    "#### Let's check which tree/forest does the best job. "
   ]
  },
  {
   "cell_type": "code",
   "execution_count": 426,
   "metadata": {},
   "outputs": [
    {
     "name": "stdout",
     "output_type": "stream",
     "text": [
      "bagging 0.707340965895348\n",
      "random forests 0.7048346982104945\n",
      "xgboost 0.7207530436184794\n",
      "light 0.7232846891880997\n"
     ]
    }
   ],
   "source": [
    "max,importances,indices = find_best_tree()"
   ]
  },
  {
   "cell_type": "code",
   "execution_count": 427,
   "metadata": {},
   "outputs": [
    {
     "data": {
      "image/png": "[encoded data removed]",
      "text/plain": [
       "<Figure size 720x576 with 1 Axes>"
      ]
     },
     "metadata": {
      "needs_background": "light"
     },
     "output_type": "display_data"
    }
   ],
   "source": [
    "print_tree(max,importances,indices)"
   ]
  },
  {
   "cell_type": "markdown",
   "metadata": {},
   "source": [
    "### More gun safety programs"
   ]
  },
  {
   "cell_type": "code",
   "execution_count": 428,
   "metadata": {},
   "outputs": [],
   "source": [
    "df_for_tree,feature_cols,x,y,X_train, X_test, y_train, y_test, feature_names = tree_vars('more_Gun_Safety_Programs')"
   ]
  },
  {
   "cell_type": "markdown",
   "metadata": {},
   "source": [
    "#### Let's check which tree/forest does the best job. "
   ]
  },
  {
   "cell_type": "code",
   "execution_count": 429,
   "metadata": {},
   "outputs": [
    {
     "name": "stdout",
     "output_type": "stream",
     "text": [
      "bagging 0.9236716923325001\n",
      "random forests 0.9274815488828227\n",
      "xgboost 0.9274852858179475\n",
      "light 0.9274852858179475\n"
     ]
    }
   ],
   "source": [
    "max,importances,indices = find_best_tree()"
   ]
  },
  {
   "cell_type": "code",
   "execution_count": 430,
   "metadata": {},
   "outputs": [
    {
     "data": {
      "image/png": "[encoded data removed]",
      "text/plain": [
       "<Figure size 720x576 with 1 Axes>"
      ]
     },
     "metadata": {
      "needs_background": "light"
     },
     "output_type": "display_data"
    }
   ],
   "source": [
    "print_tree(max,importances,indices)"
   ]
  },
  {
   "cell_type": "markdown",
   "metadata": {},
   "source": [
    "## Expanded mental health Screening"
   ]
  },
  {
   "cell_type": "code",
   "execution_count": 431,
   "metadata": {},
   "outputs": [],
   "source": [
    "df_for_tree,feature_cols,x,y,X_train, X_test, y_train, y_test,  feature_names = tree_vars('expanded_Mental_Health_Screening')"
   ]
  },
  {
   "cell_type": "markdown",
   "metadata": {},
   "source": [
    "#### Let's check which tree/forest does the best job. "
   ]
  },
  {
   "cell_type": "code",
   "execution_count": 432,
   "metadata": {},
   "outputs": [
    {
     "name": "stdout",
     "output_type": "stream",
     "text": [
      "bagging 0.9039587196645972\n",
      "random forests 0.9090344757860682\n",
      "xgboost 0.9090381359348545\n",
      "light 0.9090381359348545\n"
     ]
    }
   ],
   "source": [
    "max,importances,indices = find_best_tree()"
   ]
  },
  {
   "cell_type": "markdown",
   "metadata": {},
   "source": [
    "## Commentation"
   ]
  },
  {
   "cell_type": "markdown",
   "metadata": {},
   "source": [
    "Having tried 4 different algorithms to find the best tree to represent each variable we make some conclusions.\n",
    "\n",
    "* In the first tree, with the ban semi auto weapons depndent variable, we concluded that the male and the political ideology played an important role as features. The supernatural evil was not a very important feature. The best accuracy we succeded was about 71%.  \n",
    "\n",
    "* In the second tree, the most important characteristics were political ideology and age. However in this case supernatural evil was in the top features. We managed to hit about 73% accuracy here.  \n",
    "\n",
    "* In the third tree, the white characteristic played a big role followed by political ideology and college. In the fourth place of important characteristcs was supernatural evil. We succeded an approximate 71.5% accuracy.  \n",
    "\n",
    "* In the fourth tree, supernatural evil climbed into the second position indicating big feature improtance. Accuracy was about 66%.  \n",
    "\n",
    "* In the fifth tree, the the top 3 characteristics were political ideology, age and supernatural evil. Our model predicted with ~69% accuracy.  \n",
    "\n",
    "* In the sixth tree, again supernatural evil, which is our focal variable was in the top 3 predictors, helping to create a 72.3% accuracy.  \n",
    "\n",
    "* In the seventh and eigth trees the accuracy jumped to 92% accuracy with no kids at home and male to be the top predictors.  \n",
    "\n",
    "* Last but not least, in the last tree we had n accuracy of 90% having political ideology and female in the top places.  \n",
    "\n",
    "As we can see, supernatural evil,was not our top predictor for trees, but in some of them it was among the top places.\n"
   ]
  },
  {
   "cell_type": "markdown",
   "metadata": {},
   "source": [
    "### Thanks to: \n",
    "* <code>Stack Overflow</code>, which was my closest friend the past week.\n",
    "* <code>Pandas documentation </code> which helped me through some diffifcult moments.  "
   ]
  }
 ],
 "metadata": {
  "interpreter": {
   "hash": "ba06145bad9867c0d712f5b64352b6bd13a3de0c31040162ed851a24244c78d6"
  },
  "kernelspec": {
   "display_name": "Python 3 (ipykernel)",
   "language": "python",
   "name": "python3"
  },
  "language_info": {
   "codemirror_mode": {
    "name": "ipython",
    "version": 3
   },
   "file_extension": ".py",
   "mimetype": "text/x-python",
   "name": "python",
   "nbconvert_exporter": "python",
   "pygments_lexer": "ipython3",
   "version": "3.9.0"
  }
 },
 "nbformat": 4,
 "nbformat_minor": 2
}
